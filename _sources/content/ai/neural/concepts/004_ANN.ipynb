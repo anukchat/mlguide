{
 "cells": [
  {
   "cell_type": "markdown",
   "metadata": {},
   "source": [
    "# Artificial Neural Network"
   ]
  },
  {
   "cell_type": "code",
   "execution_count": 1,
   "metadata": {},
   "outputs": [],
   "source": [
    "import numpy as np\n",
    "import matplotlib.pyplot as plt\n",
    "import pandas as pd\n"
   ]
  },
  {
   "cell_type": "code",
   "execution_count": 2,
   "metadata": {},
   "outputs": [],
   "source": [
    "df = pd.read_csv('Churn_Modelling.csv')\n",
    "X = df.iloc[:, 3:13].values\n",
    "y = df.iloc[:, 13].values"
   ]
  },
  {
   "cell_type": "code",
   "execution_count": 6,
   "metadata": {},
   "outputs": [],
   "source": [
    "from sklearn.preprocessing import LabelEncoder, OneHotEncoder\n",
    "\n",
    "le_geography = LabelEncoder()\n",
    "X[:, 1] = le_geography.fit_transform(X[:, 1])\n",
    "le_gender = LabelEncoder()\n",
    "X[:, 2] = le_gender.fit_transform(X[:, 2])\n",
    "ohe = OneHotEncoder()\n",
    "X = ohe.fit_transform(X).toarray()\n",
    "# avoid dummy variable trap\n",
    "X = X[:, 1:]"
   ]
  },
  {
   "cell_type": "code",
   "execution_count": 7,
   "metadata": {},
   "outputs": [],
   "source": [
    "from sklearn.model_selection import train_test_split\n",
    "X_train, X_test, y_train, y_test = train_test_split(X, y, test_size=0.2, random_state=0)"
   ]
  },
  {
   "cell_type": "code",
   "execution_count": 8,
   "metadata": {},
   "outputs": [],
   "source": [
    "from sklearn.preprocessing import StandardScaler\n",
    "sc = StandardScaler()\n",
    "X_train = sc.fit_transform(X_train)\n",
    "X_test = sc.transform(X_test)"
   ]
  },
  {
   "cell_type": "code",
   "execution_count": 11,
   "metadata": {},
   "outputs": [
    {
     "name": "stdout",
     "output_type": "stream",
     "text": [
      "Epoch [1/10], Loss: 0.3902\n",
      "Epoch [2/10], Loss: 0.3502\n",
      "Epoch [3/10], Loss: 0.3456\n",
      "Epoch [4/10], Loss: 0.3384\n",
      "Epoch [5/10], Loss: 0.2867\n",
      "Epoch [6/10], Loss: 0.1906\n",
      "Epoch [7/10], Loss: 0.0669\n",
      "Epoch [8/10], Loss: 0.0564\n",
      "Epoch [9/10], Loss: 0.0450\n",
      "Epoch [10/10], Loss: 0.0322\n",
      "Accuracy: 0.8085\n"
     ]
    }
   ],
   "source": [
    "import torch\n",
    "import torch.nn as nn\n",
    "import torch.optim as optim\n",
    "\n",
    "# Convert numpy arrays to PyTorch tensors\n",
    "X_train = torch.FloatTensor(X_train)\n",
    "X_test = torch.FloatTensor(X_test)\n",
    "y_train = torch.FloatTensor(y_train)\n",
    "y_test = torch.FloatTensor(y_test)\n",
    "\n",
    "\n",
    "# Define the ANN architecture\n",
    "class ANN(nn.Module):\n",
    "    def __init__(self, input_dim):\n",
    "        super(ANN, self).__init__()\n",
    "        self.layer1 = nn.Linear(input_dim, 6)\n",
    "        self.layer2 = nn.Linear(6, 6)\n",
    "        self.output = nn.Linear(6, 1)\n",
    "        self.relu = nn.ReLU()\n",
    "        self.sigmoid = nn.Sigmoid()\n",
    "\n",
    "    def forward(self, x):\n",
    "        x = self.relu(self.layer1(x))\n",
    "        x = self.relu(self.layer2(x))\n",
    "        x = self.sigmoid(self.output(x))\n",
    "        return x\n",
    "\n",
    "# Create ANN classifier\n",
    "input_dim = X_train.shape[1] # Get the number of features, input dimension\n",
    "classifier = ANN(input_dim)\n",
    "\n",
    "# Define loss function and optimizer\n",
    "criterion = nn.BCELoss()  # Binary Cross Entropy Loss\n",
    "optimizer = optim.Adam(classifier.parameters())\n",
    "\n",
    "# Training loop (assuming X_train and y_train are PyTorch tensors)\n",
    "num_epochs = 10\n",
    "batch_size = 10\n",
    "\n",
    "for epoch in range(num_epochs):\n",
    "    for i in range(0, len(X_train), batch_size):\n",
    "        batch_X = X_train[i:i+batch_size]\n",
    "        batch_y = y_train[i:i+batch_size]\n",
    "\n",
    "        # Forward pass\n",
    "        outputs = classifier(batch_X)\n",
    "        loss = criterion(outputs, batch_y.unsqueeze(1))\n",
    "\n",
    "        # Backward pass and optimize\n",
    "        optimizer.zero_grad()\n",
    "        loss.backward()\n",
    "        optimizer.step()\n",
    "\n",
    "    print(f'Epoch [{epoch+1}/{num_epochs}], Loss: {loss.item():.4f}')\n",
    "\n",
    "# Make predictions\n",
    "with torch.no_grad():\n",
    "    y_pred = classifier(X_test)\n",
    "    y_pred = (y_pred > 0.5).float()\n",
    "\n",
    "# Calculate accuracy (assuming y_test is a PyTorch tensor)\n",
    "accuracy = (y_pred == y_test.unsqueeze(1)).float().mean()\n",
    "print(f'Accuracy: {accuracy.item():.4f}')"
   ]
  },
  {
   "cell_type": "code",
   "execution_count": 12,
   "metadata": {},
   "outputs": [
    {
     "name": "stdout",
     "output_type": "stream",
     "text": [
      "[[1554   41]\n",
      " [ 342   63]]\n"
     ]
    }
   ],
   "source": [
    "from sklearn.metrics import confusion_matrix\n",
    "y_pred_np = y_pred.numpy().squeeze()\n",
    "y_test_np = y_test.numpy()\n",
    "print(confusion_matrix(y_test_np, y_pred_np))"
   ]
  },
  {
   "cell_type": "code",
   "execution_count": 14,
   "metadata": {},
   "outputs": [
    {
     "name": "stdout",
     "output_type": "stream",
     "text": [
      "Accuracy (manual calculation): 0.8085\n"
     ]
    }
   ],
   "source": [
    "accuracy_manual = (y_pred_np == y_test_np).mean()\n",
    "print(f'Accuracy (manual calculation): {accuracy_manual:.4f}')"
   ]
  }
 ],
 "metadata": {
  "kernelspec": {
   "display_name": "ml-notes",
   "language": "python",
   "name": "python3"
  },
  "language_info": {
   "codemirror_mode": {
    "name": "ipython",
    "version": 3
   },
   "file_extension": ".py",
   "mimetype": "text/x-python",
   "name": "python",
   "nbconvert_exporter": "python",
   "pygments_lexer": "ipython3",
   "version": "3.12.3"
  }
 },
 "nbformat": 4,
 "nbformat_minor": 2
}
