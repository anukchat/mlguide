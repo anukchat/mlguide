{
 "cells": [
  {
   "cell_type": "markdown",
   "metadata": {},
   "source": [
    "# Advanced Python"
   ]
  },
  {
   "cell_type": "markdown",
   "metadata": {},
   "source": [
    "## Iterators\n",
    "___\n",
    "\n",
    "👉 Iterators are everywhere in Python. They are implemented within `for` loops, comprehensions, generators etc. but are hidden in plain sight.\n",
    "\n",
    "👉 Iterator in Python is simply an **object** that can be iterated upon. An object which will return data, one element at a time.\n",
    "\n",
    "👉 Python **iterator object** must implement two special methods, **`__iter__()`** and **`__next__()`**, collectively called the **iterator protocol**.\n",
    "\n",
    "👉 An object is called **iterable** if we can get an iterator from it. Most built-in containers in Python like: **string**, **list**, **tuple** etc. are iterables.\n",
    "\n",
    "👉 The **`iter()`** function (which in turn calls the **`__iter__()`** method) returns an iterator from them."
   ]
  },
  {
   "cell_type": "markdown",
   "metadata": {},
   "source": [
    "### Iterating the iterator\n",
    "\n",
    "👉 We use the **`next()`** function to manually iterate through all the items of an iterator. \n",
    "\n",
    "👉 When we reach the end and there is no more data to be returned, it will raise the **`StopIteration`** Exception."
   ]
  },
  {
   "cell_type": "code",
   "execution_count": 1,
   "metadata": {},
   "outputs": [
    {
     "name": "stdout",
     "output_type": "stream",
     "text": [
      "6\n",
      "9\n",
      "0\n",
      "3\n"
     ]
    },
    {
     "ename": "StopIteration",
     "evalue": "",
     "output_type": "error",
     "traceback": [
      "\u001b[0;31m---------------------------------------------------------------------------\u001b[0m",
      "\u001b[0;31mStopIteration\u001b[0m                             Traceback (most recent call last)",
      "Cell \u001b[0;32mIn[1], line 20\u001b[0m\n\u001b[1;32m     17\u001b[0m \u001b[38;5;28mprint\u001b[39m(my_iter\u001b[38;5;241m.\u001b[39m\u001b[38;5;21m__next__\u001b[39m())  \u001b[38;5;66;03m# Output: 3\u001b[39;00m\n\u001b[1;32m     19\u001b[0m \u001b[38;5;66;03m# This will raise error, no items left\u001b[39;00m\n\u001b[0;32m---> 20\u001b[0m \u001b[38;5;28;43mnext\u001b[39;49m\u001b[43m(\u001b[49m\u001b[43mmy_iter\u001b[49m\u001b[43m)\u001b[49m\n",
      "\u001b[0;31mStopIteration\u001b[0m: "
     ]
    }
   ],
   "source": [
    "# Example 1:\n",
    "\n",
    "# define a list\n",
    "my_list = [6, 9, 0, 3]  # 4 elements\n",
    "\n",
    "# get an iterator using iter()\n",
    "my_iter = iter(my_list)\n",
    "\n",
    "# iterate through it using next()\n",
    "\n",
    "print(next(my_iter))       # Output: 6\n",
    "print(next(my_iter))       # Output: 9\n",
    "\n",
    "# next(obj) is same as obj.__next__()\n",
    "\n",
    "print(my_iter.__next__())  # Output: 0\n",
    "print(my_iter.__next__())  # Output: 3\n",
    "\n",
    "# This will raise error, no items left\n",
    "next(my_iter)"
   ]
  },
  {
   "cell_type": "markdown",
   "metadata": {},
   "source": [
    "More elegant way of doing the same thing is **`for()`** loop"
   ]
  },
  {
   "cell_type": "code",
   "execution_count": 2,
   "metadata": {},
   "outputs": [
    {
     "name": "stdout",
     "output_type": "stream",
     "text": [
      "6\n",
      "9\n",
      "0\n",
      "3\n"
     ]
    }
   ],
   "source": [
    "for element in my_list:  # create a function\n",
    "    print(element)"
   ]
  },
  {
   "cell_type": "markdown",
   "metadata": {},
   "source": [
    "Why there was not **`StopIteration`** exception ?\n",
    "\n",
    "Let's take a closer look at how the **`for`** is actually implemented in Python.\n",
    "\n",
    "```python\n",
    ">>> for element in iterable:\n",
    ">>>     # do something with element\n",
    "```\n",
    "\n",
    "Is actually implemented as.\n",
    "\n",
    "```python\n",
    "\n",
    ">>> # create an iterator object from that iterable\n",
    ">>> iter_obj = iter(iterable)\n",
    "\n",
    ">>> # infinite loop\n",
    ">>> while True:\n",
    ">>>     try:\n",
    ">>>      # get the next item\n",
    ">>>         element = next(iter_obj)\n",
    ">>>      # do something with element\n",
    ">>>     except StopIteration:\n",
    ">>>      # if StopIteration is raised, break from loop\n",
    ">>>         break\n",
    "```\n",
    "\n",
    "So internally, the **`for`** loop creates an iterator object, **`iter_obj`** by calling **`iter()`** on the iterable.\n",
    "\n",
    "Inside the loop, it calls **`next()`** to get the next element and executes the body of the **`for`** loop with this value. \n",
    "\n",
    "After all the items exhaust, **`StopIteration`** is raised which is internally caught and the loop ends."
   ]
  },
  {
   "cell_type": "markdown",
   "metadata": {},
   "source": [
    "### Custom Iterators\n",
    "\n",
    "Building an iterator from scratch is easy in Python. We just have to implement the **`__iter__()`** and the **`__next__()`** methods.\n",
    "\n",
    "👉 The **`__iter__()`** method returns the iterator object itself. If required, some initialization can be performed.\n",
    "\n",
    "👉 The **`__next__()`** method must return the next item in the sequence. On reaching the end, and in subsequent calls, it must raise **`StopIteration`**."
   ]
  },
  {
   "cell_type": "code",
   "execution_count": 3,
   "metadata": {},
   "outputs": [
    {
     "name": "stdout",
     "output_type": "stream",
     "text": [
      "1\n",
      "2\n",
      "4\n",
      "8\n",
      "16\n"
     ]
    }
   ],
   "source": [
    "class PowTwo:\n",
    "    \"\"\"Class to implement an iterator\n",
    "    of powers of two\"\"\"\n",
    "\n",
    "    def __init__(self, max=0):\n",
    "        self.max = max\n",
    "\n",
    "    def __iter__(self):\n",
    "        self.n = 0\n",
    "        return self\n",
    "\n",
    "    def __next__(self):\n",
    "        if self.n <= self.max:\n",
    "            result = 2 ** self.n\n",
    "            self.n += 1\n",
    "            return result\n",
    "        else:\n",
    "            raise StopIteration\n",
    "\n",
    "\n",
    "# create an object\n",
    "numbers = PowTwo(4)\n",
    "\n",
    "# create an iterable from the object\n",
    "i = iter(numbers)\n",
    "\n",
    "# Using next to get to the next iterator element\n",
    "print(next(i))\n",
    "print(next(i))\n",
    "print(next(i))\n",
    "print(next(i))\n",
    "print(next(i))"
   ]
  },
  {
   "cell_type": "markdown",
   "metadata": {},
   "source": [
    "## Generators\n",
    "___\n",
    "\n",
    "👉 Generators are another way of creating iterators in Python. All the work in creating iterator (implementing `__iter()__`, `__next()__` and handling `StopIteration` exception) are automatically handled by generators in Python.\n",
    "\n",
    "👉 A generator is a function that returns an object (iterator) which we can iterate over (one value at a time).\n"
   ]
  },
  {
   "cell_type": "markdown",
   "metadata": {},
   "source": [
    "It is fairly simple to create a generator in Python. It is as easy as defining a normal function, but with a **`yield`** statement instead of a **`return`** statement.\n",
    "\n",
    "The difference between **`return`** and **`yield`** statements: \n",
    "\n",
    "\n",
    "1. Generator function contains one or more **`yield`** statements.\n",
    "2. When called, it returns an object (iterator) but does not start execution immediately.\n",
    "3. Methods like **`__iter__()`** and **`__next__()`** are implemented automatically. So we can iterate through the items using **`next()`**.\n",
    "4. Once the function yields, the function is paused and the control is transferred to the caller.\n",
    "5. Local variables and their states are remembered between successive calls.\n",
    "6. Finally, when the function terminates, **`StopIteration`** is raised automatically on further calls."
   ]
  },
  {
   "cell_type": "code",
   "execution_count": 4,
   "metadata": {},
   "outputs": [
    {
     "name": "stdout",
     "output_type": "stream",
     "text": [
      "This is printed first\n",
      "1\n",
      "This is printed second\n",
      "2\n",
      "This is printed at last\n",
      "3\n"
     ]
    }
   ],
   "source": [
    "# A simple generator function\n",
    "\n",
    "def my_gen():\n",
    "    n = 1\n",
    "    print('This is printed first')\n",
    "    # Generator function contains yield statements\n",
    "    yield n\n",
    "\n",
    "    n += 1\n",
    "    print('This is printed second')\n",
    "    yield n\n",
    "\n",
    "    n += 1\n",
    "    print('This is printed at last')\n",
    "    yield n\n",
    "\n",
    "\n",
    "# Using for loop\n",
    "for item in my_gen():\n",
    "    print(item)"
   ]
  },
  {
   "cell_type": "markdown",
   "metadata": {},
   "source": [
    "👉 One interesting thing to note in the above example is that the value of variable **`n`** is remembered between each call.\n",
    "\n",
    "👉 Unlike normal functions, the local variables are not destroyed when the function yields. \n",
    "\n",
    "👉 Furthermore, the generator object can be iterated only once."
   ]
  },
  {
   "cell_type": "markdown",
   "metadata": {},
   "source": [
    "Normally generator functionas are implemented using a loop having a suitable terminating condition.\n"
   ]
  },
  {
   "cell_type": "code",
   "execution_count": 5,
   "metadata": {},
   "outputs": [
    {
     "name": "stdout",
     "output_type": "stream",
     "text": [
      "o\n",
      "l\n",
      "l\n",
      "e\n",
      "h\n"
     ]
    }
   ],
   "source": [
    "def rev_str(my_str):\n",
    "    length = len(my_str)\n",
    "    for i in range(length - 1, -1, -1):\n",
    "        yield my_str[i]\n",
    "\n",
    "\n",
    "# For loop to reverse the string\n",
    "for char in rev_str(\"hello\"):\n",
    "    print(char)"
   ]
  },
  {
   "cell_type": "markdown",
   "metadata": {},
   "source": [
    "### Generator Expressions\n",
    "\n",
    "👉 Simple generators can be easily created on the fly using generator expressions. It makes building generators easy.\n",
    "\n",
    "👉 Similar to the lambda functions which create **anonymous functions**, generator expressions create **anonymous generator functions**.\n",
    "\n",
    "T👉 he syntax for generator expression is similar to that of a **list comprehension in Python**. But the **square brackets are replaced with round parentheses**.\n",
    "\n",
    "👉 The major difference between a list comprehension and a generator expression is that a **list comprehension produces the entire list while the generator expression produces one item at a time**.\n",
    "\n",
    "👉 They have lazy execution ( producing items only when asked for ). For this reason, a generator expression is much more memory efficient than an equivalent list comprehension."
   ]
  },
  {
   "cell_type": "code",
   "execution_count": 6,
   "metadata": {},
   "outputs": [
    {
     "name": "stdout",
     "output_type": "stream",
     "text": [
      "[1, 9, 36, 100]\n",
      "<generator object <genexpr> at 0x1045db100>\n"
     ]
    }
   ],
   "source": [
    "# Initialize the list\n",
    "my_list = [1, 3, 6, 10]\n",
    "\n",
    "# square each term using list comprehension\n",
    "list_ = [x**2 for x in my_list]\n",
    "\n",
    "# same thing can be done using a generator expression\n",
    "# generator expressions are surrounded by parenthesis ()\n",
    "generator = (x**2 for x in my_list)\n",
    "\n",
    "print(list_)\n",
    "print(generator)"
   ]
  },
  {
   "cell_type": "markdown",
   "metadata": {},
   "source": [
    "We can see above that the generator expression did not produce the required result immediately. Instead, it returned a generator object, which produces items only on demand."
   ]
  },
  {
   "cell_type": "code",
   "execution_count": 7,
   "metadata": {},
   "outputs": [
    {
     "name": "stdout",
     "output_type": "stream",
     "text": [
      "1\n",
      "9\n",
      "36\n",
      "100\n"
     ]
    },
    {
     "ename": "StopIteration",
     "evalue": "",
     "output_type": "error",
     "traceback": [
      "\u001b[0;31m---------------------------------------------------------------------------\u001b[0m",
      "\u001b[0;31mStopIteration\u001b[0m                             Traceback (most recent call last)",
      "Cell \u001b[0;32mIn[7], line 13\u001b[0m\n\u001b[1;32m      9\u001b[0m \u001b[38;5;28mprint\u001b[39m(\u001b[38;5;28mnext\u001b[39m(a))\n\u001b[1;32m     11\u001b[0m \u001b[38;5;28mprint\u001b[39m(\u001b[38;5;28mnext\u001b[39m(a))\n\u001b[0;32m---> 13\u001b[0m \u001b[38;5;28;43mnext\u001b[39;49m\u001b[43m(\u001b[49m\u001b[43ma\u001b[49m\u001b[43m)\u001b[49m\n",
      "\u001b[0;31mStopIteration\u001b[0m: "
     ]
    }
   ],
   "source": [
    "# Initialize the list\n",
    "my_list = [1, 3, 6, 10]\n",
    "\n",
    "a = (x**2 for x in my_list)\n",
    "print(next(a))\n",
    "\n",
    "print(next(a))\n",
    "\n",
    "print(next(a))\n",
    "\n",
    "print(next(a))\n",
    "\n",
    "next(a)"
   ]
  },
  {
   "cell_type": "markdown",
   "metadata": {},
   "source": [
    "### Generator advantages\n",
    "\n",
    "👉 Generator functions are **easier to implement** compared to itertors\n",
    "\n",
    "- Need not to implement **__iter()__** and **__next()__** methods like in iterators\n",
    "  \n",
    "- Just needs **yield** statement\n",
    "     \n",
    "👉 Generator expressions are more **memory efficient** than list comprehensions\n",
    "\n",
    "- A **normal function** to return a sequence will **create the entire sequence in memory** before returning the result. This is an **overkill**, if the number of items in the sequence is very large.\n",
    "\n",
    "- **Generator** implementation of such sequences is memory friendly and is preferred since it **only produces one item at a time**.\n",
    "\n",
    "👉 Can represent infinite stream\n",
    "\n",
    "- Generators are excellent mediums to represent an infinite stream of data. \n",
    "  \n",
    "- Infinite streams cannot be stored in memory, and since generators produce only one item at a time, they can represent an infinite stream of data.\n",
    "\n",
    "👉 Generators can be pipelined\n",
    "\n",
    "- Multiple generators can be used to pipeline a series of operations. This is best illustrated using an example.\n",
    "\n",
    "Suppose we have a generator that produces the numbers in the Fibonacci series. And we have another generator for squaring numbers.\n",
    "\n",
    "If we want to find out the sum of squares of numbers in the Fibonacci series, we can do it in the following way by pipelining the output of generator functions together.\n",
    "\n",
    "\n"
   ]
  },
  {
   "cell_type": "code",
   "execution_count": 8,
   "metadata": {},
   "outputs": [
    {
     "name": "stdout",
     "output_type": "stream",
     "text": [
      "4895\n"
     ]
    }
   ],
   "source": [
    "def fibonacci_numbers(nums):\n",
    "    x, y = 0, 1\n",
    "    for _ in range(nums):\n",
    "        x, y = y, x+y\n",
    "        yield x\n",
    "\n",
    "def square(nums):\n",
    "    for num in nums:\n",
    "        yield num**2\n",
    "\n",
    "print(sum(square(fibonacci_numbers(10))))"
   ]
  },
  {
   "cell_type": "markdown",
   "metadata": {},
   "source": [
    "## Closures\n",
    "___\n",
    "\n",
    "Before understand Python Closure let us try to understand first **Higher Order Functions**\n",
    "\n",
    "### Higher order functions\n",
    "\n",
    "In Python functions are treated as first class citizens, allowing you to perform the following operations on functions:\n",
    "\n",
    "- A function can take one or more functions as parameters\n",
    "- A function can be returned as a result of another function\n",
    "- A function can be modified\n",
    "- A function can be assigned to a variable\n",
    "\n",
    "In this sub-section, we will cover:\n",
    "\n",
    "1. Handling functions as parameters\n",
    "2. Returning functions as return value from another functions"
   ]
  },
  {
   "cell_type": "markdown",
   "metadata": {},
   "source": [
    "### Function as a parameter"
   ]
  },
  {
   "cell_type": "code",
   "execution_count": null,
   "metadata": {},
   "outputs": [],
   "source": [
    "def sum_numbers(nums):  # normal function\n",
    "    return sum(nums)    # a sad function abusing the built-in sum function :<\n",
    "\n",
    "def higher_order_function(f, lst):  # function as a parameter\n",
    "    summation = f(lst)\n",
    "    return summation\n",
    "result = higher_order_function(sum_numbers, [1, 2, 3, 4, 5])\n",
    "print(result)       # 15"
   ]
  },
  {
   "cell_type": "markdown",
   "metadata": {},
   "source": [
    "### Function as a return value"
   ]
  },
  {
   "cell_type": "code",
   "execution_count": 9,
   "metadata": {},
   "outputs": [
    {
     "name": "stdout",
     "output_type": "stream",
     "text": [
      "9\n",
      "27\n",
      "3\n"
     ]
    }
   ],
   "source": [
    "def square(x):          # a square function\n",
    "    return x ** 2\n",
    "\n",
    "def cube(x):            # a cube function\n",
    "    return x ** 3\n",
    "\n",
    "def absolute(x):        # an absolute value function\n",
    "    if x >= 0:\n",
    "        return x\n",
    "    else:\n",
    "        return -(x)\n",
    "\n",
    "def higher_order_function(type): # a higher order function returning a function\n",
    "    if type == 'square':\n",
    "        return square\n",
    "    elif type == 'cube':\n",
    "        return cube\n",
    "    elif type == 'absolute':\n",
    "        return absolute\n",
    "\n",
    "result = higher_order_function('square')\n",
    "print(result(3))       # 9\n",
    "result = higher_order_function('cube')\n",
    "print(result(3))       # 27\n",
    "result = higher_order_function('absolute')\n",
    "print(result(-3))      # 3"
   ]
  },
  {
   "cell_type": "markdown",
   "metadata": {},
   "source": [
    "You can see from the above example that the higher order function is returning different functions depending on the passed parameter"
   ]
  },
  {
   "cell_type": "markdown",
   "metadata": {},
   "source": [
    "### Non local variable in a nested function\n",
    "\n",
    "Before getting into what a closure is, we have to first understand what a nested function and nonlocal variable is.\n",
    "\n",
    "👉 A function defined inside another function is called a **nested function**. Nested functions can access variables of the enclosing scope.\n",
    "\n",
    "👉 In Python, these non-local variables are read-only by default and we must declare them explicitly as non-local (using **nonlocal keyword**) in order to modify them.\n",
    "\n",
    "Following is an example of a nested function accessing a non-local variable."
   ]
  },
  {
   "cell_type": "code",
   "execution_count": 10,
   "metadata": {},
   "outputs": [
    {
     "name": "stdout",
     "output_type": "stream",
     "text": [
      "Hello\n"
     ]
    }
   ],
   "source": [
    "def print_msg(msg):\n",
    "    # This is the outer enclosing function\n",
    "\n",
    "    def printer():\n",
    "        # This is the nested function\n",
    "        print(msg)\n",
    "\n",
    "    printer()\n",
    "\n",
    "# We execute the function\n",
    "# Output: Hello\n",
    "print_msg(\"Hello\")"
   ]
  },
  {
   "cell_type": "markdown",
   "metadata": {},
   "source": [
    "We can see that the nested **`printer()`** function was able to access the non-local **`msg`** variable of the enclosing function."
   ]
  },
  {
   "cell_type": "markdown",
   "metadata": {},
   "source": [
    "### Defining Closures\n",
    "\n",
    "👉 Python allows a **nested function** to **access** the **outer scope** of the enclosing function. This is is known as a **Closure**. \n",
    "\n",
    "👉 Closure is created by nesting a function inside another encapsulating function and then returning the inner function.\n",
    "\n",
    "In the example above, what would happen if the last line of the function **`print_msg()`** returned the **`printer()`** function instead of calling it? This means the function was defined as follows:"
   ]
  },
  {
   "cell_type": "code",
   "execution_count": 13,
   "metadata": {},
   "outputs": [
    {
     "name": "stdout",
     "output_type": "stream",
     "text": [
      "Hello\n"
     ]
    }
   ],
   "source": [
    "def print_msg(msg):\n",
    "    # This is the outer enclosing function\n",
    "\n",
    "    def printer():\n",
    "        # This is the nested function\n",
    "        print(msg)\n",
    "\n",
    "    return printer  # returns the nested function\n",
    "\n",
    "\n",
    "# Now let's try calling this function.\n",
    "# Output: Hello\n",
    "another = print_msg(\"Hello\")\n",
    "another()"
   ]
  },
  {
   "cell_type": "markdown",
   "metadata": {},
   "source": [
    "👉  The **`print_msg()`** function was called with the string **`\"Hello\"`** \n",
    "\n",
    "👉  The returned function was bound to the name **`another`**. \n",
    "\n",
    "👉  On calling **`another()`**, the message was still remembered although we had already finished executing the **`print_msg()`** function.\n",
    "\n",
    "This technique by which some data (\"**`\"Hello\"`** in this case) gets attached to the code is called **closure in Python**.\n",
    "\n",
    "<div class=\"alert alert-info\">💡 Value in the enclosing scope is remembered even when the variable goes out of scope or the function itself is removed from the current namespace.</div>\n",
    "\n",
    "Let's delete the original function"
   ]
  },
  {
   "cell_type": "code",
   "execution_count": 14,
   "metadata": {},
   "outputs": [
    {
     "name": "stdout",
     "output_type": "stream",
     "text": [
      "Hello\n"
     ]
    }
   ],
   "source": [
    "del print_msg\n",
    "another()"
   ]
  },
  {
   "cell_type": "markdown",
   "metadata": {},
   "source": [
    "Here, the returned function still works even when the original function was deleted.\n",
    "\n",
    "\n",
    "As seen from the above example, we have a closure in Python when a nested function references a value in its enclosing scope.\n",
    "\n",
    "The criteria that must be met to create closure in Python are summarized in the following points.\n",
    "\n",
    "1. We must have a nested function (function inside a function).\n",
    "2. The nested function must refer to a value defined in the enclosing function.\n",
    "3. The enclosing function must return the nested function."
   ]
  },
  {
   "cell_type": "markdown",
   "metadata": {},
   "source": [
    "### When to use closures?\n",
    "\n",
    "So what are closures good for?\n",
    "\n",
    "👉  Closures can avoid the use of global values and provides some form of data hiding. It can also provide an object oriented solution to the problem.\n",
    "\n",
    "👉  When there are few methods (one method in most cases) to be implemented in a class, closures can provide an alternate and more elegant solution. But when the number of attributes and methods get larger, it's better to implement a class.\n"
   ]
  },
  {
   "cell_type": "markdown",
   "metadata": {},
   "source": [
    "## Decorators\n",
    "___\n",
    "\n",
    "A decorator takes in a function, adds some functionality and returns it. \n",
    "\n",
    "👉 Use **decorators** to add functionality to an existing code.\n",
    "\n",
    "👉 A **decorator** is a design pattern in Python that allows a user to add new functionality to an existing object without modifying its structure. \n",
    "\n",
    "👉 Decorators are usually called before the definition of a function you want to decorate.\n",
    "\n",
    "This is also called **metaprogramming** because a part of the program tries to modify another part of the program at compile time."
   ]
  },
  {
   "cell_type": "markdown",
   "metadata": {},
   "source": [
    "### Prerequisites\n",
    "\n",
    "In order to understand about decorators, we must first know a few basic things in Python.\n",
    "\n",
    "👉 We must be comfortable with the fact that everything in Python (Yes! Even classes), are **objects**. \n",
    "\n",
    "👉 Names that we define are simply identifiers bound to these objects. \n",
    "\n",
    "👉 **Functions** are no exceptions, they are objects too (with attributes). Various different names can be bound to the same function object.\n"
   ]
  },
  {
   "cell_type": "markdown",
   "metadata": {},
   "source": [
    "### Recap\n",
    "\n",
    "Let's uderstand, what happens when functions are assigned to a variable"
   ]
  },
  {
   "cell_type": "code",
   "execution_count": null,
   "metadata": {},
   "outputs": [],
   "source": [
    "def first(msg):\n",
    "    print(msg)\n",
    "\n",
    "\n",
    "first(\"Hello\")\n",
    "\n",
    "second = first\n",
    "second(\"Hello\")"
   ]
  },
  {
   "cell_type": "markdown",
   "metadata": {},
   "source": [
    "When you run the code, both functions **`first`** and **`second`** give the same output.\n",
    "\n",
    "Here, the names **`first`** and **`second`** refer to the same function object.\n",
    "\n",
    "👉 As we have learned earlier, that **functions can be passed as arguments** Such functions that take other functions as arguments are also called **higher order functions**. \n",
    "\n",
    "```python\n",
    ">>> def inc(x):\n",
    ">>>     return x + 1\n",
    ">>>\n",
    ">>>\n",
    ">>> def dec(x):\n",
    ">>>     return x - 1\n",
    ">>>\n",
    ">>>\n",
    ">>> def operate(func, x):\n",
    ">>>     result = func(x)\n",
    ">>>     return result\n",
    "    ```\n",
    "\n",
    "We invoke the function as follows:\n",
    "\n",
    "```python\n",
    ">>> operate(inc,3)\n",
    "4\n",
    ">>> operate(dec,3)\n",
    "2\n",
    "```"
   ]
  },
  {
   "cell_type": "markdown",
   "metadata": {},
   "source": [
    "👉  A function can **return** another function as well"
   ]
  },
  {
   "cell_type": "code",
   "execution_count": null,
   "metadata": {},
   "outputs": [],
   "source": [
    "def is_called():  # created 1st function\n",
    "    def is_returned():  # Created 2nd function (nested)\n",
    "        print(\"Hello\")\n",
    "    return is_returned\n",
    "\n",
    "\n",
    "new = is_called()\n",
    "\n",
    "# Outputs \"Hello\"\n",
    "new()"
   ]
  },
  {
   "cell_type": "markdown",
   "metadata": {},
   "source": [
    "👉 An finally, **Closures** allows nested functions to access **outer** scope"
   ]
  },
  {
   "cell_type": "code",
   "execution_count": 15,
   "metadata": {},
   "outputs": [
    {
     "name": "stdout",
     "output_type": "stream",
     "text": [
      "WELCOME TO PYTHON\n"
     ]
    }
   ],
   "source": [
    "# Normal function\n",
    "def greeting():\n",
    "    return 'Welcome to Python'\n",
    "def uppercase_decorator(function):\n",
    "    def wrapper():\n",
    "        func = function()\n",
    "        make_uppercase = func.upper()\n",
    "        return make_uppercase\n",
    "    return wrapper\n",
    "g = uppercase_decorator(greeting)\n",
    "print(g())"
   ]
  },
  {
   "cell_type": "markdown",
   "metadata": {},
   "source": [
    "You can implement above example with a **decorator**"
   ]
  },
  {
   "cell_type": "code",
   "execution_count": 17,
   "metadata": {},
   "outputs": [
    {
     "name": "stdout",
     "output_type": "stream",
     "text": [
      "WELCOME TO PYTHON\n"
     ]
    }
   ],
   "source": [
    "'''This decorator function is a higher order function\n",
    "that takes a function as a parameter'''\n",
    "def uppercase_decorator(function):\n",
    "    def wrapper():\n",
    "        func = function()\n",
    "        make_uppercase = func.upper()\n",
    "        return make_uppercase\n",
    "    return wrapper\n",
    "\n",
    "\n",
    "@uppercase_decorator\n",
    "def greeting():\n",
    "    return 'Welcome to Python'\n",
    "print(greeting())   # WELCOME TO PYTHON"
   ]
  },
  {
   "cell_type": "markdown",
   "metadata": {},
   "source": [
    "### Decorators\n",
    "\n",
    "👉 Functions and methods are called **callable** as they can be called.\n",
    "\n",
    "👉 In fact, any object which implements the special **`__call__()`** method is termed callable. So, in the most basic sense, a decorator is a callable that returns a callable.\n",
    "\n",
    "Basically, a decorator takes in a function, adds some functionality and returns it."
   ]
  },
  {
   "cell_type": "code",
   "execution_count": 18,
   "metadata": {},
   "outputs": [],
   "source": [
    "def make_pretty(func):\n",
    "    def inner():\n",
    "        print(\"I got decorated\")\n",
    "        func()\n",
    "    return inner\n",
    "\n",
    "\n",
    "def ordinary():\n",
    "    print(\"I am ordinary\")"
   ]
  },
  {
   "cell_type": "markdown",
   "metadata": {},
   "source": [
    "Calling **`ordinary`** directly is the simple method call"
   ]
  },
  {
   "cell_type": "code",
   "execution_count": 19,
   "metadata": {},
   "outputs": [
    {
     "name": "stdout",
     "output_type": "stream",
     "text": [
      "I am ordinary\n"
     ]
    }
   ],
   "source": [
    "ordinary()"
   ]
  },
  {
   "cell_type": "markdown",
   "metadata": {},
   "source": [
    "But, if you decorate **`ordinary`** with **`make_pretty`** it becomes decorated, and a wrapper gets added over the **`ordinary`** method"
   ]
  },
  {
   "cell_type": "code",
   "execution_count": 20,
   "metadata": {},
   "outputs": [
    {
     "name": "stdout",
     "output_type": "stream",
     "text": [
      "I got decorated\n",
      "I am ordinary\n"
     ]
    }
   ],
   "source": [
    "@make_pretty\n",
    "def ordinary():\n",
    "    print(\"I am ordinary\")\n",
    "\n",
    "ordinary()"
   ]
  },
  {
   "cell_type": "markdown",
   "metadata": {},
   "source": [
    "Generally, we decorate a function and reassign it as,\n",
    "\n",
    "```python\n",
    ">>> ordinary = make_pretty(ordinary).\n",
    "```\n",
    "\n",
    "This is a common construct and for this reason, Python has a syntax to simplify this.\n",
    "\n",
    "We can use the **`@`** symbol along with the name of the decorator function and place it above the definition of the function to be decorated. "
   ]
  },
  {
   "cell_type": "markdown",
   "metadata": {},
   "source": [
    "### Decorators with Parameters\n",
    "\n",
    "The above decorator was simple and it only worked with functions that did not have any parameters. What if we had functions that took in parameters like:"
   ]
  },
  {
   "cell_type": "code",
   "execution_count": 21,
   "metadata": {},
   "outputs": [],
   "source": [
    "def divide(a, b):\n",
    "    return a/b"
   ]
  },
  {
   "cell_type": "code",
   "execution_count": 22,
   "metadata": {},
   "outputs": [],
   "source": [
    "def smart_divide(func):\n",
    "    def inner(a, b):\n",
    "        print(\"I am going to divide\", a, \"and\", b)\n",
    "        if b == 0:\n",
    "            print(\"Whoops! cannot divide with 0\")\n",
    "            return\n",
    "\n",
    "        return func(a, b)\n",
    "    return inner\n",
    "\n",
    "\n",
    "@smart_divide\n",
    "def divide(a, b):\n",
    "    print(a/b)"
   ]
  },
  {
   "cell_type": "code",
   "execution_count": 23,
   "metadata": {},
   "outputs": [
    {
     "name": "stdout",
     "output_type": "stream",
     "text": [
      "I am going to divide 2 and 5\n",
      "0.4\n"
     ]
    }
   ],
   "source": [
    "divide(2,5)"
   ]
  },
  {
   "cell_type": "markdown",
   "metadata": {},
   "source": [
    "👉 Parameters of the nested **`inner()`** function inside the decorator is the same as the parameters of functions it decorates. Taking this into account, now we can make general decorators that work with any number of parameters.\n",
    "\n",
    "```python\n",
    ">>> def works_for_all(func):\n",
    ">>>     def inner(*args, **kwargs):\n",
    ">>>         print(\"I can decorate any function\")\n",
    ">>>         return func(*args, **kwargs)\n",
    ">>>     return inner\n",
    "```"
   ]
  },
  {
   "cell_type": "markdown",
   "metadata": {},
   "source": [
    "### Decorators chaining\n",
    "\n",
    "A function can be decorated multiple times with different (or same) decorators. We simply place the decorators above the desired function."
   ]
  },
  {
   "cell_type": "code",
   "execution_count": null,
   "metadata": {},
   "outputs": [],
   "source": [
    "def star(func):\n",
    "    def inner(*args, **kwargs):\n",
    "        print(\"*\" * 30)\n",
    "        func(*args, **kwargs)\n",
    "        print(\"*\" * 30)\n",
    "    return inner\n",
    "\n",
    "\n",
    "def percent(func):\n",
    "    def inner(*args, **kwargs):\n",
    "        print(\"%\" * 30)\n",
    "        func(*args, **kwargs)\n",
    "        print(\"%\" * 30)\n",
    "    return inner\n",
    "\n",
    "\n",
    "@star\n",
    "@percent\n",
    "def printer(msg):\n",
    "    print(msg)\n",
    "\n",
    "\n",
    "printer(\"Hello\")"
   ]
  },
  {
   "cell_type": "markdown",
   "metadata": {},
   "source": [
    "### Built in higher order functions\n",
    "\n",
    "#### `map` function\n",
    "\n",
    "The **map()** function is a built-in function that takes a function and iterable as parameters.\n",
    "\n",
    "```py\n",
    "    # syntax\n",
    "    map(function, iterable)\n",
    "```"
   ]
  },
  {
   "cell_type": "code",
   "execution_count": 24,
   "metadata": {},
   "outputs": [
    {
     "name": "stdout",
     "output_type": "stream",
     "text": [
      "[1, 4, 9, 16, 25]\n",
      "[1, 4, 9, 16, 25]\n"
     ]
    }
   ],
   "source": [
    "# Example 1: \n",
    "\n",
    "numbers = [1, 2, 3, 4, 5] # iterable\n",
    "def square(x):\n",
    "    return x ** 2\n",
    "numbers_squared = map(square, numbers)\n",
    "print(list(numbers_squared))    # [1, 4, 9, 16, 25]\n",
    "# Lets apply it with a lambda function\n",
    "numbers_squared = map(lambda x : x ** 2, numbers)\n",
    "print(list(numbers_squared))    # [1, 4, 9, 16, 25]"
   ]
  },
  {
   "cell_type": "markdown",
   "metadata": {},
   "source": [
    "#### `filter` function\n",
    "\n",
    "The **filter()** function calls the specified function which returns boolean for each item of the specified iterable (list). It filters the items that satisfy the filtering criteria.\n",
    "\n",
    "```py\n",
    "    # syntax\n",
    "    filter(function, iterable)\n",
    "```"
   ]
  },
  {
   "cell_type": "code",
   "execution_count": 25,
   "metadata": {},
   "outputs": [
    {
     "name": "stdout",
     "output_type": "stream",
     "text": [
      "[2, 4]\n"
     ]
    }
   ],
   "source": [
    "# Example 1: \n",
    "\n",
    "numbers = [1, 2, 3, 4, 5]  # iterable\n",
    "\n",
    "def is_even(num):\n",
    "    if num % 2 == 0:\n",
    "        return True\n",
    "    return False\n",
    "\n",
    "even_numbers = filter(is_even, numbers)\n",
    "print(list(even_numbers))       # [2, 4]"
   ]
  },
  {
   "cell_type": "markdown",
   "metadata": {},
   "source": [
    "## @property Decorator\n",
    "____\n",
    "\n",
    "Python programming provides us with a built-in **`@property`** decorator which makes usage of getter and setters much easier in Object-Oriented Programming.\n",
    "\n",
    "Before going into details on what **`@property`** decorator is, let us first build an intuition on why it would be needed in the first place."
   ]
  },
  {
   "cell_type": "markdown",
   "metadata": {},
   "source": [
    "Let's understand with a simple example"
   ]
  },
  {
   "cell_type": "code",
   "execution_count": 4,
   "metadata": {},
   "outputs": [],
   "source": [
    "class Celsius:\n",
    "    def __init__(self, temperature = 0):\n",
    "        self.temperature = temperature\n",
    "\n",
    "    def to_fahrenheit(self):\n",
    "        return (self.temperature * 1.8) + 32"
   ]
  },
  {
   "cell_type": "markdown",
   "metadata": {},
   "source": [
    "We can make objects out of this class and manipulate the **`temperature`** attribute as we wish:"
   ]
  },
  {
   "cell_type": "code",
   "execution_count": 5,
   "metadata": {},
   "outputs": [
    {
     "name": "stdout",
     "output_type": "stream",
     "text": [
      "37\n",
      "98.60000000000001\n"
     ]
    }
   ],
   "source": [
    "# Create a new object\n",
    "human = Celsius()\n",
    "\n",
    "# Set the temperature\n",
    "human.temperature = 37\n",
    "\n",
    "# Get the temperature attribute\n",
    "print(human.temperature)\n",
    "\n",
    "# Get the to_fahrenheit method\n",
    "print(human.to_fahrenheit())"
   ]
  },
  {
   "cell_type": "markdown",
   "metadata": {},
   "source": [
    "<div class=\"alert alert-info\">💡 Whenever we assign or retrieve any object attribute like <b>temperature</b> as shown above, Python searches it in the object's built-in <b>__dict__</b> dictionary attribute.</div>\n",
    "\n",
    "Therefore, **`man.temperature`** internally becomes **`man.__dict__['temperature']`**."
   ]
  },
  {
   "cell_type": "code",
   "execution_count": 6,
   "metadata": {},
   "outputs": [
    {
     "data": {
      "text/plain": [
       "{'temperature': 37}"
      ]
     },
     "execution_count": 6,
     "metadata": {},
     "output_type": "execute_result"
    }
   ],
   "source": [
    "human.__dict__"
   ]
  },
  {
   "cell_type": "markdown",
   "metadata": {},
   "source": [
    "Now, let's go 1 step further to implement getter and setter methods, so that we can add our own logic for Fahrenheit calculation"
   ]
  },
  {
   "cell_type": "code",
   "execution_count": 8,
   "metadata": {},
   "outputs": [],
   "source": [
    "# Making Getters and Setter methods\n",
    "class Celsius:\n",
    "    def __init__(self, temperature=0):\n",
    "        self.set_temperature(temperature)\n",
    "\n",
    "    def to_fahrenheit(self):\n",
    "        return (self.get_temperature() * 1.8) + 32\n",
    "\n",
    "    # getter method\n",
    "    def get_temperature(self):\n",
    "        return self._temperature\n",
    "\n",
    "    # setter method\n",
    "    def set_temperature(self, value):\n",
    "        if value < -273.15:\n",
    "            raise ValueError(\"Temperature below -273.15 is not possible.\")\n",
    "        self._temperature = value"
   ]
  },
  {
   "cell_type": "markdown",
   "metadata": {},
   "source": [
    "As we can see, the above method introduces two new **`get_temperature()`** and **`set_temperature()`** methods.\n",
    "\n",
    "Furthermore, **`temperature`** was replaced with **`_temperature`**. An underscore **`_`** at the beginning is used to denote private variables in Python.\n",
    "\n",
    "Now let's use this implementation"
   ]
  },
  {
   "cell_type": "code",
   "execution_count": 9,
   "metadata": {},
   "outputs": [
    {
     "name": "stdout",
     "output_type": "stream",
     "text": [
      "37\n",
      "98.60000000000001\n"
     ]
    },
    {
     "ename": "ValueError",
     "evalue": "Temperature below -273.15 is not possible.",
     "output_type": "error",
     "traceback": [
      "\u001b[0;31m---------------------------------------------------------------------------\u001b[0m",
      "\u001b[0;31mValueError\u001b[0m                                Traceback (most recent call last)",
      "Cell \u001b[0;32mIn[9], line 11\u001b[0m\n\u001b[1;32m      8\u001b[0m \u001b[38;5;28mprint\u001b[39m(human\u001b[38;5;241m.\u001b[39mto_fahrenheit())\n\u001b[1;32m     10\u001b[0m \u001b[38;5;66;03m# new constraint implementation\u001b[39;00m\n\u001b[0;32m---> 11\u001b[0m \u001b[43mhuman\u001b[49m\u001b[38;5;241;43m.\u001b[39;49m\u001b[43mset_temperature\u001b[49m\u001b[43m(\u001b[49m\u001b[38;5;241;43m-\u001b[39;49m\u001b[38;5;241;43m300\u001b[39;49m\u001b[43m)\u001b[49m\n\u001b[1;32m     13\u001b[0m \u001b[38;5;66;03m# Get the to_fahreheit method\u001b[39;00m\n\u001b[1;32m     14\u001b[0m \u001b[38;5;28mprint\u001b[39m(human\u001b[38;5;241m.\u001b[39mto_fahrenheit())\n",
      "Cell \u001b[0;32mIn[8], line 16\u001b[0m, in \u001b[0;36mCelsius.set_temperature\u001b[0;34m(self, value)\u001b[0m\n\u001b[1;32m     14\u001b[0m \u001b[38;5;28;01mdef\u001b[39;00m \u001b[38;5;21mset_temperature\u001b[39m(\u001b[38;5;28mself\u001b[39m, value):\n\u001b[1;32m     15\u001b[0m     \u001b[38;5;28;01mif\u001b[39;00m value \u001b[38;5;241m<\u001b[39m \u001b[38;5;241m-\u001b[39m\u001b[38;5;241m273.15\u001b[39m:\n\u001b[0;32m---> 16\u001b[0m         \u001b[38;5;28;01mraise\u001b[39;00m \u001b[38;5;167;01mValueError\u001b[39;00m(\u001b[38;5;124m\"\u001b[39m\u001b[38;5;124mTemperature below -273.15 is not possible.\u001b[39m\u001b[38;5;124m\"\u001b[39m)\n\u001b[1;32m     17\u001b[0m     \u001b[38;5;28mself\u001b[39m\u001b[38;5;241m.\u001b[39m_temperature \u001b[38;5;241m=\u001b[39m value\n",
      "\u001b[0;31mValueError\u001b[0m: Temperature below -273.15 is not possible."
     ]
    }
   ],
   "source": [
    "# Create a new object, set_temperature() internally called by __init__\n",
    "human = Celsius(37)\n",
    "\n",
    "# Get the temperature attribute via a getter\n",
    "print(human.get_temperature())\n",
    "\n",
    "# Get the to_fahrenheit method, get_temperature() called by the method itself\n",
    "print(human.to_fahrenheit())\n",
    "\n",
    "# new constraint implementation\n",
    "human.set_temperature(-300)\n",
    "\n",
    "# Get the to_fahreheit method\n",
    "print(human.to_fahrenheit())"
   ]
  },
  {
   "cell_type": "markdown",
   "metadata": {},
   "source": [
    "This update successfully implemented the new restriction. We are no longer allowed to set the temperature below -273.15 degrees Celsius.\n",
    "\n",
    ">**Note**: The private variables don't actually exist in Python. There are simply norms to be followed. The language itself doesn't apply any restrictions.\n",
    "```python\n",
    ">>> human._temperature = -300\n",
    ">>> human.get_temperature()\n",
    "-300\n",
    "```"
   ]
  },
  {
   "cell_type": "markdown",
   "metadata": {},
   "source": [
    "However, the bigger problem with the above update is that all the programs that implemented our previous class have to modify their code from **`obj.temperature`** to **`obj.get_temperature()`** and all expressions like **`obj.temperature = val`** to **`obj.set_temperature(val)`**.\n",
    "\n",
    "This refactoring can cause problems while dealing with hundreds of thousands of lines of codes.\n",
    "\n",
    "All in all, our new update was not backwards compatible. This is where **`@property`** comes to rescue."
   ]
  },
  {
   "cell_type": "markdown",
   "metadata": {},
   "source": [
    "### Property class\n",
    "\n",
    "We can use the **`@property`** decorator over the methods that we want to set as a property of that class"
   ]
  },
  {
   "cell_type": "code",
   "execution_count": null,
   "metadata": {},
   "outputs": [],
   "source": [
    "# Using @property decorator\n",
    "\n",
    "class Celsius:\n",
    "    def __init__(self, temperature=0):\n",
    "        self.temperature = temperature\n",
    "\n",
    "    def to_fahrenheit(self):\n",
    "        return (self.temperature * 1.8) + 32\n",
    "\n",
    "    @property\n",
    "    def temperature(self):\n",
    "        print(\"Getting value...\")\n",
    "        return self._temperature\n",
    "\n",
    "    @temperature.setter\n",
    "    def temperature(self, value):\n",
    "        print(\"Setting value...\")\n",
    "        if value < -273.15:\n",
    "            raise ValueError(\"Temperature below -273 is not possible\")\n",
    "        self._temperature = value\n",
    "\n",
    "\n",
    "# create an object\n",
    "human = Celsius(37)\n",
    "\n",
    "print(human.temperature)\n",
    "\n",
    "print(human.to_fahrenheit())\n",
    "\n",
    "coldest_thing = Celsius(-300)"
   ]
  },
  {
   "cell_type": "markdown",
   "metadata": {},
   "source": [
    "Which is equivalent to the following code:"
   ]
  },
  {
   "cell_type": "code",
   "execution_count": 10,
   "metadata": {},
   "outputs": [
    {
     "name": "stdout",
     "output_type": "stream",
     "text": [
      "Setting value...\n",
      "Getting value...\n",
      "37\n",
      "Getting value...\n",
      "98.60000000000001\n",
      "Setting value...\n"
     ]
    },
    {
     "ename": "ValueError",
     "evalue": "Temperature below -273.15 is not possible",
     "output_type": "error",
     "traceback": [
      "\u001b[0;31m---------------------------------------------------------------------------\u001b[0m",
      "\u001b[0;31mValueError\u001b[0m                                Traceback (most recent call last)",
      "Cell \u001b[0;32mIn[10], line 32\u001b[0m\n\u001b[1;32m     28\u001b[0m \u001b[38;5;28mprint\u001b[39m(human\u001b[38;5;241m.\u001b[39mtemperature)\n\u001b[1;32m     30\u001b[0m \u001b[38;5;28mprint\u001b[39m(human\u001b[38;5;241m.\u001b[39mto_fahrenheit())\n\u001b[0;32m---> 32\u001b[0m coldest_thing \u001b[38;5;241m=\u001b[39m \u001b[43mCelsius\u001b[49m\u001b[43m(\u001b[49m\u001b[38;5;241;43m-\u001b[39;49m\u001b[38;5;241;43m300\u001b[39;49m\u001b[43m)\u001b[49m\n",
      "Cell \u001b[0;32mIn[10], line 4\u001b[0m, in \u001b[0;36mCelsius.__init__\u001b[0;34m(self, temperature)\u001b[0m\n\u001b[1;32m      3\u001b[0m \u001b[38;5;28;01mdef\u001b[39;00m \u001b[38;5;21m__init__\u001b[39m(\u001b[38;5;28mself\u001b[39m, temperature\u001b[38;5;241m=\u001b[39m\u001b[38;5;241m0\u001b[39m):\n\u001b[0;32m----> 4\u001b[0m     \u001b[38;5;28;43mself\u001b[39;49m\u001b[38;5;241;43m.\u001b[39;49m\u001b[43mtemperature\u001b[49m \u001b[38;5;241m=\u001b[39m temperature\n",
      "Cell \u001b[0;32mIn[10], line 18\u001b[0m, in \u001b[0;36mCelsius.set_temperature\u001b[0;34m(self, value)\u001b[0m\n\u001b[1;32m     16\u001b[0m \u001b[38;5;28mprint\u001b[39m(\u001b[38;5;124m\"\u001b[39m\u001b[38;5;124mSetting value...\u001b[39m\u001b[38;5;124m\"\u001b[39m)\n\u001b[1;32m     17\u001b[0m \u001b[38;5;28;01mif\u001b[39;00m value \u001b[38;5;241m<\u001b[39m \u001b[38;5;241m-\u001b[39m\u001b[38;5;241m273.15\u001b[39m:\n\u001b[0;32m---> 18\u001b[0m     \u001b[38;5;28;01mraise\u001b[39;00m \u001b[38;5;167;01mValueError\u001b[39;00m(\u001b[38;5;124m\"\u001b[39m\u001b[38;5;124mTemperature below -273.15 is not possible\u001b[39m\u001b[38;5;124m\"\u001b[39m)\n\u001b[1;32m     19\u001b[0m \u001b[38;5;28mself\u001b[39m\u001b[38;5;241m.\u001b[39m_temperature \u001b[38;5;241m=\u001b[39m value\n",
      "\u001b[0;31mValueError\u001b[0m: Temperature below -273.15 is not possible"
     ]
    }
   ],
   "source": [
    "# using property class\n",
    "class Celsius:\n",
    "    def __init__(self, temperature=0):\n",
    "        self.temperature = temperature\n",
    "\n",
    "    def to_fahrenheit(self):\n",
    "        return (self.temperature * 1.8) + 32\n",
    "\n",
    "    # getter\n",
    "    def get_temperature(self):\n",
    "        print(\"Getting value...\")\n",
    "        return self._temperature\n",
    "\n",
    "    # setter\n",
    "    def set_temperature(self, value):\n",
    "        print(\"Setting value...\")\n",
    "        if value < -273.15:\n",
    "            raise ValueError(\"Temperature below -273.15 is not possible\")\n",
    "        self._temperature = value\n",
    "\n",
    "    # creating a property object\n",
    "    temperature = property(get_temperature, set_temperature)\n",
    "\n",
    "\n",
    "# create an object\n",
    "human = Celsius(37)\n",
    "\n",
    "print(human.temperature)\n",
    "\n",
    "print(human.to_fahrenheit())\n",
    "\n",
    "coldest_thing = Celsius(-300)"
   ]
  },
  {
   "cell_type": "markdown",
   "metadata": {},
   "source": [
    "By using property, we can see that no modification is required in the implementation of the value constraint. Thus, our implementation is backward compatible.\n",
    "\n",
    ">**Note**: The actual temperature value is stored in the private **`_temperature`** variable. The **`temperature`** attribute is a property object which provides an interface to this private variable."
   ]
  },
  {
   "cell_type": "markdown",
   "metadata": {},
   "source": [
    "In Python, **`property()`** is a built-in function that creates and returns a **`property`** object. The syntax of this function is:\n",
    "\n",
    "```python\n",
    "property(fget=None, fset=None, fdel=None, doc=None)\n",
    "```\n",
    "\n",
    "where,\n",
    "\n",
    "* **`fget`** is function to get value of the attribute\n",
    "* **`fset`** is function to set value of the attribute\n",
    "* **`fdel`** is function to delete the attribute\n",
    "* **`doc`** is a string (like a comment)\n",
    "\n",
    "As seen from the implementation, these function arguments are optional."
   ]
  },
  {
   "cell_type": "markdown",
   "metadata": {},
   "source": [
    "## RegEx\n",
    "___\n",
    "\n",
    "A **Reg**ular **Ex**pression (RegEx) is a sequence of characters that defines a search pattern. For example,\n",
    "\n",
    "```python\n",
    ">>> ^a...s$\n",
    "```\n",
    "\n",
    "The above code defines a RegEx pattern. The pattern is: **any five letter string starting with `a` and ending with `s`**.\n",
    "\n",
    "A pattern defined using RegEx can be used to match against a string.\n",
    "\n",
    "| Expression | String | Matched? | \n",
    "|:----| :--- |:--- |\n",
    "|               |  **`abs`** | No match | \n",
    "|               |  **`alias`** | Match |\n",
    "| **`^a...s$`** |  **`abyss`** | Match |\n",
    "|               |  **`Alias`** | No match |\n",
    "|               |  **`An abacus`** | No match |\n",
    "\n",
    "\n",
    "Python has a module named **`re`** to work with RegEx. Here's an example:"
   ]
  },
  {
   "cell_type": "code",
   "execution_count": 11,
   "metadata": {},
   "outputs": [
    {
     "name": "stdout",
     "output_type": "stream",
     "text": [
      "Search successful.\n"
     ]
    }
   ],
   "source": [
    "import re\n",
    "\n",
    "pattern = '^a...s$'\n",
    "test_string = 'abyss'\n",
    "result = re.match(pattern, test_string)\n",
    "\n",
    "if result:\n",
    "    print(\"Search successful.\")\n",
    "else:\n",
    "    print(\"Search unsuccessful!\")\t"
   ]
  },
  {
   "cell_type": "markdown",
   "metadata": {},
   "source": [
    "**`re.match()`** function to search **`pattern`** within the **`test_string`**. \n",
    "\n",
    "The method returns a match object if the search is successful. If not, it returns **`None`**."
   ]
  },
  {
   "cell_type": "markdown",
   "metadata": {},
   "source": [
    "### Patterns\n",
    "\n",
    "#### MetaCharacters\n",
    "\n",
    "Metacharacters are characters that are interpreted in a special way by a RegEx engine. Here's a list of metacharacters:\n",
    "\n",
    "    **`[] . ^ $ * + ? {} () \\ |`**"
   ]
  },
  {
   "cell_type": "markdown",
   "metadata": {},
   "source": [
    "##### `[]` - Square brackets\n",
    "<hr style=\"border-style: dotted;\" />\n",
    "\n",
    "Square brackets specifies a set of characters you wish to match.\n",
    "\n",
    "| Expression | String | Matched? | \n",
    "|:----| :--- |:--- |\n",
    "|             |  **`a`** | 1 match | \n",
    "|             |  **`ac`** | 2 matches |\n",
    "| **`[abc]`** |  **`Hey Jude`** | No match |\n",
    "|             |  **`abc de ca`** | 5 matches |\n",
    "\n",
    "Here, **`[abc]`** will match if the string you are trying to match contains any of the **`a`**, **`b`** or **`c`**.\n",
    "\n",
    "You can also specify a range of characters using **`-`** inside square brackets.\n",
    "\n",
    "* **`[a-c]`** means, a or b or c\n",
    "* **`[a-z]`** means, any letter from a to z\n",
    "* **`[A-Z]`** means, any character from A to Z\n",
    "* **`[0-3]`** means, 0 or 1 or 2 or 3\n",
    "* **`[0-9]`** means any number from 0 to 9\n",
    "* **`[A-Za-z0-9]`** any single character, that is a to z, A to Z or 0 to 9\n",
    "\n",
    "You can complement (invert) the character set by using caret **`^`** symbol at the start of a square-bracket.\n",
    "\n",
    "* **`[^abc]`** means any character except **`a`** or **`b`** or **`c`**.\n",
    "* **`[^0-9]`** means any non-digit character."
   ]
  },
  {
   "cell_type": "markdown",
   "metadata": {},
   "source": [
    "##### `.` - Period\n",
    "<hr style=\"border-style: dotted;\" />\n",
    "    \n",
    "\n",
    "A period matches any single character (except newline **`'\\n'`**).\n",
    "\n",
    "| Expression | String | Matched? | \n",
    "|:----| :--- |:--- |\n",
    "|          |  **`a`** | No match | \n",
    "|          |  **`ac`** | 1 match |\n",
    "| **`..`** |  **`acd`** | 1 match |\n",
    "|          |  **`acde`** | 2 matches (contains 4 characters) |"
   ]
  },
  {
   "cell_type": "markdown",
   "metadata": {},
   "source": [
    "#####  `^` - Caret\n",
    "<hr style=\"border-style: dotted;\" />\n",
    "\n",
    "The caret symbol **`^`** is used to check if a string **starts with** a certain character.\n",
    "\n",
    "  * **`r'^substring'`** eg **`r'^love'`**, a sentence that starts with a word love\n",
    "  * **`r'[^abc]`** means not a, not b, not c.\n",
    "\n",
    "| Expression | String | Matched? | \n",
    "|:----| :--- |:--- |\n",
    "|          |  **`a`** | 1 match | \n",
    "| **`^a`** |  **`abc`** | 1 match |\n",
    "|          |  **`bac`** | No match |\n",
    "|----------|------------|------------------------------------------------------------|\n",
    "| **`^a`** |  **`abc`** | 1 match |\n",
    "|          |  **`acd`** | No match (starts with **`a`** but not followed by **`b`**) |"
   ]
  },
  {
   "cell_type": "markdown",
   "metadata": {},
   "source": [
    "##### `$` - Dollar\n",
    "<hr style=\"border-style: dotted;\" />\n",
    "\n",
    "The dollar symbol **`$`** is used to check if a string **ends with** a certain character.\n",
    "\n",
    "| Expression | String | Matched? | \n",
    "|:----| :--- |:--- |\n",
    "|          |  **`a`** | 1 match | \n",
    "| **`a$`** |  **`formula`** | 1 match |\n",
    "|          |  **`cab`** | No result |"
   ]
  },
  {
   "cell_type": "markdown",
   "metadata": {},
   "source": [
    "##### `*` - Star\n",
    "<hr style=\"border-style: dotted;\" />\n",
    "\n",
    "The star symbol **`*`** matches **zero or more occurrences** of the pattern left to it.\n",
    "\n",
    "| Expression | String | Matched? | \n",
    "|:----| :--- |:--- |\n",
    "|            |  **`mn`** | 1 match | \n",
    "|            |  **`man`** | 1 match |\n",
    "| **`ma*n`** |  **`maaan`** | 1 match |\n",
    "|            |  **`main`** | No match (**`a`** is not followed by **`n`**) |\n",
    "|            |  **`woman`** | 1 match |"
   ]
  },
  {
   "cell_type": "markdown",
   "metadata": {},
   "source": [
    "##### `+` - Plus\n",
    "<hr style=\"border-style: dotted;\" />\n",
    "\n",
    "The plus symbol **`+`** matches **zero or more occurrences** of the pattern left to it.\n",
    "\n",
    "| Expression | String | Matched? | \n",
    "|:----| :--- |:--- |\n",
    "|            |  **`mn`** | No match (no **`a`** character) | \n",
    "|            |  **`man`** | 1 match |\n",
    "| **`ma+n`** |  **`maaan`** | 1 match |\n",
    "|            |  **`main`** | No match (**`a`** is not followed by **`n`**) |\n",
    "|            |  **`woman`** | 1 match |"
   ]
  },
  {
   "cell_type": "markdown",
   "metadata": {},
   "source": [
    "##### `?` - Question Mark\n",
    "<hr style=\"border-style: dotted;\" />\n",
    "\n",
    "The question mark symbol **`?`** matches **zero or more occurrences** of the pattern left to it.\n",
    "\n",
    "| Expression | String | Matched? | \n",
    "|:----| :--- |:--- |\n",
    "|            |  **`mn`** | 1 match | \n",
    "|            |  **`man`** | 1 match |\n",
    "| **`ma?n`** |  **`maaan`** | No match (more than one **`a`** character) |\n",
    "|            |  **`main`** | No match (**`a`** is not followed by **`n`**) |\n",
    "|            |  **`woman`** | 1 match |"
   ]
  },
  {
   "cell_type": "markdown",
   "metadata": {},
   "source": [
    "##### `{}` - Braces\n",
    "<hr style=\"border-style: dotted;\" />\n",
    "\n",
    "We can specify the length of the substring we are looking for in a text, using a curly brackets **`{}`**.\n",
    "\n",
    "Consider this code: **`{n,m}`**. This means at least **`n`**, and at most **`m`** repetitions of the pattern left to it.\n",
    "\n",
    "* **`{3}`**: Exactly 3 characters\n",
    "* **`{3,}`**: At least 3 characters\n",
    "* **`{3,8}`**: 3 to 8 characters\n",
    "\n",
    "| Expression | String | Matched? | \n",
    "|:----| :--- |:--- |\n",
    "|              |  **`abc dat`** | No match | \n",
    "|              |  **`abc daat`** | 1 match (at **`daat`**) |\n",
    "| **`a{2,3}`** |  **`aabc daaat`** | 2 matches (at **`aabc`** and **`daaat`**) |\n",
    "|              |  **`aabc daaaat`** | 2 matches (at **`aabc`** and **`daaaat`**) |\n",
    "\n",
    "Let's try one more example. This RegEx **`[0-9]{2, 4}`** matches at least 2 digits but not more than 4 digits\n",
    "\n",
    "| Expression | String | Matched? | \n",
    "|:----| :--- |:--- |\n",
    "|                  |  **`ab123csde`** | 1 match (match at **`ab123csde`**) | \n",
    "| **`[0-9]{2,4}`** |  **`12 and 345673`** | 3 matches (**`12`**, **`3456`**, **`73`**) |\n",
    "|                  |  **`1 and 2`** | No match |"
   ]
  },
  {
   "cell_type": "markdown",
   "metadata": {},
   "source": [
    "##### `|` - Alternation\n",
    "<hr style=\"border-style: dotted;\" />\n",
    "\n",
    "Vertical bar **`|`** is used for alternation (**`or`** operator).\n",
    "\n",
    "| Expression | String | Matched? | \n",
    "|:----| :--- |:--- |\n",
    "|           |  **`cde`** | No match | \n",
    "| **`a\\|b`** |  **`ade`** | 1 match (match at **`ade`**) |\n",
    "|           |  **`acdbea`** | 3 matches (at **`acdbea`**) |\n",
    "\n",
    "Here, **`a|b`** match any string that contains either **`a`** or **`b`**"
   ]
  },
  {
   "cell_type": "markdown",
   "metadata": {},
   "source": [
    "##### `()` - Group\n",
    "<hr style=\"border-style: dotted;\" />\n",
    "\n",
    "Parentheses **`()`** is used to group sub-patterns. For example, **`(a|b|c)xz`** match any string that matches either **`a`** or **`b`** or **`c`**. followed by **`xz`**.\n",
    "\n",
    "| Expression | String | Matched? | \n",
    "|:----| :--- |:--- |\n",
    "|                 |  **`ab xz`** | No match | \n",
    "| **`(a\\|b\\|c)xz`** |  **`abxz`** | 1 match (match at **`abxz`**) |\n",
    "|                 |  **`axz cabxz`** | 2 matches (at **`axz cabxz`**) |"
   ]
  },
  {
   "cell_type": "markdown",
   "metadata": {},
   "source": [
    "##### `\\` - Backslash\n",
    "<hr style=\"border-style: dotted;\" />\n",
    "\n",
    "Backlash **`\\`** is used to escape various characters including all metacharacters. For example,\n",
    "\n",
    "**`\\$a`** match if a string contains **`$`** followed by **`a`**. Here, **`$`** is not interpreted by a RegEx engine in a special way.\n",
    "\n",
    "If you are unsure if a character has special meaning or not, you can put **`\\`** in front of it. This makes sure the character is not treated in a special way."
   ]
  },
  {
   "cell_type": "markdown",
   "metadata": {},
   "source": [
    "#### Special Sequences\n",
    "\n",
    "Special sequences make commonly used patterns easier to write. Here's a list of special sequences:"
   ]
  },
  {
   "cell_type": "markdown",
   "metadata": {},
   "source": [
    "##### `\\A` \n",
    "<hr style=\"border-style: dotted;\" />\n",
    "\n",
    "Matches if the specified characters are at the start of a string.\n",
    "\n",
    "| Expression | String | Matched? | \n",
    "|:----| :--- |:--- |\n",
    "| **`\\Athe`** |  **`the sun`** | Match | \n",
    "|             |  **`In the sun`** | No match |\n",
    "##### `\\b` \n",
    "<hr style=\"border-style: dotted;\" />\n",
    "\n",
    "Matches if the specified characters are at the beginning or end of a word.\n",
    "\n",
    "| Expression | String | Matched? | \n",
    "|:----| :--- |:--- |\n",
    "|             |  **`football`** | Match | \n",
    "| **`\\bfoo`** |  **`a football`** | Match |\n",
    "|             |  **`afootball`** | No match |\n",
    "|-------------|------------|-----------|\n",
    "| **`foo\\b`** |  **`the foo`** | Match |\n",
    "|             |  **`the afoo test`** | Match |\n",
    "|             |  **`the afootest`** | No match |\n",
    "##### `\\B` \n",
    "<hr style=\"border-style: dotted;\" />\n",
    "\n",
    "Opposite of `\\b`. Matches if the specified characters are not at the beginning or end of a word.\n",
    "\n",
    "| Expression | String | Matched? | \n",
    "|:----| :--- |:--- |\n",
    "|             |  **`football`** | No match | \n",
    "| **`\\Bfoo`** |  **`a football`** | No match |\n",
    "|             |  **`afootball`** | Match |\n",
    "|-------------|------------|-----------|\n",
    "| **`foo\\B`** |  **`the foo`** | No match |\n",
    "|             |  **`the afoo test`** | No match |\n",
    "|             |  **`the afootest`** | Match |\n",
    "##### `\\d` \n",
    "<hr style=\"border-style: dotted;\" />\n",
    "\n",
    "Matches any non-decimal digit. Equivalent to `[^0-9]`\n",
    "\n",
    "- **`\\d`** means: match where the string contains digits (numbers from 0-9)\n",
    "- **`\\D`** means: match where the string does not contain digits\n",
    "    \n",
    "| Expression | String | Matched? | \n",
    "|:----| :--- |:--- |\n",
    "| **`\\d`** |  **`1ab34\"50`** | 3 matches (at **`1ab34\"50`**) | \n",
    "|          |  **`1345`** | No match |\n",
    "##### `\\s` \n",
    "<hr style=\"border-style: dotted;\" />\n",
    "\n",
    "Matches where a string contains any whitespace character. Equivalent to `[ \\t\\n\\r\\f\\v]`.\n",
    "\n",
    "| Expression | String | Matched? | \n",
    "|:----| :--- |:--- |\n",
    "| **`\\s`** |  **`Python RegEx`** | 1 match | \n",
    "|          |  **`PythonRegEx`** | No match |\n",
    "##### `\\S` \n",
    "<hr style=\"border-style: dotted;\" />\n",
    "\n",
    "Matches where a string contains any non-whitespace character. Equivalent to `[^ \\t\\n\\r\\f\\v]`.\n",
    "\n",
    "| Expression | String | Matched? | \n",
    "|:----| :--- |:--- |\n",
    "| **`\\S`** |  **`a b`** | 2 matches (at  **`a b`**) | \n",
    "|          |  **` `** | No match |\n",
    "##### `\\w` \n",
    "<hr style=\"border-style: dotted;\" />\n",
    "\n",
    "Matches any alphanumeric character (digits and alphabets). Equivalent to `[a-zA-Z0-9_]`. By the way, underscore `_` is also considered an alphanumeric character.\n",
    "\n",
    "| Expression | String | Matched? | \n",
    "|:----| :--- |:--- |\n",
    "| **`\\w`** |  **`12&\": ;c`** | 3 matches (at **`12&\": ;c`**) | \n",
    "|          |  **`%\"> !`** | No match |\n",
    "##### `\\W` \n",
    "<hr style=\"border-style: dotted;\" />\n",
    "\n",
    "Matches any non-alphanumeric character. Equivalent to `[^a-zA-Z0-9_]`.\n",
    "\n",
    "| Expression | String | Matched? | \n",
    "|:----| :--- |:--- |\n",
    "| **`\\W`** |  **`1a2%c`** | 1 match (at **`1a2%c`**) | \n",
    "|          |  **`Python`** | No match |\n",
    "##### `\\Z` \n",
    "<hr style=\"border-style: dotted;\" />\n",
    "\n",
    "Matches if the specified characters are at the end of a string.\n",
    "\n",
    "| Expression | String | Matched? | \n",
    "|:----| :--- |:--- |\n",
    "|                |  **`I like Python`** | 1 match |\n",
    "| **`Python\\Z`** |  **`I like Python Programming`** | No match | \n",
    "|                |  **`Python is fun.`** | No match |\n",
    "\n",
    "#### Summary - MetaCharacters\n",
    "\n",
    "<img src=\"images/regex.png\" width=\"1000\" alt=\"metacharacters\"/>\n",
    "\n",
    "<div class=\"alert alert-info\">💡<b>Tip</b>  To build and test regular expressions, you can use RegEx tester tools such as **[regex101](https://regex101.com/)**. This tool not only helps you in creating regular expressions, but it also helps you learn it.</div>\n",
    "\n",
    "Now you understand the basics of RegEx, let's discuss how to use RegEx in your Python code.\n",
    "A **Reg**ular **Ex**pression or **RegEx** is a special text string that helps to find patterns in data. A RegEx can be used to check if some pattern exists in a different data type. To use RegEx in python first we should import the RegEx module which is called **`re`**."
   ]
  },
  {
   "cell_type": "markdown",
   "metadata": {},
   "source": [
    "### RegEx Methods\n",
    "\n",
    "To find a pattern we use different set of **`re`** character sets that allows to search for a match in a string.\n",
    "\n",
    "* **`re.findall`**: Returns a list containing all matches\n",
    "* **`re.split`**:\tTakes a string, splits it at the match points, returns a list\n",
    "* **`re.sub`**:  Replaces one or many matches within a string\n",
    "* **`re.search`**: Returns a match object if there is one anywhere in the string, including multiline strings.\n",
    "* **`re.match()`**: searches only in the beginning of the first line of the string and returns matched objects if found, else returns **`None`**.\n",
    "\n",
    "To use it, we need to import the module."
   ]
  },
  {
   "cell_type": "code",
   "execution_count": null,
   "metadata": {},
   "outputs": [],
   "source": [
    "import re"
   ]
  },
  {
   "cell_type": "markdown",
   "metadata": {},
   "source": [
    "The module defines several functions and constants to work with RegEx."
   ]
  },
  {
   "cell_type": "markdown",
   "metadata": {},
   "source": [
    "#### `re.findall()`\n",
    "\n",
    "The **`re.findall()`** method returns a list of strings containing all matches."
   ]
  },
  {
   "cell_type": "code",
   "execution_count": 13,
   "metadata": {},
   "outputs": [
    {
     "name": "stdout",
     "output_type": "stream",
     "text": [
      "['12', '89', '34']\n"
     ]
    },
    {
     "name": "stderr",
     "output_type": "stream",
     "text": [
      "<>:8: SyntaxWarning: invalid escape sequence '\\d'\n",
      "<>:8: SyntaxWarning: invalid escape sequence '\\d'\n",
      "/var/folders/7m/04ssj6n96q984_6wsnr60dg00000gn/T/ipykernel_17200/2464551167.py:8: SyntaxWarning: invalid escape sequence '\\d'\n",
      "  pattern = '\\d+'\n"
     ]
    }
   ],
   "source": [
    "# Example 1: re.findall()\n",
    "\n",
    "# Program to extract numbers from a string\n",
    "\n",
    "import re\n",
    "\n",
    "string = 'hello 12 hi 89. Howdy 34'\n",
    "pattern = '\\d+'\n",
    "\n",
    "result = re.findall(pattern, string) \n",
    "print(result)\n",
    "\n",
    "# Output: ['12', '89', '34']"
   ]
  },
  {
   "cell_type": "markdown",
   "metadata": {},
   "source": [
    "If the pattern is not found, **`re.findall()`** returns an empty list."
   ]
  },
  {
   "cell_type": "code",
   "execution_count": 14,
   "metadata": {},
   "outputs": [
    {
     "name": "stdout",
     "output_type": "stream",
     "text": [
      "['language', 'language']\n"
     ]
    }
   ],
   "source": [
    "# Example 2: re.findall()\n",
    "\n",
    "txt = '''Python is the most beautiful language that a human being has ever created.\n",
    "I recommend python for a first programming language'''\n",
    "\n",
    "# It return a list\n",
    "matches = re.findall('language', txt, re.I)\n",
    "print(matches)  # ['language', 'language']"
   ]
  },
  {
   "cell_type": "markdown",
   "metadata": {},
   "source": [
    "As you can see, the word **`language`** was found two times in the string. Let us practice some more.\n",
    "Now we will look for both **`Python`** and **`python`** words in the string:"
   ]
  },
  {
   "cell_type": "code",
   "execution_count": 15,
   "metadata": {},
   "outputs": [
    {
     "name": "stdout",
     "output_type": "stream",
     "text": [
      "['Python', 'python']\n"
     ]
    }
   ],
   "source": [
    "# Example 3: re.findall()\n",
    "\n",
    "txt = '''Python is the most beautiful language that a human being has ever created.\n",
    "I recommend python for a first programming language'''\n",
    "\n",
    "# It returns list\n",
    "matches = re.findall('python', txt, re.I)\n",
    "print(matches)  # ['Python', 'python']"
   ]
  },
  {
   "cell_type": "markdown",
   "metadata": {},
   "source": [
    "Since we are using **`re.I`** both lowercase and uppercase letters are included. If we do not have the **`re.I`** flag, then we will have to write our pattern differently. Let us check it out:"
   ]
  },
  {
   "cell_type": "code",
   "execution_count": 16,
   "metadata": {},
   "outputs": [
    {
     "name": "stdout",
     "output_type": "stream",
     "text": [
      "['Python', 'python']\n",
      "['Python', 'python']\n"
     ]
    }
   ],
   "source": [
    "# Example 4: re.findall()\n",
    "\n",
    "txt = '''Python is the most beautiful language that a human being has ever created.\n",
    "I recommend python for a first programming language'''\n",
    "\n",
    "matches = re.findall('Python|python', txt)\n",
    "print(matches)  # ['Python', 'python']\n",
    "\n",
    "matches = re.findall('[Pp]ython', txt)\n",
    "print(matches)  # ['Python', 'python']"
   ]
  },
  {
   "cell_type": "markdown",
   "metadata": {},
   "source": [
    "#### `re.split()`\n",
    "\n",
    "The **`re.split`** method splits the string where there is a match and returns a list of strings where the splits have occurred."
   ]
  },
  {
   "cell_type": "code",
   "execution_count": 17,
   "metadata": {},
   "outputs": [
    {
     "name": "stdout",
     "output_type": "stream",
     "text": [
      "['I am teacher and  I love teaching.', 'There is nothing as rewarding as educating and empowering people.', 'I found teaching more interesting than any other jobs.', 'Does this motivate you to be a teacher?']\n"
     ]
    }
   ],
   "source": [
    "# Example 1: re.split()\n",
    "\n",
    "txt = '''I am teacher and  I love teaching.\n",
    "There is nothing as rewarding as educating and empowering people.\n",
    "I found teaching more interesting than any other jobs.\n",
    "Does this motivate you to be a teacher?'''\n",
    "print(re.split('\\n', txt)) # splitting using \\n - end of line symbol"
   ]
  },
  {
   "cell_type": "code",
   "execution_count": 48,
   "metadata": {},
   "outputs": [
    {
     "name": "stdout",
     "output_type": "stream",
     "text": [
      "['Twelve:', ' Eighty nine:', '.']\n"
     ]
    }
   ],
   "source": [
    "# Example 2: re.split()\n",
    "\n",
    "import re\n",
    "\n",
    "string = 'Twelve:12 Eighty nine:89.'\n",
    "pattern = r'\\d+'\n",
    "\n",
    "result = re.split(pattern, string) \n",
    "print(result)\n",
    "\n",
    "# Output: ['Twelve:', ' Eighty nine:', '.']"
   ]
  },
  {
   "cell_type": "markdown",
   "metadata": {},
   "source": [
    "If the pattern is not found, **`re.split`** returns a list containing the original string."
   ]
  },
  {
   "cell_type": "markdown",
   "metadata": {},
   "source": [
    "You can pass **`maxsplit`** argument to the **`re.split`** method. It's the maximum number of splits that will occur."
   ]
  },
  {
   "cell_type": "code",
   "execution_count": 49,
   "metadata": {},
   "outputs": [
    {
     "name": "stdout",
     "output_type": "stream",
     "text": [
      "['Twelve:', ' Eighty nine:89 Nine:9.']\n"
     ]
    }
   ],
   "source": [
    "# Example 3: re.split()\n",
    "\n",
    "import re\n",
    "\n",
    "string = 'Twelve:12 Eighty nine:89 Nine:9.'\n",
    "pattern = r'\\d+'\n",
    "\n",
    "# maxsplit = 1\n",
    "# split only at the first occurrence\n",
    "result = re.split(pattern, string, 1) \n",
    "print(result)\n",
    "\n",
    "# Output: ['Twelve:', ' Eighty nine:89 Nine:9.']"
   ]
  },
  {
   "cell_type": "markdown",
   "metadata": {},
   "source": [
    "By the way, the default value of **`maxsplit`** is 0; meaning all possible splits."
   ]
  },
  {
   "cell_type": "markdown",
   "metadata": {},
   "source": [
    "#### `re.sub()`\n",
    "\n",
    "**Syntax:**\n",
    "\n",
    "```python\n",
    "re.sub(pattern, replace, string)\n",
    "```\n",
    "\n",
    "The method returns a string where matched occurrences are replaced with the content of **`replace`** variable."
   ]
  },
  {
   "cell_type": "code",
   "execution_count": 50,
   "metadata": {},
   "outputs": [
    {
     "name": "stdout",
     "output_type": "stream",
     "text": [
      "abc12de23f456\n"
     ]
    }
   ],
   "source": [
    "# Example 1: re.sub()\n",
    "\n",
    "# Program to remove all whitespaces\n",
    "import re\n",
    "\n",
    "# multiline string\n",
    "string = 'abc 12\\\n",
    "de 23 \\n f45 6'\n",
    "\n",
    "# matches all whitespace characters\n",
    "pattern = r'\\s+'\n",
    "\n",
    "# empty string\n",
    "replace = ''\n",
    "\n",
    "new_string = re.sub(pattern, replace, string) \n",
    "print(new_string)\n",
    "\n",
    "# Output: abc12de23f456"
   ]
  },
  {
   "cell_type": "markdown",
   "metadata": {},
   "source": [
    "If the pattern is not found, **`re.sub()`** returns the original string."
   ]
  },
  {
   "cell_type": "markdown",
   "metadata": {},
   "source": [
    "You can pass **`count`** as a fourth parameter to the **`re.sub()`** method. If omited, it results to 0. This will replace all occurrences."
   ]
  },
  {
   "cell_type": "code",
   "execution_count": 51,
   "metadata": {},
   "outputs": [
    {
     "name": "stdout",
     "output_type": "stream",
     "text": [
      "abc12de 23 \n",
      " f45 6\n"
     ]
    }
   ],
   "source": [
    "# Example 2: re.sub()\n",
    "\n",
    "import re\n",
    "\n",
    "# multiline string\n",
    "string = 'abc 12\\\n",
    "de 23 \\n f45 6'\n",
    "\n",
    "# matches all whitespace characters\n",
    "pattern = r'\\s+'\n",
    "replace = ''\n",
    "\n",
    "new_string = re.sub(r'\\s+', replace, string, 1) \n",
    "print(new_string)\n",
    "\n",
    "# Output:\n",
    "# abc12de 23\n",
    "# f45 6"
   ]
  },
  {
   "cell_type": "code",
   "execution_count": 53,
   "metadata": {},
   "outputs": [
    {
     "name": "stdout",
     "output_type": "stream",
     "text": [
      "JavaScript is the most beautiful language that a human being has ever created.\n",
      "I recommend JavaScript for a first programming language\n",
      "JavaScript is the most beautiful language that a human being has ever created.\n",
      "I recommend JavaScript for a first programming language\n"
     ]
    }
   ],
   "source": [
    "# Example 3: re.sub()\n",
    "\n",
    "txt = '''Python is the most beautiful language that a human being has ever created.\n",
    "I recommend python for a first programming language'''\n",
    "\n",
    "match_replaced = re.sub('Python|python', 'JavaScript', txt, re.I)\n",
    "print(match_replaced)  # JavaScript is the most beautiful language that a human being has ever created.\n",
    "# OR\n",
    "match_replaced = re.sub('[Pp]ython', 'JavaScript', txt, re.I)\n",
    "print(match_replaced)  # JavaScript is the most beautiful language that a human being has ever created.\n"
   ]
  },
  {
   "cell_type": "markdown",
   "metadata": {},
   "source": [
    "Let us add one more example. The following string is really hard to read unless we remove the **`%`** symbol. Replacing the **`%`** with an empty string will clean the text."
   ]
  },
  {
   "cell_type": "code",
   "execution_count": 23,
   "metadata": {},
   "outputs": [
    {
     "name": "stdout",
     "output_type": "stream",
     "text": [
      "I am teacher and  I love teaching. \n",
      "There is nothing as rewarding as educating and empowering people.\n",
      "I found teaching more interesting than any other jobs. \n",
      "Does this motivate you to be a teacher?\n"
     ]
    }
   ],
   "source": [
    "# Example 4: re.sub()\n",
    "\n",
    "txt = '''%I a%m te%%a%%che%r% a%n%d %% I l%o%ve te%ach%ing. \n",
    "T%he%re i%s n%o%th%ing as r%ewarding a%s e%duc%at%i%ng a%n%d e%m%p%ow%er%ing p%e%o%ple.\n",
    "I fo%und te%a%ching m%ore i%n%t%er%%es%ting t%h%an any other %jobs. \n",
    "D%o%es thi%s m%ot%iv%a%te %y%o%u to b%e a t%e%a%cher?'''\n",
    "\n",
    "matches = re.sub('%', '', txt)\n",
    "print(matches)"
   ]
  },
  {
   "cell_type": "markdown",
   "metadata": {},
   "source": [
    "#### `re.subn()`\n",
    "\n",
    "The **`re.subn()`** is similar to **`re.sub()`** expect it returns a tuple of 2 items containing the new string and the number of substitutions made."
   ]
  },
  {
   "cell_type": "code",
   "execution_count": 54,
   "metadata": {},
   "outputs": [
    {
     "name": "stdout",
     "output_type": "stream",
     "text": [
      "('abc12de23f456', 4)\n"
     ]
    }
   ],
   "source": [
    "# Example 1: re.subn()\n",
    "\n",
    "# Program to remove all whitespaces\n",
    "import re\n",
    "\n",
    "# multiline string\n",
    "string = 'abc 12\\\n",
    "de 23 \\n f45 6'\n",
    "\n",
    "# matches all whitespace characters\n",
    "pattern = r'\\s+'\n",
    "\n",
    "# empty string\n",
    "replace = ''\n",
    "\n",
    "new_string = re.subn(pattern, replace, string) \n",
    "print(new_string)\n",
    "\n",
    "# Output: ('abc12de23f456', 4)"
   ]
  },
  {
   "cell_type": "markdown",
   "metadata": {},
   "source": [
    "#### `re.search()`\n",
    "\n",
    "The **`re.search()`** method takes two arguments: a pattern and a string. The method looks for the first location where the RegEx pattern produces a match with the string.\n",
    "\n",
    "If the search is successful, **`re.search()`** returns a match object; if not, it returns **`None`**.\n",
    "\n",
    "```python\n",
    "match = re.search(pattern, str)\n",
    "```"
   ]
  },
  {
   "cell_type": "code",
   "execution_count": 55,
   "metadata": {},
   "outputs": [
    {
     "name": "stdout",
     "output_type": "stream",
     "text": [
      "pattern found inside the string\n"
     ]
    }
   ],
   "source": [
    "# Example 1: re.search()\n",
    "\n",
    "import re\n",
    "\n",
    "string = \"Python is fun\"\n",
    "\n",
    "# check if 'Python' is at the beginning\n",
    "match = re.search(r'\\APython', string)\n",
    "\n",
    "if match:\n",
    "    print(\"pattern found inside the string\")\n",
    "else:\n",
    "    print(\"pattern not found\")  \n",
    "\n",
    "# Output: pattern found inside the string"
   ]
  },
  {
   "cell_type": "markdown",
   "metadata": {},
   "source": [
    "Here, **`match`** contains a match object."
   ]
  },
  {
   "cell_type": "code",
   "execution_count": 26,
   "metadata": {},
   "outputs": [
    {
     "name": "stdout",
     "output_type": "stream",
     "text": [
      "<re.Match object; span=(100, 105), match='first'>\n",
      "(100, 105)\n",
      "100 105\n",
      "first\n"
     ]
    }
   ],
   "source": [
    "# Example 2: re.search()\n",
    "\n",
    "import re\n",
    "\n",
    "txt = '''Python is the most beautiful language that a human being has ever created.\n",
    "I recommend python for a first programming language'''\n",
    "\n",
    "# It returns an object with span and match\n",
    "match = re.search('first', txt, re.I)\n",
    "print(match)  # <re.Match object; span=(100, 105), match='first'>\n",
    "# We can get the starting and ending position of the match as tuple using span\n",
    "span = match.span()\n",
    "print(span)     # (100, 105)\n",
    "# Lets find the start and stop position from the span\n",
    "start, end = span\n",
    "print(start, end)  # 100 105\n",
    "substring = txt[start:end]\n",
    "print(substring)       # first"
   ]
  },
  {
   "cell_type": "markdown",
   "metadata": {},
   "source": [
    "### Match object\n",
    "\n",
    "You can get methods and attributes of a match object using **dir()** function.\n",
    "\n",
    "Some of the commonly used methods and attributes of match objects are:"
   ]
  },
  {
   "cell_type": "code",
   "execution_count": 27,
   "metadata": {},
   "outputs": [
    {
     "name": "stdout",
     "output_type": "stream",
     "text": [
      "<re.Match object; span=(0, 15), match='I love to teach'>\n",
      "(0, 15)\n",
      "0 15\n",
      "I love to teach\n"
     ]
    }
   ],
   "source": [
    "import re\n",
    "\n",
    "txt = 'I love to teach python and javaScript'\n",
    "# It returns an object with span, and match\n",
    "match = re.match('I love to teach', txt, re.I)\n",
    "print(match)  # <re.Match object; span=(0, 15), match='I love to teach'>\n",
    "# We can get the starting and ending position of the match as tuple using span\n",
    "span = match.span()\n",
    "print(span)     # (0, 15)\n",
    "# Lets find the start and stop position from the span\n",
    "start, end = span\n",
    "print(start, end)  # 0, 15\n",
    "substring = txt[start:end]\n",
    "print(substring)       # I love to teach"
   ]
  },
  {
   "cell_type": "markdown",
   "metadata": {},
   "source": [
    "As you can see from the example above, the pattern we are looking for (or the substring we are looking for) is **`I love to teach`**. The match function returns an object **only** if the text starts with the pattern."
   ]
  },
  {
   "cell_type": "code",
   "execution_count": 28,
   "metadata": {},
   "outputs": [
    {
     "name": "stdout",
     "output_type": "stream",
     "text": [
      "None\n"
     ]
    }
   ],
   "source": [
    "import re\n",
    "\n",
    "txt = 'I love to teach python and javaScript'\n",
    "match = re.match('I like to teach', txt, re.I)\n",
    "print(match)  # None"
   ]
  },
  {
   "cell_type": "markdown",
   "metadata": {},
   "source": [
    "The string does not string with **`I like to teach`**, therefore there was no match and the match method returned **`None`**."
   ]
  },
  {
   "cell_type": "markdown",
   "metadata": {},
   "source": [
    "#### `match.group()`\n",
    "\n",
    "The **`group()`** method returns the part of the string where there is a match."
   ]
  },
  {
   "cell_type": "code",
   "execution_count": 56,
   "metadata": {},
   "outputs": [
    {
     "name": "stdout",
     "output_type": "stream",
     "text": [
      "801 35\n"
     ]
    }
   ],
   "source": [
    "# Example 6: Match object\n",
    "\n",
    "import re\n",
    "\n",
    "string = '39801 356, 2102 1111'\n",
    "\n",
    "# Three digit number followed by space followed by two digit number\n",
    "pattern = r'(\\d{3}) (\\d{2})'\n",
    "\n",
    "# match variable contains a Match object.\n",
    "match = re.search(pattern, string) \n",
    "\n",
    "if match:\n",
    "    print(match.group())\n",
    "else:\n",
    "    print(\"pattern not found\")\n",
    "\n",
    "# Output: 801 35"
   ]
  },
  {
   "cell_type": "markdown",
   "metadata": {},
   "source": [
    "Here, match variable contains a match object.\n",
    "\n",
    "Our pattern **`(\\d{3}) (\\d{2})`** has two subgroups **`(\\d{3})`** and **`(\\d{2})`**. You can get the part of the string of these parenthesized subgroups. Here's how:"
   ]
  },
  {
   "cell_type": "code",
   "execution_count": 30,
   "metadata": {},
   "outputs": [
    {
     "data": {
      "text/plain": [
       "'801'"
      ]
     },
     "execution_count": 30,
     "metadata": {},
     "output_type": "execute_result"
    }
   ],
   "source": [
    "match.group(1)"
   ]
  },
  {
   "cell_type": "code",
   "execution_count": 31,
   "metadata": {},
   "outputs": [
    {
     "data": {
      "text/plain": [
       "'35'"
      ]
     },
     "execution_count": 31,
     "metadata": {},
     "output_type": "execute_result"
    }
   ],
   "source": [
    "match.group(2)"
   ]
  },
  {
   "cell_type": "code",
   "execution_count": 32,
   "metadata": {},
   "outputs": [
    {
     "data": {
      "text/plain": [
       "('801', '35')"
      ]
     },
     "execution_count": 32,
     "metadata": {},
     "output_type": "execute_result"
    }
   ],
   "source": [
    "match.group(1, 2)"
   ]
  },
  {
   "cell_type": "code",
   "execution_count": 33,
   "metadata": {},
   "outputs": [
    {
     "data": {
      "text/plain": [
       "('801', '35')"
      ]
     },
     "execution_count": 33,
     "metadata": {},
     "output_type": "execute_result"
    }
   ],
   "source": [
    "match.groups()"
   ]
  },
  {
   "cell_type": "markdown",
   "metadata": {},
   "source": [
    "#### `match.start(), match.end() and match.span()`\n",
    "\n",
    "The **`start()`** function returns the index of the start of the matched substring. Similarly, **`end()`** returns the end index of the matched substring."
   ]
  },
  {
   "cell_type": "code",
   "execution_count": 34,
   "metadata": {},
   "outputs": [
    {
     "data": {
      "text/plain": [
       "2"
      ]
     },
     "execution_count": 34,
     "metadata": {},
     "output_type": "execute_result"
    }
   ],
   "source": [
    "match.start()"
   ]
  },
  {
   "cell_type": "code",
   "execution_count": 35,
   "metadata": {},
   "outputs": [
    {
     "data": {
      "text/plain": [
       "8"
      ]
     },
     "execution_count": 35,
     "metadata": {},
     "output_type": "execute_result"
    }
   ],
   "source": [
    "match.end()"
   ]
  },
  {
   "cell_type": "markdown",
   "metadata": {},
   "source": [
    "The **`span()`** function returns a tuple containing start and end index of the matched part."
   ]
  },
  {
   "cell_type": "code",
   "execution_count": 36,
   "metadata": {},
   "outputs": [
    {
     "data": {
      "text/plain": [
       "(2, 8)"
      ]
     },
     "execution_count": 36,
     "metadata": {},
     "output_type": "execute_result"
    }
   ],
   "source": [
    "match.span()"
   ]
  },
  {
   "cell_type": "markdown",
   "metadata": {},
   "source": [
    "#### `match.re and match.string`\n",
    "\n",
    "The **`re`** attribute of a matched object returns a regular expression object. Similarly, **`string`** attribute returns the passed string."
   ]
  },
  {
   "cell_type": "code",
   "execution_count": 37,
   "metadata": {},
   "outputs": [
    {
     "data": {
      "text/plain": [
       "re.compile(r'(\\d{3}) (\\d{2})', re.UNICODE)"
      ]
     },
     "execution_count": 37,
     "metadata": {},
     "output_type": "execute_result"
    }
   ],
   "source": [
    "match.re"
   ]
  },
  {
   "cell_type": "code",
   "execution_count": 38,
   "metadata": {},
   "outputs": [
    {
     "data": {
      "text/plain": [
       "'39801 356, 2102 1111'"
      ]
     },
     "execution_count": 38,
     "metadata": {},
     "output_type": "execute_result"
    }
   ],
   "source": [
    "match.string"
   ]
  },
  {
   "cell_type": "markdown",
   "metadata": {},
   "source": [
    "We have covered all commonly used methods defined in the **`re`** module.\n",
    "\n",
    "If you want to learn more, visit **[Python 3 re module](https://docs.python.org/3/library/re.html)**."
   ]
  },
  {
   "cell_type": "markdown",
   "metadata": {},
   "source": [
    "### Using `r` prefix before RegEx\n",
    "\n",
    "When **`r`** or **`R`** prefix is used before a regular expression, it means raw string. For example, **`'\\n'`** is a new line whereas **`r'\\n'`** means two characters: a backslash **`\\`** followed by **`n`**.\n",
    "\n",
    "Backlash **`\\`** is used to escape various characters including all metacharacters. However, using **`r`** prefix makes **`\\`** treat as a normal character."
   ]
  },
  {
   "cell_type": "code",
   "execution_count": 39,
   "metadata": {},
   "outputs": [
    {
     "name": "stdout",
     "output_type": "stream",
     "text": [
      "['\\n', '\\r']\n"
     ]
    }
   ],
   "source": [
    "# Example 7: Raw string using r prefix\n",
    "\n",
    "import re\n",
    "\n",
    "string = '\\n and \\r are escape sequences.'\n",
    "\n",
    "result = re.findall(r'[\\n\\r]', string) \n",
    "print(result)\n",
    "\n",
    "# Output: ['\\n', '\\r']"
   ]
  },
  {
   "cell_type": "markdown",
   "metadata": {},
   "source": [
    "### Example of RegEx with Metacharacters\n",
    "\n",
    "Let us use examples to clarify the meta characters with RegEx methods:"
   ]
  },
  {
   "cell_type": "markdown",
   "metadata": {},
   "source": [
    "#### Square Brackets `[]`\n",
    "\n",
    "Let us use square bracket to include lower and upper case"
   ]
  },
  {
   "cell_type": "code",
   "execution_count": 40,
   "metadata": {},
   "outputs": [
    {
     "name": "stdout",
     "output_type": "stream",
     "text": [
      "['Apple', 'apple']\n"
     ]
    }
   ],
   "source": [
    "# Example 1:\n",
    "\n",
    "regex_pattern = r'[Aa]pple' # this square bracket mean either A or a\n",
    "txt = 'Apple and banana are fruits. An old cliche says an apple a day a doctor way has been replaced by a banana a day keeps the doctor far far away.'\n",
    "matches = re.findall(regex_pattern, txt)\n",
    "print(matches)  # ['Apple', 'apple']"
   ]
  },
  {
   "cell_type": "markdown",
   "metadata": {},
   "source": [
    "If we want to look for the both apple and banana, we write the pattern as follows:"
   ]
  },
  {
   "cell_type": "code",
   "execution_count": 41,
   "metadata": {},
   "outputs": [
    {
     "name": "stdout",
     "output_type": "stream",
     "text": [
      "['Apple', 'banana', 'apple', 'banana']\n"
     ]
    }
   ],
   "source": [
    "# Example 2:\n",
    "\n",
    "regex_pattern = r'[Aa]pple|[Bb]anana' # this square bracket means either A or a\n",
    "txt = 'Apple and banana are fruits. An old cliche says an apple a day a doctor way has been replaced by a banana a day keeps the doctor far far away.'\n",
    "matches = re.findall(regex_pattern, txt)\n",
    "print(matches)  # ['Apple', 'banana', 'apple', 'banana']"
   ]
  },
  {
   "cell_type": "markdown",
   "metadata": {},
   "source": [
    "Using the square brackets **`[]`** and or operator **`|`** , we manage to extract Apple, apple, Banana"
   ]
  },
  {
   "cell_type": "markdown",
   "metadata": {},
   "source": [
    "#### Escape character `\\`"
   ]
  },
  {
   "cell_type": "code",
   "execution_count": 42,
   "metadata": {},
   "outputs": [
    {
     "name": "stdout",
     "output_type": "stream",
     "text": [
      "['8', '1', '9', '4', '2', '1', '4', '2', '0', '1', '8', '7', '6']\n"
     ]
    }
   ],
   "source": [
    "# Example 1:\n",
    "\n",
    "regex_pattern = r'\\d'  # d is a special character which means digits\n",
    "txt = \"Hawking born on 8 January 1942 and died on 14 March 2018 Einstein's birth anniversary (Pi-Day) and both died at 76\"\n",
    "matches = re.findall(regex_pattern, txt)\n",
    "print(matches)  # ['8', '1', '9', '4', '2', '1', '4', '2', '0', '1', '8', '7', '6'] - this is not what we want"
   ]
  },
  {
   "cell_type": "markdown",
   "metadata": {},
   "source": [
    "#### One or more times `+`"
   ]
  },
  {
   "cell_type": "code",
   "execution_count": 43,
   "metadata": {},
   "outputs": [
    {
     "name": "stdout",
     "output_type": "stream",
     "text": [
      "['8', '1942', '14', '2018', '76']\n"
     ]
    }
   ],
   "source": [
    "# Example 1:\n",
    "\n",
    "regex_pattern = r'\\d+'  # d is a special character which means digits, + mean one or more times\n",
    "txt = \"Hawking born on 8 January 1942 and died on 14 March 2018 Einstein's birth anniversary (Pi-Day) and both died at 76\"\n",
    "matches = re.findall(regex_pattern, txt)\n",
    "print(matches)  # ['8', '1942', '14', '2018', '76'] - this is better!"
   ]
  },
  {
   "cell_type": "markdown",
   "metadata": {},
   "source": [
    "#### Period `.`"
   ]
  },
  {
   "cell_type": "code",
   "execution_count": 44,
   "metadata": {},
   "outputs": [
    {
     "name": "stdout",
     "output_type": "stream",
     "text": [
      "['an', 'an', 'an', 'a ', 'ar']\n"
     ]
    }
   ],
   "source": [
    "# Example 1:\n",
    "\n",
    "regex_pattern = r'[a].'  # this square bracket means a and . means any character except new line\n",
    "txt = '''Apple and Banana are fruits'''\n",
    "matches = re.findall(regex_pattern, txt)\n",
    "print(matches)  # ['an', 'an', 'an', 'a ', 'ar']"
   ]
  },
  {
   "cell_type": "code",
   "execution_count": 45,
   "metadata": {},
   "outputs": [
    {
     "name": "stdout",
     "output_type": "stream",
     "text": [
      "['and Banana are fruits']\n"
     ]
    }
   ],
   "source": [
    "# Example 2: [] with +\n",
    "\n",
    "regex_pattern = r'[a].+'  # . any character, + any character one or more times \n",
    "matches = re.findall(regex_pattern, txt)\n",
    "print(matches)  # ['and Banana are fruits']"
   ]
  },
  {
   "cell_type": "markdown",
   "metadata": {},
   "source": [
    "#### Zero or more times `*`"
   ]
  },
  {
   "cell_type": "code",
   "execution_count": 46,
   "metadata": {},
   "outputs": [
    {
     "name": "stdout",
     "output_type": "stream",
     "text": [
      "['and Banana are fruits']\n"
     ]
    }
   ],
   "source": [
    "# Example 1:\n",
    "\n",
    "regex_pattern = r'[a].*'  # . any character, * any character zero or more times \n",
    "txt = '''Apple and Banana are fruits'''\n",
    "matches = re.findall(regex_pattern, txt)\n",
    "print(matches)  # ['and Banana are fruits']"
   ]
  },
  {
   "cell_type": "markdown",
   "metadata": {},
   "source": [
    "#### Zero or one time `?`\n",
    "\n",
    "Zero or one time. The pattern may not occur or it may occur once."
   ]
  },
  {
   "cell_type": "code",
   "execution_count": 47,
   "metadata": {},
   "outputs": [
    {
     "name": "stdout",
     "output_type": "stream",
     "text": [
      "['e-mail', 'email', 'Email', 'E-mail']\n"
     ]
    }
   ],
   "source": [
    "# Example 1:\n",
    "\n",
    "txt = '''I am not sure if there is a convention how to write the word e-mail.\n",
    "Some people write it as email others may write it as Email or E-mail.'''\n",
    "regex_pattern = r'[Ee]-?mail'  # ? means here that '-' is optional\n",
    "matches = re.findall(regex_pattern, txt)\n",
    "print(matches)  # ['e-mail', 'email', 'Email', 'E-mail']"
   ]
  },
  {
   "cell_type": "markdown",
   "metadata": {},
   "source": [
    "#### Quantifier `{}`\n",
    "\n",
    "We can specify the length of the substring we are looking for in a text, using a curly brackets **`{}`**. Let us imagine, we are interested in a substring with a length of 4 characters:"
   ]
  },
  {
   "cell_type": "code",
   "execution_count": null,
   "metadata": {},
   "outputs": [
    {
     "name": "stdout",
     "output_type": "stream",
     "text": [
      "['1942', '2018']\n"
     ]
    }
   ],
   "source": [
    "# Example 1:\n",
    "\n",
    "txt = \"Hawking born on 8 January 1942 and died on 14 March 2018 Einstein's birth anniversary (Pi-Day) and both died at 76\"\n",
    "regex_pattern = r'\\d{4}'  # exactly four times\n",
    "matches = re.findall(regex_pattern, txt)\n",
    "print(matches)  # ['1942', '2018']"
   ]
  },
  {
   "cell_type": "code",
   "execution_count": null,
   "metadata": {},
   "outputs": [
    {
     "name": "stdout",
     "output_type": "stream",
     "text": [
      "['8', '1942', '14', '2018', '76']\n"
     ]
    }
   ],
   "source": [
    "# Example 2:\n",
    "\n",
    "txt = \"Hawking born on 8 January 1942 and died on 14 March 2018 Einstein's birth anniversary (Pi-Day) and both died at 76\"\n",
    "regex_pattern = r'\\d{1,4}'   # 1 to 4\n",
    "matches = re.findall(regex_pattern, txt)\n",
    "print(matches)  # ['8', '1942', '76', '14', '2018', '76']"
   ]
  },
  {
   "cell_type": "markdown",
   "metadata": {},
   "source": [
    "#### Cart `^`"
   ]
  },
  {
   "cell_type": "code",
   "execution_count": null,
   "metadata": {},
   "outputs": [
    {
     "name": "stdout",
     "output_type": "stream",
     "text": [
      "['Hawking']\n"
     ]
    }
   ],
   "source": [
    "# Example 1: Starts with\n",
    "\n",
    "txt = \"Hawking born on 8 January 1942 and died on 14 March 2018 Einstein's birth anniversary (Pi-Day) and both died at 76\"\n",
    "regex_pattern = r'^Hawking'  # ^ means starts with\n",
    "matches = re.findall(regex_pattern, txt)\n",
    "print(matches)  # ['Hawking']"
   ]
  },
  {
   "cell_type": "code",
   "execution_count": null,
   "metadata": {},
   "outputs": [
    {
     "name": "stdout",
     "output_type": "stream",
     "text": [
      "['8', '1942', '14', '2018', \"'\", '(', '-', ')', '76']\n"
     ]
    }
   ],
   "source": [
    "# Example 2: Negation\n",
    "\n",
    "txt = \"Hawking born on 8 January 1942 and died on 14 March 2018 Einstein's birth anniversary (Pi-Day) and both died at 76\"\n",
    "regex_pattern = r'[^A-Za-z ]+'  # ^ in set character means negation, not A to Z, not a to z, no space\n",
    "matches = re.findall(regex_pattern, txt)\n",
    "print(matches)  # ['8', '1942', '14', '2018', \"'\", '(', '-', ')', '76']"
   ]
  },
  {
   "cell_type": "markdown",
   "metadata": {},
   "source": [
    "##  __`*args`__ and __`**kwargs`__\n",
    "\n",
    "____\n"
   ]
  },
  {
   "cell_type": "markdown",
   "metadata": {},
   "source": [
    "In programming, we define a function to make a reusable code that performs similar operation. To perform that operation, we call a function with the specific value, this value is called a function argument in Python.\n",
    "\n",
    "Suppose, we define a function for addition of 3 numbers."
   ]
  },
  {
   "cell_type": "code",
   "execution_count": null,
   "metadata": {},
   "outputs": [
    {
     "name": "stdout",
     "output_type": "stream",
     "text": [
      "sum: 46\n"
     ]
    }
   ],
   "source": [
    "# Example 1: Function to add 3 numbers\n",
    "\n",
    "def adder(x,y,z):\n",
    "    print(\"sum:\",x+y+z)\n",
    "\n",
    "adder(12,15,19)"
   ]
  },
  {
   "cell_type": "markdown",
   "metadata": {},
   "source": [
    "Lets see what happens when we pass more than 3 arguments in the **`adder()`**  function."
   ]
  },
  {
   "cell_type": "code",
   "execution_count": null,
   "metadata": {},
   "outputs": [
    {
     "ename": "TypeError",
     "evalue": "adder() takes 3 positional arguments but 5 were given",
     "output_type": "error",
     "traceback": [
      "\u001b[1;31m---------------------------------------------------------------------------\u001b[0m\n",
      "\u001b[1;31mTypeError\u001b[0m                                 Traceback (most recent call last)\n",
      "\u001b[1;32m<ipython-input-2-986e6d871071>\u001b[0m in \u001b[0;36m<module>\u001b[1;34m\u001b[0m\n",
      "\u001b[0;32m      2\u001b[0m     \u001b[0mprint\u001b[0m\u001b[1;33m(\u001b[0m\u001b[1;34m\"sum:\"\u001b[0m\u001b[1;33m,\u001b[0m\u001b[0mx\u001b[0m\u001b[1;33m+\u001b[0m\u001b[0my\u001b[0m\u001b[1;33m+\u001b[0m\u001b[0mz\u001b[0m\u001b[1;33m)\u001b[0m\u001b[1;33m\u001b[0m\u001b[1;33m\u001b[0m\u001b[0m\n",
      "\u001b[0;32m      3\u001b[0m \u001b[1;33m\u001b[0m\u001b[0m\n",
      "\u001b[1;32m----> 4\u001b[1;33m \u001b[0madder\u001b[0m\u001b[1;33m(\u001b[0m\u001b[1;36m5\u001b[0m\u001b[1;33m,\u001b[0m\u001b[1;36m10\u001b[0m\u001b[1;33m,\u001b[0m\u001b[1;36m15\u001b[0m\u001b[1;33m,\u001b[0m\u001b[1;36m20\u001b[0m\u001b[1;33m,\u001b[0m\u001b[1;36m25\u001b[0m\u001b[1;33m)\u001b[0m\u001b[1;33m\u001b[0m\u001b[1;33m\u001b[0m\u001b[0m\n",
      "\u001b[0m\n",
      "\u001b[1;31mTypeError\u001b[0m: adder() takes 3 positional arguments but 5 were given"
     ]
    }
   ],
   "source": [
    "def adder(x,y,z):\n",
    "    print(\"sum:\",x+y+z)\n",
    "\n",
    "adder(5,10,15,20,25)"
   ]
  },
  {
   "cell_type": "markdown",
   "metadata": {},
   "source": [
    "In the above program, we passed 5 arguments to the **`adder()`** function instead of 3 arguments due to which we got **`TypeError`**."
   ]
  },
  {
   "cell_type": "markdown",
   "metadata": {},
   "source": [
    "In Python, we can pass a variable number of arguments to a function using special symbols. There are two special symbols:\n",
    "\n",
    "* __`*args`__ (Non Keyword Arguments)\n",
    "* __`**kwargs`__ (Keyword Arguments)\n",
    "\n",
    "We use __`*args`__ and __`**kwargs`__ as an argument when we are unsure about the number of arguments to pass in the functions."
   ]
  },
  {
   "cell_type": "markdown",
   "metadata": {},
   "source": [
    "### __*args__\n",
    "\n",
    "As in the above example we are not sure about the number of arguments that can be passed to a function. Python has __`*args`__ which allow us to pass the variable number of **non keyword arguments** to function.\n",
    "\n",
    "👉 In the function, we should use an asterisk **`*`** before the parameter name to pass variable length arguments.\n",
    "\n",
    "👉 The arguments are passed as a tuple and these passed arguments make tuple inside the function with same name as the parameter excluding asterisk **`*`**."
   ]
  },
  {
   "cell_type": "code",
   "execution_count": null,
   "metadata": {},
   "outputs": [
    {
     "name": "stdout",
     "output_type": "stream",
     "text": [
      "Sum: 9\n",
      "Sum: 21\n",
      "Sum: 21\n"
     ]
    }
   ],
   "source": [
    "# Example 2: Using *args to pass the variable length arguments to the function\n",
    "\n",
    "def adder(*num):\n",
    "    sum = 0\n",
    "    \n",
    "    for n in num:\n",
    "        sum = sum + n\n",
    "\n",
    "    print(\"Sum:\",sum)\n",
    "\n",
    "adder(3,6)\n",
    "adder(3,5,6,7)\n",
    "adder(1,2,3,6,9)"
   ]
  },
  {
   "cell_type": "markdown",
   "metadata": {},
   "source": [
    "In the above program, we used __`*num`__ as a parameter which allows us to pass variable length argument list to the **`adder()`** function. "
   ]
  },
  {
   "cell_type": "markdown",
   "metadata": {},
   "source": [
    "### __`**kwargs`__\n",
    "\n",
    "👉 Python passes variable length non keyword argument to function using __`*args`__ but we cannot use this to pass keyword argument. \n",
    "\n",
    "👉 For this problem Python has got a solution called __`**kwargs`__, it allows us to pass the variable length of **keyword arguments** to the function.\n",
    "\n",
    "👉 In the function, we use the double asterisk __`**`__ before the parameter name to denote this type of argument."
   ]
  },
  {
   "cell_type": "code",
   "execution_count": null,
   "metadata": {},
   "outputs": [
    {
     "name": "stdout",
     "output_type": "stream",
     "text": [
      "\n",
      "Data type of argument: <class 'dict'>\n",
      "Firstname is Amy\n",
      "Lastname is Barn\n",
      "Age is 24\n",
      "Phone is 1234567890\n",
      "\n",
      "Data type of argument: <class 'dict'>\n",
      "Firstname is Arthur\n",
      "Lastname is Hunt\n",
      "Email is arthurhunt@yesmail.com\n",
      "Country is Atlantis\n",
      "Age is 27\n",
      "Phone is 9976563219\n"
     ]
    }
   ],
   "source": [
    "# Example 3: Using **kwargs to pass the variable keyword arguments to the function \n",
    "\n",
    "def intro(**data):\n",
    "    print(\"\\nData type of argument:\",type(data))\n",
    "\n",
    "    for key, value in data.items():\n",
    "        print(\"{} is {}\".format(key,value))\n",
    "\n",
    "intro(Firstname=\"Amy\", Lastname=\"Barn\", Age=24, Phone=1234567890)\n",
    "intro(Firstname=\"Arthur\", Lastname=\"Hunt\", Email=\"arthurhunt@yesmail.com\", Country=\"Atlantis\", Age=27, Phone=9976563219)"
   ]
  }
 ],
 "metadata": {
  "kernelspec": {
   "display_name": "ml-notes",
   "language": "python",
   "name": "python3"
  },
  "language_info": {
   "codemirror_mode": {
    "name": "ipython",
    "version": 3
   },
   "file_extension": ".py",
   "mimetype": "text/x-python",
   "name": "python",
   "nbconvert_exporter": "python",
   "pygments_lexer": "ipython3",
   "version": "3.12.3"
  }
 },
 "nbformat": 4,
 "nbformat_minor": 2
}
