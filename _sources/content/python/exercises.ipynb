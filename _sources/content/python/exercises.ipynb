{
 "cells": [
  {
   "cell_type": "markdown",
   "metadata": {},
   "source": [
    "# Python Exercises"
   ]
  },
  {
   "cell_type": "markdown",
   "metadata": {},
   "source": [
    "## Beginner\n",
    "___"
   ]
  },
  {
   "cell_type": "markdown",
   "metadata": {},
   "source": [
    "### Variables and Data Types"
   ]
  },
  {
   "cell_type": "markdown",
   "metadata": {},
   "source": [
    "#### Exercise 1: String Manipulation"
   ]
  },
  {
   "cell_type": "code",
   "execution_count": null,
   "metadata": {},
   "outputs": [],
   "source": [
    "# Create a variable 'name' with your name and 'age' with your age.\n",
    "# Then print a message: \"Hello, [name]! You are [age] years old.\"\n",
    "\n",
    "# Your code here\n",
    "\n",
    "# Assertions\n",
    "assert isinstance(name, str), \"name should be a string\"\n",
    "assert isinstance(age, int), \"age should be an integer\"\n",
    "assert f\"Hello, {name}! You are {age} years old.\" in globals()['__builtins__'].output"
   ]
  },
  {
   "cell_type": "markdown",
   "metadata": {},
   "source": [
    "<details>\n",
    "<summary>Solution</summary>\n",
    "\n",
    "```python\n",
    "name = \"Alice\"\n",
    "age = 25\n",
    "print(f\"Hello, {name}! You are {age} years old.\")\n",
    "```\n",
    "\n",
    "</details>"
   ]
  },
  {
   "cell_type": "markdown",
   "metadata": {},
   "source": [
    "#### Exercise 2: String Reversal"
   ]
  },
  {
   "cell_type": "code",
   "execution_count": null,
   "metadata": {},
   "outputs": [],
   "source": [
    "# Write a function 'reverse_string' that takes a string as input and returns the reversed string.\n",
    "\n",
    "# Your code here\n",
    "\n",
    "# Assertions\n",
    "assert reverse_string(\"hello\") == \"olleh\", \"String reversal is incorrect\"\n",
    "assert reverse_string(\"Python\") == \"nohtyP\", \"String reversal is incorrect\"\n",
    "assert reverse_string(\"\") == \"\", \"Should handle empty string\""
   ]
  },
  {
   "cell_type": "markdown",
   "metadata": {},
   "source": [
    "<details>\n",
    "<summary>Solution</summary>\n",
    "\n",
    "```python\n",
    "def reverse_string(s):\n",
    "    return s[::-1]\n",
    "```\n",
    "\n",
    "</details>"
   ]
  },
  {
   "cell_type": "markdown",
   "metadata": {},
   "source": [
    "#### Exercise 3: Palindrome Check"
   ]
  },
  {
   "cell_type": "code",
   "execution_count": null,
   "metadata": {},
   "outputs": [],
   "source": [
    "# Write a function 'is_palindrome' that takes a string as input and returns True if it's a palindrome, False otherwise.\n",
    "# Ignore spaces and consider the string case-insensitive.\n",
    "\n",
    "# Your code here\n",
    "\n",
    "# Assertions\n",
    "assert is_palindrome(\"A man a plan a canal Panama\") == True, \"Should be a palindrome\"\n",
    "assert is_palindrome(\"race a car\") == False, \"Should not be a palindrome\"\n",
    "assert is_palindrome(\"\") == True, \"Empty string should be considered a palindrome\""
   ]
  },
  {
   "cell_type": "markdown",
   "metadata": {},
   "source": [
    "<details>\n",
    "<summary>Solution</summary>\n",
    "\n",
    "```python\n",
    "def is_palindrome(s):\n",
    "    s = ''.join(char.lower() for char in s if char.isalnum())\n",
    "    return s == s[::-1]\n",
    "```\n",
    "\n",
    "</details>"
   ]
  },
  {
   "cell_type": "markdown",
   "metadata": {},
   "source": [
    "#### Exercise 4: Basic Arithmetic"
   ]
  },
  {
   "cell_type": "code",
   "execution_count": null,
   "metadata": {},
   "outputs": [],
   "source": [
    "# Calculate the area of a rectangle with length 7 and width 5.\n",
    "# Store the result in a variable called 'area'.\n",
    "\n",
    "# Your code here\n",
    "\n",
    "# Assertions\n",
    "assert isinstance(area, (int, float)), \"area should be a number\"\n",
    "assert area == 35, \"The area should be 35\""
   ]
  },
  {
   "cell_type": "markdown",
   "metadata": {},
   "source": [
    "<details>\n",
    "<summary>Solution</summary>\n",
    "\n",
    "```python\n",
    "length = 7\n",
    "width = 5\n",
    "area = length * width\n",
    "```\n",
    "\n",
    "</details>"
   ]
  },
  {
   "cell_type": "markdown",
   "metadata": {},
   "source": [
    "### Control Flow"
   ]
  },
  {
   "cell_type": "markdown",
   "metadata": {},
   "source": [
    "#### Exercise 5: If-Else Statement\n"
   ]
  },
  {
   "cell_type": "code",
   "execution_count": null,
   "metadata": {},
   "outputs": [],
   "source": [
    "# Write a function 'is_even' that takes a number as input and returns True if it's even, False otherwise.\n",
    "\n",
    "# Your code here\n",
    "\n",
    "# Assertions\n",
    "assert is_even(4) == True, \"4 should be even\"\n",
    "assert is_even(7) == False, \"7 should be odd\"\n",
    "assert is_even(0) == True, \"0 should be even\""
   ]
  },
  {
   "cell_type": "markdown",
   "metadata": {},
   "source": [
    "<details>\n",
    "<summary>Solution</summary>\n",
    "\n",
    "```python\n",
    "def is_even(number):\n",
    "    return number % 2 == 0\n",
    "```\n",
    "\n",
    "</details>"
   ]
  },
  {
   "cell_type": "markdown",
   "metadata": {},
   "source": [
    "#### Exercise 6: For Loop"
   ]
  },
  {
   "cell_type": "code",
   "execution_count": null,
   "metadata": {},
   "outputs": [],
   "source": [
    "# Create a list of numbers from 1 to 10 and use a for loop to sum all the numbers.\n",
    "# Store the result in a variable called 'total'.\n",
    "\n",
    "# Your code here\n",
    "\n",
    "# Assertions\n",
    "assert isinstance(total, int), \"total should be an integer\"\n",
    "assert total == 55, \"The sum of numbers from 1 to 10 should be 55\""
   ]
  },
  {
   "cell_type": "markdown",
   "metadata": {},
   "source": [
    "#### Exercise 7: FizzBuzz"
   ]
  },
  {
   "cell_type": "code",
   "execution_count": null,
   "metadata": {},
   "outputs": [],
   "source": [
    "# Implement the classic FizzBuzz problem. Write a function 'fizzbuzz' that takes a number n\n",
    "# and returns a list of strings for numbers from 1 to n:\n",
    "# - For multiples of 3, use \"Fizz\" instead of the number\n",
    "# - For multiples of 5, use \"Buzz\" instead of the number\n",
    "# - For multiples of both 3 and 5, use \"FizzBuzz\"\n",
    "# - For other numbers, use the number itself as a string\n",
    "\n",
    "# Your code here\n",
    "\n",
    "# Assertions\n",
    "assert fizzbuzz(15) == [\"1\", \"2\", \"Fizz\", \"4\", \"Buzz\", \"Fizz\", \"7\", \"8\", \"Fizz\", \"Buzz\", \"11\", \"Fizz\", \"13\", \"14\", \"FizzBuzz\"]\n",
    "assert fizzbuzz(5) == [\"1\", \"2\", \"Fizz\", \"4\", \"Buzz\"]\n",
    "assert fizzbuzz(3) == [\"1\", \"2\", \"Fizz\"]"
   ]
  },
  {
   "cell_type": "markdown",
   "metadata": {},
   "source": [
    "<details>\n",
    "<summary>Solution</summary>\n",
    "\n",
    "```python\n",
    "def fizzbuzz(n):\n",
    "    result = []\n",
    "    for i in range(1, n + 1):\n",
    "        if i % 3 == 0 and i % 5 == 0:\n",
    "            result.append(\"FizzBuzz\")\n",
    "        elif i % 3 == 0:\n",
    "            result.append(\"Fizz\")\n",
    "        elif i % 5 == 0:\n",
    "            result.append(\"Buzz\")\n",
    "        else:\n",
    "            result.append(str(i))\n",
    "    return result\n",
    "```\n",
    "\n",
    "</details>"
   ]
  },
  {
   "cell_type": "markdown",
   "metadata": {},
   "source": [
    "### Functions"
   ]
  },
  {
   "cell_type": "markdown",
   "metadata": {},
   "source": [
    "#### Exercise 8: Basic Function"
   ]
  },
  {
   "cell_type": "code",
   "execution_count": null,
   "metadata": {},
   "outputs": [],
   "source": [
    "# Write a function 'greet' that takes a name as input and returns a greeting message.\n",
    "# For example, greet(\"Alice\") should return \"Hello, Alice!\".\n",
    "\n",
    "# Your code here\n",
    "\n",
    "# Assertions\n",
    "assert greet(\"Bob\") == \"Hello, Bob!\", \"Greeting message is incorrect\"\n",
    "assert greet(\"\") == \"Hello, !\", \"Function should work with empty string\""
   ]
  },
  {
   "cell_type": "markdown",
   "metadata": {},
   "source": [
    "<details>\n",
    "<summary>Solution</summary>\n",
    "\n",
    "```python\n",
    "def greet(name):\n",
    "    return f\"Hello, {name}!\"\n",
    "```\n",
    "\n",
    "</details>"
   ]
  },
  {
   "cell_type": "markdown",
   "metadata": {},
   "source": [
    "### Lists"
   ]
  },
  {
   "cell_type": "markdown",
   "metadata": {},
   "source": [
    "#### Exercise 9: List Operations"
   ]
  },
  {
   "cell_type": "code",
   "execution_count": null,
   "metadata": {},
   "outputs": [],
   "source": [
    "# Create a list of fruits and perform the following operations:\n",
    "# 1. Add \"apple\" to the end of the list\n",
    "# 2. Insert \"banana\" at the beginning of the list\n",
    "# 3. Remove the second item from the list\n",
    "# Store the final list in a variable called 'fruits'.\n",
    "\n",
    "# Your code here\n",
    "\n",
    "# Assertions\n",
    "assert isinstance(fruits, list), \"fruits should be a list\"\n",
    "assert fruits[0] == \"banana\", \"First item should be 'banana'\"\n",
    "assert \"apple\" in fruits, \"'apple' should be in the list\"\n",
    "assert len(fruits) == len(set(fruits)), \"All items should be unique\""
   ]
  },
  {
   "cell_type": "markdown",
   "metadata": {},
   "source": [
    "<details>\n",
    "<summary>Solution</summary>\n",
    "\n",
    "```python\n",
    "fruits = [\"orange\", \"grape\", \"kiwi\"]\n",
    "fruits.append(\"apple\")\n",
    "fruits.insert(0, \"banana\")\n",
    "fruits.pop(1)\n",
    "```\n",
    "\n",
    "</details>"
   ]
  },
  {
   "cell_type": "markdown",
   "metadata": {},
   "source": [
    "#### Exercise 10: List Flattening"
   ]
  },
  {
   "cell_type": "code",
   "execution_count": null,
   "metadata": {},
   "outputs": [],
   "source": [
    "# Write a function 'flatten_list' that takes a list of lists and returns a flattened list.\n",
    "\n",
    "# Your code here\n",
    "\n",
    "# Assertions\n",
    "assert flatten_list([[1, 2], [3, 4]]) == [1, 2, 3, 4], \"List flattening is incorrect\"\n",
    "assert flatten_list([[1], [2], [3]]) == [1, 2, 3], \"List flattening is incorrect\"\n",
    "assert flatten_list([]) == [], \"Should handle empty list\""
   ]
  },
  {
   "cell_type": "markdown",
   "metadata": {},
   "source": [
    "<details>\n",
    "<summary>Solution</summary>\n",
    "\n",
    "```python\n",
    "def flatten_list(nested_list):\n",
    "    return [item for sublist in nested_list for item in sublist]\n",
    "```\n",
    "\n",
    "</details>"
   ]
  },
  {
   "cell_type": "markdown",
   "metadata": {},
   "source": [
    "#### Exercise 11: Tuple Unpacking"
   ]
  },
  {
   "cell_type": "code",
   "execution_count": null,
   "metadata": {},
   "outputs": [],
   "source": [
    "# Create a function 'swap_first_last' that takes a tuple as input and returns a new tuple\n",
    "# with the first and last elements swapped.\n",
    "\n",
    "# Your code here\n",
    "\n",
    "# Assertions\n",
    "assert swap_first_last((1, 2, 3, 4)) == (4, 2, 3, 1), \"Tuple swap is incorrect\"\n",
    "assert swap_first_last((1,)) == (1,), \"Should handle single-element tuple\"\n",
    "assert swap_first_last(()) == (), \"Should handle empty tuple\""
   ]
  },
  {
   "cell_type": "markdown",
   "metadata": {},
   "source": [
    "<details>\n",
    "<summary>Solution</summary>\n",
    "\n",
    "```python\n",
    "def swap_first_last(tup):\n",
    "    if len(tup) < 2:\n",
    "        return tup\n",
    "    return (tup[-1],) + tup[1:-1] + (tup[0],)\n",
    "```\n",
    "\n",
    "</details>"
   ]
  },
  {
   "cell_type": "markdown",
   "metadata": {},
   "source": [
    "### Dictionaries and Sets"
   ]
  },
  {
   "cell_type": "markdown",
   "metadata": {},
   "source": [
    "#### Exercise 12: Dictionary Merge"
   ]
  },
  {
   "cell_type": "code",
   "execution_count": null,
   "metadata": {},
   "outputs": [],
   "source": [
    "# Write a function 'merge_dicts' that takes two dictionaries as input and returns a new dictionary\n",
    "# containing all key-value pairs from both dictionaries. If a key exists in both dictionaries,\n",
    "# the value from the second dictionary should be used.\n",
    "\n",
    "# Your code here\n",
    "\n",
    "# Assertions\n",
    "dict1 = {'a': 1, 'b': 2}\n",
    "dict2 = {'b': 3, 'c': 4}\n",
    "assert merge_dicts(dict1, dict2) == {'a': 1, 'b': 3, 'c': 4}, \"Dictionary merge is incorrect\"\n",
    "assert merge_dicts({}, {'x': 10}) == {'x': 10}, \"Should handle empty dictionary\"\n",
    "assert merge_dicts({'y': 20}, {}) == {'y': 20}, \"Should handle empty dictionary\""
   ]
  },
  {
   "cell_type": "markdown",
   "metadata": {},
   "source": [
    "<details>\n",
    "<summary>Solution</summary>\n",
    "\n",
    "```python\n",
    "def merge_dicts(dict1, dict2):\n",
    "    return {**dict1, **dict2}\n",
    "```\n",
    "\n",
    "</details>"
   ]
  },
  {
   "cell_type": "markdown",
   "metadata": {},
   "source": [
    "#### Exercise 13: Set Operations"
   ]
  },
  {
   "cell_type": "code",
   "execution_count": null,
   "metadata": {},
   "outputs": [],
   "source": [
    "# Implement a function 'set_operations' that takes two sets as input and returns a dictionary\n",
    "# containing the result of union, intersection, and difference operations.\n",
    "\n",
    "# Your code here\n",
    "\n",
    "# Assertions\n",
    "set1 = {1, 2, 3, 4}\n",
    "set2 = {3, 4, 5, 6}\n",
    "result = set_operations(set1, set2)\n",
    "assert result['union'] == {1, 2, 3, 4, 5, 6}, \"Union operation is incorrect\"\n",
    "assert result['intersection'] == {3, 4}, \"Intersection operation is incorrect\"\n",
    "assert result['difference'] == {1, 2}, \"Difference operation is incorrect\""
   ]
  },
  {
   "cell_type": "markdown",
   "metadata": {},
   "source": [
    "<details>\n",
    "<summary>Solution</summary>\n",
    "\n",
    "```python\n",
    "def set_operations(set1, set2):\n",
    "    return {\n",
    "        'union': set1 | set2,\n",
    "        'intersection': set1 & set2,\n",
    "        'difference': set1 - set2\n",
    "    }\n",
    "```\n",
    "\n",
    "</details>"
   ]
  },
  {
   "cell_type": "markdown",
   "metadata": {},
   "source": [
    "### Basic File I/O"
   ]
  },
  {
   "cell_type": "markdown",
   "metadata": {},
   "source": [
    "#### Exercise 14: File Reading and Writing"
   ]
  },
  {
   "cell_type": "code",
   "execution_count": null,
   "metadata": {},
   "outputs": [],
   "source": [
    "# Write a function 'word_frequency' that reads a text file, counts the frequency of each word,\n",
    "# and writes the results to a new file. Ignore case and punctuation.\n",
    "\n",
    "# Your code here\n",
    "\n",
    "# Test the function (assuming you have a file named 'sample.txt')\n",
    "word_frequency('sample.txt', 'word_counts.txt')\n",
    "\n",
    "# Assertions\n",
    "with open('word_counts.txt', 'r') as f:\n",
    "    content = f.read()\n",
    "    assert 'the' in content.lower(), \"Common word 'the' should be in the frequency list\"\n",
    "    assert len(content.split('\\n')) > 1, \"There should be multiple words in the frequency list\""
   ]
  },
  {
   "cell_type": "markdown",
   "metadata": {},
   "source": [
    "<details>\n",
    "<summary>Solution</summary>\n",
    "\n",
    "```python\n",
    "import re\n",
    "from collections import Counter\n",
    "\n",
    "def word_frequency(input_file, output_file):\n",
    "    with open(input_file, 'r') as f:\n",
    "        text = f.read().lower()\n",
    "    words = re.findall(r'\\w+', text)\n",
    "    frequency = Counter(words)\n",
    "    \n",
    "    with open(output_file, 'w') as f:\n",
    "        for word, count in frequency.most_common():\n",
    "            f.write(f\"{word}: {count}\\n\")\n",
    "```\n",
    "\n",
    "</details>"
   ]
  },
  {
   "cell_type": "markdown",
   "metadata": {},
   "source": [
    "## Intermediate\n",
    "___"
   ]
  },
  {
   "cell_type": "markdown",
   "metadata": {},
   "source": [
    "### List Comprehensions"
   ]
  },
  {
   "cell_type": "markdown",
   "metadata": {},
   "source": [
    "#### Exercise 15: Even Numbers"
   ]
  },
  {
   "cell_type": "code",
   "execution_count": null,
   "metadata": {},
   "outputs": [],
   "source": [
    "# Use a list comprehension to create a list of even numbers from 0 to 20 (inclusive).\n",
    "# Store the result in a variable called 'even_numbers'.\n",
    "\n",
    "# Your code here\n",
    "\n",
    "# Assertions\n",
    "assert isinstance(even_numbers, list), \"even_numbers should be a list\"\n",
    "assert all(num % 2 == 0 for num in even_numbers), \"All numbers should be even\"\n",
    "assert len(even_numbers) == 11, \"There should be 11 even numbers\""
   ]
  },
  {
   "cell_type": "markdown",
   "metadata": {},
   "source": [
    "<details>\n",
    "<summary>Solution</summary>\n",
    "\n",
    "```python\n",
    "even_numbers = [num for num in range(21) if num % 2 == 0]\n",
    "```\n",
    "\n",
    "</details>"
   ]
  },
  {
   "cell_type": "markdown",
   "metadata": {},
   "source": [
    "#### Exercise 16: Nested List Comprehension"
   ]
  },
  {
   "cell_type": "code",
   "execution_count": null,
   "metadata": {},
   "outputs": [],
   "source": [
    "# Use a nested list comprehension to create a list of all possible coordinate pairs (x, y)\n",
    "# where x and y are integers between 0 and 4 (inclusive), excluding pairs where x equals y.\n",
    "\n",
    "# Your code here\n",
    "\n",
    "# Assertions\n",
    "assert len(coordinates) == 20, \"There should be 20 coordinate pairs\"\n",
    "assert (0, 0) not in coordinates, \"Pairs where x equals y should be excluded\"\n",
    "assert (0, 4) in coordinates, \"Pair (0, 4) should be included\"\n",
    "assert all(0 <= x <= 4 and 0 <= y <= 4 for x, y in coordinates), \"All coordinates should be between 0 and 4\""
   ]
  },
  {
   "cell_type": "markdown",
   "metadata": {},
   "source": [
    "<details>\n",
    "<summary>Solution</summary>\n",
    "\n",
    "```python\n",
    "coordinates = [(x, y) for x in range(5) for y in range(5) if x != y]\n",
    "```\n",
    "\n",
    "</details>"
   ]
  },
  {
   "cell_type": "markdown",
   "metadata": {},
   "source": [
    "### Dictionaries"
   ]
  },
  {
   "cell_type": "markdown",
   "metadata": {},
   "source": [
    "\n",
    "#### Exercise 17: Dictionary Manipulation"
   ]
  },
  {
   "cell_type": "code",
   "execution_count": null,
   "metadata": {},
   "outputs": [],
   "source": [
    "# Create a dictionary of book titles and their authors.\n",
    "# Then write a function 'get_author' that takes a book title and returns the author.\n",
    "# If the book is not in the dictionary, it should return \"Unknown\".\n",
    "\n",
    "# Your code here\n",
    "\n",
    "# Assertions\n",
    "assert get_author(\"To Kill a Mockingbird\") == \"Harper Lee\", \"Incorrect author for 'To Kill a Mockingbird'\"\n",
    "assert get_author(\"1984\") == \"George Orwell\", \"Incorrect author for '1984'\"\n",
    "assert get_author(\"Nonexistent Book\") == \"Unknown\", \"Should return 'Unknown' for nonexistent books\""
   ]
  },
  {
   "cell_type": "markdown",
   "metadata": {},
   "source": [
    "<details>\n",
    "<summary>Solution</summary>\n",
    "\n",
    "```python\n",
    "books = {\n",
    "    \"To Kill a Mockingbird\": \"Harper Lee\",\n",
    "    \"1984\": \"George Orwell\",\n",
    "    \"Pride and Prejudice\": \"Jane Austen\"\n",
    "}\n",
    "\n",
    "def get_author(title):\n",
    "    return books.get(title, \"Unknown\")\n",
    "```\n",
    "\n",
    "</details>"
   ]
  },
  {
   "cell_type": "markdown",
   "metadata": {},
   "source": [
    "### Lambda Functions"
   ]
  },
  {
   "cell_type": "markdown",
   "metadata": {},
   "source": [
    "#### Exercise 18: Sorting with Lambda"
   ]
  },
  {
   "cell_type": "code",
   "execution_count": null,
   "metadata": {},
   "outputs": [],
   "source": [
    "# Use a lambda function to sort a list of tuples based on the second element of each tuple.\n",
    "\n",
    "# Your code here\n",
    "\n",
    "data = [(1, 5), (3, 2), (2, 8), (4, 1)]\n",
    "sorted_data = # Your sorting code here\n",
    "\n",
    "# Assertions\n",
    "assert sorted_data == [(4, 1), (3, 2), (1, 5), (2, 8)], \"Sorting is incorrect\""
   ]
  },
  {
   "cell_type": "markdown",
   "metadata": {},
   "source": [
    "<details>\n",
    "<summary>Solution</summary>\n",
    "\n",
    "```python\n",
    "data = [(1, 5), (3, 2), (2, 8), (4, 1)]\n",
    "sorted_data = sorted(data, key=lambda x: x[1])\n",
    "```\n",
    "\n",
    "</details>"
   ]
  },
  {
   "cell_type": "markdown",
   "metadata": {},
   "source": [
    "### Map, Filter, and Reduce"
   ]
  },
  {
   "cell_type": "markdown",
   "metadata": {},
   "source": [
    "\n",
    "#### Exercise 19: Map and Filter"
   ]
  },
  {
   "cell_type": "code",
   "execution_count": null,
   "metadata": {},
   "outputs": [],
   "source": [
    "\n",
    "# Use map() and filter() to create a list of squares of even numbers from a given list of integers.\n",
    "\n",
    "# Your code here\n",
    "\n",
    "numbers = [1, 2, 3, 4, 5, 6, 7, 8, 9, 10]\n",
    "result = # Your code here\n",
    "\n",
    "# Assertions\n",
    "assert result == [4, 16, 36, 64, 100], \"Map and filter result is incorrect\""
   ]
  },
  {
   "cell_type": "markdown",
   "metadata": {},
   "source": [
    "<details>\n",
    "<summary>Solution</summary>\n",
    "\n",
    "```python\n",
    "numbers = [1, 2, 3, 4, 5, 6, 7, 8, 9, 10]\n",
    "result = list(map(lambda x: x**2, filter(lambda x: x % 2 == 0, numbers)))\n",
    "```\n",
    "\n",
    "</details>"
   ]
  },
  {
   "cell_type": "markdown",
   "metadata": {},
   "source": [
    "\n",
    "### Data Structures"
   ]
  },
  {
   "cell_type": "markdown",
   "metadata": {},
   "source": [
    "#### Exercise 20: Implement a Stack"
   ]
  },
  {
   "cell_type": "code",
   "execution_count": null,
   "metadata": {},
   "outputs": [],
   "source": [
    "# Implement a Stack class with push, pop, and is_empty methods using a Python list.\n",
    "\n",
    "# Your code here\n",
    "\n",
    "# Assertions\n",
    "stack = Stack()\n",
    "assert stack.is_empty() == True, \"New stack should be empty\"\n",
    "stack.push(1)\n",
    "stack.push(2)\n",
    "assert stack.pop() == 2, \"Pop should return the last item pushed\"\n",
    "assert stack.is_empty() == False, \"Stack should not be empty\"\n",
    "assert stack.pop() == 1, \"Pop should return the remaining item\"\n",
    "assert stack.is_empty() == True, \"Stack should be empty after popping all items\""
   ]
  },
  {
   "cell_type": "markdown",
   "metadata": {},
   "source": [
    "<details>\n",
    "<summary>Solution</summary>\n",
    "\n",
    "```python\n",
    "class Stack:\n",
    "    def __init__(self):\n",
    "        self.items = []\n",
    "    \n",
    "    def push(self, item):\n",
    "        self.items.append(item)\n",
    "    \n",
    "    def pop(self):\n",
    "        if not self.is_empty():\n",
    "            return self.items.pop()\n",
    "        raise IndexError(\"pop from empty stack\")\n",
    "    \n",
    "    def is_empty(self):\n",
    "        return len(self.items) == 0\n",
    "```\n",
    "\n",
    "</details>"
   ]
  },
  {
   "cell_type": "markdown",
   "metadata": {},
   "source": [
    "#### Exercise 21: Implement a Queue"
   ]
  },
  {
   "cell_type": "code",
   "execution_count": null,
   "metadata": {},
   "outputs": [],
   "source": [
    "# Implement a Queue class with enqueue, dequeue, and is_empty methods using a Python list.\n",
    "\n",
    "# Your code here\n",
    "\n",
    "# Assertions\n",
    "queue = Queue()\n",
    "assert queue.is_empty() == True, \"New queue should be empty\"\n",
    "queue.enqueue(1)\n",
    "queue.enqueue(2)\n",
    "assert queue.dequeue() == 1, \"Dequeue should return the first item enqueued\"\n",
    "assert queue.is_empty() == False, \"Queue should not be empty\"\n",
    "assert queue.dequeue() == 2, \"Dequeue should return the remaining item\"\n",
    "assert queue.is_empty() == True, \"Queue should be empty after dequeuing all items\""
   ]
  },
  {
   "cell_type": "markdown",
   "metadata": {},
   "source": [
    "<details>\n",
    "<summary>Solution</summary>\n",
    "\n",
    "```python\n",
    "class Queue:\n",
    "    def __init__(self):\n",
    "        self.items = []\n",
    "    \n",
    "    def enqueue(self, item):\n",
    "        self.items.append(item)\n",
    "    \n",
    "    def dequeue(self):\n",
    "        if not self.is_empty():\n",
    "            return self.items.pop(0)\n",
    "        raise IndexError(\"dequeue from empty queue\")\n",
    "    \n",
    "    def is_empty(self):\n",
    "        return len(self.items) == 0\n",
    "```\n",
    "\n",
    "</details>"
   ]
  },
  {
   "cell_type": "markdown",
   "metadata": {},
   "source": [
    "### Algorithms"
   ]
  },
  {
   "cell_type": "markdown",
   "metadata": {},
   "source": [
    "#### Exercise 22: Binary Search"
   ]
  },
  {
   "cell_type": "code",
   "execution_count": null,
   "metadata": {},
   "outputs": [],
   "source": [
    "# Implement a binary search function that takes a sorted list and a target value,\n",
    "# and returns the index of the target value if found, or -1 if not found.\n",
    "\n",
    "# Your code here\n",
    "\n",
    "# Assertions\n",
    "sorted_list = [1, 3, 5, 7, 9, 11, 13, 15, 17]\n",
    "assert binary_search(sorted_list, 7) == 3, \"Should find 7 at index 3\"\n",
    "assert binary_search(sorted_list, 15) == 7, \"Should find 15 at index 7\"\n",
    "assert binary_search(sorted_list, 4) == -1, \"Should return -1 for value not in list\"\n",
    "assert binary_search(sorted_list, 1) == 0, \"Should find 1 at index 0\"\n",
    "assert binary_search(sorted_list, 17) == 8, \"Should find 17 at index 8\""
   ]
  },
  {
   "cell_type": "markdown",
   "metadata": {},
   "source": [
    "<details>\n",
    "<summary>Solution</summary>\n",
    "\n",
    "```python\n",
    "def binary_search(arr, target):\n",
    "    low, high = 0, len(arr) - 1\n",
    "    \n",
    "    while low <= high:\n",
    "        mid = (low + high) // 2\n",
    "        if arr[mid] == target:\n",
    "            return mid\n",
    "        elif arr[mid] < target:\n",
    "            low = mid + 1\n",
    "        else:\n",
    "            high = mid - 1\n",
    "    \n",
    "    return -1\n",
    "```\n",
    "\n",
    "</details>"
   ]
  },
  {
   "cell_type": "markdown",
   "metadata": {},
   "source": [
    "### Object-Oriented Programming"
   ]
  },
  {
   "cell_type": "markdown",
   "metadata": {},
   "source": [
    "#### Exercise 23: Simple Class"
   ]
  },
  {
   "cell_type": "code",
   "execution_count": null,
   "metadata": {},
   "outputs": [],
   "source": [
    "# Create a class 'Rectangle' with attributes 'width' and 'height'.\n",
    "# Implement methods to calculate the area and perimeter of the rectangle.\n",
    "\n",
    "# Your code here\n",
    "\n",
    "# Assertions\n",
    "rect = Rectangle(5, 3)\n",
    "assert rect.area() == 15, \"Area calculation is incorrect\"\n",
    "assert rect.perimeter() == 16, \"Perimeter calculation is incorrect\""
   ]
  },
  {
   "cell_type": "markdown",
   "metadata": {},
   "source": [
    "<details>\n",
    "<summary>Solution</summary>\n",
    "\n",
    "```python\n",
    "class Rectangle:\n",
    "    def __init__(self, width, height):\n",
    "        self.width = width\n",
    "        self.height = height\n",
    "    \n",
    "    def area(self):\n",
    "        return self.width * self.height\n",
    "    \n",
    "    def perimeter(self):\n",
    "        return 2 * (self.width + self.height)\n",
    "```\n",
    "\n",
    "</details>"
   ]
  },
  {
   "cell_type": "markdown",
   "metadata": {},
   "source": [
    "#### Exercise 24: Bank Account Class"
   ]
  },
  {
   "cell_type": "code",
   "execution_count": null,
   "metadata": {},
   "outputs": [],
   "source": [
    "# Create a class 'BankAccount' with methods for deposit, withdraw, and check balance.\n",
    "# Implement a 'MinimumBalanceAccount' that inherits from 'BankAccount' and requires a minimum balance.\n",
    "\n",
    "# Your code here\n",
    "\n",
    "# Assertions\n",
    "account = BankAccount(1000)\n",
    "account.deposit(500)\n",
    "assert account.balance == 1500, \"Deposit not handled correctly\"\n",
    "account.withdraw(200)\n",
    "assert account.balance == 1300, \"Withdrawal not handled correctly\"\n",
    "\n",
    "min_account = MinimumBalanceAccount(1000, minimum_balance=500)\n",
    "min_account.withdraw(600)\n",
    "assert min_account.balance == 1000, \"Minimum balance rule not enforced\""
   ]
  },
  {
   "cell_type": "markdown",
   "metadata": {},
   "source": [
    "<details>\n",
    "<summary>Solution</summary>\n",
    "\n",
    "```python\n",
    "class BankAccount:\n",
    "    def __init__(self, initial_balance=0):\n",
    "        self.balance = initial_balance\n",
    "    \n",
    "    def deposit(self, amount):\n",
    "        self.balance += amount\n",
    "    \n",
    "    def withdraw(self, amount):\n",
    "        if amount <= self.balance:\n",
    "            self.balance -= amount\n",
    "        else:\n",
    "            raise ValueError(\"Insufficient funds\")\n",
    "    \n",
    "    def check_balance(self):\n",
    "        return self.balance\n",
    "\n",
    "class MinimumBalanceAccount(BankAccount):\n",
    "    def __init__(self, initial_balance, minimum_balance):\n",
    "        super().__init__(initial_balance)\n",
    "        self.minimum_balance = minimum_balance\n",
    "    \n",
    "    def withdraw(self, amount):\n",
    "        if self.balance - amount >= self.minimum_balance:\n",
    "            super().withdraw(amount)\n",
    "        else:\n",
    "            raise ValueError(\"Withdrawal would breach minimum balance\")\n",
    "```\n",
    "\n",
    "</details>"
   ]
  },
  {
   "cell_type": "markdown",
   "metadata": {},
   "source": [
    "### Inheritance and Polymorphism"
   ]
  },
  {
   "cell_type": "markdown",
   "metadata": {},
   "source": [
    "#### Exercise 25: Shape Hierarchy"
   ]
  },
  {
   "cell_type": "code",
   "execution_count": null,
   "metadata": {},
   "outputs": [],
   "source": [
    "# Create a base class 'Shape' with a method 'area'.\n",
    "# Create two derived classes 'Circle' and 'Square' that inherit from 'Shape' and implement the 'area' method.\n",
    "\n",
    "# Your code here\n",
    "\n",
    "# Assertions\n",
    "circle = Circle(radius=5)\n",
    "square = Square(side=4)\n",
    "assert round(circle.area(), 2) == 78.54, \"Circle area calculation is incorrect\"\n",
    "assert square.area() == 16, \"Square area calculation is incorrect\""
   ]
  },
  {
   "cell_type": "markdown",
   "metadata": {},
   "source": [
    "<details>\n",
    "<summary>Solution</summary>\n",
    "\n",
    "```python\n",
    "import math\n",
    "\n",
    "class Shape:\n",
    "    def area(self):\n",
    "        pass\n",
    "\n",
    "class Circle(Shape):\n",
    "    def __init__(self, radius):\n",
    "        self.radius = radius\n",
    "    \n",
    "    def area(self):\n",
    "        return math.pi * self.radius ** 2\n",
    "\n",
    "class Square(Shape):\n",
    "    def __init__(self, side):\n",
    "        self.side = side\n",
    "    \n",
    "    def area(self):\n",
    "        return self.side ** 2\n",
    "```\n",
    "\n",
    "</details>"
   ]
  },
  {
   "cell_type": "markdown",
   "metadata": {},
   "source": [
    "### Regular Expressions"
   ]
  },
  {
   "cell_type": "markdown",
   "metadata": {},
   "source": [
    "#### Exercise 26: Email Validation"
   ]
  },
  {
   "cell_type": "code",
   "execution_count": null,
   "metadata": {},
   "outputs": [],
   "source": [
    "# Write a function 'is_valid_email' that uses a regular expression to check if a given string is a valid email address.\n",
    "\n",
    "import re\n",
    "\n",
    "# Your code here\n",
    "\n",
    "# Assertions\n",
    "assert is_valid_email(\"user@example.com\") == True, \"Should be a valid email\"\n",
    "assert is_valid_email(\"invalid.email@com\") == False, \"Should be an invalid email\"\n",
    "assert is_valid_email(\"user@.com\") == False, \"Should be an invalid email\""
   ]
  },
  {
   "cell_type": "markdown",
   "metadata": {},
   "source": [
    "<details>\n",
    "<summary>Solution</summary>\n",
    "\n",
    "```python\n",
    "import re\n",
    "\n",
    "def is_valid_email(email):\n",
    "    pattern = r'^[\\w\\.-]+@[\\w\\.-]+\\.\\w+$'\n",
    "    return bool(re.match(pattern, email))\n",
    "```\n",
    "\n",
    "</details>"
   ]
  },
  {
   "cell_type": "markdown",
   "metadata": {},
   "source": [
    "### Modules and Packages"
   ]
  },
  {
   "cell_type": "markdown",
   "metadata": {},
   "source": [
    "#### Exercise 27: Custom Module"
   ]
  },
  {
   "cell_type": "code",
   "execution_count": null,
   "metadata": {},
   "outputs": [],
   "source": [
    "# Create a custom module 'geometry' with functions to calculate area and perimeter of different shapes.\n",
    "# Then, in a separate file, import and use these functions.\n",
    "\n",
    "# File: geometry.py\n",
    "# Your code here for the geometry module\n",
    "\n",
    "# File: main.py\n",
    "# Your code here to import and use the geometry module\n",
    "\n",
    "# Assertions (in main.py)\n",
    "assert abs(geometry.circle_area(5) - 78.54) < 0.01, \"Circle area calculation is incorrect\"\n",
    "assert geometry.rectangle_perimeter(4, 5) == 18, \"Rectangle perimeter calculation is incorrect\"\n",
    "assert geometry.triangle_area(3, 4, 5) == 6, \"Triangle area calculation is incorrect\""
   ]
  },
  {
   "cell_type": "markdown",
   "metadata": {},
   "source": [
    "<details>\n",
    "<summary>Solution</summary>\n",
    "\n",
    "```python\n",
    "# File: geometry.py\n",
    "import math\n",
    "\n",
    "def circle_area(radius):\n",
    "    return math.pi * radius ** 2\n",
    "\n",
    "def rectangle_perimeter(length, width):\n",
    "    return 2 * (length + width)\n",
    "\n",
    "def triangle_area(a, b, c):\n",
    "    s = (a + b + c) / 2\n",
    "    return math.sqrt(s * (s - a) * (s - b) * (s - c))\n",
    "\n",
    "# File: main.py\n",
    "import geometry\n",
    "\n",
    "print(geometry.circle_area(5))\n",
    "print(geometry.rectangle_perimeter(4, 5))\n",
    "print(geometry.triangle_area(3, 4, 5))\n",
    "```\n",
    "\n",
    "</details>"
   ]
  },
  {
   "cell_type": "markdown",
   "metadata": {},
   "source": [
    "### Error Handling"
   ]
  },
  {
   "cell_type": "markdown",
   "metadata": {},
   "source": [
    "#### Exercise 28: Try-Except"
   ]
  },
  {
   "cell_type": "code",
   "execution_count": null,
   "metadata": {},
   "outputs": [],
   "source": [
    "# Write a function 'safe_divide' that takes two numbers as input and returns their division.\n",
    "# If the second number is zero, catch the ZeroDivisionError and return \"Cannot divide by zero\".\n",
    "\n",
    "# Your code here\n",
    "\n",
    "# Assertions\n",
    "assert safe_divide(10, 2) == 5, \"10 divided by 2 should be 5\"\n",
    "assert safe_divide(5, 0) == \"Cannot divide by zero\", \"Should handle division by zero\"\n",
    "assert safe_divide(-1, 4) == -0.25, \"Should handle negative numbers\""
   ]
  },
  {
   "cell_type": "markdown",
   "metadata": {},
   "source": [
    "<details>\n",
    "<summary>Solution</summary>\n",
    "\n",
    "```python\n",
    "def safe_divide(a, b):\n",
    "    try:\n",
    "        return a / b\n",
    "    except ZeroDivisionError:\n",
    "        return \"Cannot divide by zero\"\n",
    "```\n",
    "\n",
    "</details>"
   ]
  },
  {
   "cell_type": "markdown",
   "metadata": {},
   "source": [
    "### File I/O"
   ]
  },
  {
   "cell_type": "markdown",
   "metadata": {},
   "source": [
    "#### Exercise 29: Reading and Writing Files"
   ]
  },
  {
   "cell_type": "code",
   "execution_count": null,
   "metadata": {},
   "outputs": [],
   "source": [
    "\n",
    "# Write a function 'word_count' that reads a text file and returns a dictionary\n",
    "# with the count of each word in the file. Ignore case and punctuation.\n",
    "\n",
    "# Your code here\n",
    "\n",
    "# Assertions\n",
    "# Assuming a file named 'sample.txt' with content: \"Hello world! Hello Python.\"\n",
    "assert isinstance(word_count('sample.txt'), dict), \"Should return a dictionary\"\n",
    "assert word_count('sample.txt')['hello'] == 2, \"Should count 'hello' twice\"\n",
    "assert word_count('sample.txt')['world'] == 1, \"Should count 'world' once\"\n",
    "assert word_count('sample.txt')['python'] == 1, \"Should count 'python' once\""
   ]
  },
  {
   "cell_type": "markdown",
   "metadata": {},
   "source": [
    "<details>\n",
    "<summary>Solution</summary>\n",
    "\n",
    "```python\n",
    "import re\n",
    "from collections import defaultdict\n",
    "\n",
    "def word_count(filename):\n",
    "    counts = defaultdict(int)\n",
    "    with open(filename, 'r') as file:\n",
    "        text = file.read().lower()\n",
    "        words = re.findall(r'\\w+', text)\n",
    "        for word in words:\n",
    "            counts[word] += 1\n",
    "    return dict(counts)\n",
    "```\n",
    "\n",
    "</details>"
   ]
  },
  {
   "cell_type": "markdown",
   "metadata": {},
   "source": [
    "## Advanced\n",
    "___"
   ]
  },
  {
   "cell_type": "markdown",
   "metadata": {},
   "source": [
    "### Decorators"
   ]
  },
  {
   "cell_type": "markdown",
   "metadata": {},
   "source": [
    "#### Exercise 30: Timing Decorator"
   ]
  },
  {
   "cell_type": "code",
   "execution_count": null,
   "metadata": {},
   "outputs": [],
   "source": [
    "# Create a decorator 'timer' that measures the time a function takes to execute.\n",
    "# The decorator should print: \"Function {func_name} took {time} seconds to run.\"\n",
    "\n",
    "# Your code here\n",
    "\n",
    "@timer\n",
    "def slow_function():\n",
    "    import time\n",
    "    time.sleep(2)\n",
    "\n",
    "# Run the function\n",
    "slow_function()\n",
    "\n",
    "# Assertions\n",
    "# Note: We can't assert exact time, but we can check if the output is printed\n",
    "assert \"Function slow_function took\" in globals()['__builtins__'].output\n",
    "assert \"seconds to run\" in globals()['__builtins__'].output"
   ]
  },
  {
   "cell_type": "markdown",
   "metadata": {},
   "source": [
    "\n",
    "<details>\n",
    "<summary>Solution</summary>\n",
    "\n",
    "```python\n",
    "import time\n",
    "from functools import wraps\n",
    "\n",
    "def timer(func):\n",
    "    @wraps(func)\n",
    "    def wrapper(*args, **kwargs):\n",
    "        start_time = time.time()\n",
    "        result = func(*args, **kwargs)\n",
    "        end_time = time.time()\n",
    "        print(f\"Function {func.__name__} took {end_time - start_time:.2f} seconds to run.\")\n",
    "        return result\n",
    "    return wrapper\n",
    "```\n",
    "\n",
    "</details>"
   ]
  },
  {
   "cell_type": "markdown",
   "metadata": {},
   "source": [
    "#### Exercise 31: Retry Decorator"
   ]
  },
  {
   "cell_type": "code",
   "execution_count": null,
   "metadata": {},
   "outputs": [],
   "source": [
    "# Create a decorator 'retry' that retries the decorated function a specified number of times if it raises an exception.\n",
    "\n",
    "# Your code here\n",
    "\n",
    "@retry(max_attempts=3)\n",
    "def might_fail():\n",
    "    import random\n",
    "    if random.random() < 0.7:\n",
    "        raise ValueError(\"Random failure\")\n",
    "    return \"Success\"\n",
    "\n",
    "# Assertions\n",
    "result = might_fail()\n",
    "assert result == \"Success\", \"Function should eventually succeed\""
   ]
  },
  {
   "cell_type": "markdown",
   "metadata": {},
   "source": [
    "<details>\n",
    "<summary>Solution</summary>\n",
    "\n",
    "```python\n",
    "import functools\n",
    "\n",
    "def retry(max_attempts):\n",
    "    def decorator(func):\n",
    "        @functools.wraps(func)\n",
    "        def wrapper(*args, **kwargs):\n",
    "            for _ in range(max_attempts):\n",
    "                try:\n",
    "                    return func(*args, **kwargs)\n",
    "                except Exception as e:\n",
    "                    last_exception = e\n",
    "            raise last_exception\n",
    "        return wrapper\n",
    "    return decorator\n",
    "```\n",
    "\n",
    "</details>"
   ]
  },
  {
   "cell_type": "markdown",
   "metadata": {},
   "source": [
    "### Generators and Iterators"
   ]
  },
  {
   "cell_type": "markdown",
   "metadata": {},
   "source": [
    "#### Exercise 32: Fibonacci Generator"
   ]
  },
  {
   "cell_type": "code",
   "execution_count": null,
   "metadata": {},
   "outputs": [],
   "source": [
    "# Create a generator function 'fibonacci' that yields the Fibonacci sequence.\n",
    "# The function should take a parameter 'n' for the number of Fibonacci numbers to generate.\n",
    "\n",
    "# Your code here\n",
    "\n",
    "# Assertions\n",
    "fib = fibonacci(10)\n",
    "assert list(fib) == [0, 1, 1, 2, 3, 5, 8, 13, 21, 34], \"Incorrect Fibonacci sequence\""
   ]
  },
  {
   "cell_type": "markdown",
   "metadata": {},
   "source": [
    "<details>\n",
    "<summary>Solution</summary>\n",
    "\n",
    "```python\n",
    "def fibonacci(n):\n",
    "    a, b = 0, 1\n",
    "    for _ in range(n):\n",
    "        yield a\n",
    "        a, b = b, a + b\n",
    "```\n",
    "\n",
    "</details>"
   ]
  },
  {
   "cell_type": "markdown",
   "metadata": {},
   "source": [
    "### Web Scraping"
   ]
  },
  {
   "cell_type": "markdown",
   "metadata": {},
   "source": [
    "\n",
    "#### Exercise 33: Web Scraping with BeautifulSoup"
   ]
  },
  {
   "cell_type": "code",
   "execution_count": null,
   "metadata": {},
   "outputs": [],
   "source": [
    "# Implement a function 'scrape_headlines' that uses BeautifulSoup to scrape the top headlines\n",
    "# from a news website (e.g., https://news.ycombinator.com/).\n",
    "\n",
    "import requests\n",
    "from bs4 import BeautifulSoup\n",
    "\n",
    "# Your code here\n",
    "\n",
    "# Assertions\n",
    "headlines = scrape_headlines()\n",
    "assert len(headlines) > 0, \"Should have scraped at least one headline\"\n",
    "assert all(isinstance(h, str) for h in headlines), \"All headlines should be strings\""
   ]
  },
  {
   "cell_type": "markdown",
   "metadata": {},
   "source": [
    "\n",
    "<details>\n",
    "<summary>Solution</summary>\n",
    "\n",
    "```python\n",
    "import requests\n",
    "from bs4 import BeautifulSoup\n",
    "\n",
    "def scrape_headlines():\n",
    "    url = \"https://news.ycombinator.com/\"\n",
    "    response = requests.get(url)\n",
    "    soup = BeautifulSoup(response.text, 'html.parser')\n",
    "    headlines = soup.find_all('a', class_='storylink')\n",
    "    return [headline.text for headline in headlines]\n",
    "```\n",
    "\n",
    "</details>"
   ]
  },
  {
   "cell_type": "markdown",
   "metadata": {},
   "source": [
    "### Dynamic Programming"
   ]
  },
  {
   "cell_type": "markdown",
   "metadata": {},
   "source": [
    "#### Exercise 34: Longest Common Subsequence"
   ]
  },
  {
   "cell_type": "code",
   "execution_count": null,
   "metadata": {},
   "outputs": [],
   "source": [
    "\n",
    "# Implement a function to find the length of the Longest Common Subsequence (LCS)\n",
    "# between two strings using dynamic programming.\n",
    "\n",
    "# Your code here\n",
    "\n",
    "# Assertions\n",
    "assert lcs_length(\"ABCDGH\", \"AEDFHR\") == 3, \"LCS should be 'ADH' with length 3\"\n",
    "assert lcs_length(\"AGGTAB\", \"GXTXAYB\") == 4, \"LCS should be 'GTAB' with length 4\"\n",
    "assert lcs_length(\"ABCBDAB\", \"BDCABA\") == 4, \"LCS should be 'BCBA' with length 4\"\n",
    "assert lcs_length(\"\", \"ABC\") == 0, \"LCS with empty string should be 0\"\n",
    "assert lcs_length(\"ABC\", \"ABC\") == 3, \"LCS of identical strings should be their length\"\n"
   ]
  },
  {
   "cell_type": "markdown",
   "metadata": {},
   "source": [
    "<details>\n",
    "<summary>Solution</summary>\n",
    "\n",
    "```python\n",
    "def lcs_length(X, Y):\n",
    "    m, n = len(X), len(Y)\n",
    "    L = [[0] * (n + 1) for _ in range(m + 1)]\n",
    "    \n",
    "    for i in range(1, m + 1):\n",
    "        for j in range(1, n + 1):\n",
    "            if X[i-1] == Y[j-1]:\n",
    "                L[i][j] = L[i-1][j-1] + 1\n",
    "            else:\n",
    "                L[i][j] = max(L[i-1][j], L[i][j-1])\n",
    "    \n",
    "    return L[m][n]\n",
    "```\n",
    "\n",
    "</details>"
   ]
  },
  {
   "cell_type": "markdown",
   "metadata": {},
   "source": [
    "### Graph Algorithms"
   ]
  },
  {
   "cell_type": "markdown",
   "metadata": {},
   "source": [
    "#### Exercise 35: Depth-First Search"
   ]
  },
  {
   "cell_type": "code",
   "execution_count": null,
   "metadata": {},
   "outputs": [],
   "source": [
    "# Implement a depth-first search algorithm for a graph represented as an adjacency list.\n",
    "# The function should return the list of nodes in the order they were visited.\n",
    "\n",
    "# Your code here\n",
    "\n",
    "# Assertions\n",
    "graph = {\n",
    "    'A': ['B', 'C'],\n",
    "    'B': ['A', 'D', 'E'],\n",
    "    'C': ['A', 'F'],\n",
    "    'D': ['B'],\n",
    "    'E': ['B', 'F'],\n",
    "    'F': ['C', 'E']\n",
    "}\n",
    "\n",
    "assert set(dfs(graph, 'A')) == set(['A', 'B', 'C', 'D', 'E', 'F']), \"DFS should visit all nodes\"\n",
    "assert dfs(graph, 'A')[0] == 'A', \"DFS should start with the given node\""
   ]
  },
  {
   "cell_type": "markdown",
   "metadata": {},
   "source": [
    "<details>\n",
    "<summary>Solution</summary>\n",
    "\n",
    "```python\n",
    "def dfs(graph, start):\n",
    "    visited = set()\n",
    "    result = []\n",
    "    \n",
    "    def dfs_recursive(node):\n",
    "        visited.add(node)\n",
    "        result.append(node)\n",
    "        for neighbor in graph[node]:\n",
    "            if neighbor not in visited:\n",
    "                dfs_recursive(neighbor)\n",
    "    \n",
    "    dfs_recursive(start)\n",
    "    return result\n",
    "```\n",
    "\n",
    "</details>"
   ]
  },
  {
   "cell_type": "markdown",
   "metadata": {},
   "source": [
    "### Logical Problems"
   ]
  },
  {
   "cell_type": "markdown",
   "metadata": {},
   "source": [
    "#### Exercise 36: Tower of Hanoi"
   ]
  },
  {
   "cell_type": "code",
   "execution_count": null,
   "metadata": {},
   "outputs": [],
   "source": [
    "# Implement a function to solve the Tower of Hanoi puzzle.\n",
    "# The function should print the steps to move n disks from the source peg to the destination peg.\n",
    "\n",
    "# Your code here\n",
    "\n",
    "# Test the function (no assertions, as it prints the steps)\n",
    "tower_of_hanoi(3, 'A', 'C', 'B')"
   ]
  },
  {
   "cell_type": "markdown",
   "metadata": {},
   "source": [
    "<details>\n",
    "<summary>Solution</summary>\n",
    "\n",
    "```python\n",
    "def tower_of_hanoi(n, source, destination, auxiliary):\n",
    "    if n == 1:\n",
    "        print(f\"Move disk 1 from {source} to {destination}\")\n",
    "        return\n",
    "    tower_of_hanoi(n-1, source, auxiliary, destination)\n",
    "    print(f\"Move disk {n} from {source} to {destination}\")\n",
    "    tower_of_hanoi(n-1, auxiliary, destination, source)\n",
    "```\n",
    "\n",
    "</details>"
   ]
  },
  {
   "cell_type": "markdown",
   "metadata": {},
   "source": [
    "#### Exercise 37: N-Queens Problem"
   ]
  },
  {
   "cell_type": "code",
   "execution_count": null,
   "metadata": {},
   "outputs": [],
   "source": [
    "# Implement a function to solve the N-Queens problem.\n",
    "# The function should return a list of all possible solutions for placing N queens on an NxN chessboard.\n",
    "\n",
    "# Your code here\n",
    "\n",
    "# Assertions\n",
    "solutions_4 = solve_n_queens(4)\n",
    "assert len(solutions_4) == 2, \"There should be 2 solutions for 4-Queens\"\n",
    "assert len(solve_n_queens(1)) == 1, \"There should be 1 solution for 1-Queen\"\n",
    "assert len(solve_n_queens(0)) == 0, \"There should be no solutions for 0-Queens\""
   ]
  },
  {
   "cell_type": "markdown",
   "metadata": {},
   "source": [
    "<details>\n",
    "<summary>Solution</summary>\n",
    "\n",
    "```python\n",
    "def solve_n_queens(n):\n",
    "    def is_safe(board, row, col):\n",
    "        for i in range(col):\n",
    "            if board[row][i] == 'Q':\n",
    "                return False\n",
    "        for i, j in zip(range(row, -1, -1), range(col, -1, -1)):\n",
    "            if board[i][j] == 'Q':\n",
    "                return False\n",
    "        for i, j in zip(range(row, n, 1), range(col, -1, -1)):\n",
    "            if board[i][j] == 'Q':\n",
    "                return False\n",
    "        return True\n",
    "\n",
    "    def solve(board, col):\n",
    "        if col >= n:\n",
    "            solutions.append([''.join(row) for row in board])\n",
    "            return\n",
    "        for i in range(n):\n",
    "            if is_safe(board, i, col):\n",
    "                board[i][col] = 'Q'\n",
    "                solve(board, col + 1)\n",
    "                board[i][col] = '.'\n",
    "\n",
    "    solutions = []\n",
    "    board = [['.' for _ in range(n)] for _ in range(n)]\n",
    "    solve(board, 0)\n",
    "    return solutions\n",
    "```\n",
    "\n",
    "</details>"
   ]
  },
  {
   "cell_type": "markdown",
   "metadata": {},
   "source": [
    "#### Exercise 38: Custom Iterator for Prime Numbers"
   ]
  },
  {
   "cell_type": "code",
   "execution_count": null,
   "metadata": {},
   "outputs": [],
   "source": [
    "\n",
    "# Implement a custom iterator class that generates prime numbers up to a specified limit.\n",
    "\n",
    "# Your code here\n",
    "\n",
    "# Assertions\n",
    "primes = PrimeIterator(20)\n",
    "assert list(primes) == [2, 3, 5, 7, 11, 13, 17, 19], \"Should generate correct prime numbers up to 20\"\n",
    "\n",
    "primes = PrimeIterator(10)\n",
    "assert list(primes) == [2, 3, 5, 7], \"Should generate correct prime numbers up to 10\"\n",
    "\n",
    "primes = PrimeIterator(2)\n",
    "assert list(primes) == [2], \"Should generate only 2 for limit 2\"\n"
   ]
  },
  {
   "cell_type": "markdown",
   "metadata": {},
   "source": [
    "<details>\n",
    "<summary>Solution</summary>\n",
    "\n",
    "```python\n",
    "class PrimeIterator:\n",
    "    def __init__(self, limit):\n",
    "        self.limit = limit\n",
    "        self.current = 2\n",
    "\n",
    "    def __iter__(self):\n",
    "        return self\n",
    "\n",
    "    def __next__(self):\n",
    "        while self.current < self.limit:\n",
    "            if self.is_prime(self.current):\n",
    "                prime = self.current\n",
    "                self.current += 1\n",
    "                return prime\n",
    "            self.current += 1\n",
    "        raise StopIteration\n",
    "\n",
    "    def is_prime(self, n):\n",
    "        if n < 2:\n",
    "            return False\n",
    "        for i in range(2, int(n ** 0.5) + 1):\n",
    "            if n % i == 0:\n",
    "                return False\n",
    "        return True\n",
    "```\n",
    "\n",
    "</details>"
   ]
  },
  {
   "cell_type": "markdown",
   "metadata": {},
   "source": [
    "#### Exercise 39: Asynchronous Web Crawler"
   ]
  },
  {
   "cell_type": "code",
   "execution_count": null,
   "metadata": {},
   "outputs": [],
   "source": [
    "# Implement an asynchronous web crawler that fetches the content of multiple URLs concurrently.\n",
    "# The crawler should respect a maximum number of concurrent requests.\n",
    "\n",
    "import aiohttp\n",
    "import asyncio\n",
    "\n",
    "# Your code here\n",
    "\n",
    "# Assertions\n",
    "urls = [\n",
    "    \"http://example.com\",\n",
    "    \"http://example.org\",\n",
    "    \"http://example.net\",\n",
    "    \"http://example.edu\",\n",
    "    \"http://example.io\"\n",
    "]\n",
    "\n",
    "async def test_crawler():\n",
    "    results = await async_crawl(urls, max_concurrent=3)\n",
    "    assert len(results) == len(urls), \"Should fetch all URLs\"\n",
    "    assert all(isinstance(content, str) for content in results.values()), \"All results should be strings\"\n",
    "\n",
    "asyncio.run(test_crawler())"
   ]
  },
  {
   "cell_type": "markdown",
   "metadata": {},
   "source": [
    "<details>\n",
    "<summary>Solution</summary>\n",
    "\n",
    "```python\n",
    "import aiohttp\n",
    "import asyncio\n",
    "\n",
    "async def fetch(session, url):\n",
    "    async with session.get(url) as response:\n",
    "        return await response.text()\n",
    "\n",
    "async def async_crawl(urls, max_concurrent):\n",
    "    semaphore = asyncio.Semaphore(max_concurrent)\n",
    "    async with aiohttp.ClientSession() as session:\n",
    "        async def bounded_fetch(url):\n",
    "            async with semaphore:\n",
    "                return url, await fetch(session, url)\n",
    "        \n",
    "        tasks = [asyncio.create_task(bounded_fetch(url)) for url in urls]\n",
    "        results = await asyncio.gather(*tasks)\n",
    "    \n",
    "    return dict(results)\n",
    "```\n",
    "\n",
    "</details>"
   ]
  }
 ],
 "metadata": {
  "language_info": {
   "name": "python"
  }
 },
 "nbformat": 4,
 "nbformat_minor": 2
}
