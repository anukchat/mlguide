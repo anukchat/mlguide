{
 "cells": [
  {
   "cell_type": "markdown",
   "metadata": {},
   "source": [
    "## Tools to get a launch 🚀👨‍🚀\n",
    "\n",
    "Congratulations !! 👏 If you have been following from the start and have landed here to explore the tools needed to get a launch in the space of learning.. Very few reach this level, and you are one of them. Give a pat on your back 🏆.\n",
    "\n",
    "In this section, we would explore the essesntial tools required for:\n",
    "1. Analysing, understanding & visualizing the data\n",
    "2. Doing complex mathemetical operations \n",
    "3. Performing traditional machine learning modelling and training\n",
    "4. Performing neural networks based modelling and training\n",
    "5. Understanding Generative AI and tools required to get a start"
   ]
  },
  {
   "cell_type": "code",
   "execution_count": null,
   "metadata": {},
   "outputs": [],
   "source": []
  }
 ],
 "metadata": {
  "language_info": {
   "name": "python"
  }
 },
 "nbformat": 4,
 "nbformat_minor": 2
}
