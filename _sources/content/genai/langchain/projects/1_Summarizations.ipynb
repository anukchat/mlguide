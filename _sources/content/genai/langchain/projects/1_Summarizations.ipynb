{
 "cells": [
  {
   "cell_type": "markdown",
   "id": "180db28e",
   "metadata": {},
   "source": [
    "# Summarizations\n",
    "\n",
    "LLM-based summarization involves using LLMs to generate concise versions of longer texts while retaining key information and context. The model analyzes the input, identifies important points, and rephrases the content into a shorter summary.\n",
    "\n",
    "There are two main types:\n",
    "\n",
    "**Extractive Summarization:** Selects and extracts key sentences directly from the source.\n",
    "\n",
    "**Abstractive Summarization**: Rewrites the content in a new way, generating novel sentences that capture the main ideas.\n",
    "LLM-based summarization is useful for simplifying complex documents, news articles, or reports."
   ]
  },
  {
   "cell_type": "markdown",
   "id": "fded102b",
   "metadata": {},
   "source": [
    "## 5 Levels Of Summarization: Novice to Expert"
   ]
  },
  {
   "cell_type": "markdown",
   "id": "fab8b2cf",
   "metadata": {},
   "source": [
    "Summarization is a fundamental building block of many LLM tasks. You'll frequently run into use cases where you would like to distill a large body of text into a succinct set of points.\n",
    "\n",
    "Depending on the length of the text you'd like to summarize, you have different summarization methods to choose from.\n",
    "\n",
    "We're going to run through 5 methods for summarization that start with Novice and end up expert. These aren't the only options, feel free to make up your own. If you find another one you like please share it with the community.\n",
    "\n",
    "**5 Levels Of Summarization:**\n",
    "1. **Summarize a couple sentences** - Basic Prompt\n",
    "2. **Summarize a couple paragraphs** - Prompt Templates\n",
    "3. **Summarize a couple pages** - Map Reduce\n",
    "4. **Summarize an entire book** - Best Representation Vectors\n",
    "5. **Summarize an unknown amount of text** - Agents\n",
    "\n",
    "First let's import our OpenAI API Key"
   ]
  },
  {
   "cell_type": "code",
   "execution_count": 4,
   "id": "95008cb8",
   "metadata": {},
   "outputs": [],
   "source": [
    "# Unzip data folder\n",
    "\n",
    "import zipfile\n",
    "with zipfile.ZipFile('../../data.zip', 'r') as zip_ref:\n",
    "    zip_ref.extractall('..')"
   ]
  },
  {
   "cell_type": "code",
   "execution_count": 1,
   "id": "4033ee5a",
   "metadata": {},
   "outputs": [],
   "source": [
    "from dotenv import load_dotenv\n",
    "import os\n",
    "\n",
    "load_dotenv()\n",
    "\n",
    "openai_api_key = os.getenv('OPENAI_API_KEY', 'YourAPIKey')"
   ]
  },
  {
   "cell_type": "markdown",
   "id": "342796d0",
   "metadata": {},
   "source": [
    "### Level 1: Basic Prompt - Summarize a couple sentences\n",
    "\n",
    "If you just have a few sentences you want to one-off summarize you can use a simple prompt and copy and paste your text.\n",
    "\n",
    "This method isn't scalable and only practical for a few use cases...the perfect level #1!"
   ]
  },
  {
   "cell_type": "code",
   "execution_count": 2,
   "id": "8a6ea241",
   "metadata": {},
   "outputs": [],
   "source": [
    "from langchain import OpenAI"
   ]
  },
  {
   "cell_type": "code",
   "execution_count": 3,
   "id": "538ded7c",
   "metadata": {},
   "outputs": [],
   "source": [
    "llm = OpenAI(temperature=0, openai_api_key=openai_api_key)"
   ]
  },
  {
   "cell_type": "markdown",
   "id": "b18ca4b1",
   "metadata": {},
   "source": [
    "The important part is to provide instructions for the LLM to know what to do. In thise case I'm telling the model I want a summary of the text below"
   ]
  },
  {
   "cell_type": "code",
   "execution_count": 4,
   "id": "67146e99",
   "metadata": {},
   "outputs": [],
   "source": [
    "prompt = \"\"\"\n",
    "Please provide a summary of the following text\n",
    "\n",
    "TEXT:\n",
    "Philosophy (from Greek: φιλοσοφία, philosophia, 'love of wisdom') \\\n",
    "is the systematized study of general and fundamental questions, \\\n",
    "such as those about existence, reason, knowledge, values, mind, and language. \\\n",
    "Some sources claim the term was coined by Pythagoras (c. 570 – c. 495 BCE), \\\n",
    "although this theory is disputed by some. Philosophical methods include questioning, \\\n",
    "critical discussion, rational argument, and systematic presentation.\n",
    "\"\"\""
   ]
  },
  {
   "cell_type": "code",
   "execution_count": 5,
   "id": "c3bd4858",
   "metadata": {},
   "outputs": [
    {
     "name": "stdout",
     "output_type": "stream",
     "text": [
      "Our prompt has 121 tokens\n"
     ]
    }
   ],
   "source": [
    "num_tokens = llm.get_num_tokens(prompt)\n",
    "print (f\"Our prompt has {num_tokens} tokens\")"
   ]
  },
  {
   "cell_type": "code",
   "execution_count": 6,
   "id": "61522722",
   "metadata": {},
   "outputs": [
    {
     "name": "stdout",
     "output_type": "stream",
     "text": [
      "\n",
      "Philosophy is a systematized study of general and fundamental questions about existence, reason, knowledge, values, mind, and language. It is believed to have been coined by Pythagoras, and its methods include questioning, critical discussion, rational argument, and systematic presentation.\n"
     ]
    }
   ],
   "source": [
    "output = llm(prompt)\n",
    "print (output)"
   ]
  },
  {
   "cell_type": "markdown",
   "id": "133d1b40",
   "metadata": {},
   "source": [
    "Woof 🐶, that summary is still hard to understand. Let me add to my instructions so that the output is easier to understand. I'll tell it to explain it to me like a 5 year old."
   ]
  },
  {
   "cell_type": "code",
   "execution_count": 7,
   "id": "ece0c069",
   "metadata": {},
   "outputs": [],
   "source": [
    "prompt = \"\"\"\n",
    "Please provide a summary of the following text.\n",
    "Please provide your output in a manner that a 5 year old would understand\n",
    "\n",
    "TEXT:\n",
    "Philosophy (from Greek: φιλοσοφία, philosophia, 'love of wisdom') \\\n",
    "is the systematized study of general and fundamental questions, \\\n",
    "such as those about existence, reason, knowledge, values, mind, and language. \\\n",
    "Some sources claim the term was coined by Pythagoras (c. 570 – c. 495 BCE), \\\n",
    "although this theory is disputed by some. Philosophical methods include questioning, \\\n",
    "critical discussion, rational argument, and systematic presentation.\n",
    "\"\"\""
   ]
  },
  {
   "cell_type": "code",
   "execution_count": 8,
   "id": "5b66351e",
   "metadata": {},
   "outputs": [
    {
     "name": "stdout",
     "output_type": "stream",
     "text": [
      "Our prompt has 137 tokens\n"
     ]
    }
   ],
   "source": [
    "num_tokens = llm.get_num_tokens(prompt)\n",
    "print (f\"Our prompt has {num_tokens} tokens\")"
   ]
  },
  {
   "cell_type": "code",
   "execution_count": 9,
   "id": "68f9b501",
   "metadata": {},
   "outputs": [
    {
     "name": "stdout",
     "output_type": "stream",
     "text": [
      "\n",
      "Philosophy is about asking questions and trying to figure out the answers. It is about thinking about things like existence, knowledge, and values. People have been doing this for a very long time, and it is still done today.\n"
     ]
    }
   ],
   "source": [
    "output = llm(prompt)\n",
    "print (output)"
   ]
  },
  {
   "cell_type": "markdown",
   "id": "6f294999",
   "metadata": {},
   "source": [
    "Nice! That's much better, but let's look at something we can automate a bit more"
   ]
  },
  {
   "cell_type": "markdown",
   "id": "13f1cf66",
   "metadata": {},
   "source": [
    "### Level 2: Prompt Templates - Summarize a couple paragraphs\n",
    "\n",
    "Prompt templates are a great way to dynamically place text within your prompts. They are like [python f-strings](https://realpython.com/python-f-strings/) but specialized for working with language models.\n",
    "\n",
    "We're going to look at 2 short Paul Graham essays"
   ]
  },
  {
   "cell_type": "code",
   "execution_count": 10,
   "id": "712acb03",
   "metadata": {},
   "outputs": [],
   "source": [
    "from langchain import OpenAI\n",
    "from langchain import PromptTemplate\n",
    "import os"
   ]
  },
  {
   "cell_type": "code",
   "execution_count": 5,
   "id": "b326aaeb",
   "metadata": {},
   "outputs": [],
   "source": [
    "paul_graham_essays = ['../data/PaulGrahamEssaySmall/getideas.txt', '../data/PaulGrahamEssaySmall/noob.txt']\n",
    "\n",
    "essays = []\n",
    "\n",
    "for file_name in paul_graham_essays:\n",
    "    with open(file_name, 'r') as file:\n",
    "        essays.append(file.read())"
   ]
  },
  {
   "cell_type": "markdown",
   "id": "529ad7c1",
   "metadata": {},
   "source": [
    "Let's print out a preview of the essays to see what they look like"
   ]
  },
  {
   "cell_type": "code",
   "execution_count": 12,
   "id": "d7d93873",
   "metadata": {},
   "outputs": [
    {
     "name": "stdout",
     "output_type": "stream",
     "text": [
      "Essay #1: January 2023(Someone fed my essays into GPT to make something that could answer\n",
      "questions based on them, then asked it where good ideas come from.  The\n",
      "answer was ok, but not what I would have said. This is what I would have said.)The way to get new ideas is to notice anomalies: what seems strange,\n",
      "\n",
      "\n",
      "Essay #2: January 2020When I was young, I thought old people had everything figured out.\n",
      "Now that I'm old, I know this isn't true.I constantly feel like a noob. It seems like I'm always talking to\n",
      "some startup working in a new field I know nothing about, or reading\n",
      "a book about a topic I don't understand well\n",
      "\n"
     ]
    }
   ],
   "source": [
    "for i, essay in enumerate(essays):\n",
    "    print (f\"Essay #{i+1}: {essay[:300]}\\n\")"
   ]
  },
  {
   "cell_type": "markdown",
   "id": "8e70a48e",
   "metadata": {},
   "source": [
    "Next let's create a prompt template which will hold our instructions and a placeholder for the essay. In this example I only want a 1 sentence summary to come back"
   ]
  },
  {
   "cell_type": "code",
   "execution_count": 13,
   "id": "946c379a",
   "metadata": {},
   "outputs": [],
   "source": [
    "template = \"\"\"\n",
    "Please write a one sentence summary of the following text:\n",
    "\n",
    "{essay}\n",
    "\"\"\"\n",
    "\n",
    "prompt = PromptTemplate(\n",
    "    input_variables=[\"essay\"],\n",
    "    template=template\n",
    ")"
   ]
  },
  {
   "cell_type": "markdown",
   "id": "51b2611b",
   "metadata": {},
   "source": [
    "Then let's loop through the 2 essays and pass them to our LLM. I'm applying .strip() on the summaries to remove the white space on the front and back of the output"
   ]
  },
  {
   "cell_type": "code",
   "execution_count": 14,
   "id": "f2038feb",
   "metadata": {},
   "outputs": [
    {
     "name": "stdout",
     "output_type": "stream",
     "text": [
      "This prompt + essay has 205 tokens\n",
      "Summary: Exploring anomalies at the frontiers of knowledge is the best way to generate new ideas.\n",
      "\n",
      "\n",
      "This prompt + essay has 500 tokens\n",
      "Summary: This text explores the idea that feeling like a \"noob\" is actually beneficial, as it is inversely correlated with actual ignorance and encourages us to discover new things.\n",
      "\n",
      "\n"
     ]
    }
   ],
   "source": [
    "for essay in essays:\n",
    "    summary_prompt = prompt.format(essay=essay)\n",
    "    \n",
    "    num_tokens = llm.get_num_tokens(summary_prompt)\n",
    "    print (f\"This prompt + essay has {num_tokens} tokens\")\n",
    "    \n",
    "    summary = llm(summary_prompt)\n",
    "    \n",
    "    print (f\"Summary: {summary.strip()}\")\n",
    "    print (\"\\n\")"
   ]
  },
  {
   "cell_type": "markdown",
   "id": "49ae9a41",
   "metadata": {},
   "source": [
    "### Level 3: Map Reduce - Summarize a couple pages multiple pages\n",
    "\n",
    "If you have multiple pages you'd like to summarize, you'll likely run into a token limit. Token limits won't always be a problem, but it is good to know how to handle them if you run into the issue.\n",
    "\n",
    "The chain type \"Map Reduce\" is a method that helps with this. You first generate a summary of smaller chunks (that fit within the token limit) and then you get a summary of the summaries.\\"
   ]
  },
  {
   "cell_type": "code",
   "execution_count": 15,
   "id": "c2ce6270",
   "metadata": {},
   "outputs": [],
   "source": [
    "from langchain import OpenAI\n",
    "from langchain.chains.summarize import load_summarize_chain\n",
    "from langchain.text_splitter import RecursiveCharacterTextSplitter"
   ]
  },
  {
   "cell_type": "code",
   "execution_count": 16,
   "id": "c70352ae",
   "metadata": {},
   "outputs": [],
   "source": [
    "paul_graham_essay = '../data/PaulGrahamEssays/startupideas.txt'\n",
    "\n",
    "with open(paul_graham_essay, 'r') as file:\n",
    "    essay = file.read()"
   ]
  },
  {
   "cell_type": "markdown",
   "id": "bb6de34d",
   "metadata": {},
   "source": [
    "Let's see how many tokens are in this essay"
   ]
  },
  {
   "cell_type": "code",
   "execution_count": 17,
   "id": "b133938a",
   "metadata": {},
   "outputs": [
    {
     "data": {
      "text/plain": [
       "9565"
      ]
     },
     "execution_count": 17,
     "metadata": {},
     "output_type": "execute_result"
    }
   ],
   "source": [
    "llm.get_num_tokens(essay)"
   ]
  },
  {
   "cell_type": "markdown",
   "id": "dc8ec39d",
   "metadata": {},
   "source": [
    "That's too many, let's split our text up into chunks so they fit into the prompt limit. I'm going a chunk size of 10,000 characters. \n",
    "\n",
    "> You can think of tokens as pieces of words used for natural language processing. For English text, **1 token is approximately 4 characters** or 0.75 words. As a point of reference, the collected works of Shakespeare are about 900,000 words or 1.2M tokens.\n",
    "\n",
    "This means the number of tokens we should expect is 10,000 / 4 = ~2,500 token chunks. But this will vary, each body of text/code will be different"
   ]
  },
  {
   "cell_type": "code",
   "execution_count": 18,
   "id": "2e7c372b",
   "metadata": {},
   "outputs": [],
   "source": [
    "text_splitter = RecursiveCharacterTextSplitter(separators=[\"\\n\\n\", \"\\n\"], chunk_size=10000, chunk_overlap=500)\n",
    "\n",
    "docs = text_splitter.create_documents([essay])"
   ]
  },
  {
   "cell_type": "code",
   "execution_count": 19,
   "id": "f66569f0",
   "metadata": {},
   "outputs": [
    {
     "name": "stdout",
     "output_type": "stream",
     "text": [
      "Now we have 5 documents and the first one has 2086 tokens\n"
     ]
    }
   ],
   "source": [
    "num_docs = len(docs)\n",
    "\n",
    "num_tokens_first_doc = llm.get_num_tokens(docs[0].page_content)\n",
    "\n",
    "print (f\"Now we have {num_docs} documents and the first one has {num_tokens_first_doc} tokens\")"
   ]
  },
  {
   "cell_type": "markdown",
   "id": "b61d49f5",
   "metadata": {},
   "source": [
    "Great, assuming that number of tokens is consistent in the other docs we should be good to go. Let's use LangChain's [load_summarize_chain](https://python.langchain.com/en/latest/use_cases/summarization.html) to do the `map_reducing` for us. We first need to initialize our chain"
   ]
  },
  {
   "cell_type": "code",
   "execution_count": 20,
   "id": "b3b08c54",
   "metadata": {},
   "outputs": [],
   "source": [
    "summary_chain = load_summarize_chain(llm=llm, chain_type='map_reduce',\n",
    "#                                      verbose=True # Set verbose=True if you want to see the prompts being used\n",
    "                                    )"
   ]
  },
  {
   "cell_type": "markdown",
   "id": "78c45721",
   "metadata": {},
   "source": [
    "Now actually run it"
   ]
  },
  {
   "cell_type": "code",
   "execution_count": 21,
   "id": "ba73121e",
   "metadata": {},
   "outputs": [],
   "source": [
    "output = summary_chain.run(docs)"
   ]
  },
  {
   "cell_type": "code",
   "execution_count": 22,
   "id": "693acf9d",
   "metadata": {},
   "outputs": [
    {
     "data": {
      "text/plain": [
       "' This article provides strategies for coming up with startup ideas on demand, such as looking in areas of expertise, talking to people about their needs, and looking for waves and gaps in the market. It also discusses the need for users to have sufficient activation energy to start using a product, and how this varies depending on the product. It looks at the difficulty of switching paths in life as one gets older, and how colleges can help students start startups. Finally, it looks at the importance of focusing on users rather than competitors, and how Steve Wozniak solved his own problems.'"
      ]
     },
     "execution_count": 22,
     "metadata": {},
     "output_type": "execute_result"
    }
   ],
   "source": [
    "output"
   ]
  },
  {
   "cell_type": "markdown",
   "id": "3bc3a71e",
   "metadata": {},
   "source": [
    "This summary is a great start, but I'm more of a bullet point person. I want to get my final output in bullet point form.\n",
    "\n",
    "In order to do this I'm going to use custom promopts (like we did above) to instruct the model on what I want.\n",
    "\n",
    "The map_prompt is going to stay the same (just showing it for clarity), but I'll edit the combine_prompt."
   ]
  },
  {
   "cell_type": "code",
   "execution_count": 23,
   "id": "7442e889",
   "metadata": {},
   "outputs": [],
   "source": [
    "map_prompt = \"\"\"\n",
    "Write a concise summary of the following:\n",
    "\"{text}\"\n",
    "CONCISE SUMMARY:\n",
    "\"\"\"\n",
    "map_prompt_template = PromptTemplate(template=map_prompt, input_variables=[\"text\"])"
   ]
  },
  {
   "cell_type": "code",
   "execution_count": 24,
   "id": "6f42deb5",
   "metadata": {},
   "outputs": [],
   "source": [
    "combine_prompt = \"\"\"\n",
    "Write a concise summary of the following text delimited by triple backquotes.\n",
    "Return your response in bullet points which covers the key points of the text.\n",
    "```{text}```\n",
    "BULLET POINT SUMMARY:\n",
    "\"\"\"\n",
    "combine_prompt_template = PromptTemplate(template=combine_prompt, input_variables=[\"text\"])"
   ]
  },
  {
   "cell_type": "code",
   "execution_count": 25,
   "id": "e2051818",
   "metadata": {},
   "outputs": [],
   "source": [
    "summary_chain = load_summarize_chain(llm=llm,\n",
    "                                     chain_type='map_reduce',\n",
    "                                     map_prompt=map_prompt_template,\n",
    "                                     combine_prompt=combine_prompt_template,\n",
    "#                                      verbose=True\n",
    "                                    )"
   ]
  },
  {
   "cell_type": "code",
   "execution_count": 26,
   "id": "c986230f",
   "metadata": {},
   "outputs": [],
   "source": [
    "output = summary_chain.run(docs)"
   ]
  },
  {
   "cell_type": "code",
   "execution_count": 27,
   "id": "e90a8582",
   "metadata": {},
   "outputs": [
    {
     "name": "stdout",
     "output_type": "stream",
     "text": [
      "- Y Combinator suggests that the best startup ideas come from looking for problems, preferably ones that the founders have themselves.\n",
      "- Good ideas should appeal to a small number of people who need it urgently.\n",
      "- To find startup ideas, one should look for things that seem to be missing and be prepared to question the status quo.\n",
      "- College students should use their college experience to prepare themselves for the future and build things with other students.\n",
      "- Tricks for coming up with startup ideas on demand include looking in areas of expertise, talking to people about their needs, and looking for waves and gaps in the market.\n",
      "- Sam Altman points out that taking the time to come up with an idea is a better strategy than most founders are willing to put in the time for.\n",
      "- Paul Buchheit suggests that trying to sell something bad can lead to better ideas.\n"
     ]
    }
   ],
   "source": [
    "print (output)"
   ]
  },
  {
   "cell_type": "markdown",
   "id": "59a6da87",
   "metadata": {},
   "source": [
    "### Level 4: Best Representation Vectors - Summarize an entire book\n",
    "\n",
    "In the above method we pass the entire document (all 9.5K tokens of it) to the LLM. But what if you have more tokens than that?\n",
    "\n",
    "What if you had a book you wanted to summarize? Let's load one up, we're going to load [Into Thin Air](https://www.amazon.com/Into-Thin-Air-Personal-Disaster/dp/0385494785) about the 1996 Everest Disaster"
   ]
  },
  {
   "cell_type": "code",
   "execution_count": 28,
   "id": "f6ed1dcb",
   "metadata": {},
   "outputs": [],
   "source": [
    "from langchain.document_loaders import PyPDFLoader\n",
    "\n",
    "# Load the book\n",
    "loader = PyPDFLoader(\"../data/IntoThinAirBook.pdf\")\n",
    "pages = loader.load()\n",
    "\n",
    "# Cut out the open and closing parts\n",
    "pages = pages[26:277]\n",
    "\n",
    "# Combine the pages, and replace the tabs with spaces\n",
    "text = \"\"\n",
    "\n",
    "for page in pages:\n",
    "    text += page.page_content\n",
    "    \n",
    "text = text.replace('\\t', ' ')"
   ]
  },
  {
   "cell_type": "code",
   "execution_count": 29,
   "id": "6db88712",
   "metadata": {},
   "outputs": [
    {
     "name": "stdout",
     "output_type": "stream",
     "text": [
      "This book has 139472 tokens in it\n"
     ]
    }
   ],
   "source": [
    "num_tokens = llm.get_num_tokens(text)\n",
    "\n",
    "print (f\"This book has {num_tokens} tokens in it\")"
   ]
  },
  {
   "cell_type": "markdown",
   "id": "4bedfe55",
   "metadata": {},
   "source": [
    "Wow, that's over 100K tokens, even [GPT 32K](https://help.openai.com/en/articles/7127966-what-is-the-difference-between-the-gpt-4-models) wouldn't be able to handle that in one go. At [0.03 per 1K prompt tokens](https://help.openai.com/en/articles/7127956-how-much-does-gpt-4-cost), this would cost us $4.17 just for the prompt alone.\n",
    "\n",
    "So how do we do this without going through all the tokens? Pick random chunks? Pick equally spaced chunks?\n",
    "\n",
    "**Goal:** Chunk your book then get embeddings of the chunks. Pick a subset of chunks which represent a wholistic but diverse view of the book. Or another way, is there a way to pick the top 10 passages that describe the book the best?\n",
    "\n",
    "Once we have our chunks that represent the book then we can summarize those chunks and hopefully get a pretty good summary.\n",
    "\n",
    "Keep in mind there are tools that would likely do this for you, and with token limits increasing this won't be a problem for long. But if you want to do it from scratch this might help.\n",
    "\n",
    "This is most definitely not the optimal answer, but it's my take on it for now! If the [clustering](https://scikit-learn.org/stable/modules/clustering.html) experts wanna help improve it that would be awesome.\n",
    "\n",
    "**The BRV Steps:**\n",
    "1. Load your book into a single text file\n",
    "2. Split your text into large-ish chunks\n",
    "3. Embed your chunks to get vectors\n",
    "4. Cluster the vectors to see which are similar to each other and likely talk about the same parts of the book\n",
    "5. Pick embeddings that represent the cluster the most (method: closest to each cluster centroid)\n",
    "6. Summarize the documents that these embeddings represent\n",
    "\n",
    "Another way to phrase this process, \"Which ~10 documents from this book represent most of the meaning? I want to build a summary off those.\"\n",
    "\n",
    "Note: There will be a bit of information loss, but show me a summary of a whole book that doesn't have information loss ;)"
   ]
  },
  {
   "cell_type": "code",
   "execution_count": 30,
   "id": "e0e930b3",
   "metadata": {},
   "outputs": [
    {
     "name": "stderr",
     "output_type": "stream",
     "text": [
      "/Users/gregorykamradt/opt/anaconda3/lib/python3.9/site-packages/deeplake/util/check_latest_version.py:32: UserWarning: A newer version of deeplake (3.7.2) is available. It's recommended that you update to the latest version using `pip install -U deeplake`.\n",
      "  warnings.warn(\n"
     ]
    }
   ],
   "source": [
    "# Loaders\n",
    "from langchain.schema import Document\n",
    "\n",
    "# Splitters\n",
    "from langchain.text_splitter import RecursiveCharacterTextSplitter\n",
    "\n",
    "# Model\n",
    "from langchain.chat_models import ChatOpenAI\n",
    "\n",
    "# Embedding Support\n",
    "from langchain.vectorstores import FAISS\n",
    "from langchain.embeddings import OpenAIEmbeddings\n",
    "\n",
    "# Summarizer we'll use for Map Reduce\n",
    "from langchain.chains.summarize import load_summarize_chain\n",
    "\n",
    "# Data Science\n",
    "import numpy as np\n",
    "from sklearn.cluster import KMeans"
   ]
  },
  {
   "cell_type": "markdown",
   "id": "0e5cdbd2",
   "metadata": {},
   "source": [
    "I'm going to initialize two models, gpt-3.5 and gpt4. I'll use gpt 3.5 for the first set of summaries to reduce cost and then gpt4 for the final pass which should hopefully increase the quality."
   ]
  },
  {
   "cell_type": "code",
   "execution_count": 31,
   "id": "0d3d233d",
   "metadata": {},
   "outputs": [],
   "source": [
    "text_splitter = RecursiveCharacterTextSplitter(separators=[\"\\n\\n\", \"\\n\", \"\\t\"], chunk_size=10000, chunk_overlap=3000)\n",
    "\n",
    "docs = text_splitter.create_documents([text])"
   ]
  },
  {
   "cell_type": "code",
   "execution_count": 32,
   "id": "c1c2c701",
   "metadata": {},
   "outputs": [
    {
     "name": "stdout",
     "output_type": "stream",
     "text": [
      "Now our book is split up into 78 documents\n"
     ]
    }
   ],
   "source": [
    "num_documents = len(docs)\n",
    "\n",
    "print (f\"Now our book is split up into {num_documents} documents\")"
   ]
  },
  {
   "cell_type": "markdown",
   "id": "8d413b2d",
   "metadata": {},
   "source": [
    "Let's get our embeddings of those 78 documents"
   ]
  },
  {
   "cell_type": "code",
   "execution_count": 33,
   "id": "898fc62c",
   "metadata": {},
   "outputs": [],
   "source": [
    "embeddings = OpenAIEmbeddings(openai_api_key=openai_api_key)\n",
    "\n",
    "vectors = embeddings.embed_documents([x.page_content for x in docs])"
   ]
  },
  {
   "cell_type": "markdown",
   "id": "726f6dee",
   "metadata": {},
   "source": [
    "Now let's cluster our embeddings. There are a ton of clustering algorithms you can chose from. Please try a few out to see what works best for you!"
   ]
  },
  {
   "cell_type": "code",
   "execution_count": null,
   "id": "55c8dce0",
   "metadata": {},
   "outputs": [],
   "source": [
    "# Assuming 'embeddings' is a list or array of 1536-dimensional embeddings\n",
    "\n",
    "# Choose the number of clusters, this can be adjusted based on the book's content.\n",
    "# I played around and found ~10 was the best.\n",
    "# Usually if you have 10 passages from a book you can tell what it's about\n",
    "num_clusters = 11\n",
    "\n",
    "# Perform K-means clustering\n",
    "kmeans = KMeans(n_clusters=num_clusters, random_state=42).fit(vectors)"
   ]
  },
  {
   "cell_type": "markdown",
   "id": "891d82cd",
   "metadata": {},
   "source": [
    "Here are the clusters that were found. It's interesting to see the progression of clusters throughout the book. This is expected because as the plot changes you'd expect different clusters to emerge due to different semantic meaning"
   ]
  },
  {
   "cell_type": "code",
   "execution_count": null,
   "id": "218dce05",
   "metadata": {},
   "outputs": [],
   "source": [
    "kmeans.labels_"
   ]
  },
  {
   "cell_type": "markdown",
   "id": "1d9ccd8b",
   "metadata": {},
   "source": [
    "This is sweet, but whenever you have a clustering exercise, it's hard *not* to graph them. Make sure you add colors.\n",
    "\n",
    "We also need to do dimensionality reduction to reduce the vectors from 1536 dimensions to 2 (this is sloppy data science but we are working towards the 80% solution)"
   ]
  },
  {
   "cell_type": "code",
   "execution_count": null,
   "id": "95da2509",
   "metadata": {},
   "outputs": [],
   "source": [
    "from sklearn.manifold import TSNE\n",
    "import matplotlib.pyplot as plt\n",
    "\n",
    "# Taking out the warnings\n",
    "import warnings\n",
    "from warnings import simplefilter\n",
    "\n",
    "# Filter out FutureWarnings\n",
    "simplefilter(action='ignore', category=FutureWarning)\n",
    "\n",
    "# Perform t-SNE and reduce to 2 dimensions\n",
    "tsne = TSNE(n_components=2, random_state=42)\n",
    "reduced_data_tsne = tsne.fit_transform(vectors)\n",
    "\n",
    "# Plot the reduced data\n",
    "plt.scatter(reduced_data_tsne[:, 0], reduced_data_tsne[:, 1], c=kmeans.labels_)\n",
    "plt.xlabel('Dimension 1')\n",
    "plt.ylabel('Dimension 2')\n",
    "plt.title('Book Embeddings Clustered')\n",
    "plt.show()"
   ]
  },
  {
   "cell_type": "markdown",
   "id": "6aa4314b",
   "metadata": {},
   "source": [
    "Awesome, not perfect, but pretty good directionally. Now we need to get the vectors which are closest to the cluster centroids (the center).\n",
    "\n",
    "The function below is a quick way to do that (w/ help from ChatGPT)"
   ]
  },
  {
   "cell_type": "code",
   "execution_count": null,
   "id": "55f2f664",
   "metadata": {},
   "outputs": [],
   "source": [
    "# Find the closest embeddings to the centroids\n",
    "\n",
    "# Create an empty list that will hold your closest points\n",
    "closest_indices = []\n",
    "\n",
    "# Loop through the number of clusters you have\n",
    "for i in range(num_clusters):\n",
    "    \n",
    "    # Get the list of distances from that particular cluster center\n",
    "    distances = np.linalg.norm(vectors - kmeans.cluster_centers_[i], axis=1)\n",
    "    \n",
    "    # Find the list position of the closest one (using argmin to find the smallest distance)\n",
    "    closest_index = np.argmin(distances)\n",
    "    \n",
    "    # Append that position to your closest indices list\n",
    "    closest_indices.append(closest_index)"
   ]
  },
  {
   "cell_type": "markdown",
   "id": "f5a44596",
   "metadata": {},
   "source": [
    "Now sort them (so the chunks are processed in order)"
   ]
  },
  {
   "cell_type": "code",
   "execution_count": null,
   "id": "679297ac",
   "metadata": {},
   "outputs": [],
   "source": [
    "selected_indices = sorted(closest_indices)\n",
    "selected_indices"
   ]
  },
  {
   "cell_type": "markdown",
   "id": "171c2b42",
   "metadata": {},
   "source": [
    "It's intersting to see which chunks pop up at most descriptive. How does your distribution look?\n",
    "\n",
    "Let's create our custom prompts. I'm going to use gpt4 (which has a bigger token limit) for the combine step so I'm asking for long summaries in the map step to reduce the information loss."
   ]
  },
  {
   "cell_type": "code",
   "execution_count": null,
   "id": "83bc55d8",
   "metadata": {},
   "outputs": [],
   "source": [
    "llm3 = ChatOpenAI(temperature=0,\n",
    "                 openai_api_key=openai_api_key,\n",
    "                 max_tokens=1000,\n",
    "                 model='gpt-3.5-turbo'\n",
    "                )"
   ]
  },
  {
   "cell_type": "code",
   "execution_count": null,
   "id": "5552e6d3",
   "metadata": {},
   "outputs": [],
   "source": [
    "map_prompt = \"\"\"\n",
    "You will be given a single passage of a book. This section will be enclosed in triple backticks (```)\n",
    "Your goal is to give a summary of this section so that a reader will have a full understanding of what happened.\n",
    "Your response should be at least three paragraphs and fully encompass what was said in the passage.\n",
    "\n",
    "```{text}```\n",
    "FULL SUMMARY:\n",
    "\"\"\"\n",
    "map_prompt_template = PromptTemplate(template=map_prompt, input_variables=[\"text\"])"
   ]
  },
  {
   "cell_type": "markdown",
   "id": "b568b94a",
   "metadata": {},
   "source": [
    "I kept getting a timeout errors so I'm actually going to do this map reduce manually"
   ]
  },
  {
   "cell_type": "code",
   "execution_count": null,
   "id": "bb5eb0d9",
   "metadata": {},
   "outputs": [],
   "source": [
    "map_chain = load_summarize_chain(llm=llm3,\n",
    "                             chain_type=\"stuff\",\n",
    "                             prompt=map_prompt_template)"
   ]
  },
  {
   "cell_type": "markdown",
   "id": "e4e1ec38",
   "metadata": {},
   "source": [
    "Then go get your docs which the top vectors represented."
   ]
  },
  {
   "cell_type": "code",
   "execution_count": null,
   "id": "781a686c",
   "metadata": {},
   "outputs": [],
   "source": [
    "selected_docs = [docs[doc] for doc in selected_indices]"
   ]
  },
  {
   "cell_type": "markdown",
   "id": "eca5fc42",
   "metadata": {},
   "source": [
    "Let's loop through our selected docs and get a good summary for each chunk. We'll store the summary in a list."
   ]
  },
  {
   "cell_type": "code",
   "execution_count": null,
   "id": "7e2220ab",
   "metadata": {},
   "outputs": [],
   "source": [
    "# Make an empty list to hold your summaries\n",
    "summary_list = []\n",
    "\n",
    "# Loop through a range of the lenght of your selected docs\n",
    "for i, doc in enumerate(selected_docs):\n",
    "    \n",
    "    # Go get a summary of the chunk\n",
    "    chunk_summary = map_chain.run([doc])\n",
    "    \n",
    "    # Append that summary to your list\n",
    "    summary_list.append(chunk_summary)\n",
    "    \n",
    "    print (f\"Summary #{i} (chunk #{selected_indices[i]}) - Preview: {chunk_summary[:250]} \\n\")"
   ]
  },
  {
   "cell_type": "markdown",
   "id": "7fae1a72",
   "metadata": {},
   "source": [
    "Great, now that we have our list of summaries, let's get a summary of the summaries"
   ]
  },
  {
   "cell_type": "code",
   "execution_count": null,
   "id": "4083431d",
   "metadata": {},
   "outputs": [],
   "source": [
    "summaries = \"\\n\".join(summary_list)\n",
    "\n",
    "# Convert it back to a document\n",
    "summaries = Document(page_content=summaries)\n",
    "\n",
    "print (f\"Your total summary has {llm.get_num_tokens(summaries.page_content)} tokens\")"
   ]
  },
  {
   "cell_type": "code",
   "execution_count": null,
   "id": "1d2e71c5",
   "metadata": {},
   "outputs": [],
   "source": [
    "llm4 = ChatOpenAI(temperature=0,\n",
    "                 openai_api_key=openai_api_key,\n",
    "                 max_tokens=3000,\n",
    "                 model='gpt-4',\n",
    "                 request_timeout=120\n",
    "                )"
   ]
  },
  {
   "cell_type": "code",
   "execution_count": null,
   "id": "b98e7321",
   "metadata": {},
   "outputs": [],
   "source": [
    "combine_prompt = \"\"\"\n",
    "You will be given a series of summaries from a book. The summaries will be enclosed in triple backticks (```)\n",
    "Your goal is to give a verbose summary of what happened in the story.\n",
    "The reader should be able to grasp what happened in the book.\n",
    "\n",
    "```{text}```\n",
    "VERBOSE SUMMARY:\n",
    "\"\"\"\n",
    "combine_prompt_template = PromptTemplate(template=combine_prompt, input_variables=[\"text\"])"
   ]
  },
  {
   "cell_type": "code",
   "execution_count": null,
   "id": "2930c26e",
   "metadata": {},
   "outputs": [],
   "source": [
    "reduce_chain = load_summarize_chain(llm=llm4,\n",
    "                             chain_type=\"stuff\",\n",
    "                             prompt=combine_prompt_template,\n",
    "#                              verbose=True # Set this to true if you want to see the inner workings\n",
    "                                   )"
   ]
  },
  {
   "cell_type": "markdown",
   "id": "e9958142",
   "metadata": {},
   "source": [
    "Run! Note this will take a while"
   ]
  },
  {
   "cell_type": "code",
   "execution_count": null,
   "id": "c6eda913",
   "metadata": {},
   "outputs": [],
   "source": [
    "output = reduce_chain.run([summaries])"
   ]
  },
  {
   "cell_type": "code",
   "execution_count": null,
   "id": "915628a1",
   "metadata": {},
   "outputs": [],
   "source": [
    "print (output)"
   ]
  },
  {
   "cell_type": "markdown",
   "id": "27a1db73",
   "metadata": {},
   "source": [
    "Wow that was a long process, but you get the gist, hopefully we'll see some library abstractions in the coming months that do this automatically for us! Let me know what you think on [Twitter](https://twitter.com/GregKamradt)"
   ]
  },
  {
   "cell_type": "markdown",
   "id": "5b4ae429",
   "metadata": {},
   "source": [
    "### Level 5: Agents - Summarize an unknown amount of text\n",
    "\n",
    "What if you have an unknown amount of text you need to summarize? This may be a verticalize use case (like law or medical) where more research is required as you uncover the first pieces of information.\n",
    "\n",
    "We're going to use agents below, this is still a very actively developed area and should be handled with care. Future agents will be able to handle a lot more complicated tasks."
   ]
  },
  {
   "cell_type": "code",
   "execution_count": null,
   "id": "fd384fd2",
   "metadata": {},
   "outputs": [],
   "source": [
    "from langchain import OpenAI\n",
    "from langchain.chat_models import ChatOpenAI\n",
    "from langchain.agents import initialize_agent, Tool\n",
    "from langchain.utilities import WikipediaAPIWrapper\n",
    "\n",
    "llm = ChatOpenAI(temperature=0, model_name='gpt-4', openai_api_key=openai_api_key)"
   ]
  },
  {
   "cell_type": "markdown",
   "id": "6456e70a",
   "metadata": {},
   "source": [
    "We're going to use the Wiki search tool and research multiple topics"
   ]
  },
  {
   "cell_type": "code",
   "execution_count": null,
   "id": "6b93660c",
   "metadata": {},
   "outputs": [],
   "source": [
    "wikipedia = WikipediaAPIWrapper()"
   ]
  },
  {
   "cell_type": "markdown",
   "id": "b7d26c52",
   "metadata": {},
   "source": [
    "Let's define our toolkit, in this case it's just one tool"
   ]
  },
  {
   "cell_type": "code",
   "execution_count": null,
   "id": "aaf60c86",
   "metadata": {},
   "outputs": [],
   "source": [
    "tools = [\n",
    "    Tool(\n",
    "        name=\"Wikipedia\",\n",
    "        func=wikipedia.run,\n",
    "        description=\"Useful for when you need to get information from wikipedia about a single topic\"\n",
    "    ),\n",
    "]"
   ]
  },
  {
   "cell_type": "markdown",
   "id": "9d0f07a5",
   "metadata": {},
   "source": [
    "Init our agent"
   ]
  },
  {
   "cell_type": "code",
   "execution_count": null,
   "id": "baff1fce",
   "metadata": {},
   "outputs": [],
   "source": [
    "agent_executor = initialize_agent(tools, llm, agent='zero-shot-react-description', verbose=True)"
   ]
  },
  {
   "cell_type": "markdown",
   "id": "06d17afb",
   "metadata": {},
   "source": [
    "Then let's ask a question that will need multiple documents"
   ]
  },
  {
   "cell_type": "code",
   "execution_count": null,
   "id": "dbd6e437",
   "metadata": {
    "scrolled": false
   },
   "outputs": [],
   "source": [
    "output = agent_executor.run(\"Can you please provide a quick summary of Napoleon Bonaparte? \\\n",
    "                          Then do a separate search and tell me what the commonalities are with Serena Williams\")"
   ]
  },
  {
   "cell_type": "code",
   "execution_count": null,
   "id": "4e5aeeee",
   "metadata": {},
   "outputs": [],
   "source": [
    "print (output)"
   ]
  },
  {
   "cell_type": "markdown",
   "id": "2b705ff8",
   "metadata": {},
   "source": [
    "## Using LLMs To Summarize Personal Research\n",
    "\n",
    "Our goal is to have LLM aid us in generating interview quetions for someone. I find that I'm constantly trying to ramp up to a person's background and story when preparing to meet them.\n",
    "\n",
    "There is a ton of awesome resources about a person online we can use\n",
    "\n",
    "* Twitter Profiles\n",
    "* Websites\n",
    "* Other Interviews (YouTube or Text)\n",
    "\n",
    "Let's bring all these together by first pulling the information and then generating questions or bullet points we can use as preparation.\n",
    "\n",
    "First let's import our packages! We'll be using LangChain to help us interact with OpenAI"
   ]
  },
  {
   "cell_type": "code",
   "execution_count": null,
   "id": "25cc3080",
   "metadata": {},
   "outputs": [],
   "source": [
    "# Unzip data folder\n",
    "\n",
    "import zipfile\n",
    "with zipfile.ZipFile('../../data.zip', 'r') as zip_ref:\n",
    "    zip_ref.extractall('..')"
   ]
  },
  {
   "cell_type": "code",
   "execution_count": null,
   "id": "8c351289",
   "metadata": {},
   "outputs": [
    {
     "data": {
      "text/plain": [
       "True"
      ]
     },
     "metadata": {},
     "output_type": "display_data"
    }
   ],
   "source": [
    "# LLMs\n",
    "from langchain import PromptTemplate\n",
    "from langchain.llms import OpenAI\n",
    "from langchain.chat_models import ChatOpenAI\n",
    "from langchain.text_splitter import RecursiveCharacterTextSplitter\n",
    "from langchain.chains.summarize import load_summarize_chain\n",
    "from langchain.prompts import PromptTemplate\n",
    "\n",
    "# Twitter\n",
    "import tweepy\n",
    "\n",
    "# Scraping\n",
    "import requests\n",
    "from bs4 import BeautifulSoup\n",
    "from markdownify import markdownify as md\n",
    "\n",
    "# YouTube\n",
    "from langchain.document_loaders import YoutubeLoader\n",
    "# !pip install youtube-transcript-api\n",
    "\n",
    "# Environment Variables\n",
    "import os\n",
    "from dotenv import load_dotenv\n",
    "\n",
    "load_dotenv()"
   ]
  },
  {
   "cell_type": "markdown",
   "id": "b6ca7bb7",
   "metadata": {},
   "source": [
    "You'll need a few API keys to complete the script below. It's modular so if you don't want to pull from Twitter feel free to leave those blank"
   ]
  },
  {
   "cell_type": "code",
   "execution_count": null,
   "id": "252257c5",
   "metadata": {},
   "outputs": [],
   "source": [
    "TWITTER_API_KEY = os.getenv('TWITTER_API_KEY', 'YourAPIKeyIfNotSet')\n",
    "TWITTER_API_SECRET = os.getenv('TWITTER_API_SECRET', 'YourAPIKeyIfNotSet')\n",
    "TWITTER_ACCESS_TOKEN = os.getenv('TWITTER_ACCESS_TOKEN', 'YourAPIKeyIfNotSet')\n",
    "TWITTER_ACCESS_TOKEN_SECRET = os.getenv('TWITTER_ACCESS_TOKEN_SECRET', 'YourAPIKeyIfNotSet')\n",
    "OPENAI_API_KEY = os.getenv('OPENAI_API_KEY', 'YourAPIKeyIfNotSet')"
   ]
  },
  {
   "cell_type": "markdown",
   "id": "2bd34664",
   "metadata": {},
   "source": [
    "For this tutorial, let's pretend we are going to be interviewing [Elad Gil](https://eladgil.com/) since he has a bunch of content online\n",
    "\n",
    "### Pulling Data From Twitter\n",
    "Great, now let's set up a function that will pull tweets for us. This will help us get current events that the user is talking about. I'm excluding replies since they usually don't have a ton of high signal text from the user. This is the same code that was used in the [Twitter AI Bot tutorial](https://youtu.be/yLWLDjT01q8)."
   ]
  },
  {
   "cell_type": "code",
   "execution_count": null,
   "id": "51f673a1",
   "metadata": {},
   "outputs": [],
   "source": [
    "def get_original_tweets(screen_name, tweets_to_pull=80, tweets_to_return=80):\n",
    "    \n",
    "    # Tweepy set up\n",
    "    auth = tweepy.OAuthHandler(TWITTER_API_KEY, TWITTER_API_SECRET)\n",
    "    auth.set_access_token(TWITTER_ACCESS_TOKEN, TWITTER_ACCESS_TOKEN_SECRET)\n",
    "    api = tweepy.API(auth)\n",
    "\n",
    "    # Holder for the tweets you'll find\n",
    "    tweets = []\n",
    "    \n",
    "    # Go and pull the tweets\n",
    "    tweepy_results = tweepy.Cursor(api.user_timeline,\n",
    "                                   screen_name=screen_name,\n",
    "                                   tweet_mode='extended',\n",
    "                                   exclude_replies=True).items(tweets_to_pull)\n",
    "    \n",
    "    # Run through tweets and remove retweets and quote tweets so we can only look at a user's raw emotions\n",
    "    for status in tweepy_results:\n",
    "        if hasattr(status, 'retweeted_status') or hasattr(status, 'quoted_status'):\n",
    "            # Skip if it's a retweet or quote tweet\n",
    "            continue\n",
    "        else:\n",
    "            tweets.append({'full_text': status.full_text, 'likes': status.favorite_count})\n",
    "\n",
    "    \n",
    "    # Sort the tweets by number of likes. This will help us short_list the top ones later\n",
    "    sorted_tweets = sorted(tweets, key=lambda x: x['likes'], reverse=True)\n",
    "\n",
    "    # Get the text and drop the like count from the dictionary\n",
    "    full_text = [x['full_text'] for x in sorted_tweets][:tweets_to_return]\n",
    "    \n",
    "    # Convert the list of tweets into a string of tweets we can use in the prompt later\n",
    "    users_tweets = \"\\n\\n\".join(full_text)\n",
    "            \n",
    "    return users_tweets"
   ]
  },
  {
   "cell_type": "markdown",
   "id": "18acf44e",
   "metadata": {},
   "source": [
    "Ok cool, let's try it out!"
   ]
  },
  {
   "cell_type": "code",
   "execution_count": null,
   "id": "aeaff9c8",
   "metadata": {},
   "outputs": [
    {
     "name": "stdout",
     "output_type": "stream",
     "text": [
      "More AI companies with sudden virality + paying customers should just bootstrap\n",
      "\n",
      "0. Running co for cash may be best success\n",
      "\n",
      "1. If it does scale, being profitable or near to it creates lot of options\n",
      "\n",
      "2. it may not scale, or only work for a few months\n",
      "\n",
      "3. Why get on the… https://t.co/Q9TRQo4yau\n",
      "\n",
      "Som\n"
     ]
    }
   ],
   "source": [
    "user_tweets = get_original_tweets(\"eladgil\")\n",
    "print (user_tweets[:300])"
   ]
  },
  {
   "cell_type": "markdown",
   "id": "0211849f",
   "metadata": {},
   "source": [
    "Awesome, now we have a few tweets let's move onto pulling data from a web page or two.\n",
    "\n",
    "### Pulling Data From Websites\n",
    "\n",
    "Let's do two pages\n",
    "\n",
    "1. His personal website which has his background - https://eladgil.com/\n",
    "2. One of my favorite blog posts from him around AI defensibility & moats - https://blog.eladgil.com/p/defensibility-and-competition\n",
    "\n",
    "First let's create a function that will scrape a website for us.\n",
    "\n",
    "We'll do this by pulling the raw html, put it in a BeautifulSoup object, then convert that object to Markdown for better parsing"
   ]
  },
  {
   "cell_type": "code",
   "execution_count": null,
   "id": "5e9dc2e9",
   "metadata": {},
   "outputs": [],
   "source": [
    "def pull_from_website(url):\n",
    "    \n",
    "    # Doing a try in case it doesn't work\n",
    "    try:\n",
    "        response = requests.get(url)\n",
    "    except:\n",
    "        # In case it doesn't work\n",
    "        print (\"Whoops, error\")\n",
    "        return\n",
    "    \n",
    "    # Put your response in a beautiful soup\n",
    "    soup = BeautifulSoup(response.text, 'html.parser')\n",
    "    \n",
    "    # Get your text\n",
    "    text = soup.get_text()\n",
    "\n",
    "    # Convert your html to markdown. This reduces tokens and noise\n",
    "    text = md(text)\n",
    "     \n",
    "    return text"
   ]
  },
  {
   "cell_type": "code",
   "execution_count": null,
   "id": "d8f39c5d",
   "metadata": {},
   "outputs": [],
   "source": [
    "# I'm going to store my website data in a simple string.\n",
    "# There is likely optimization to make this better but it's a solid 80% solution\n",
    "\n",
    "website_data = \"\"\n",
    "urls = [\"https://eladgil.com/\", \"https://blog.eladgil.com/p/defensibility-and-competition\"]\n",
    "\n",
    "for url in urls:\n",
    "    text = pull_from_website(url)\n",
    "    \n",
    "    website_data += text"
   ]
  },
  {
   "cell_type": "markdown",
   "id": "7096da70",
   "metadata": {},
   "source": [
    "Awesome, now that we have both of those data sources, let's check out a sample"
   ]
  },
  {
   "cell_type": "code",
   "execution_count": null,
   "id": "48e6f731",
   "metadata": {},
   "outputs": [
    {
     "name": "stdout",
     "output_type": "stream",
     "text": [
      "\n",
      "\n",
      "\n",
      "Elad Gil\n",
      "\n",
      "\n",
      "\n",
      "\n",
      "Welcome to Elad Gil's retro homepage!\n",
      "\n",
      " Who? I am a technology entrepreneur. LinkedIn profile is here.\n",
      "What?\n",
      "I am an investor or advisor to companies including Airbnb, Airtable, Anduril, Brex, Checkr, Coinbase, dbt Labs, Deel, Figma, Flexport, Gitlab, Gusto, Instacart, Navan, Notion, Opendoor, PagerDuty, Pinterest, Retool, Rippling, Samsara, Square, Stripe\n",
      "I am involved with AI com\n"
     ]
    }
   ],
   "source": [
    "print (website_data[:400])"
   ]
  },
  {
   "cell_type": "markdown",
   "id": "516c4788",
   "metadata": {},
   "source": [
    "Awesome, to round us off, let's get the information from a youtube video. YouTube has tons of data like Podcasts and interviews. This will be valuable for us to have.\n",
    "\n",
    "### Pulling Data From YouTube\n",
    "\n",
    "We'll use LangChains YouTube loaders for this. It only works if there is a transcript on the YT video already, if there isn't then we'll move on. You could get the transcript via Whisper if you really wanted to, but that's out of scope for today.\n",
    "\n",
    "We'll make a function we can use to loop through videos"
   ]
  },
  {
   "cell_type": "code",
   "execution_count": null,
   "id": "4f6f7547",
   "metadata": {},
   "outputs": [],
   "source": [
    "# Pulling data from YouTube in text form\n",
    "def get_video_transcripts(url):\n",
    "    loader = YoutubeLoader.from_youtube_url(url, add_video_info=True)\n",
    "    documents = loader.load()\n",
    "    transcript = ' '.join([doc.page_content for doc in documents])\n",
    "    return transcript"
   ]
  },
  {
   "cell_type": "code",
   "execution_count": null,
   "id": "5e0a1641",
   "metadata": {},
   "outputs": [],
   "source": [
    "# Using a regular string to store the youtube transcript data\n",
    "# Video selection will be important.\n",
    "# Parsing interviews is a whole other can of worms so I'm opting for one where Elad is mostly talking about himself\n",
    "video_urls = ['https://www.youtube.com/watch?v=nglHX4B33_o']\n",
    "videos_text = \"\"\n",
    "\n",
    "for video_url in video_urls:\n",
    "    video_text = get_video_transcripts(video_url)\n",
    "    \n",
    "    videos_text += video_text"
   ]
  },
  {
   "cell_type": "markdown",
   "id": "f95d4dd3",
   "metadata": {},
   "source": [
    "Let's look at at sample from the video"
   ]
  },
  {
   "cell_type": "code",
   "execution_count": null,
   "id": "56ff4f70",
   "metadata": {},
   "outputs": [
    {
     "name": "stdout",
     "output_type": "stream",
     "text": [
      "I like to say that startups are an act of desperation and the desperation went out of the ecosystem over the last two or three years and we just had people showing up for the status and the money and now I think it's getting back to people who are doing it for a variety of reasons including the impa\n"
     ]
    }
   ],
   "source": [
    "print(video_text[:300])"
   ]
  },
  {
   "cell_type": "markdown",
   "id": "ab24ccef",
   "metadata": {},
   "source": [
    "Awesome now that we have all of our data, let's combine it together into a single information block"
   ]
  },
  {
   "cell_type": "code",
   "execution_count": null,
   "id": "dd4e0de0",
   "metadata": {},
   "outputs": [],
   "source": [
    "user_information = user_tweets + website_data + video_text"
   ]
  },
  {
   "cell_type": "markdown",
   "id": "c122d4b0",
   "metadata": {},
   "source": [
    "Our `user_information` variable is a big messy wall of text. Ideally we would clean this up more and try to increase the signal to noise ratio. However for this project we'll just focus on the core use case of gathering data.\n",
    "\n",
    "Next we'll chunk our wall of text into pieces so we can do a map_reduce process on it. If you want learn more about techniques to split up your data check out my video on [OpenAI Token Workarounds](https://www.youtube.com/watch?v=f9_BWhCI4Zo)"
   ]
  },
  {
   "cell_type": "code",
   "execution_count": null,
   "id": "1406cfd1",
   "metadata": {},
   "outputs": [],
   "source": [
    "# First we make our text splitter\n",
    "text_splitter = RecursiveCharacterTextSplitter(chunk_size=20000, chunk_overlap=2000)"
   ]
  },
  {
   "cell_type": "code",
   "execution_count": null,
   "id": "b0750bb3",
   "metadata": {},
   "outputs": [],
   "source": [
    "# Then we split our user information into different documents\n",
    "docs = text_splitter.create_documents([user_information])"
   ]
  },
  {
   "cell_type": "code",
   "execution_count": null,
   "id": "c0b4ca3f",
   "metadata": {},
   "outputs": [
    {
     "data": {
      "text/plain": [
       "3"
      ]
     },
     "metadata": {},
     "output_type": "display_data"
    }
   ],
   "source": [
    "# Let's see how many documents we created\n",
    "len(docs)"
   ]
  },
  {
   "cell_type": "markdown",
   "id": "4d569450",
   "metadata": {},
   "source": [
    "Because we have a special requset for the LLM on our data, I want to make custom prompts. This will allow me to tinker with what data the LLM pulls out. I'll use Langchain's `load_summarize_chain` with custom prompts to do this. We aren't making a summary, but rather just using `load_summarize_chain` for its easy mapreduce functionality.\n",
    "\n",
    "First let's make our custom map prompt. This is where we'll instruction the LLM that it will pull out interview questoins and what makes a good question."
   ]
  },
  {
   "cell_type": "code",
   "execution_count": null,
   "id": "2c5645c4",
   "metadata": {},
   "outputs": [],
   "source": [
    "map_prompt = \"\"\"You are a helpful AI bot that aids a user in research.\n",
    "Below is information about a person named {persons_name}.\n",
    "Information will include tweets, interview transcripts, and blog posts about {persons_name}\n",
    "Your goal is to generate interview questions that we can ask {persons_name}\n",
    "Use specifics from the research when possible\n",
    "\n",
    "% START OF INFORMATION ABOUT {persons_name}:\n",
    "{text}\n",
    "% END OF INFORMATION ABOUT {persons_name}:\n",
    "\n",
    "Please respond with list of a few interview questions based on the topics above\n",
    "\n",
    "YOUR RESPONSE:\"\"\"\n",
    "map_prompt_template = PromptTemplate(template=map_prompt, input_variables=[\"text\", \"persons_name\"])"
   ]
  },
  {
   "cell_type": "markdown",
   "id": "8c9827a6",
   "metadata": {},
   "source": [
    "Then we'll make our custom combine promopt. This is the set of instructions that we'll LLM on how to handle the list of questions that is returned in the first step above."
   ]
  },
  {
   "cell_type": "code",
   "execution_count": null,
   "id": "5feb718e",
   "metadata": {},
   "outputs": [],
   "source": [
    "combine_prompt = \"\"\"\n",
    "You are a helpful AI bot that aids a user in research.\n",
    "You will be given a list of potential interview questions that we can ask {persons_name}.\n",
    "\n",
    "Please consolidate the questions and return a list\n",
    "\n",
    "% INTERVIEW QUESTIONS\n",
    "{text}\n",
    "\"\"\"\n",
    "combine_prompt_template = PromptTemplate(template=combine_prompt, input_variables=[\"text\", \"persons_name\"])"
   ]
  },
  {
   "cell_type": "markdown",
   "id": "d9d4ca77",
   "metadata": {},
   "source": [
    "Let's create our LLM and chain. I'm increasing the color a bit for more creative language. If you notice that your questions have hallucinations in them, turn temperature to 0"
   ]
  },
  {
   "cell_type": "code",
   "execution_count": null,
   "id": "5c284fa5",
   "metadata": {},
   "outputs": [],
   "source": [
    "llm = ChatOpenAI(temperature=.25, model_name='gpt-4')\n",
    "\n",
    "chain = load_summarize_chain(llm,\n",
    "                             chain_type=\"map_reduce\",\n",
    "                             map_prompt=map_prompt_template,\n",
    "                             combine_prompt=combine_prompt_template,\n",
    "#                              verbose=True\n",
    "                            )"
   ]
  },
  {
   "cell_type": "markdown",
   "id": "790f6bfc",
   "metadata": {},
   "source": [
    "Ok, finally! With all of our data gathered and prompts ready, let's run our chain"
   ]
  },
  {
   "cell_type": "code",
   "execution_count": null,
   "id": "23a36182",
   "metadata": {},
   "outputs": [
    {
     "name": "stderr",
     "output_type": "stream",
     "text": [
      "Warning: model not found. Using cl100k_base encoding.\n"
     ]
    }
   ],
   "source": [
    "output = chain({\"input_documents\": docs, # The seven docs that were created before\n",
    "                \"persons_name\": \"Elad Gil\"\n",
    "               })"
   ]
  },
  {
   "cell_type": "code",
   "execution_count": null,
   "id": "63a185d3",
   "metadata": {},
   "outputs": [
    {
     "name": "stdout",
     "output_type": "stream",
     "text": [
      "1. As an investor and advisor to various AI companies, what are some common challenges you've observed in the industry, and how do you recommend overcoming them?\n",
      "\n",
      "2. Can you elaborate on the advantages of bootstrapping for AI startups and share any success stories you've come across?\n",
      "\n",
      "3. What are some key lessons you've learned from your experiences in high-profile companies like Twitter, Google, and Color Health that have shaped your approach to investing and advising startups?\n",
      "\n",
      "4. How do you think AI will continue to shape the job market in the coming years?\n",
      "\n",
      "5. What motivated you to enter the healthcare space as a co-founder of Color Health, and how do you envision the role of AI in improving healthcare outcomes?\n",
      "\n",
      "6. Can you share some insights on what sets high growth companies apart from others and the key factors that contribute to their rapid growth?\n",
      "\n",
      "7. How do you evaluate the defensibility of AI startups when considering investment or advisory opportunities?\n",
      "\n",
      "8. What excites you the most about the future of AI, and what challenges do you foresee in its development and implementation?\n",
      "\n",
      "9. Can you share your vision for Color Health and how it aims to revolutionize the healthcare industry?\n",
      "\n",
      "10. What were the key challenges you faced during the rapid growth of Twitter, and how did you overcome them?\n",
      "\n",
      "11. What advice would you give to founders looking to build defensibility into their startups from the beginning?\n",
      "\n",
      "12. Can you share an example of a company that has successfully maintained a user-centric focus and how it has contributed to their success?\n",
      "\n",
      "13. How do you see the balance between serving customer needs and building defensibility evolving in the future of AI-driven products and services?\n",
      "\n",
      "14. Can you elaborate on the factors that contribute to your prediction of 2023 being a rough year for mid to late-stage private technology companies and how startups can prepare for these challenges?\n",
      "\n",
      "15. What do you think are the most promising applications of large language models like GPT in the near future, and how can startups leverage them for growth?\n",
      "\n",
      "16. How do you see the open versus closed structure playing out in the AI industry, and what implications could it have for startups and established companies in the AI space?\n",
      "\n",
      "17. How do you think the costs involved in training large language models like GPT-3 and GPT-4 will affect competition and innovation in the AI industry, particularly for startups with limited resources?\n",
      "\n",
      "18. What do you think are the key factors driving growth in the space and defense technology sector, and what opportunities do you see for startups in this industry?\n",
      "\n",
      "19. How do you envision the future of defense tech startups, and what challenges do they need to overcome to succeed in this competitive landscape?\n",
      "\n",
      "20. What lessons can other startups in the defense sector learn from Anduril's success, and how can they apply these strategies to their own businesses?\n"
     ]
    }
   ],
   "source": [
    "print (output['output_text'])"
   ]
  },
  {
   "cell_type": "markdown",
   "id": "8d85b230",
   "metadata": {},
   "source": [
    "Awesome! Now we have some questions we can iterate on before we chat with the person. You can swap out different sources for different people.\n",
    "\n",
    "These questions won't be 100% 'copy & paste' ready, but they should serve as a really solid starting point for you to build on top of.\n",
    "\n",
    "Next, let's port this code over to a [Streamlit](https://streamlit.io/) app so we can share a deployed version easily"
   ]
  }
 ],
 "metadata": {
  "kernelspec": {
   "display_name": "Python 3 (ipykernel)",
   "language": "python",
   "name": "python3"
  },
  "language_info": {
   "codemirror_mode": {
    "name": "ipython",
    "version": 3
   },
   "file_extension": ".py",
   "mimetype": "text/x-python",
   "name": "python",
   "nbconvert_exporter": "python",
   "pygments_lexer": "ipython3",
   "version": "3.10.13"
  }
 },
 "nbformat": 4,
 "nbformat_minor": 5
}
