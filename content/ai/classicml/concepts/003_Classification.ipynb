{
 "cells": [
  {
   "cell_type": "markdown",
   "metadata": {},
   "source": [
    "## Logistic Regression\n",
    "\n",
    "Linear Regression can output any values, but there are scenarios where the expected output has to be between 0 to 1. For instance, in classification task, you would want to calculate the probability that the new sample belongs to a particular class. And probabilities have to be between 0 and 1, which Linear Regression doesn't respect. We can use the same gradient descent algorithm and modify the loss function a little bit to reflect the change in output to make squash at between 0 and 1. \n",
    "\n",
    "One more reason why Linear Regression is not suitable is because it assumes that the data (residuals) is normally distributed (See assumptions of Linear Regression). And this assumption is not satisfied when the data is binary (in classification problem). \n",
    "\n",
    "Another reason for the failure of Linear Regression is, probability is often times not linear. Imagine a \"U\" shape where the probabilities are very high and very low at the extreme values of x. \n",
    "\n",
    "One such function is the sigmoid activation. We'll see how the function is derived, and what are the properties of sigmoid.\n",
    "In a nutshell -- Linear Regression fits a straight line to the data. Logistic Regression fits a sigmoid to the data. \n",
    "\n",
    " \n",
    "\n",
    "### Sigmoid Activation\n",
    "\n",
    "Our requirement is $$0 \\le h_\\theta(x) \\le 1$$\n",
    "\n",
    "For starters, let's design a function that always outputs a positive value (Remember probabilities are always non-negative). Consider the Euler's number $e$, $e$ raised to anything will always be positive. This function is called __Natural Exponentiation Function__. \n",
    "\n",
    "### Intuitive explanation of Sigmoid\n",
    "#### Why use $e^x$ and not something else ? like $2^x$ or $45^x$ ?\n",
    "Exponential functions have nice mathematical properties, few of them are as follows:\n",
    "\n",
    "1. Exponential functions (Sigmoid) introduce non-linearity. \n",
    "2. Exponential functions are differentialble, and the easy to differentiate\n",
    "3. Exponential functions are convex, therefore have only global minimum, hence it's easy to optimize. \n",
    "\n",
    "Now that we have positive values, the next step is to make it in less than 1 (Remember, probabilities are always less than 1). Now, for any positive number if we divide the same number + 1, the output will always be less than 1. So out function becomes:\n",
    "\n",
    " $$\\frac{e^x}{e^x + 1}$$\n",
    "\n",
    "Now we have the desired properties, the function is never lesser than 0 nor greater than one. Dividing the above equation by $e^x$, we have\n",
    "\n",
    " $$\\sigma(x) = \\frac{1}{1 + e^{-x}}$$\n",
    " \n",
    " \n",
    "### Mathematical derivation of Sigmoid / Logistic Regression\n",
    "\n",
    "Logistic Regression relies on the principle of Maximum Likelihood Estimation (MLE). Intuitive definition of what MLE does is: Given certain data, there are multiple functions that can model it. Each of the functions tries to replicate what the underlying process does. MLE tries to find which of the function represents the underlying process accurately. Following are some definitions before proceeding to the derivation.\n",
    "\n",
    "#### Odds\n",
    "Odds are nothing but the ratio of an event occuring on the event not-occuring and is given by (assuming Bernoulli trials)\n",
    "\n",
    "$${\\text Odds} = \\frac {\\text P (occuring)} {\\text P (not \\ occuring)} = \\frac {p} {1 - p}$$\n",
    "\n",
    "\n",
    "#### Logit \n",
    "We have to represent the outcome of the function as probability. So by taking odds, we assign the outcome as a probability. We take the log of it for mathematical conviniece (later by inverting it we will have sigmoid)\n",
    "\n",
    "$${\\text logit(p)} = \\ln \\frac{p}{1 - p}$$\n",
    "\n",
    "#### Sigmoid\n",
    "The inverse of Logit function is the Sigmoid function.\n",
    "\n",
    "\n",
    "#### Principle\n",
    "The principle of Logistic Regression is to maximize the log likelihood. The linear combination of data is represented as probability using the logit function. \n",
    "\n",
    "Linear Regression representation was: \n",
    "\n",
    "$$h_{\\theta}\\left(x\\right)=\\theta_0+\\theta_1\\cdot x_1+\\theta_2\\cdot x2+....$$\n",
    "\n",
    "In Logistic Regression, we assign a probability to it:\n",
    "\n",
    "$$ h_{\\theta}\\left(y=1\\ \\vert \\ x\\right)=\\theta_0+\\theta_1\\cdot x_1+\\theta_2\\cdot x2+.... $$\n",
    "\n",
    "Above equation is read as: probability y equals 1, given x. This is also called as conditional probability. Now we represent this using logit.\n",
    "\n",
    "$$ \\ln\\left(\\frac{p}{1-p}\\right)=h_{\\theta}\\left(x\\right)$$\n",
    "\n",
    "Taking exponential both sides, \n",
    "$$\\frac{p}{1-p}= e^{h_{\\theta}\\left(x\\right)}$$\n",
    "\n",
    "After some algebra,  we have \n",
    "$$p=\\frac{1}{1+e^{-h_{\\theta}\\left(x\\right)}}$$\n",
    "\n",
    "Which is the definition of sigmoid \n",
    "\n",
    "\n",
    "### Gradient of sigmoid function\n",
    "\n",
    "\n",
    "$\n",
    "\\begin{align}\n",
    "\\dfrac{d}{dx} \\sigma(x) &= \\dfrac{d}{dx} \\left[ \\dfrac{1}{1 + e^{-x}} \\right] \\\\\n",
    "&= \\dfrac{d}{dx} \\left( 1 + \\mathrm{e}^{-x} \\right)^{-1} \\\\\n",
    "&= -(1 + e^{-x})^{-2}(-e^{-x}) \\\\\n",
    "&= \\dfrac{e^{-x}}{\\left(1 + e^{-x}\\right)^2} \\\\\n",
    "&= \\dfrac{1}{1 + e^{-x}\\ } \\cdot \\dfrac{e^{-x}}{1 + e^{-x}}  \\\\\n",
    "&= \\dfrac{1}{1 + e^{-x}\\ } \\cdot \\dfrac{(1 + e^{-x}) - 1}{1 + e^{-x}}  \\\\\n",
    "&= \\dfrac{1}{1 + e^{-x}\\ } \\cdot \\left( \\dfrac{1 + e^{-x}}{1 + e^{-x}} - \\dfrac{1}{1 + e^{-x}} \\right) \\\\\n",
    "&= \\dfrac{1}{1 + e^{-x}\\ } \\cdot \\left( 1 - \\dfrac{1}{1 + e^{-x}} \\right) \\\\\n",
    "&= \\sigma(x) \\cdot (1 - \\sigma(x))\n",
    "\\end{align}\n",
    "$"
   ]
  },
  {
   "cell_type": "markdown",
   "metadata": {},
   "source": [
    "### Visualizing sigmoid"
   ]
  },
  {
   "cell_type": "code",
   "execution_count": null,
   "metadata": {},
   "outputs": [
    {
     "data": {
      "image/png": "[encoded data removed]",
      "text/plain": [
       "<matplotlib.figure.Figure at 0x7fdd07cb3e50>"
      ]
     },
     "metadata": {},
     "output_type": "display_data"
    }
   ],
   "source": [
    "%matplotlib inline\n",
    "from __future__ import division\n",
    "import numpy as np\n",
    "import matplotlib.pyplot as plt\n",
    "\n",
    "def sigmoid(x):\n",
    "    return 1 / (1 + np.exp(-x))\n",
    "\n",
    "def grad_sigmoid(x):\n",
    "    return sigmoid(x) * (1 - sigmoid(x))\n",
    "\n",
    "X = np.arange(-10, 10, 0.1)\n",
    "fig = plt.figure(figsize=(8, 6))\n",
    "plt.plot(X, sigmoid(X), label='sigmoid', c='blue', linewidth=3)\n",
    "plt.plot(X, grad_sigmoid(X), label='derivative of sigmoid', c='green', linewidth=3)\n",
    "plt.legend(loc='upper left')\n",
    "plt.xlabel('X')\n",
    "plt.grid(True)\n",
    "plt.ylim([-0.5, 1.5])\n",
    "plt.ylabel('output')\n",
    "plt.title('Sigmoid')\n",
    "plt.axhline(y=0, color='k')\n",
    "plt.axvline(x=0, color='k')\n",
    "plt.show()"
   ]
  },
  {
   "cell_type": "markdown",
   "metadata": {},
   "source": [
    "## Cost function and Optimization Objective for Logistic Regression\n",
    "\n",
    "The objective function for logistic regression will be a little different. Instead of minimizing the sigmoid we'll differentiate the negative log of the sigmoid. We do this for a few reasons:\n",
    "1. Math is easier, all the multiplications are converted to sums\n",
    "2. Differentiation is easier\n",
    "3. The function is smooth, hence differentiable.\n",
    "4. Our probability values can be very low eg. 4e-45 which are messy to deal with, using log on them will convert the values to a more readable form. \n",
    "5. If we take only sigmoid, then the resulting function in non-convex function which will have local optimums. Hence, we log it to make it a convex function. \n",
    "\n",
    "Our loss function will be:\n",
    "$$\n",
    "\\begin{equation}\n",
    "    Cost(h_\\theta(x), y)=\n",
    "    \\begin{cases}\n",
    "        -log(h_\\theta(x)), & \\text{if}\\ y=0 \\\\\n",
    "        -log(1 - h_\\theta(x)), & \\text{if}\\ y=1\n",
    "    \\end{cases}\n",
    "\\end{equation}\n",
    "$$\n",
    "\n",
    "Where, $h_\\theta(x)$ is the sigmoid function\n",
    "$$h_\\theta(x) = \\frac{1}{1 + e^{-x}}$$\n",
    "\n",
    "Instead of writing two separate equations, we'll write it in one sigle form:\n",
    "\n",
    "$$Cost(h_\\theta(x), y) = -ylog(h_\\theta(x)) - (1 - y)(log(1 - h_\\theta(x)))$$\n",
    "\n",
    "When y = 0, the left part of the equation automatically becomes 0. When y = 1 the right part of the equation automatically becomes 0. Hence, we have represented the same concept as above in a single equation. The same equation can also be obtained by the principle of __Maximum Likelihood Estimation__. "
   ]
  },
  {
   "cell_type": "code",
   "execution_count": null,
   "metadata": {},
   "outputs": [
    {
     "data": {
      "image/png": "[encoded data removed]",
      "text/plain": [
       "<matplotlib.figure.Figure at 0x7fdd0576fd90>"
      ]
     },
     "metadata": {},
     "output_type": "display_data"
    }
   ],
   "source": [
    "X = np.arange(-5, 5, 0.01)\n",
    "fig = plt.figure(figsize=(8, 6))\n",
    "plt.plot(sigmoid(X), -np.log(sigmoid(X)), label='Log(X)', c='blue', linewidth=3)\n",
    "plt.legend()\n",
    "plt.xlabel('Sigmoid(X)')\n",
    "plt.grid(True)\n",
    "plt.ylabel('Log(Sigmoid(X))')\n",
    "plt.title('Plot for y = 1')\n",
    "plt.axhline(y=0, color='k')\n",
    "plt.axvline(x=0, color='k')\n",
    "plt.show()"
   ]
  },
  {
   "cell_type": "code",
   "execution_count": null,
   "metadata": {},
   "outputs": [
    {
     "data": {
      "image/png": "[encoded data removed]",
      "text/plain": [
       "<matplotlib.figure.Figure at 0x7fdd056fc0d0>"
      ]
     },
     "metadata": {},
     "output_type": "display_data"
    }
   ],
   "source": [
    "X = np.arange(-10, 10, 0.01)\n",
    "fig = plt.figure(figsize=(8, 6))\n",
    "plt.plot(sigmoid(X), -np.log(1 - sigmoid(X)), label='Log(Sigmoid(X))', c='blue', linewidth=3)\n",
    "plt.legend(loc='upper left')\n",
    "plt.xlabel('Sigmoid(X)')\n",
    "plt.grid(True)\n",
    "plt.ylabel('-Log(1 - Sigmoid(X))')\n",
    "plt.title('Plot for y = 0')\n",
    "plt.axhline(y=0, color='k')\n",
    "plt.axvline(x=0, color='k')\n",
    "plt.show()"
   ]
  },
  {
   "cell_type": "markdown",
   "metadata": {},
   "source": [
    "  \\begin{equation}\n",
    "    X=\n",
    "    \\begin{cases}\n",
    "      0, & \\text{if}\\ a=1 \\\\\n",
    "      1, & \\text{otherwise}\n",
    "    \\end{cases}\n",
    "  \\end{equation}"
   ]
  },
  {
   "cell_type": "markdown",
   "metadata": {},
   "source": [
    "## Limitations of Logistic Regression\n",
    "\n",
    "### Linear Classifier\n",
    "Despite using the sigmoid non-linearity, the logistic regression classifier is still a ***linear combination*** of the inputs and hence is a **linear classifier**. The interpretation of this while building a classifier is, the classifier will always be a straight line. So when the data is like this:\n",
    "\n",
    "insert non-linearly separable data here\n",
    "    \n",
    "The classifier will output a straight line. \n",
    "\n",
    "image here"
   ]
  },
  {
   "cell_type": "markdown",
   "metadata": {},
   "source": [
    "## Interpretation of Weights\n",
    "\n",
    "In linear regression we have a simple interpretation. In the equation\n",
    "\n",
    "$$h_{\\theta}\\left(x\\right)=\\theta_0+\\theta_1\\cdot x_1+\\theta_2\\cdot x2+....$$\n",
    "\n",
    "The interpretation of the weight is: the change in $y$ by a unit change in $x$, given all the other $x$s remain constant. But this changes a little bit in Logistic Regression. \n",
    "\n",
    "We have:\n",
    "\n",
    "$$ \\ln\\left(\\frac{p}{1-p}\\right)=h_{\\theta}\\left(x\\right)=\\theta_0+\\theta_1\\cdot x_1+...$$\n",
    "\n",
    "In a way we can say that Logistic Regression is linear regression on log-odds. So the interpretations of weights now become: the amount of increase in log-odds by a unit change in an $x$ given other $x$s remain constant. "
   ]
  },
  {
   "cell_type": "markdown",
   "metadata": {},
   "source": [
    "## Cost function\n",
    "\n",
    "We've seen that the cost function for logistic regression is:\n",
    "\n",
    "$$\n",
    "J\\left(\\theta\\right)=-\\frac{1}{m}\\sum_{i=0}^m\\left[y^{\\left(i\\right)}\\log\\left(h_{\\theta}\\left(x^{\\left(i\\right)}\\right)\\right)+\\left(1-y^{\\left(i\\right)}\\right)\\log\\left(1-h_{\\theta}\\left(x^{\\left(i\\right)}\\right)\\right)\\right]\n",
    "$$\n",
    "\n",
    "Where $h_\\theta (x^{(i)})$ is the Sigmoid function. In order to get the update rule we need to differentiate this. Firstly, we know that\n",
    "\n",
    "$$\\frac{\\partial}{\\partial x} \\sigma(x) =  \\sigma(x) \\cdot (1 - \\sigma(x))$$\n",
    "\n",
    "In our case, we want to partial differentiate with respect to our paramters $\\theta$. So we have\n",
    "\n",
    "$$\\frac{\\partial }{\\partial \\theta }\\sigma \\left(f\\right)=\\sigma \\left(f\\right)\\cdot \\left(1-\\sigma \\left(f\\right)\\right)\\frac{\\partial }{\\partial \\theta }f$$\n",
    "\n",
    "Where, \n",
    "$$f = \\left(\\theta_0+\\theta_1x\\right)$$\n",
    "\n",
    "Hence, \n",
    "$$\\frac{\\partial}{\\partial\\theta_0}f=1$$\n",
    "And,\n",
    "$$\\frac{\\partial}{\\partial\\theta_1}f=x$$\n",
    "\n",
    "But since we can append ones in our input matrix, we can simply replace $x_j$ as 1 in our equation to make life easier, \n",
    "\n",
    "$$\\frac{\\partial }{\\partial \\theta _j}\\sigma \\left(x\\right)=\\sigma \\left(x\\right)\\cdot \\left(1-\\sigma \\left(x\\right)\\right)x_j)$$\n",
    "\n",
    "Where $x_j$ will be 1 for $\\theta_0$"
   ]
  },
  {
   "cell_type": "markdown",
   "metadata": {},
   "source": [
    "### Differentiating the negative likelihood\n",
    "\n",
    "The way we chose to represent our cost function (by taking logs) is called as negative log likelihood. We'll differentiate it now to obtain the update rule\n",
    "\n",
    "\n",
    "$\n",
    "\\begin{align}\n",
    "\\frac{\\partial}{\\partial \\theta}J(\\theta) &= \\frac{\\partial}{\\partial \\theta} \\left[- \\frac{1}{m}\\sum_{i=1}^m [y^{(i)}\\log (h_\\theta (x^{(i)})) + (1 - y^{(i)})\\log (1 - h_\\theta(x^{(i)}))] \\right] \\\\\n",
    "&= -\\frac{1}{m}\\sum_{i=0}^m\\left[\\frac{\\partial}{\\partial\\theta}y^{\\left(i\\right)}\\log\\left(h_{\\theta}\\left(x^{\\left(i\\right)}\\right)\\right)+\\frac{\\partial}{\\partial\\theta}\\left(\\left(1-y^{\\left(i\\right)}\\right)\\log\\left(1-h_{\\theta}\\left(x^{\\left(i\\right)}\\right)\\right)\\right)\\right] \\\\\n",
    "&= -\\frac{1}{m}\\sum_{i=0}^m\\left[\\frac{y^{\\left(i\\right)}}{h_{\\theta}\\left(x^{\\left(i\\right)}\\right)}\\frac{\\partial}{\\partial\\theta}h_{\\theta}\\left(x^{\\left(i\\right)}\\right)+\\frac{1-y^{\\left(i\\right)}}{1-h_{\\theta}\\left(x^{\\left(i\\right)}\\right)}\\frac{\\partial}{\\partial\\theta}\\left(-h_{\\theta}\\left(x^{\\left(i\\right)}\\right)\\right)\\right] \\\\\n",
    "\\text{Replacing h with sigma} \\\\\n",
    "&= -\\frac{1}{m}\\sum_{i=0}^m\\left[\\frac{y^{\\left(i\\right)}}{\\sigma\\left(x^{\\left(i\\right)}\\right)}\\frac{\\partial}{\\partial\\theta}\\sigma\\left(x^{\\left(i\\right)}\\right)+\\frac{1-y^{\\left(i\\right)}}{1-\\sigma\\left(x^{\\left(i\\right)}\\right)}\\frac{\\partial}{\\partial\\theta}\\left(-\\sigma\\left(x^{\\left(i\\right)}\\right)\\right)\\right]\\\\\n",
    "\\text{Take the minus sign out} \\\\\n",
    "&= -\\frac{1}{m}\\sum_{i=0}^m\\left[\\frac{y^{\\left(i\\right)}}{\\sigma\\left(x^{\\left(i\\right)}\\right)}\\frac{\\partial}{\\partial\\theta}\\sigma\\left(x^{\\left(i\\right)}\\right)-\\frac{1-y^{\\left(i\\right)}}{1-\\sigma\\left(x^{\\left(i\\right)}\\right)}\\frac{\\partial}{\\partial\\theta}\\sigma\\left(x^{\\left(i\\right)}\\right)\\right] \\\\\n",
    "\\text{Take sigma common} \\\\\n",
    "&= -\\frac{1}{m}\\sum_{i=0}^m\\left[\\left(\\frac{y^{\\left(i\\right)}}{\\sigma\\left(x^{\\left(i\\right)}\\right)}-\\frac{1-y^{\\left(i\\right)}}{1-\\sigma\\left(x^{\\left(i\\right)}\\right)}\\right)\\frac{\\partial}{\\partial\\theta}\\sigma\\left(x^{\\left(i\\right)}\\right)\\right] \\\\\n",
    "&= -\\frac{1}{m}\\sum_{i=0}^m\\left[\\left(\\frac{y^{\\left(i\\right)}-y^{\\left(i\\right)}\\cdot\\sigma\\left(x^{\\left(i\\right)}\\right)-\\sigma\\left(x^{\\left(i\\right)}\\right)+y^{\\left(i\\right)}\\cdot\\sigma\\left(x^{\\left(i\\right)}\\right)}{\\sigma\\left(x^{\\left(i\\right)}\\right)\\cdot\\left(1-\\sigma\\left(x^{\\left(i\\right)}\\right)\\right)}\\right)\\frac{\\partial}{\\partial\\theta}\\sigma\\left(x^{\\left(i\\right)}\\right)\\right] \\\\\n",
    "\\text{Cancel positive and negative terms} \\\\\n",
    "&= -\\frac{1}{m}\\sum_{i=0}^m\\left[\\left(\\frac{y^{\\left(i\\right)}-\\sigma\\left(x^{\\left(i\\right)}\\right)}{\\sigma\\left(x^{\\left(i\\right)}\\right)\\cdot\\left(1-\\sigma\\left(x^{\\left(i\\right)}\\right)\\right)}\\right)\\frac{\\partial}{\\partial\\theta}\\sigma\\left(x^{\\left(i\\right)}\\right)\\right] \\\\\n",
    "\\text{We know the gradient of sigma} \\\\\n",
    "&=  -\\frac{1}{m}\\sum_{i=0}^m\\left[\\frac{y^{\\left(i\\right)}-\\sigma\\left(x^{\\left(i\\right)}\\right)}{\\sigma\\left(x^{\\left(i\\right)}\\right)\\cdot\\left(1-\\sigma\\left(x^{\\left(i\\right)}\\right)\\right)}\\cdot\\sigma\\left(x^{\\left(i\\right)}\\right)\\cdot\\left(1-\\sigma\\left(x^{\\left(i\\right)}\\right)\\right)x^{\\left(i\\right)}_{j}\\right] \\\\\n",
    "\\text{Numerator and Denominator cancel out!} \\\\\n",
    "&= -\\frac{1}{m}\\sum_{i=0}^m\\left(y^{\\left(i\\right)}-\\sigma\\left(x^{\\left(i\\right)}\\right)\\right)x_j^{\\left(i\\right)}\n",
    "\\end{align} \\\\\n",
    "$"
   ]
  },
  {
   "cell_type": "markdown",
   "metadata": {},
   "source": [
    "## Update Rule for thetas\n",
    "\n",
    "Taking the negative sign inside in the last equation, we have our update rule\n",
    "\n",
    "\\begin{align*}\n",
    "& \\text{Repeat:} \\\\\n",
    "& \\quad \\theta_j := \\theta_j - \\frac{\\alpha}{m} \\sum_{i=1}\n",
    "^m (h_\\theta(x^{(i)}) - y^{(i)}) x_j^{(i)} \\\\\n",
    "& \\text{until convergence}\n",
    "\\end{align*}"
   ]
  },
  {
   "cell_type": "markdown",
   "metadata": {},
   "source": [
    "### Implementation using Gradient Descent"
   ]
  },
  {
   "cell_type": "code",
   "execution_count": null,
   "metadata": {},
   "outputs": [
    {
     "data": {
      "text/html": [
       "<div>\n",
       "<style>\n",
       "    .dataframe thead tr:only-child th {\n",
       "        text-align: right;\n",
       "    }\n",
       "\n",
       "    .dataframe thead th {\n",
       "        text-align: left;\n",
       "    }\n",
       "\n",
       "    .dataframe tbody tr th {\n",
       "        vertical-align: top;\n",
       "    }\n",
       "</style>\n",
       "<table border=\"1\" class=\"dataframe\">\n",
       "  <thead>\n",
       "    <tr style=\"text-align: right;\">\n",
       "      <th></th>\n",
       "      <th>exam1</th>\n",
       "      <th>exam2</th>\n",
       "      <th>y</th>\n",
       "    </tr>\n",
       "  </thead>\n",
       "  <tbody>\n",
       "    <tr>\n",
       "      <th>0</th>\n",
       "      <td>34.623660</td>\n",
       "      <td>78.024693</td>\n",
       "      <td>0</td>\n",
       "    </tr>\n",
       "    <tr>\n",
       "      <th>1</th>\n",
       "      <td>30.286711</td>\n",
       "      <td>43.894998</td>\n",
       "      <td>0</td>\n",
       "    </tr>\n",
       "    <tr>\n",
       "      <th>2</th>\n",
       "      <td>35.847409</td>\n",
       "      <td>72.902198</td>\n",
       "      <td>0</td>\n",
       "    </tr>\n",
       "    <tr>\n",
       "      <th>3</th>\n",
       "      <td>60.182599</td>\n",
       "      <td>86.308552</td>\n",
       "      <td>1</td>\n",
       "    </tr>\n",
       "    <tr>\n",
       "      <th>4</th>\n",
       "      <td>79.032736</td>\n",
       "      <td>75.344376</td>\n",
       "      <td>1</td>\n",
       "    </tr>\n",
       "  </tbody>\n",
       "</table>\n",
       "</div>"
      ],
      "text/plain": [
       "       exam1      exam2  y\n",
       "0  34.623660  78.024693  0\n",
       "1  30.286711  43.894998  0\n",
       "2  35.847409  72.902198  0\n",
       "3  60.182599  86.308552  1\n",
       "4  79.032736  75.344376  1"
      ]
     },
     "metadata": {},
     "output_type": "display_data"
    }
   ],
   "source": [
    "from __future__ import division\n",
    "import numpy as np\n",
    "import matplotlib.pyplot as plt\n",
    "import pandas as pd\n",
    "\n",
    "from scipy.optimize import minimize\n",
    "\n",
    "df = pd.read_csv('machine_learning_andrewng/ex2data1.csv', header=None)\n",
    "df.rename(columns={0: 'exam1', 1: 'exam2', 2: 'y'}, inplace=True)\n",
    "df.head()"
   ]
  },
  {
   "cell_type": "code",
   "execution_count": null,
   "metadata": {},
   "outputs": [
    {
     "data": {
      "image/png": "[encoded data removed]",
      "text/plain": [
       "<matplotlib.figure.Figure at 0x7f2aebde5610>"
      ]
     },
     "metadata": {},
     "output_type": "display_data"
    }
   ],
   "source": [
    "fig = plt.figure(figsize=(12, 8))\n",
    "plt.scatter(df[df['y'] == 0]['exam1'], df[df['y'] == 0]['exam2'],\n",
    "            label='Not admitted', color='yellow', edgecolor='black')\n",
    "plt.scatter(df[df['y'] == 1]['exam1'], df[df['y'] == 1]['exam2'],\n",
    "            label='Admitted', marker='+', color='black')\n",
    "plt.xlabel('Exam 1 score')\n",
    "plt.ylabel('Exam 2 score')\n",
    "plt.legend(loc='upper right')\n",
    "plt.title('Scores indicating admission')\n",
    "plt.show()"
   ]
  },
  {
   "cell_type": "code",
   "execution_count": null,
   "metadata": {},
   "outputs": [],
   "source": [
    "class LogisticRegression(object):\n",
    "    def __init__(self, X, y, alpha=0.001, n_iterations=5000):\n",
    "        self.X = self._hstack_one(X)\n",
    "        self.y = y\n",
    "        self.thetas = np.zeros((self.X.shape[1]))\n",
    "        self.n_rows = self.X.shape[0]\n",
    "        self.alpha = alpha\n",
    "        self.n_iterations = n_iterations\n",
    "        print \"Cost before fitting: {0:.4f}\".format(self.cost())\n",
    "\n",
    "    @staticmethod\n",
    "    def _hstack_one(input_matrix):\n",
    "        if len(input_matrix.shape) == 1:\n",
    "            return np.hstack((np.array([1]), input_matrix))\n",
    "        else:\n",
    "            return np.hstack(\n",
    "                (np.ones((input_matrix.shape[0], 1)), input_matrix))\n",
    "\n",
    "    @staticmethod\n",
    "    def sigmoid(X):\n",
    "        return 1 / (1 + np.exp(-X))\n",
    "\n",
    "    def cost(self, thetas=None):\n",
    "        if thetas is None:\n",
    "            thetas = self.thetas\n",
    "        dot_prod = self.X.dot(thetas)\n",
    "        dot_prod_pos = dot_prod[self.y == 1]\n",
    "        dot_prod_neg = dot_prod[self.y == 0]\n",
    "        cost = -(1 / self.n_rows) \\\n",
    "               * (np.sum(np.log(self.sigmoid(dot_prod_pos))) \n",
    "                  + np.sum(np.log(1 - self.sigmoid(dot_prod_neg))))\n",
    "        return cost\n",
    "\n",
    "    def predict(self, new_X, threshold=0.5):\n",
    "        assert new_X.shape[0] != self.X.shape[1], \\\n",
    "            \"Number of features don't match. {0} != {1}\"\\\n",
    "                .format(new_X.shape[1], self.X.shape[1])\n",
    "        new_X = self._hstack_one(new_X)\n",
    "        h = new_X.dot(self.thetas)\n",
    "        return self.sigmoid(h) >= threshold\n",
    "\n",
    "    def batch_gradient(self, thetas=None):\n",
    "        if thetas is None:\n",
    "            thetas = self.thetas\n",
    "        h = self.sigmoid(self.X.dot(thetas)) - self.y\n",
    "        h = np.multiply(self.X, h.reshape(-1, 1))\n",
    "        h = np.sum(h, axis=0)\n",
    "        return h\n",
    "\n",
    "    def batch_gradient_descent(self, ):\n",
    "        alpha_by_m = self.alpha / self.n_rows\n",
    "        for i in range(self.n_iterations):\n",
    "            self.thetas = self.thetas - (alpha_by_m * self.batch_gradient())\n",
    "            cost = self.cost()\n",
    "            print \"\\rIteration: {0} Loss: {1:.5f}\".format(i + 1, cost) + \"\",\n",
    "        print\n",
    "\n",
    "    def scipy_optimize(self, ):\n",
    "        result = minimize(self.cost, self.thetas, jac=self.batch_gradient,\n",
    "                          options={'maxiter': self.n_iterations})\n",
    "        print result\n",
    "        self.thetas = result.x"
   ]
  },
  {
   "cell_type": "code",
   "execution_count": null,
   "metadata": {},
   "outputs": [
    {
     "name": "stdout",
     "output_type": "stream",
     "text": [
      "Cost before fitting: 0.6931\n",
      "      fun: 0.20349770159875014\n",
      " hess_inv: array([[  2.23242194e+01,  -1.80811824e-01,  -1.92839958e-01],\n",
      "       [ -1.80811824e-01,   1.53480255e-03,   1.49837589e-03],\n",
      "       [ -1.92839958e-01,   1.49837589e-03,   1.73637715e-03]])\n",
      "      jac: array([ -1.21664528e-06,  -7.91537338e-05,  -8.39771285e-05])\n",
      "  message: 'Desired error not necessarily achieved due to precision loss.'\n",
      "     nfev: 302\n",
      "      nit: 72\n",
      "     njev: 285\n",
      "   status: 2\n",
      "  success: False\n",
      "        x: array([-25.16133034,   0.20623169,   0.20147157])\n",
      "Cost after converging: 0.203\n"
     ]
    },
    {
     "name": "stderr",
     "output_type": "stream",
     "text": [
      "/home/uzumaki/anaconda2/lib/python2.7/site-packages/ipykernel_launcher.py:31: RuntimeWarning: divide by zero encountered in log\n"
     ]
    }
   ],
   "source": [
    "lr = LogisticRegression(df[['exam1', 'exam2']].values, df['y'].values, n_iterations=20000, alpha=0.001)\n",
    "optim_theta = lr.scipy_optimize()\n",
    "print \"Cost after converging: {0:.3f}\".format(lr.cost())"
   ]
  },
  {
   "cell_type": "code",
   "execution_count": null,
   "metadata": {},
   "outputs": [
    {
     "data": {
      "image/png": "[encoded data removed]",
      "text/plain": [
       "<matplotlib.figure.Figure at 0x7f2ae84bed90>"
      ]
     },
     "metadata": {},
     "output_type": "display_data"
    }
   ],
   "source": [
    "# Plotting the prediction line\n",
    "col1 = \"exam1\"\n",
    "col2 = \"exam2\"\n",
    "min_ex1 = df[col1].min()\n",
    "max_ex1 = df[col1].max()\n",
    "\n",
    "min_ex2 = df[col2].min()\n",
    "max_ex2 = df[col2].max()\n",
    "\n",
    "arange_step = 0.1\n",
    "\n",
    "xx, yy = np.meshgrid(np.arange(min_ex1, max_ex1, arange_step), \n",
    "                     np.arange(min_ex2, max_ex2, arange_step))\n",
    "preds = np.c_[xx.ravel(), yy.ravel()]\n",
    "preds = lr.predict(preds)\n",
    "preds = preds.reshape(xx.shape)\n",
    "fig = plt.figure(figsize=(12, 8))\n",
    "plt.scatter(df[df['y'] == 0][col1], df[df['y'] == 0][col2],\n",
    "            label='Not admitted', color='yellow', edgecolor='black')\n",
    "plt.scatter(df[df['y'] == 1][col1], df[df['y'] == 1][col2],\n",
    "            label='Admitted', marker='+', color='black')\n",
    "plt.contour(xx, yy, preds, colors='blue')\n",
    "plt.xlabel('Exam 1 score')\n",
    "plt.ylabel('Exam 2 score')\n",
    "plt.legend(loc='upper right')\n",
    "plt.title('Scores indicating admission')\n",
    "plt.show()"
   ]
  },
  {
   "cell_type": "markdown",
   "metadata": {},
   "source": [
    "### Implementation using sklearn"
   ]
  },
  {
   "cell_type": "markdown",
   "metadata": {},
   "source": [
    "Linear Regression cannot be used for yes/no type of outcomes since the output of LR can be over 1 or even negative. The avoid this we use sigmoid function which is a smooth function that has value between 0 and 1 which is used as probabilities. "
   ]
  },
  {
   "cell_type": "code",
   "execution_count": null,
   "metadata": {},
   "outputs": [
    {
     "data": {
      "text/html": [
       "<div>\n",
       "<style>\n",
       "    .dataframe thead tr:only-child th {\n",
       "        text-align: right;\n",
       "    }\n",
       "\n",
       "    .dataframe thead th {\n",
       "        text-align: left;\n",
       "    }\n",
       "\n",
       "    .dataframe tbody tr th {\n",
       "        vertical-align: top;\n",
       "    }\n",
       "</style>\n",
       "<table border=\"1\" class=\"dataframe\">\n",
       "  <thead>\n",
       "    <tr style=\"text-align: right;\">\n",
       "      <th></th>\n",
       "      <th>User ID</th>\n",
       "      <th>Gender</th>\n",
       "      <th>Age</th>\n",
       "      <th>EstimatedSalary</th>\n",
       "      <th>Purchased</th>\n",
       "    </tr>\n",
       "  </thead>\n",
       "  <tbody>\n",
       "    <tr>\n",
       "      <th>0</th>\n",
       "      <td>15624510</td>\n",
       "      <td>Male</td>\n",
       "      <td>19</td>\n",
       "      <td>19000</td>\n",
       "      <td>0</td>\n",
       "    </tr>\n",
       "    <tr>\n",
       "      <th>1</th>\n",
       "      <td>15810944</td>\n",
       "      <td>Male</td>\n",
       "      <td>35</td>\n",
       "      <td>20000</td>\n",
       "      <td>0</td>\n",
       "    </tr>\n",
       "    <tr>\n",
       "      <th>2</th>\n",
       "      <td>15668575</td>\n",
       "      <td>Female</td>\n",
       "      <td>26</td>\n",
       "      <td>43000</td>\n",
       "      <td>0</td>\n",
       "    </tr>\n",
       "    <tr>\n",
       "      <th>3</th>\n",
       "      <td>15603246</td>\n",
       "      <td>Female</td>\n",
       "      <td>27</td>\n",
       "      <td>57000</td>\n",
       "      <td>0</td>\n",
       "    </tr>\n",
       "    <tr>\n",
       "      <th>4</th>\n",
       "      <td>15804002</td>\n",
       "      <td>Male</td>\n",
       "      <td>19</td>\n",
       "      <td>76000</td>\n",
       "      <td>0</td>\n",
       "    </tr>\n",
       "  </tbody>\n",
       "</table>\n",
       "</div>"
      ],
      "text/plain": [
       "    User ID  Gender  Age  EstimatedSalary  Purchased\n",
       "0  15624510    Male   19            19000          0\n",
       "1  15810944    Male   35            20000          0\n",
       "2  15668575  Female   26            43000          0\n",
       "3  15603246  Female   27            57000          0\n",
       "4  15804002    Male   19            76000          0"
      ]
     },
     "metadata": {},
     "output_type": "display_data"
    }
   ],
   "source": [
    "import pandas as pd\n",
    "import matplotlib.pyplot as plt\n",
    "import numpy as np\n",
    "\n",
    "df = pd.read_csv('Social_Network_Ads.csv')\n",
    "X = df.iloc[:, 2:4]   # Using 1:2 as indices will give us np array of dim (10, 1)\n",
    "y = df.iloc[:, 4]\n",
    "\n",
    "df.head()"
   ]
  },
  {
   "cell_type": "code",
   "execution_count": null,
   "metadata": {},
   "outputs": [],
   "source": [
    "# Split in training and testing\n",
    "from sklearn.model_selection import train_test_split\n",
    "X_train, X_test, y_train, y_test = train_test_split(X, y, test_size=0.25)"
   ]
  },
  {
   "cell_type": "code",
   "execution_count": null,
   "metadata": {},
   "outputs": [],
   "source": [
    "# Scale\n",
    "from sklearn.preprocessing import StandardScaler\n",
    "X_sca = StandardScaler()\n",
    "X_train = X_sca.fit_transform(X_train)\n",
    "X_test = X_sca.transform(X_test)"
   ]
  },
  {
   "cell_type": "code",
   "execution_count": null,
   "metadata": {},
   "outputs": [
    {
     "data": {
      "text/plain": [
       "LogisticRegression(C=1.0, class_weight=None, dual=False, fit_intercept=True,\n",
       "          intercept_scaling=1, max_iter=100, multi_class='ovr', n_jobs=1,\n",
       "          penalty='l2', random_state=0, solver='liblinear', tol=0.0001,\n",
       "          verbose=0, warm_start=False)"
      ]
     },
     "metadata": {},
     "output_type": "display_data"
    }
   ],
   "source": [
    "from sklearn.linear_model import LogisticRegression\n",
    "clf = LogisticRegression(random_state=0)\n",
    "clf.fit(X_train, y_train)"
   ]
  },
  {
   "cell_type": "code",
   "execution_count": null,
   "metadata": {},
   "outputs": [],
   "source": [
    "y_pred = clf.predict(X_test)"
   ]
  },
  {
   "cell_type": "code",
   "execution_count": null,
   "metadata": {},
   "outputs": [
    {
     "data": {
      "text/plain": [
       "array([[64,  2],\n",
       "       [10, 24]])"
      ]
     },
     "metadata": {},
     "output_type": "display_data"
    }
   ],
   "source": [
    "from sklearn.metrics import confusion_matrix\n",
    "cm = confusion_matrix(y_test, y_pred)\n",
    "cm"
   ]
  },
  {
   "cell_type": "code",
   "execution_count": null,
   "metadata": {},
   "outputs": [
    {
     "data": {
      "image/png": "[encoded data removed]",
      "text/plain": [
       "<matplotlib.figure.Figure at 0x7f40443aa990>"
      ]
     },
     "metadata": {},
     "output_type": "display_data"
    }
   ],
   "source": [
    "from matplotlib.colors import ListedColormap\n",
    "X_set, y_set = X_train, y_train\n",
    "# generates every pixel in the table. MeshGrid creates one entry for every point from X1 to X2\n",
    "X1, X2 = np.meshgrid(np.arange(start=X_set[:, 0].min() - 1, stop=X_set[:, 0].max() + 1, step=0.01),\n",
    "                     np.arange(start=X_set[:, 0].min() - 1, stop=X_set[:, 0].max() + 1, step=0.01))\n",
    "# classifies every pixel as 0 or 1\n",
    "plt.contourf(X1, X2, clf.predict(np.array([X1.ravel(), X2.ravel()]).T).reshape(X1.shape),\n",
    "             alpha=0.75, cmap=ListedColormap(('red', 'green')))\n",
    "for i, j in enumerate(np.unique(y_set)):\n",
    "    plt.scatter(X_set[y_set == j, 0], X_set[y_set == j, 1],\n",
    "                c=ListedColormap(('red', 'green'))(i), label=j, edgecolor='black')\n",
    "plt.xlim(X1.min(), X1.max())\n",
    "plt.ylim(X2.min(), X2.max())\n",
    "plt.legend()\n",
    "plt.title('Logistic Regression')\n",
    "plt.xlabel('Age')\n",
    "plt.ylabel('Estimated Salary')\n",
    "plt.show()"
   ]
  },
  {
   "cell_type": "code",
   "execution_count": null,
   "metadata": {},
   "outputs": [
    {
     "data": {
      "text/plain": [
       "0.88"
      ]
     },
     "metadata": {},
     "output_type": "display_data"
    }
   ],
   "source": [
    "clf.score(X_test, y_test)"
   ]
  },
  {
   "cell_type": "markdown",
   "metadata": {},
   "source": [
    "## Regularization\n",
    "\n",
    "Machine Learning models sometimes fit the data too well. This causes a problem because the model won't generalize well with real world data. Consider the following\n",
    "\n",
    "<img \n",
    "src=\"https://raw.githubusercontent.com/alexeygrigorev/wiki-figures/master/ufrt/kddm/overfitting-logreg-ex.png\" \n",
    "/>\n",
    "\n",
    "The $R^2$ value, a commonly used measure to evaluate models, will clearly be high for the model since the data fits very good and the user will be tricked into believing that the mode is perfect but in reality the model is very bad and won't work with unseen data. \n",
    "\n",
    "A way to deal with the problem is to use Regularization. There are multiple ways to use Regularization, we'll see that in the following posts.  \n",
    "\n",
    "Furthermore, Regularization also helps to solve the Bais-Variance tradeoff. \n",
    "\n",
    "Source: [ML Coursera](https://www.google.co.in/url?sa=t&rct=j&q=&esrc=s&source=web&cd=1&cad=rja&uact=8&ved=0ahUKEwjugomJysPYAhUQ4o8KHcqwCs8QFgg-MAA&url=https%3A%2F%2Fwww.coursera.org%2Flearn%2Fmachine-learning&usg=AOvVaw2zgTKaHlTbWua1rRu2TcP9)"
   ]
  },
  {
   "cell_type": "markdown",
   "metadata": {},
   "source": [
    "## Norms\n",
    "\n",
    "Norm is nothing but a way to measure distance between two vectors. Generally, it's used to measure the distance between the origin and vector. There are many forms of Norms, but for our purposes, we'll use $L_1$ and $L_2$ norm. \n",
    "\n",
    "### $L_1$ Norm or Mean Absolute Error\n",
    "\n",
    "Consider a vector x = \\[B1 B2\\] Then the $L_1$ norm is simply the addition of the two numbers inside it. \n",
    "\n",
    "Mathematically, $L_1$ Norm is denoted by the following equation\n",
    "\n",
    "### $$\\lVert x \\rVert_1=\\sum_{i=0}^n\\left|x_i\\right|$$\n",
    "\n",
    "### $L_2$ Norm or Root Mean Squared Error\n",
    "\n",
    "The only difference in the $L_2$ norm is we take the addition of the squares of all the numbers and take its square root. \n",
    "\n",
    "Mathematically, $L_2$ Norm is denoted by the following equation\n",
    "\n",
    "### $$\\lVert x \\rVert_2 = \\sqrt{\\sum_{i=0}^nx_i^2}$$\n",
    "\n",
    "\n",
    "### Example\n",
    "Consider a vector\n",
    "$$\n",
    "x =\n",
    "    \\begin{bmatrix}\n",
    "    \\beta_0 \\\\\n",
    "    \\beta_1\n",
    "    \\end{bmatrix}\n",
    "$$\n",
    "\n",
    "Then $L_1$ norm will be\n",
    "$$\\lVert x \\rVert_1= \\beta_0 + \\beta_1$$\n",
    "\n",
    "And $L_2$ norm will be\n",
    "$$\\lVert x \\rVert_1= \\sqrt{\\beta_0^2+\\beta_1^2}$$\n",
    "\n",
    "Graphically, if you plot the vector considering $\\beta_0$ as x-coordinate and $\\beta_1 $as y coordinate. Then $L_1$ norm is simply the addition of the two sides of the traingles formed and $L_2$ is the hypotenuse. The drawing below will make it clear (excuse my poor handwriting :))\n",
    "\n",
    "\n",
    "<img src=\"../images/vector_norm.png\" height=300 width=500/>"
   ]
  },
  {
   "cell_type": "markdown",
   "metadata": {},
   "source": [
    "## Adding Regulariaztion Parameter\n",
    "\n",
    "Consider the cost function of Logistic Regression from the previous post which is given by\n",
    "\n",
    "$$\n",
    "J\\left(\\theta\\right)=-\\frac{1}{m}\\sum_{i=0}^m\\left[y^{\\left(i\\right)}\\log\\left(h_{\\theta}\\left(x^{\\left(i\\right)}\\right)\\right)+\\left(1-y^{\\left(i\\right)}\\right)\\log\\left(1-h_{\\theta}\\left(x^{\\left(i\\right)}\\right)\\right)\\right]\n",
    "$$\n",
    "\n",
    "We add the term  $\\lambda \\lVert \\theta \\rVert_2 ^2$ to it, where $\\lambda$ is a constant that user gets to decide. It's also called as __Regularization Parameter__. Mathematically, it's a Lagrange multiplier that's minimising the cost function $J\\left(\\theta\\right)$.\n",
    "\n",
    "Adding the $\\lambda$ term to the equation makes the cost function for Logistic Regression as:\n",
    "\n",
    "$$J\\left(\\theta\\right)=-\\frac{1}{m}\\sum_{i=0}^m\\left[y^{\\left(i\\right)}\\log\\left(h_{\\theta}\\left(x^{\\left(i\\right)}\\right)\\right)+\\left(1-y^{\\left(i\\right)}\\right)\\log\\left(1-h_{\\theta}\\left(x^{\\left(i\\right)}\\right)\\right)\\right] + \n",
    "\\lambda \\lVert \\theta \\rVert_2 ^2$$\n",
    "\n",
    "Note the notation we used, the 2 at the bottom of $\\theta$ indicates that's a $L_2$ norm, hence, technically we're using Ridge Regression (We'll see shortly what it is). Normally this piece of notation is ignored since whenever we indicate norm we're almost always using the $L_2$ norm and not the $L_1$ one. But we'll be explicit about it since it's the subtle difference between Ridge and Lasso Regression. \n",
    "\n",
    "#### Note:\n",
    "If $\\lambda$ is:\n",
    "1. __too high__: The values will be heavily penalized and __underfitting__ will occur. \n",
    "2. __too low__: There'll be no regularization, we'll be where we started from and the model will __overfit__. \n",
    "\n"
   ]
  },
  {
   "cell_type": "markdown",
   "metadata": {},
   "source": [
    "## Types of Regularization\n",
    "\n",
    "Two types of Regularization we'll see are Ridge, and LASSO. \n",
    "\n",
    "### 1. Ridge\n",
    "Notice how in the above equation we used $L_2$ norm. That's the key point of Ridge Regularization. \n",
    "\n",
    "### 2. LASSO (Least Absolute Shrinkage and Selection Operator)\n",
    "Here instead of the $L_2$ norm, we take $L_1$ norm. This type of regularization is rarely used. \n",
    "\n",
    "### 3. ElasticNet\n",
    "This combines both Ridge and LASSO hence uses both $L_1$ and $L_2$ norms. "
   ]
  },
  {
   "cell_type": "markdown",
   "metadata": {},
   "source": [
    "## When to use $L_1$ (MAE) vs $L_2$ (RMSE) \n",
    "\n",
    "Since RMSE squares the differences this has the effect of penalizing large errors more than lower errors. For instance penalizing an error of 10 is __more than twice__ than penalizing the error of 5. \n",
    "\n",
    "But in the case of MAE penalizing an error of 10 is __twice__ the penalizing the error of 5. Hence whenever you want to penalizing linearly you ought to choose MAE over RMSE else the other way around. "
   ]
  },
  {
   "cell_type": "markdown",
   "metadata": {},
   "source": [
    "## Polynomial Regression\n",
    "\n",
    "Polynomial Regression is the same as Linear Regression but we're adding polynomial features to the dataset. For instance if we have two features $x_1$, and $x_2$. We'll add $x_1^2$, $x_2^2$, $x_1x_2$, $x_1^3$ and so on. Adding these features will give us a non-linear fit, i.e. a boundary that's not simple plain line. "
   ]
  },
  {
   "cell_type": "code",
   "execution_count": null,
   "metadata": {},
   "outputs": [
    {
     "data": {
      "text/html": [
       "<div>\n",
       "<style>\n",
       "    .dataframe thead tr:only-child th {\n",
       "        text-align: right;\n",
       "    }\n",
       "\n",
       "    .dataframe thead th {\n",
       "        text-align: left;\n",
       "    }\n",
       "\n",
       "    .dataframe tbody tr th {\n",
       "        vertical-align: top;\n",
       "    }\n",
       "</style>\n",
       "<table border=\"1\" class=\"dataframe\">\n",
       "  <thead>\n",
       "    <tr style=\"text-align: right;\">\n",
       "      <th></th>\n",
       "      <th>chip1</th>\n",
       "      <th>chip2</th>\n",
       "      <th>y</th>\n",
       "    </tr>\n",
       "  </thead>\n",
       "  <tbody>\n",
       "    <tr>\n",
       "      <th>0</th>\n",
       "      <td>0.051267</td>\n",
       "      <td>0.69956</td>\n",
       "      <td>1</td>\n",
       "    </tr>\n",
       "    <tr>\n",
       "      <th>1</th>\n",
       "      <td>-0.092742</td>\n",
       "      <td>0.68494</td>\n",
       "      <td>1</td>\n",
       "    </tr>\n",
       "    <tr>\n",
       "      <th>2</th>\n",
       "      <td>-0.213710</td>\n",
       "      <td>0.69225</td>\n",
       "      <td>1</td>\n",
       "    </tr>\n",
       "    <tr>\n",
       "      <th>3</th>\n",
       "      <td>-0.375000</td>\n",
       "      <td>0.50219</td>\n",
       "      <td>1</td>\n",
       "    </tr>\n",
       "    <tr>\n",
       "      <th>4</th>\n",
       "      <td>-0.513250</td>\n",
       "      <td>0.46564</td>\n",
       "      <td>1</td>\n",
       "    </tr>\n",
       "  </tbody>\n",
       "</table>\n",
       "</div>"
      ],
      "text/plain": [
       "      chip1    chip2  y\n",
       "0  0.051267  0.69956  1\n",
       "1 -0.092742  0.68494  1\n",
       "2 -0.213710  0.69225  1\n",
       "3 -0.375000  0.50219  1\n",
       "4 -0.513250  0.46564  1"
      ]
     },
     "metadata": {},
     "output_type": "display_data"
    }
   ],
   "source": [
    "from __future__ import division\n",
    "import numpy as np\n",
    "import matplotlib.pyplot as plt\n",
    "import pandas as pd\n",
    "\n",
    "from scipy.optimize import minimize\n",
    "\n",
    "df = pd.read_csv('machine_learning_andrewng/ex2data2.csv', header=None)\n",
    "df.rename(columns={0: 'chip1', 1: 'chip2', 2: 'y'}, inplace=True)\n",
    "df.head()"
   ]
  },
  {
   "cell_type": "code",
   "execution_count": null,
   "metadata": {},
   "outputs": [
    {
     "data": {
      "image/png": "[encoded data removed]",
      "text/plain": [
       "<matplotlib.figure.Figure at 0x7efbb8f8bcd0>"
      ]
     },
     "metadata": {},
     "output_type": "display_data"
    }
   ],
   "source": [
    "fig = plt.figure(figsize=(12, 8))\n",
    "plt.scatter(df[df['y'] == 0]['chip1'], df[df['y'] == 0]['chip2'],\n",
    "            label='Test Failed', color='yellow', edgecolor='black')\n",
    "plt.scatter(df[df['y'] == 1]['chip1'], df[df['y'] == 1]['chip2'],\n",
    "            label='Test Passed', marker='+', color='black')\n",
    "plt.xlabel('Microchip Test 1')\n",
    "plt.ylabel('Microchip Test 2')\n",
    "plt.legend(loc='upper right')\n",
    "plt.title('Testing whether the Microchip will be accepted')\n",
    "plt.show()"
   ]
  },
  {
   "cell_type": "code",
   "execution_count": null,
   "metadata": {},
   "outputs": [],
   "source": [
    "class LogisticRegression(object):\n",
    "    def __init__(self, X, y, alpha=0.001, n_iterations=5000,\n",
    "                 lambda_param=0, verbose=True):\n",
    "        self.y = self._handle_data_type(y)\n",
    "        self.X = self._handle_data_type(X)\n",
    "        self.X = self._hstack_one(X)\n",
    "        self.thetas = np.zeros((self.X.shape[1]))\n",
    "        self.n_rows = self.X.shape[0]\n",
    "        self.n_features = self.thetas.shape[0]\n",
    "        self.alpha = alpha\n",
    "        self.n_iterations = n_iterations\n",
    "        self.lambda_param = lambda_param\n",
    "        if verbose:\n",
    "            print \"Number of features: {0}\".format(self.n_features - 1)\n",
    "            print \"Cost before fitting: {0:.4f}\".format(self.cost())\n",
    "    \n",
    "    @staticmethod\n",
    "    def _handle_data_type(new_X):\n",
    "        return new_X\n",
    "    \n",
    "    @staticmethod\n",
    "    def _hstack_one(input_matrix):\n",
    "        if len(input_matrix.shape) == 1:\n",
    "            return np.hstack((np.array([1]), input_matrix))\n",
    "        else:\n",
    "            return np.hstack((np.ones((input_matrix.shape[0], 1)), input_matrix))\n",
    "        \n",
    "    @staticmethod\n",
    "    def sigmoid(X):\n",
    "        return 1/(1 + np.exp(-X))\n",
    "        \n",
    "    def cost(self, thetas=None):\n",
    "        if thetas is None:\n",
    "            thetas = self.thetas\n",
    "        dot_prod = self.X.dot(thetas)\n",
    "        dot_prod_pos = dot_prod[self.y == 1]\n",
    "        dot_prod_neg = dot_prod[self.y == 0]\n",
    "        # TODO: Add limit parameter to prevent\n",
    "        # log underflow\n",
    "        # https://stackoverflow.com/a/47244817/1878563\n",
    "        cost = -(1/self.n_rows) * (np.sum(np.log(self.sigmoid(dot_prod_pos))) \\\n",
    "                                + np.sum(np.log(1 - self.sigmoid(dot_prod_neg)))) \\\n",
    "                         + (self.lambda_param/(2*self.n_rows)) \\\n",
    "                     * np.sum(self.thetas[1:]**2)\n",
    "        return cost\n",
    "    \n",
    "    def predict(self, new_X, threshold=0.5):\n",
    "        new_X = self._handle_data_type(new_X)\n",
    "        assert new_X.shape[0] != self.X.shape[1], \\\n",
    "            \"Number of features don't match. {0} != {1}\".format(new_X.shape[1],\n",
    "                                                                self.X.shape[1])\n",
    "        new_X = self._hstack_one(new_X)\n",
    "        h = new_X.dot(self.thetas)\n",
    "        results = self.sigmoid(h) >= threshold\n",
    "        return results\n",
    "    \n",
    "    def batch_gradient(self, thetas=None):\n",
    "        if thetas is None:\n",
    "            thetas = self.thetas\n",
    "        h = self.sigmoid(self.X.dot(thetas)) - self.y\n",
    "        h = np.multiply(self.X, h.reshape(-1, 1))\n",
    "        h = np.sum(h, axis=0)\n",
    "        reg = thetas * self.lambda_param\n",
    "        reg[0] = 0 # don't regularize theta_0\n",
    "        h += reg\n",
    "        return h\n",
    "    \n",
    "    def batch_gradient_descent(self, ):\n",
    "        alpha_by_m = self.alpha/self.n_rows\n",
    "        for i in range(self.n_iterations):\n",
    "            self.thetas = self.thetas - (alpha_by_m * self.batch_gradient())\n",
    "            cost = self.cost()\n",
    "            print \"\\rIteration: {0} Loss: {1:.5f}\".format(i + 1, cost)  + \"\",\n",
    "        print\n",
    "    \n",
    "    def scipy_optimize(self, verbose=True):\n",
    "        result = minimize(self.cost, self.thetas, jac=self.batch_gradient, \n",
    "                          options={'maxiter': self.n_iterations})\n",
    "        if verbose:\n",
    "            print result\n",
    "        self.thetas = result.x"
   ]
  },
  {
   "cell_type": "markdown",
   "metadata": {},
   "source": [
    "### Simple Logistic Regression"
   ]
  },
  {
   "cell_type": "code",
   "execution_count": null,
   "metadata": {},
   "outputs": [
    {
     "name": "stdout",
     "output_type": "stream",
     "text": [
      "Number of features: 2\n",
      "Cost before fitting: 0.6931\n",
      "      fun: 0.69024112201698\n",
      " hess_inv: array([[ 0.03954989, -0.0116338 , -0.02684334],\n",
      "       [-0.0116338 ,  0.14515993,  0.02196225],\n",
      "       [-0.02684334,  0.02196225,  0.14320469]])\n",
      "      jac: array([ -8.04472319e-06,  -5.74084101e-07,  -1.09410551e-06])\n",
      "  message: 'Optimization terminated successfully.'\n",
      "     nfev: 165\n",
      "      nit: 48\n",
      "     njev: 165\n",
      "   status: 0\n",
      "  success: True\n",
      "        x: array([-0.01418441, -0.30352114, -0.01813174])\n"
     ]
    }
   ],
   "source": [
    "simple_lr = LogisticRegression(df[['chip1', 'chip2']].values, df['y'].values, n_iterations=20000)\n",
    "simple_lr.scipy_optimize()"
   ]
  },
  {
   "cell_type": "code",
   "execution_count": null,
   "metadata": {},
   "outputs": [
    {
     "data": {
      "image/png": "[encoded data removed]",
      "text/plain": [
       "<matplotlib.figure.Figure at 0x7f0118075750>"
      ]
     },
     "metadata": {},
     "output_type": "display_data"
    }
   ],
   "source": [
    "# Plotting the prediction line\n",
    "def plot(col1, col2, clf):\n",
    "    min_ex1 = df[col1].min()\n",
    "    max_ex1 = df[col1].max()\n",
    "\n",
    "    min_ex2 = df[col2].min()\n",
    "    max_ex2 = df[col2].max()\n",
    "\n",
    "    arange_step = 0.001\n",
    "\n",
    "    xx, yy = np.meshgrid(np.arange(min_ex1, max_ex1, arange_step), \n",
    "                         np.arange(min_ex2, max_ex2, arange_step))\n",
    "    preds = np.c_[xx.ravel(), yy.ravel()]\n",
    "    preds = clf.predict(preds)\n",
    "    preds = preds.reshape(xx.shape)\n",
    "    fig = plt.figure(figsize=(12, 8))\n",
    "    plt.scatter(df[df['y'] == 0][col1], df[df['y'] == 0][col2],\n",
    "                label='Not admitted', color='yellow', edgecolor='black')\n",
    "    plt.scatter(df[df['y'] == 1][col1], df[df['y'] == 1][col2],\n",
    "                label='Admitted', marker='+', color='black')\n",
    "    plt.contour(xx, yy, preds, [0.5], colors='green')\n",
    "    plt.xlabel('Exam 1 score')\n",
    "    plt.ylabel('Exam 2 score')\n",
    "    plt.legend(loc='upper right')\n",
    "    plt.title('Scores indicating admission')\n",
    "    plt.show()\n",
    "    \n",
    "plot(\"chip1\", \"chip2\", simple_lr)"
   ]
  },
  {
   "cell_type": "code",
   "execution_count": null,
   "metadata": {},
   "outputs": [
    {
     "name": "stdout",
     "output_type": "stream",
     "text": [
      "(118, 27)\n",
      "Number of features: 27\n",
      "Cost before fitting: 0.6931\n",
      "      fun: 0.6802434024711351\n",
      " hess_inv: array([[  4.23984171e-02,  -1.71383426e-02,  -2.38290924e-04,\n",
      "          2.02861892e-02,  -6.47610740e-03,   1.91629457e-02,\n",
      "         -9.82653723e-03,   1.15108124e-03,  -6.28776882e-04,\n",
      "         -9.07568393e-03,   2.63613455e-03,  -2.90371388e-03,\n",
      "          3.82792244e-03,  -2.61956629e-03,  -5.14944483e-03,\n",
      "         -8.39710563e-03,   3.99420393e-05,  -5.48575475e-04,\n",
      "         -5.21552667e-06,  -3.66343522e-04,  -1.59309471e-02,\n",
      "         -3.17290267e-03,  -1.79242705e-03,   1.19858370e-03,\n",
      "         -9.13433031e-04,   4.91298557e-04,  -1.54604264e-03,\n",
      "         -1.54675705e-02],\n",
      "       [ -1.71383426e-02,   5.12692985e-01,  -1.18408858e-01,\n",
      "         -1.82832779e-01,   1.28144257e-01,  -1.17568724e-01,\n",
      "         -2.81545853e-01,   5.64146455e-02,  -4.17312757e-02,\n",
      "          5.04789812e-02,  -5.61753462e-02,   1.09395661e-02,\n",
      "          2.47817442e-02,   2.63464881e-02,   9.62040081e-02,\n",
      "         -1.67300467e-01,   2.86379290e-02,  -2.57017320e-02,\n",
      "          4.07963680e-02,  -3.68366565e-03,   1.10747905e-01,\n",
      "         -4.60633235e-02,  -4.34159081e-03,   1.50750767e-02,\n",
      "         -1.49008320e-03,   3.00698127e-02,   4.25345541e-03,\n",
      "          1.42123198e-01],\n",
      "       [ -2.38290924e-04,  -1.18408858e-01,   3.66686739e-01,\n",
      "          1.22476033e-01,   1.23261542e-01,  -2.40722412e-01,\n",
      "         -3.21352406e-02,  -1.41256691e-02,   3.89491589e-02,\n",
      "         -2.25502895e-01,   1.77374712e-01,   9.51112468e-03,\n",
      "          3.77511336e-02,   3.42226619e-02,  -4.88778790e-02,\n",
      "          3.42701524e-02,   1.07121628e-02,   6.69150884e-03,\n",
      "          8.70742636e-03,   3.49162959e-02,  -8.18391089e-02,\n",
      "          1.50432655e-01,  -1.97601278e-03,   2.97231112e-02,\n",
      "         -8.83236204e-04,   2.36156666e-02,   1.70392837e-02,\n",
      "          3.31260798e-03],\n",
      "       [  2.02861892e-02,  -1.82832779e-01,   1.22476033e-01,\n",
      "          7.36842486e-01,  -3.20572498e-02,  -1.07955527e-01,\n",
      "         -1.40901104e-01,  -5.10800086e-03,  -5.10595506e-02,\n",
      "         -9.78403881e-03,  -1.99199012e-01,  -6.76368027e-03,\n",
      "         -4.71631892e-02,  -1.13199882e-02,  -9.57104886e-02,\n",
      "         -1.28639176e-01,  -9.17831335e-03,  -2.12861046e-02,\n",
      "         -1.02670308e-02,  -2.55215691e-02,  -5.34364089e-02,\n",
      "         -1.59980626e-01,  -4.56397621e-03,  -2.50509281e-02,\n",
      "         -1.61567121e-03,  -2.22587165e-02,  -7.72626153e-03,\n",
      "         -9.25034204e-02],\n",
      "       [ -6.47610740e-03,   1.28144257e-01,   1.23261542e-01,\n",
      "         -3.20572498e-02,   9.32183503e-01,   1.80103896e-02,\n",
      "          5.90652598e-02,  -2.30279239e-02,  -4.49603590e-03,\n",
      "         -1.22123003e-02,  -6.06398420e-02,  -7.24283761e-03,\n",
      "         -2.88712386e-02,  -1.61231206e-02,  -7.06580144e-02,\n",
      "          1.57486923e-02,  -1.50397188e-02,   1.82045876e-03,\n",
      "         -2.00777405e-02,  -9.71093929e-03,  -5.92376564e-02,\n",
      "         -4.88203287e-02,   8.19833547e-05,  -1.65722724e-02,\n",
      "          2.62746178e-05,  -2.10904491e-02,  -5.36001199e-03,\n",
      "         -9.01978945e-02],\n",
      "       [  1.91629457e-02,  -1.17568724e-01,  -2.40722412e-01,\n",
      "         -1.07955527e-01,   1.80103896e-02,   7.96280031e-01,\n",
      "         -7.60101875e-02,  -2.42141801e-02,  -1.08856322e-02,\n",
      "         -1.49149282e-01,  -4.99681043e-02,  -2.38160066e-03,\n",
      "         -2.22591225e-02,   4.92928959e-03,  -1.27375632e-01,\n",
      "         -5.13448049e-02,  -7.37550042e-03,  -8.32326810e-03,\n",
      "         -1.19780431e-02,  -9.38074676e-05,  -1.14627740e-01,\n",
      "         -3.53251078e-02,  -4.00771322e-03,  -6.62872569e-03,\n",
      "         -1.53790370e-03,  -1.09967350e-02,   2.58515479e-03,\n",
      "         -1.04140016e-01],\n",
      "       [ -9.82653723e-03,  -2.81545853e-01,  -3.21352406e-02,\n",
      "         -1.40901104e-01,   5.90652598e-02,  -7.60101875e-02,\n",
      "          8.30846090e-01,   2.84345896e-02,  -3.07964764e-02,\n",
      "          2.72228526e-02,  -6.53478611e-02,   4.35196185e-03,\n",
      "          4.25925455e-03,   1.12118690e-02,   3.39062743e-02,\n",
      "         -1.08892402e-01,   1.30776500e-02,  -1.70059510e-02,\n",
      "          1.91951352e-02,  -6.72091241e-03,   4.90191376e-02,\n",
      "         -5.30998889e-02,  -3.00794830e-03,   3.12194234e-03,\n",
      "         -1.04063540e-03,   1.14176634e-02,   6.46507586e-04,\n",
      "          5.74560150e-02],\n",
      "       [  1.15108124e-03,   5.64146455e-02,  -1.41256691e-02,\n",
      "         -5.10800086e-03,  -2.30279239e-02,  -2.42141801e-02,\n",
      "          2.84345896e-02,   9.84471207e-01,   2.12773691e-03,\n",
      "         -3.84940239e-02,  -1.33904346e-02,  -3.00023552e-03,\n",
      "         -1.22807868e-02,  -4.83752161e-03,  -4.93024284e-02,\n",
      "          1.24230093e-02,  -7.44301758e-03,   1.73042582e-03,\n",
      "         -1.06852071e-02,  -1.16587888e-03,  -4.66132723e-02,\n",
      "         -9.69472376e-03,  -2.75880803e-04,  -5.90375207e-03,\n",
      "         -1.24986518e-04,  -9.35895095e-03,  -8.69802163e-04,\n",
      "         -5.34194078e-02],\n",
      "       [ -6.28776882e-04,  -4.17312757e-02,   3.89491589e-02,\n",
      "         -5.10595506e-02,  -4.49603590e-03,  -1.08856322e-02,\n",
      "         -3.07964764e-02,   2.12773691e-03,   9.89245435e-01,\n",
      "          9.70946681e-03,  -3.87622078e-02,  -9.33783043e-04,\n",
      "         -7.44868951e-03,  -1.97420918e-03,  -8.25782457e-03,\n",
      "         -2.70813756e-02,  -6.17209333e-04,  -4.43536486e-03,\n",
      "         -2.04963718e-04,  -5.30834952e-03,  -1.40281500e-04,\n",
      "         -3.15027074e-02,  -7.67628435e-04,  -4.27157196e-03,\n",
      "         -2.60312904e-04,  -3.00998285e-03,  -1.65076882e-03,\n",
      "         -8.08066189e-03],\n",
      "       [ -9.07568393e-03,   5.04789812e-02,  -2.25502895e-01,\n",
      "         -9.78403881e-03,  -1.22123003e-02,  -1.49149282e-01,\n",
      "          2.72228526e-02,  -3.84940239e-02,   9.70946681e-03,\n",
      "          8.40448890e-01,   8.35202410e-04,  -4.25467175e-03,\n",
      "         -2.05011015e-02,  -4.95220310e-04,  -1.35845832e-01,\n",
      "          1.77706554e-02,  -1.35790432e-02,   2.60103245e-03,\n",
      "         -2.12938591e-02,   5.36464209e-03,  -1.34929487e-01,\n",
      "          5.52440168e-03,  -1.99917820e-03,  -6.31909257e-03,\n",
      "         -8.38089311e-04,  -1.52809809e-02,   2.68667694e-03,\n",
      "         -1.26539281e-01],\n",
      "       [  2.63613455e-03,  -5.61753462e-02,   1.77374712e-01,\n",
      "         -1.99199012e-01,  -6.06398420e-02,  -4.99681043e-02,\n",
      "         -6.53478611e-02,  -1.33904346e-02,  -3.87622078e-02,\n",
      "          8.35202410e-04,   8.27100516e-01,  -8.52718755e-03,\n",
      "         -4.74628781e-02,  -1.72020910e-02,  -9.47359961e-02,\n",
      "         -8.12864341e-02,  -1.38544487e-02,  -1.38705873e-02,\n",
      "         -1.68319475e-02,  -2.37801833e-02,  -5.90806889e-02,\n",
      "         -1.39425586e-01,  -2.93184448e-03,  -2.63636843e-02,\n",
      "         -1.03004441e-03,  -2.62500860e-02,  -8.72357737e-03,\n",
      "         -1.04884596e-01],\n",
      "       [ -2.90371388e-03,   1.09395661e-02,   9.51112468e-03,\n",
      "         -6.76368027e-03,  -7.24283761e-03,  -2.38160066e-03,\n",
      "          4.35196185e-03,  -3.00023552e-03,  -9.33783043e-04,\n",
      "         -4.25467175e-03,  -8.52718755e-03,   9.99124852e-01,\n",
      "         -3.79783490e-03,  -1.72753551e-03,  -1.06466353e-02,\n",
      "          1.28682950e-04,  -1.82948512e-03,  -5.78458258e-05,\n",
      "         -2.47485051e-03,  -1.18343642e-03,  -8.98135085e-03,\n",
      "         -6.78270732e-03,  -9.23430132e-05,  -2.05552783e-03,\n",
      "         -3.51554319e-05,  -2.62325799e-03,  -5.76006339e-04,\n",
      "         -1.23606136e-02],\n",
      "       [  3.82792244e-03,   2.47817442e-02,   3.77511336e-02,\n",
      "         -4.71631892e-02,  -2.88712386e-02,  -2.22591225e-02,\n",
      "          4.25925455e-03,  -1.22807868e-02,  -7.44868951e-03,\n",
      "         -2.05011015e-02,  -4.74628781e-02,  -3.79783490e-03,\n",
      "          9.81776865e-01,  -7.12708412e-03,  -4.99589594e-02,\n",
      "         -9.98826316e-03,  -7.70727310e-03,  -1.96110494e-03,\n",
      "         -1.03214132e-02,  -6.25744812e-03,  -4.02409680e-02,\n",
      "         -3.76807908e-02,  -7.60945137e-04,  -9.67414945e-03,\n",
      "         -2.81927750e-04,  -1.17055225e-02,  -2.62665631e-03,\n",
      "         -5.53715197e-02],\n",
      "       [ -2.61956629e-03,   2.63464881e-02,   3.42226619e-02,\n",
      "         -1.13199882e-02,  -1.61231206e-02,   4.92928959e-03,\n",
      "          1.12118690e-02,  -4.83752161e-03,  -1.97420918e-03,\n",
      "         -4.95220310e-04,  -1.72020910e-02,  -1.72753551e-03,\n",
      "         -7.12708412e-03,   9.96073070e-01,  -1.58264717e-02,\n",
      "          1.43034375e-03,  -3.43384187e-03,   6.13789185e-05,\n",
      "         -4.50496221e-03,  -2.73786423e-03,  -1.25460656e-02,\n",
      "         -1.39267119e-02,  -2.02568918e-05,  -4.14739316e-03,\n",
      "         -5.31590735e-06,  -5.01957415e-03,  -1.41129516e-03,\n",
      "         -2.05050200e-02],\n",
      "       [ -5.14944483e-03,   9.62040081e-02,  -4.88778790e-02,\n",
      "         -9.57104886e-02,  -7.06580144e-02,  -1.27375632e-01,\n",
      "          3.39062743e-02,  -4.93024284e-02,  -8.25782457e-03,\n",
      "         -1.35845832e-01,  -9.47359961e-02,  -1.06466353e-02,\n",
      "         -4.99589594e-02,  -1.58264717e-02,   8.16037319e-01,\n",
      "         -4.57936068e-03,  -2.46048406e-02,  -1.65113757e-03,\n",
      "         -3.48241411e-02,  -9.60658775e-03,  -1.64139451e-01,\n",
      "         -7.24088016e-02,  -2.58498655e-03,  -2.39631821e-02,\n",
      "         -1.02388229e-03,  -3.38110909e-02,  -3.99758140e-03,\n",
      "         -1.91325204e-01],\n",
      "       [ -8.39710563e-03,  -1.67300467e-01,   3.42701524e-02,\n",
      "         -1.28639176e-01,   1.57486923e-02,  -5.13448049e-02,\n",
      "         -1.08892402e-01,   1.24230093e-02,  -2.70813756e-02,\n",
      "          1.77706554e-02,  -8.12864341e-02,   1.28682950e-04,\n",
      "         -9.98826316e-03,   1.43034375e-03,  -4.57936068e-03,\n",
      "          9.19415772e-01,   3.58023177e-03,  -1.28925319e-02,\n",
      "          6.21536697e-03,  -1.00619796e-02,   1.30003588e-02,\n",
      "         -6.58778973e-02,  -2.36959448e-03,  -5.23952910e-03,\n",
      "         -8.22469938e-04,  -5.88170340e-04,  -2.03798630e-03,\n",
      "          5.15043075e-03],\n",
      "       [  3.99420393e-05,   2.86379290e-02,   1.07121628e-02,\n",
      "         -9.17831335e-03,  -1.50397188e-02,  -7.37550042e-03,\n",
      "          1.30776500e-02,  -7.44301758e-03,  -6.17209333e-04,\n",
      "         -1.35790432e-02,  -1.38544487e-02,  -1.82948512e-03,\n",
      "         -7.70727310e-03,  -3.43384187e-03,  -2.46048406e-02,\n",
      "          3.58023177e-03,   9.95897142e-01,   4.05218246e-04,\n",
      "         -5.68142997e-03,  -1.81172976e-03,  -2.18682937e-02,\n",
      "         -1.08064497e-02,  -1.50016639e-04,  -4.03190857e-03,\n",
      "         -6.22679936e-05,  -5.56066645e-03,  -9.71564421e-04,\n",
      "         -2.79479957e-02],\n",
      "       [ -5.48575475e-04,  -2.57017320e-02,   6.69150884e-03,\n",
      "         -2.12861046e-02,   1.82045876e-03,  -8.32326810e-03,\n",
      "         -1.70059510e-02,   1.73042582e-03,  -4.43536486e-03,\n",
      "          2.60103245e-03,  -1.38705873e-02,  -5.78458258e-05,\n",
      "         -1.96110494e-03,   6.13789185e-05,  -1.65113757e-03,\n",
      "         -1.28925319e-02,   4.05218246e-04,   9.97929359e-01,\n",
      "          7.70649415e-04,  -1.73341055e-03,   1.34168318e-03,\n",
      "         -1.12270991e-02,  -3.83812837e-04,  -1.03877920e-03,\n",
      "         -1.32714147e-04,  -3.40802683e-04,  -3.84162251e-04,\n",
      "         -2.64871032e-04],\n",
      "       [ -5.21552667e-06,   4.07963680e-02,   8.70742636e-03,\n",
      "         -1.02670308e-02,  -2.00777405e-02,  -1.19780431e-02,\n",
      "          1.91951352e-02,  -1.06852071e-02,  -2.04963718e-04,\n",
      "         -2.12938591e-02,  -1.68319475e-02,  -2.47485051e-03,\n",
      "         -1.03214132e-02,  -4.50496221e-03,  -3.48241411e-02,\n",
      "          6.21536697e-03,  -5.68142997e-03,   7.70649415e-04,\n",
      "          9.92062253e-01,  -2.10014775e-03,  -3.14995921e-02,\n",
      "         -1.29907450e-02,  -2.02998226e-04,  -5.30690178e-03,\n",
      "         -8.70335464e-05,  -7.55404744e-03,  -1.17973393e-03,\n",
      "         -3.91245205e-02],\n",
      "       [ -3.66343522e-04,  -3.68366565e-03,   3.49162959e-02,\n",
      "         -2.55215691e-02,  -9.71093929e-03,  -9.38074676e-05,\n",
      "         -6.72091241e-03,  -1.16587888e-03,  -5.30834952e-03,\n",
      "          5.36464209e-03,  -2.37801833e-02,  -1.18343642e-03,\n",
      "         -6.25744812e-03,  -2.73786423e-03,  -9.60658775e-03,\n",
      "         -1.00619796e-02,  -1.81172976e-03,  -1.73341055e-03,\n",
      "         -2.10014775e-03,   9.96489527e-01,  -4.79066356e-03,\n",
      "         -1.93502566e-02,  -2.86786435e-04,  -3.67966166e-03,\n",
      "         -9.52104688e-05,  -3.52145390e-03,  -1.38398890e-03,\n",
      "         -1.19755100e-02],\n",
      "       [ -1.59309471e-02,   1.10747905e-01,  -8.18391089e-02,\n",
      "         -5.34364089e-02,  -5.92376564e-02,  -1.14627740e-01,\n",
      "          4.90191376e-02,  -4.66132723e-02,  -1.40281500e-04,\n",
      "         -1.34929487e-01,  -5.90806889e-02,  -8.98135085e-03,\n",
      "         -4.02409680e-02,  -1.25460656e-02,  -1.64139451e-01,\n",
      "          1.30003588e-02,  -2.18682937e-02,   1.34168318e-03,\n",
      "         -3.14995921e-02,  -4.79066356e-03,   8.48187040e-01,\n",
      "         -4.37549490e-02,  -1.95320693e-03,  -1.86350872e-02,\n",
      "         -8.03215424e-04,  -2.85412866e-02,  -2.29544636e-03,\n",
      "         -1.69996060e-01],\n",
      "       [ -3.17290267e-03,  -4.60633235e-02,   1.50432655e-01,\n",
      "         -1.59980626e-01,  -4.88203287e-02,  -3.53251078e-02,\n",
      "         -5.30998889e-02,  -9.69472376e-03,  -3.15027074e-02,\n",
      "          5.52440168e-03,  -1.39425586e-01,  -6.78270732e-03,\n",
      "         -3.76807908e-02,  -1.39267119e-02,  -7.24088016e-02,\n",
      "         -6.58778973e-02,  -1.08064497e-02,  -1.12270991e-02,\n",
      "         -1.29907450e-02,  -1.93502566e-02,  -4.37549490e-02,\n",
      "          8.87387209e-01,  -2.30449391e-03,  -2.10965154e-02,\n",
      "         -8.06511198e-04,  -2.07567555e-02,  -7.13890516e-03,\n",
      "         -8.10383881e-02],\n",
      "       [ -1.79242705e-03,  -4.34159081e-03,  -1.97601278e-03,\n",
      "         -4.56397621e-03,   8.19833547e-05,  -4.00771322e-03,\n",
      "         -3.00794830e-03,  -2.75880803e-04,  -7.67628435e-04,\n",
      "         -1.99917820e-03,  -2.93184448e-03,  -9.23430132e-05,\n",
      "         -7.60945137e-04,  -2.02568918e-05,  -2.58498655e-03,\n",
      "         -2.36959448e-03,  -1.50016639e-04,  -3.83812837e-04,\n",
      "         -2.02998226e-04,  -2.86786435e-04,  -1.95320693e-03,\n",
      "         -2.30449391e-03,   9.99887191e-01,  -3.34774532e-04,\n",
      "         -4.14754820e-05,  -3.39079892e-04,  -4.63077479e-05,\n",
      "         -2.19789236e-03],\n",
      "       [  1.19858370e-03,   1.50750767e-02,   2.97231112e-02,\n",
      "         -2.50509281e-02,  -1.65722724e-02,  -6.62872569e-03,\n",
      "          3.12194234e-03,  -5.90375207e-03,  -4.27157196e-03,\n",
      "         -6.31909257e-03,  -2.63636843e-02,  -2.05552783e-03,\n",
      "         -9.67414945e-03,  -4.14739316e-03,  -2.39631821e-02,\n",
      "         -5.23952910e-03,  -4.03190857e-03,  -1.03877920e-03,\n",
      "         -5.30690178e-03,  -3.67966166e-03,  -1.86350872e-02,\n",
      "         -2.10965154e-02,  -3.34774532e-04,   9.94693975e-01,\n",
      "         -1.21489367e-04,  -6.22830845e-03,  -1.59585468e-03,\n",
      "         -2.76158617e-02],\n",
      "       [ -9.13433031e-04,  -1.49008320e-03,  -8.83236204e-04,\n",
      "         -1.61567121e-03,   2.62746178e-05,  -1.53790370e-03,\n",
      "         -1.04063540e-03,  -1.24986518e-04,  -2.60312904e-04,\n",
      "         -8.38089311e-04,  -1.03004441e-03,  -3.51554319e-05,\n",
      "         -2.81927750e-04,  -5.31590735e-06,  -1.02388229e-03,\n",
      "         -8.22469938e-04,  -6.22679936e-05,  -1.32714147e-04,\n",
      "         -8.70335464e-05,  -9.52104688e-05,  -8.03215424e-04,\n",
      "         -8.06511198e-04,  -4.14754820e-05,  -1.21489367e-04,\n",
      "          9.99984883e-01,  -1.30373649e-04,  -1.33622297e-05,\n",
      "         -8.82028654e-04],\n",
      "       [  4.91298557e-04,   3.00698127e-02,   2.36156666e-02,\n",
      "         -2.22587165e-02,  -2.10904491e-02,  -1.09967350e-02,\n",
      "          1.14176634e-02,  -9.35895095e-03,  -3.00998285e-03,\n",
      "         -1.52809809e-02,  -2.62500860e-02,  -2.62325799e-03,\n",
      "         -1.17055225e-02,  -5.01957415e-03,  -3.38110909e-02,\n",
      "         -5.88170340e-04,  -5.56066645e-03,  -3.40802683e-04,\n",
      "         -7.55404744e-03,  -3.52145390e-03,  -2.85412866e-02,\n",
      "         -2.07567555e-02,  -3.39079892e-04,  -6.22830845e-03,\n",
      "         -1.30373649e-04,   9.92020607e-01,  -1.65435626e-03,\n",
      "         -3.83428027e-02],\n",
      "       [ -1.54604264e-03,   4.25345541e-03,   1.70392837e-02,\n",
      "         -7.72626153e-03,  -5.36001199e-03,   2.58515479e-03,\n",
      "          6.46507586e-04,  -8.69802163e-04,  -1.65076882e-03,\n",
      "          2.68667694e-03,  -8.72357737e-03,  -5.76006339e-04,\n",
      "         -2.62665631e-03,  -1.41129516e-03,  -3.99758140e-03,\n",
      "         -2.03798630e-03,  -9.71564421e-04,  -3.84162251e-04,\n",
      "         -1.17973393e-03,  -1.38398890e-03,  -2.29544636e-03,\n",
      "         -7.13890516e-03,  -4.63077479e-05,  -1.59585468e-03,\n",
      "         -1.33622297e-05,  -1.65435626e-03,   9.99377132e-01,\n",
      "         -5.60084462e-03],\n",
      "       [ -1.54675705e-02,   1.42123198e-01,   3.31260798e-03,\n",
      "         -9.25034204e-02,  -9.01978945e-02,  -1.04140016e-01,\n",
      "          5.74560150e-02,  -5.34194078e-02,  -8.08066189e-03,\n",
      "         -1.26539281e-01,  -1.04884596e-01,  -1.23606136e-02,\n",
      "         -5.53715197e-02,  -2.05050200e-02,  -1.91325204e-01,\n",
      "          5.15043075e-03,  -2.79479957e-02,  -2.64871032e-04,\n",
      "         -3.91245205e-02,  -1.19755100e-02,  -1.69996060e-01,\n",
      "         -8.10383881e-02,  -2.19789236e-03,  -2.76158617e-02,\n",
      "         -8.82028654e-04,  -3.83428027e-02,  -5.60084462e-03,\n",
      "          7.93999465e-01]])\n",
      "      jac: array([-0.29495366, -0.02110213,  0.37121985, -0.18798057, -0.09077877,\n",
      "        0.06481634, -0.04878409, -0.00196727, -0.04554089,  0.09010403,\n",
      "       -0.19358094, -0.01073804, -0.04648138, -0.02629033, -0.04359302,\n",
      "       -0.08081204, -0.01319972, -0.01389941, -0.01401101, -0.03133611,\n",
      "       -0.00840128, -0.16094479, -0.002166  , -0.02962343, -0.00087861,\n",
      "       -0.02669664, -0.01358381, -0.07280669])\n",
      "  message: 'Desired error not necessarily achieved due to precision loss.'\n",
      "     nfev: 104\n",
      "      nit: 4\n",
      "     njev: 92\n",
      "   status: 2\n",
      "  success: False\n",
      "        x: array([ 0.01125555, -0.01740045,  0.00957941, -0.05622549, -0.01413126,\n",
      "       -0.03722957, -0.01868937, -0.00771399, -0.00929853, -0.02171417,\n",
      "       -0.04493377, -0.00248193, -0.01448146, -0.00378495, -0.04152504,\n",
      "       -0.02159132, -0.0048318 , -0.0036905 , -0.00643441, -0.00530646,\n",
      "       -0.03189708, -0.03547334, -0.00110129, -0.00726509, -0.00039923,\n",
      "       -0.00819519, -0.00169435, -0.04159237])\n"
     ]
    }
   ],
   "source": [
    "from sklearn.preprocessing import PolynomialFeatures\n",
    "X = df[['chip1', 'chip2']].values\n",
    "kernel = PolynomialFeatures(6)\n",
    "X = kernel.fit_transform(X)\n",
    "X = X[:, 1:]\n",
    "y = df['y'].values\n",
    "print X.shape\n",
    "poly_lr = LogisticRegression(X, y, lambda_param=100, n_iterations=20000)\n",
    "poly_lr.scipy_optimize()"
   ]
  },
  {
   "cell_type": "code",
   "execution_count": null,
   "metadata": {},
   "outputs": [
    {
     "name": "stderr",
     "output_type": "stream",
     "text": [
      "/home/uzumaki/anaconda2/lib/python2.7/site-packages/ipykernel_launcher.py:30: RuntimeWarning: overflow encountered in exp\n"
     ]
    },
    {
     "data": {
      "image/png": "[encoded data removed]",
      "text/plain": [
       "<matplotlib.figure.Figure at 0x7f685b9d5310>"
      ]
     },
     "metadata": {},
     "output_type": "display_data"
    }
   ],
   "source": [
    "# visualizing the effect\n",
    "X = df[['chip1', 'chip2']].values\n",
    "kernel = PolynomialFeatures(6)\n",
    "X = kernel.fit_transform(X)\n",
    "X = X[:, 1:]\n",
    "y = df['y'].values\n",
    "\n",
    "col1 = \"chip1\"\n",
    "col2 = \"chip2\"\n",
    "min_ex1 = df[col1].min()\n",
    "max_ex1 = df[col1].max()\n",
    "min_ex2 = df[col2].min()\n",
    "max_ex2 = df[col2].max()\n",
    "arange_step = 0.001\n",
    "fig, axes = plt.subplots(2, 3, sharex=True, sharey=True, figsize=(15, 10))\n",
    "xx, yy = np.meshgrid(np.arange(min_ex1, max_ex1, arange_step), \n",
    "                        np.arange(min_ex2, max_ex2, arange_step))\n",
    "\n",
    "lambdas = [0, 1, 10, 100, 120, 140]\n",
    "for index, lambda_param in enumerate(lambdas):\n",
    "    poly_lr = LogisticRegression(X, y, lambda_param=lambda_param, verbose=False)\n",
    "    poly_lr.scipy_optimize(verbose=False)\n",
    "    preds = np.c_[xx.ravel(), yy.ravel()]\n",
    "    accuracy = 100*(np.sum(poly_lr.predict(X) == y)/y.size)\n",
    "    preds = kernel.transform(preds)\n",
    "    preds = preds[:, 1:]\n",
    "    preds = poly_lr.predict(preds)\n",
    "    preds = preds.reshape(xx.shape)\n",
    "    fl_axes = axes.flatten()[index]\n",
    "    fl_axes.scatter(df[df['y'] == 0][col1], df[df['y'] == 0][col2],\n",
    "                    label='Not admitted', color='yellow', edgecolor='black')\n",
    "    fl_axes.scatter(df[df['y'] == 1][col1], df[df['y'] == 1][col2],\n",
    "                    label='Admitted', marker='+', color='black')\n",
    "    fl_axes.contour(xx, yy, preds, [0.5], colors='green')\n",
    "    fl_axes.set_xlabel('Exam 1 score')\n",
    "    fl_axes.set_ylabel('Exam 2 score')\n",
    "    fl_axes.legend(loc='upper right')\n",
    "    fl_axes.set_title(\"Lambda {0} with accuracy {1:.2f}%\".format(lambda_param, accuracy))\n",
    "plt.show()"
   ]
  },
  {
   "cell_type": "markdown",
   "metadata": {},
   "source": [
    "## KNN"
   ]
  },
  {
   "cell_type": "code",
   "execution_count": null,
   "metadata": {},
   "outputs": [
    {
     "data": {
      "text/html": [
       "<div>\n",
       "<table border=\"1\" class=\"dataframe\">\n",
       "  <thead>\n",
       "    <tr style=\"text-align: right;\">\n",
       "      <th></th>\n",
       "      <th>User ID</th>\n",
       "      <th>Gender</th>\n",
       "      <th>Age</th>\n",
       "      <th>EstimatedSalary</th>\n",
       "      <th>Purchased</th>\n",
       "    </tr>\n",
       "  </thead>\n",
       "  <tbody>\n",
       "    <tr>\n",
       "      <th>0</th>\n",
       "      <td>15624510</td>\n",
       "      <td>Male</td>\n",
       "      <td>19</td>\n",
       "      <td>19000</td>\n",
       "      <td>0</td>\n",
       "    </tr>\n",
       "    <tr>\n",
       "      <th>1</th>\n",
       "      <td>15810944</td>\n",
       "      <td>Male</td>\n",
       "      <td>35</td>\n",
       "      <td>20000</td>\n",
       "      <td>0</td>\n",
       "    </tr>\n",
       "    <tr>\n",
       "      <th>2</th>\n",
       "      <td>15668575</td>\n",
       "      <td>Female</td>\n",
       "      <td>26</td>\n",
       "      <td>43000</td>\n",
       "      <td>0</td>\n",
       "    </tr>\n",
       "    <tr>\n",
       "      <th>3</th>\n",
       "      <td>15603246</td>\n",
       "      <td>Female</td>\n",
       "      <td>27</td>\n",
       "      <td>57000</td>\n",
       "      <td>0</td>\n",
       "    </tr>\n",
       "    <tr>\n",
       "      <th>4</th>\n",
       "      <td>15804002</td>\n",
       "      <td>Male</td>\n",
       "      <td>19</td>\n",
       "      <td>76000</td>\n",
       "      <td>0</td>\n",
       "    </tr>\n",
       "  </tbody>\n",
       "</table>\n",
       "</div>"
      ],
      "text/plain": [
       "    User ID  Gender  Age  EstimatedSalary  Purchased\n",
       "0  15624510    Male   19            19000          0\n",
       "1  15810944    Male   35            20000          0\n",
       "2  15668575  Female   26            43000          0\n",
       "3  15603246  Female   27            57000          0\n",
       "4  15804002    Male   19            76000          0"
      ]
     },
     "metadata": {},
     "output_type": "display_data"
    }
   ],
   "source": [
    "import pandas as pd\n",
    "import matplotlib.pyplot as plt\n",
    "import numpy as np\n",
    "\n",
    "df = pd.read_csv('Social_Network_Ads.csv')\n",
    "X = df.iloc[:, 2:4]   # Using 1:2 as indices will give us np array of dim (10, 1)\n",
    "y = df.iloc[:, 4]\n",
    "\n",
    "df.head()"
   ]
  },
  {
   "cell_type": "code",
   "execution_count": null,
   "metadata": {},
   "outputs": [],
   "source": [
    "# Split in training and testing\n",
    "from sklearn.model_selection import train_test_split\n",
    "X_train, X_test, y_train, y_test = train_test_split(X, y, test_size=0.25)"
   ]
  },
  {
   "cell_type": "code",
   "execution_count": null,
   "metadata": {},
   "outputs": [],
   "source": [
    "# Scale\n",
    "from sklearn.preprocessing import StandardScaler\n",
    "X_sca = StandardScaler()\n",
    "X_train = X_sca.fit_transform(X_train)\n",
    "X_test = X_sca.transform(X_test)"
   ]
  },
  {
   "cell_type": "code",
   "execution_count": null,
   "metadata": {},
   "outputs": [
    {
     "data": {
      "text/plain": [
       "KNeighborsClassifier(algorithm='auto', leaf_size=30, metric='minkowski',\n",
       "           metric_params=None, n_jobs=1, n_neighbors=5, p=2,\n",
       "           weights='uniform')"
      ]
     },
     "metadata": {},
     "output_type": "display_data"
    }
   ],
   "source": [
    "from sklearn.neighbors import KNeighborsClassifier\n",
    "clf = KNeighborsClassifier(n_neighbors=5, metric='minkowski', p=2) # p = 1 is manhattan distance, p = 2 is Euclidean\n",
    "clf.fit(X_train, y_train)\n"
   ]
  },
  {
   "cell_type": "code",
   "execution_count": null,
   "metadata": {},
   "outputs": [],
   "source": [
    "y_pred = clf.predict(X_test)"
   ]
  },
  {
   "cell_type": "code",
   "execution_count": null,
   "metadata": {},
   "outputs": [
    {
     "data": {
      "text/plain": [
       "array([[60,  3],\n",
       "       [ 6, 31]])"
      ]
     },
     "metadata": {},
     "output_type": "display_data"
    }
   ],
   "source": [
    "from sklearn.metrics import confusion_matrix\n",
    "cm = confusion_matrix(y_test, y_pred)\n",
    "cm"
   ]
  },
  {
   "cell_type": "code",
   "execution_count": null,
   "metadata": {},
   "outputs": [
    {
     "data": {
      "image/png": "[encoded data removed]",
      "text/plain": [
       "<matplotlib.figure.Figure at 0x9d716f0>"
      ]
     },
     "metadata": {},
     "output_type": "display_data"
    }
   ],
   "source": [
    "from matplotlib.colors import ListedColormap\n",
    "X_set, y_set = X_train, y_train\n",
    "# generates every pixel in the table. MeshGrid creates one entry for every point from X1 to X2\n",
    "X1, X2 = np.meshgrid(np.arange(start=X_set[:, 0].min() - 1, stop=X_set[:, 0].max() + 1, step=0.01),\n",
    "                     np.arange(start=X_set[:, 0].min() - 1, stop=X_set[:, 0].max() + 1, step=0.01))\n",
    "# classifies every pixel as 0 or 1\n",
    "plt.contourf(X1, X2, clf.predict(np.array([X1.ravel(), X2.ravel()]).T).reshape(X1.shape),\n",
    "             alpha=0.75, cmap=ListedColormap(('red', 'green')))\n",
    "for i, j in enumerate(np.unique(y_set)):\n",
    "    plt.scatter(X_set[y_set == j, 0], X_set[y_set == j, 1],\n",
    "                c=ListedColormap(('red', 'green'))(i), label=j)\n",
    "plt.xlim(X1.min(), X1.max())\n",
    "plt.ylim(X2.min(), X2.max())\n",
    "plt.title('KNN Classifier')\n",
    "plt.xlabel('Age')\n",
    "plt.ylabel('Estimated Salary')\n",
    "plt.show()"
   ]
  },
  {
   "cell_type": "markdown",
   "metadata": {},
   "source": [
    "## Support Vector Machines\n",
    "\n",
    "SVM will try to divide your data into 2 using a hyperplane in n-dimensional space. It tries to separate the data by making the margin between two as wide as possible. That's the reason it's also called Large Margin Classifier. \n",
    "\n",
    "Some of SVM hyperparameters are:\n",
    "1. C : C is the penalty term that makes the decision boundary smoother/wiggly. This is a trade-off between making the model more stable vs more accurate. A smaller value will make the boundary smoother while a high C value will try to classify all the examples correctly and lead to non-smooth curves. \n",
    "\n",
    "2. gamma : gamma value indicates the influence of single variable. A small gamma value indicates that a variable has influence over long distances. That is, it will play a role in deciding the class of another point even if that another point is far away from the current point. Inversely, large gamma value will indicate lower influence. "
   ]
  },
  {
   "cell_type": "code",
   "execution_count": null,
   "metadata": {},
   "outputs": [
    {
     "data": {
      "text/html": [
       "<div>\n",
       "<table border=\"1\" class=\"dataframe\">\n",
       "  <thead>\n",
       "    <tr style=\"text-align: right;\">\n",
       "      <th></th>\n",
       "      <th>User ID</th>\n",
       "      <th>Gender</th>\n",
       "      <th>Age</th>\n",
       "      <th>EstimatedSalary</th>\n",
       "      <th>Purchased</th>\n",
       "    </tr>\n",
       "  </thead>\n",
       "  <tbody>\n",
       "    <tr>\n",
       "      <th>0</th>\n",
       "      <td>15624510</td>\n",
       "      <td>Male</td>\n",
       "      <td>19</td>\n",
       "      <td>19000</td>\n",
       "      <td>0</td>\n",
       "    </tr>\n",
       "    <tr>\n",
       "      <th>1</th>\n",
       "      <td>15810944</td>\n",
       "      <td>Male</td>\n",
       "      <td>35</td>\n",
       "      <td>20000</td>\n",
       "      <td>0</td>\n",
       "    </tr>\n",
       "    <tr>\n",
       "      <th>2</th>\n",
       "      <td>15668575</td>\n",
       "      <td>Female</td>\n",
       "      <td>26</td>\n",
       "      <td>43000</td>\n",
       "      <td>0</td>\n",
       "    </tr>\n",
       "    <tr>\n",
       "      <th>3</th>\n",
       "      <td>15603246</td>\n",
       "      <td>Female</td>\n",
       "      <td>27</td>\n",
       "      <td>57000</td>\n",
       "      <td>0</td>\n",
       "    </tr>\n",
       "    <tr>\n",
       "      <th>4</th>\n",
       "      <td>15804002</td>\n",
       "      <td>Male</td>\n",
       "      <td>19</td>\n",
       "      <td>76000</td>\n",
       "      <td>0</td>\n",
       "    </tr>\n",
       "  </tbody>\n",
       "</table>\n",
       "</div>"
      ],
      "text/plain": [
       "    User ID  Gender  Age  EstimatedSalary  Purchased\n",
       "0  15624510    Male   19            19000          0\n",
       "1  15810944    Male   35            20000          0\n",
       "2  15668575  Female   26            43000          0\n",
       "3  15603246  Female   27            57000          0\n",
       "4  15804002    Male   19            76000          0"
      ]
     },
     "metadata": {},
     "output_type": "display_data"
    }
   ],
   "source": [
    "import pandas as pd\n",
    "import matplotlib.pyplot as plt\n",
    "import numpy as np\n",
    "\n",
    "df = pd.read_csv('Social_Network_Ads.csv')\n",
    "X = df.iloc[:, 2:4]   # Using 1:2 as indices will give us np array of dim (10, 1)\n",
    "y = df.iloc[:, 4]\n",
    "\n",
    "df.head()"
   ]
  },
  {
   "cell_type": "code",
   "execution_count": null,
   "metadata": {},
   "outputs": [],
   "source": [
    "# Split in training and testing\n",
    "from sklearn.model_selection import train_test_split\n",
    "X_train, X_test, y_train, y_test = train_test_split(X, y, test_size=0.25)"
   ]
  },
  {
   "cell_type": "code",
   "execution_count": null,
   "metadata": {},
   "outputs": [],
   "source": [
    "# Scale\n",
    "from sklearn.preprocessing import StandardScaler\n",
    "X_sca = StandardScaler()\n",
    "X_train = X_sca.fit_transform(X_train)\n",
    "X_test = X_sca.transform(X_test)"
   ]
  },
  {
   "cell_type": "code",
   "execution_count": null,
   "metadata": {},
   "outputs": [],
   "source": [
    "from sklearn.svm import SVC #support vector classifier\n",
    "clf = SVC(kernel='linear', random_state=0).fit(X_train, y_train)\n"
   ]
  },
  {
   "cell_type": "code",
   "execution_count": null,
   "metadata": {},
   "outputs": [
    {
     "data": {
      "image/png": "[encoded data removed]",
      "text/plain": [
       "<matplotlib.figure.Figure at 0x9b680d0>"
      ]
     },
     "metadata": {},
     "output_type": "display_data"
    }
   ],
   "source": [
    "from matplotlib.colors import ListedColormap\n",
    "X_set, y_set = X_train, y_train\n",
    "# generates every pixel in the table. MeshGrid creates one entry for every point from X1 to X2\n",
    "X1, X2 = np.meshgrid(np.arange(start=X_set[:, 0].min() - 1, stop=X_set[:, 0].max() + 1, step=0.01),\n",
    "                     np.arange(start=X_set[:, 0].min() - 1, stop=X_set[:, 0].max() + 1, step=0.01))\n",
    "# classifies every pixel as 0 or 1\n",
    "plt.contourf(X1, X2, clf.predict(np.array([X1.ravel(), X2.ravel()]).T).reshape(X1.shape),\n",
    "             alpha=0.75, cmap=ListedColormap(('red', 'green')))\n",
    "for i, j in enumerate(np.unique(y_set)):\n",
    "    plt.scatter(X_set[y_set == j, 0], X_set[y_set == j, 1],\n",
    "                c=ListedColormap(('red', 'green'))(i), label=j)\n",
    "plt.xlim(X1.min(), X1.max())\n",
    "plt.ylim(X2.min(), X2.max())\n",
    "plt.title('SVC (Linear Kernel) Classifier')\n",
    "plt.xlabel('Age')\n",
    "plt.ylabel('Estimated Salary')\n",
    "plt.show()"
   ]
  },
  {
   "cell_type": "code",
   "execution_count": null,
   "metadata": {},
   "outputs": [],
   "source": [
    "y_pred = clf.predict(X_test)"
   ]
  },
  {
   "cell_type": "code",
   "execution_count": null,
   "metadata": {},
   "outputs": [
    {
     "data": {
      "text/plain": [
       "array([[58,  1],\n",
       "       [17, 24]])"
      ]
     },
     "metadata": {},
     "output_type": "display_data"
    }
   ],
   "source": [
    "from sklearn.metrics import confusion_matrix\n",
    "cm = confusion_matrix(y_test, y_pred)\n",
    "cm"
   ]
  },
  {
   "cell_type": "code",
   "execution_count": null,
   "metadata": {},
   "outputs": [],
   "source": [
    "from sklearn.svm import SVC #support vector classifier\n",
    "clf = SVC(kernel='rbf', random_state=0).fit(X_train, y_train)\n"
   ]
  },
  {
   "cell_type": "code",
   "execution_count": null,
   "metadata": {},
   "outputs": [
    {
     "data": {
      "image/png": "[encoded data removed]",
      "text/plain": [
       "<matplotlib.figure.Figure at 0xc84cd10>"
      ]
     },
     "metadata": {},
     "output_type": "display_data"
    }
   ],
   "source": [
    "from matplotlib.colors import ListedColormap\n",
    "X_set, y_set = X_train, y_train\n",
    "# generates every pixel in the table. MeshGrid creates one entry for every point from X1 to X2\n",
    "X1, X2 = np.meshgrid(np.arange(start=X_set[:, 0].min() - 1, stop=X_set[:, 0].max() + 1, step=0.01),\n",
    "                     np.arange(start=X_set[:, 0].min() - 1, stop=X_set[:, 0].max() + 1, step=0.01))\n",
    "# classifies every pixel as 0 or 1\n",
    "plt.contourf(X1, X2, clf.predict(np.array([X1.ravel(), X2.ravel()]).T).reshape(X1.shape),\n",
    "             alpha=0.75, cmap=ListedColormap(('red', 'green')))\n",
    "for i, j in enumerate(np.unique(y_set)):\n",
    "    plt.scatter(X_set[y_set == j, 0], X_set[y_set == j, 1],\n",
    "                c=ListedColormap(('red', 'green'))(i), label=j)\n",
    "plt.xlim(X1.min(), X1.max())\n",
    "plt.ylim(X2.min(), X2.max())\n",
    "plt.title('SVC (RBF Kernel) Classifier')\n",
    "plt.xlabel('Age')\n",
    "plt.ylabel('Estimated Salary')\n",
    "plt.show()"
   ]
  },
  {
   "cell_type": "code",
   "execution_count": null,
   "metadata": {},
   "outputs": [],
   "source": [
    "y_pred = clf.predict(X_test)"
   ]
  },
  {
   "cell_type": "code",
   "execution_count": null,
   "metadata": {},
   "outputs": [
    {
     "data": {
      "text/plain": [
       "array([[55,  4],\n",
       "       [ 3, 38]])"
      ]
     },
     "metadata": {},
     "output_type": "display_data"
    }
   ],
   "source": [
    "cm = confusion_matrix(y_test, y_pred)\n",
    "cm"
   ]
  },
  {
   "cell_type": "code",
   "execution_count": null,
   "metadata": {},
   "outputs": [],
   "source": [
    "from sklearn.svm import SVC #support vector classifier\n",
    "clf = SVC(kernel='poly', random_state=0).fit(X_train, y_train)\n"
   ]
  },
  {
   "cell_type": "code",
   "execution_count": null,
   "metadata": {},
   "outputs": [
    {
     "data": {
      "image/png": "[encoded data removed]",
      "text/plain": [
       "<matplotlib.figure.Figure at 0x9ef39d0>"
      ]
     },
     "metadata": {},
     "output_type": "display_data"
    }
   ],
   "source": [
    "from matplotlib.colors import ListedColormap\n",
    "X_set, y_set = X_train, y_train\n",
    "# generates every pixel in the table. MeshGrid creates one entry for every point from X1 to X2\n",
    "X1, X2 = np.meshgrid(np.arange(start=X_set[:, 0].min() - 1, stop=X_set[:, 0].max() + 1, step=0.01),\n",
    "                     np.arange(start=X_set[:, 0].min() - 1, stop=X_set[:, 0].max() + 1, step=0.01))\n",
    "# classifies every pixel as 0 or 1\n",
    "plt.contourf(X1, X2, clf.predict(np.array([X1.ravel(), X2.ravel()]).T).reshape(X1.shape),\n",
    "             alpha=0.75, cmap=ListedColormap(('red', 'green')))\n",
    "for i, j in enumerate(np.unique(y_set)):\n",
    "    plt.scatter(X_set[y_set == j, 0], X_set[y_set == j, 1],\n",
    "                c=ListedColormap(('red', 'green'))(i), label=j)\n",
    "plt.xlim(X1.min(), X1.max())\n",
    "plt.ylim(X2.min(), X2.max())\n",
    "plt.title('SVC (Polynomial Kernel) Classifier')\n",
    "plt.xlabel('Age')\n",
    "plt.ylabel('Estimated Salary')\n",
    "plt.show()"
   ]
  },
  {
   "cell_type": "code",
   "execution_count": null,
   "metadata": {},
   "outputs": [],
   "source": [
    "y_pred = clf.predict(X_test)"
   ]
  },
  {
   "cell_type": "code",
   "execution_count": null,
   "metadata": {},
   "outputs": [
    {
     "data": {
      "text/plain": [
       "array([[58,  1],\n",
       "       [14, 27]])"
      ]
     },
     "metadata": {},
     "output_type": "display_data"
    }
   ],
   "source": [
    "cm = confusion_matrix(y_test, y_pred)\n",
    "cm"
   ]
  },
  {
   "cell_type": "markdown",
   "metadata": {},
   "source": [
    "## Kernel method\n",
    "\n",
    "The data is sometimes not linearly separable (like the case above) so the kernel trick is to map this space into higher dimension, where they are linearly separable. Then mapping the classification back into the original space gives non-linear classifier\n",
    "\n",
    "This mapping function that maps lower dimensional data to higher is called as the kernel.\n",
    "\n",
    "### Problem\n",
    "The problem with converting lower to higher dimension and then back to lower is computationally intensive. To deal with it we use something called as \"Kernel Trick\"\n",
    "\n",
    "### Radial Basis Function (Gaussian Function) and Kernel Trick\n",
    "RBF function maps data from lower to higher dimension by using landmarks which are the centre point of the bell curve. The points far from the landmark get a value of 0 and the ones close to it git high values. That's the reason it separates the data in higher dimension without actally mapping the points in higher dimension. This data which is linearly separable in higher dimension, which when mapped to lower dimension, gives rise to non linear models.  \n",
    "\n",
    "RBF function is not the only kernel function, there are many more\n",
    "1. Sigmoid Kernel\n",
    "2. Polynomial Kernel"
   ]
  },
  {
   "cell_type": "markdown",
   "metadata": {},
   "source": [
    "# Naive Bayes\n",
    "\n",
    "Naive Bayes uses Bayes Theorem to find out the best hypothesis given data. Bayes Theorem states:\n",
    "$$P\\left(X \\ | \\ Y\\right)=\\frac{P\\left(Y \\ | \\ X\\right)\\cdot P\\left(X\\right)}{P\\left(Y\\right)}$$\n",
    "\n",
    "Where,\n",
    "\n",
    "1. P(X|Y) is the posterior probability\n",
    "2. P(Y|X) is the probability assuming that the hypothesis were true. \n",
    "3. P(X) is the prior probability which is irrespective of data. \n",
    "4. P(Y) is probability of the data, irrespective of hypothesis. \n",
    "\n",
    "Once we have these probabilities, in the end we choose the hypothesis with the maximum probability. This is also called as __Maximum A Posteriori (MAP) Estimation__"
   ]
  },
  {
   "cell_type": "markdown",
   "metadata": {},
   "source": [
    "### Naive Bayes is called \"Naive\" ?\n",
    "\n",
    "Naive Bayes classifier assumes that the presence (or absence) of a particular feature of a class is unrelated to the presence (or absence) of any other feature, given the class variable. For example, a fruit may be considered to be an apple if it is red, round, and about 4\" in diameter. Even if these features depend on each other or upon the existence of the other features, a naive Bayes classifier considers all of these properties to independently contribute to the probability that this fruit is an apple.\n",
    "\n",
    "While calculating P(Y|X) we simply multiply the terms, eg P(Y0, Y1, Y2 | X) = P(Y0|X) \\* P(Y1|X) \\* P(Y2|X). Here we assume independce between Y0, Y1 etc. which may or may not be true. "
   ]
  },
  {
   "cell_type": "markdown",
   "metadata": {},
   "source": [
    "## Gaussian Naive Bayes\n",
    "\n",
    "While calculating P(Y|X) we assume the features are categorical, so we can count things. But if there are real valued numbers, we instead take the pdf of the number. We fit a gaussian to the given dataset and take it's pdf instead of P(Y|X)\n",
    "\n",
    "$$P\\left(X \\ | \\ Y\\right)=\\frac{PDF\\left(Y \\ \\vert \\ X \\right)\\cdot P\\left(X\\right)}{PDF\\left(Y\\right)}$$"
   ]
  },
  {
   "cell_type": "markdown",
   "metadata": {},
   "source": [
    "### Generative vs Discriminative Model\n",
    "\n",
    "Genrative models: they try to mimic the underlying process which generated the dataset. \n",
    "\n",
    "Disriminative models: these models don't have anything with how the data is generated, they will simply classify things. \n",
    "\n",
    "For more read: https://stackoverflow.com/a/879591/1878563\n",
    "\n",
    "Naive Bayes is a discriminative model"
   ]
  },
  {
   "cell_type": "markdown",
   "metadata": {},
   "source": [
    "## Decision Trees\n",
    "\n",
    "Decision trees are basically just nested if statements. The conditions in this if statements are what are learned by techniques that are rooted in Information Theory. \n",
    "\n",
    "\n",
    "### Information Theory\n",
    "We measure weight by kilos, and water by litres, but how to measure information? The answer is Information Entropy. For instance, a page of a random book has more Entropy than the book itself because there's a lot of randomness in the page. On the other hand all the information is present in the book so it's obvious (less random = less Entropy)  \n",
    "\n",
    "\n",
    "Entropy is used to choose the best splits in the DT. Our motive is to choose a split that maximizes the reduction in uncertainity. Eg: going from 50% certain to 100% certain is better than going from 50% to 75%. It is also related to variance. More variance = more uncertainity = more entropy. However, there's a subtle difference when both are used in multimodal distributions. In that, variance depends on where the peaks are, but entropy doesn't care. \n",
    "\n",
    "$$H(p) = \\mathbb{E}(-log_2(p))$$\n",
    "\n",
    "Also, denoted by\n",
    "\n",
    "$$H(p) = -\\sum p*log(p)$$"
   ]
  },
  {
   "cell_type": "markdown",
   "metadata": {},
   "source": [
    "## Maximizing Information Gain\n",
    "\n",
    "One of the algorithms that is used to create the decision tree is called ID3. It will recursively divide the tree into 2 by selecting the feature that will maximise the IG. For instance, if we have 2 features, it will split by both and check which of the features gave more IG. \n",
    "\n",
    "### Regularizing \n",
    "We can easily get 100% training accuracy by creating a decision tree of arbitrary length. We can avoid this by setting a max_depth parameter. \n",
    "\n",
    "### Algorithm for splitting\n",
    "\n",
    "1. Sort X's for current column in order, sort Y in the same way\n",
    "2. Find all boundary points where Y changes from one value to another\n",
    "3. Calculate IG when splitting at each boundary\n",
    "4. Keep the split which gives max IG"
   ]
  },
  {
   "cell_type": "code",
   "execution_count": null,
   "metadata": {},
   "outputs": [
    {
     "data": {
      "image/png": "[encoded data removed]",
      "text/plain": [
       "<Figure size 576x576 with 1 Axes>"
      ]
     },
     "metadata": {},
     "output_type": "display_data"
    }
   ],
   "source": [
    "import matplotlib.pyplot as plt\n",
    "from sklearn.datasets import make_circles\n",
    "\n",
    "fig = plt.figure(figsize=(8, 8))\n",
    "X, y = make_circles(factor=0.5, noise=0.1)\n",
    "plt.scatter(X[:, 0], X[:, 1], c=y);"
   ]
  },
  {
   "cell_type": "code",
   "execution_count": null,
   "metadata": {},
   "outputs": [
    {
     "data": {
      "text/plain": [
       "array([[ 3.88016245e-01, -8.99625138e-01],\n",
       "       [-1.18260769e+00, -3.92983039e-01],\n",
       "       [ 2.45216150e-01,  1.26701165e+00],\n",
       "       [ 7.01516015e-01, -3.81699322e-01],\n",
       "       [-9.05108010e-01, -1.00148683e-01],\n",
       "       [-2.40956666e-01, -7.85282131e-01],\n",
       "       [ 8.48394084e-01, -3.74383852e-01],\n",
       "       [ 2.24616231e-01, -7.15502842e-01],\n",
       "       [-4.70968643e-01, -5.16717786e-01],\n",
       "       [ 7.17571512e-02,  2.70507493e-01],\n",
       "       [-1.09066653e+00,  7.13100968e-01],\n",
       "       [-5.35757281e-01,  2.58423663e-01],\n",
       "       [ 1.17326843e-01, -5.41469465e-01],\n",
       "       [ 4.65277141e-01, -1.75686923e-01],\n",
       "       [-3.86572238e-01, -1.38370273e-01],\n",
       "       [ 9.27492646e-01,  3.61451652e-01],\n",
       "       [-6.99206490e-01,  1.52112219e-01],\n",
       "       [ 9.48195394e-01, -3.40036588e-01],\n",
       "       [-4.37169651e-02, -2.26797578e-01],\n",
       "       [ 6.59585719e-01,  7.34674399e-02],\n",
       "       [-8.29394550e-01,  8.08061876e-02],\n",
       "       [-8.03127452e-04,  6.25712234e-01],\n",
       "       [-4.82438646e-01, -5.10197984e-01],\n",
       "       [-4.09595907e-01,  1.16412141e+00],\n",
       "       [-4.64306696e-01, -6.09637631e-01],\n",
       "       [ 1.01701384e+00,  2.94277834e-01],\n",
       "       [ 3.83130496e-01, -5.21355696e-01],\n",
       "       [ 1.65506964e-01, -1.01805023e+00],\n",
       "       [-7.97603820e-01,  2.56157919e-01],\n",
       "       [-2.57805136e-02,  5.96491569e-01],\n",
       "       [ 4.12500618e-01,  1.47231140e-01],\n",
       "       [ 3.56637052e-01,  6.24196428e-01],\n",
       "       [ 4.44796808e-01, -7.81706542e-01],\n",
       "       [-4.15487933e-01,  3.33229920e-01],\n",
       "       [ 6.82677324e-01,  8.72938912e-01],\n",
       "       [ 5.28193254e-01,  2.27113299e-01],\n",
       "       [-6.30612303e-01,  1.02124323e-01],\n",
       "       [ 1.23980430e-01,  2.85653235e-01],\n",
       "       [ 8.20444072e-01,  1.19558777e-01],\n",
       "       [-6.74054693e-01, -6.92461447e-01],\n",
       "       [-4.60133691e-01, -2.18360321e-01],\n",
       "       [ 1.06236478e+00, -4.25358993e-01],\n",
       "       [-9.31320154e-01, -2.59819685e-01],\n",
       "       [ 4.65682551e-01, -4.01321652e-01],\n",
       "       [-4.36886387e-01, -4.97176108e-01],\n",
       "       [ 1.71688936e-01,  2.66220437e-01],\n",
       "       [-1.20415206e+00,  5.18157559e-01],\n",
       "       [-6.87429133e-01,  2.40665188e-01],\n",
       "       [ 2.97649731e-01,  6.64915883e-02],\n",
       "       [ 1.65446317e-01,  7.30601498e-01],\n",
       "       [-5.82688587e-01,  8.87524586e-01],\n",
       "       [-9.88480054e-01,  2.75378921e-01],\n",
       "       [ 6.41613757e-01, -8.67798928e-01],\n",
       "       [ 1.12214259e+00, -2.16512688e-01],\n",
       "       [-3.42246751e-01, -1.08715057e+00],\n",
       "       [ 2.39337090e-01, -3.55032068e-01],\n",
       "       [-1.02362933e+00,  3.56697421e-01],\n",
       "       [ 3.07639158e-01,  3.46394706e-01],\n",
       "       [ 5.84981467e-01,  2.50537480e-01],\n",
       "       [-6.66856414e-01, -8.66327057e-01],\n",
       "       [-2.32906830e-01, -3.85817310e-01],\n",
       "       [ 4.95689957e-01, -7.56584001e-01],\n",
       "       [-1.10261870e-01, -7.66218709e-01],\n",
       "       [-1.09503474e+00, -2.63706781e-01],\n",
       "       [-5.70683208e-01,  4.27302458e-01],\n",
       "       [-1.70133117e-01,  7.96942458e-01],\n",
       "       [ 3.57521476e-01,  1.38240714e-01],\n",
       "       [ 3.65635263e-01, -5.44358607e-01],\n",
       "       [-2.06542265e-01, -9.98605473e-01],\n",
       "       [ 3.11503377e-01,  2.64884111e-01],\n",
       "       [-3.20813359e-01, -2.97774449e-01],\n",
       "       [ 8.64791931e-01,  7.48568163e-01],\n",
       "       [ 1.23542575e-01,  5.56917896e-01],\n",
       "       [ 5.59560952e-01, -4.60762214e-01],\n",
       "       [ 2.43387323e-02,  8.76529975e-01],\n",
       "       [-6.31642490e-01, -4.07501301e-01],\n",
       "       [ 5.55655246e-01,  2.48469206e-01],\n",
       "       [-7.00264372e-01, -3.61632168e-02],\n",
       "       [ 1.49646848e-01,  7.15199879e-01],\n",
       "       [ 1.44005561e-01,  6.87522631e-01],\n",
       "       [-8.86630576e-01, -7.68890591e-01],\n",
       "       [ 4.85343032e-01, -3.22050204e-01],\n",
       "       [ 1.27383171e-01,  1.47188919e-01],\n",
       "       [ 1.88504403e-01,  6.83774995e-01],\n",
       "       [ 3.51849775e-01,  3.03136622e-01],\n",
       "       [-6.15541607e-01, -2.45849045e-01],\n",
       "       [-1.14561175e+00,  8.62684368e-02],\n",
       "       [-2.02455541e-01,  1.00528467e+00],\n",
       "       [ 1.18683003e-01,  7.48861622e-01],\n",
       "       [ 4.15750669e-01, -4.30650771e-01],\n",
       "       [-2.97959034e-01, -2.79290647e-01],\n",
       "       [ 7.06146022e-01,  6.18907056e-01],\n",
       "       [ 4.23892574e-01, -1.24634437e+00],\n",
       "       [ 3.98016611e-01, -1.19806358e+00],\n",
       "       [-4.86005586e-01, -9.88704543e-02],\n",
       "       [ 6.73390756e-01,  7.17675866e-01],\n",
       "       [-1.21016945e+00, -3.19325657e-01],\n",
       "       [-8.31862538e-02,  2.88801357e-01],\n",
       "       [-3.97522278e-02, -9.71380614e-01],\n",
       "       [ 1.16742466e+00, -5.64008200e-03]])"
      ]
     },
     "metadata": {},
     "output_type": "display_data"
    }
   ],
   "source": [
    "class TreeNode:\n",
    "    def __init__(self, curr_depth=0, max_depth=None):\n",
    "        self.curr_depth = depth\n",
    "        self.max_depth = max_depth\n",
    "    \n",
    "    def fit(self, X, y):\n",
    "        # Base case: if length is 1, or there's only 1 label\n",
    "        # return the label\n",
    "        if len(y) == 1 or len(set(y)) == 1:\n",
    "            self.column = None\n",
    "            self.split = None\n",
    "            self.left = None\n",
    "            self.right = None\n",
    "            self.prediction = y[0]\n",
    "        else:\n",
    "            # find the best row for splitting\n",
    "            columns = X.shape[1]\n",
    "            max_ig = 0\n",
    "            best_col = None\n",
    "            best_split = None\n",
    "            for col in range(columns):\n",
    "                # for every column calculate the max\n",
    "                # information gain. If it's better than\n",
    "                # the current max, update it\n",
    "                ig, split = self.find_split(X, y, col)\n",
    "                if ig > max_ig:\n",
    "                    max_ig = ig\n",
    "                    best_col = col\n",
    "                    best_split = split\n",
    "            \n",
    "            # this case is for 50-50 split when nothing\n",
    "            # can be done, another base case\n",
    "            if max_ig == 0:\n",
    "                self.col = None\n",
    "                self.split = None\n",
    "                self.left = None\n",
    "                self.right = None\n",
    "                self.prediction = np.round(y.mean())\n",
    "            else:\n",
    "                # keep track of best column and best split\n",
    "                self.column = best_col\n",
    "                self.split = best_split\n",
    "            \n",
    "            # check if we're at max depth case, if yes\n",
    "            # then stop here and save mean predictions\n",
    "            if self.curr_depth == self.max_depth:\n",
    "                self.left = None\n",
    "                self.right = None\n",
    "                self.prediction = [\n",
    "                    # one for the left node: predict the mean y values\n",
    "                    # where the X values are less than the split\n",
    "                    np.round(y[X[:, best_col] < self.split].mean()),\n",
    "                    # same goes for right\n",
    "                    np.round(y[X[:, best_col] >= self.split].mean())\n",
    "                ]\n",
    "            else:\n",
    "                # recurse\n",
    "                left_indices = X[:, best_col] < best_split\n",
    "                X_left = X[left_indices]\n",
    "                y_left = y[left_indices]\n",
    "                # create a new node\n",
    "                self.left = TreeNode(self.depth + 1, self.max_depth)\n",
    "                self.left.fit(X_left, y_left)\n",
    "                \n",
    "                # same for right\n",
    "                right_indices = X[:, best_col] >= best_split\n",
    "                X_right = X[right_indices]\n",
    "                y_right = y[right_indices]\n",
    "                # create a new node\n",
    "                self.right = TreeNode(self.depth + 1, self.max_depth)\n",
    "                self.right.fit(X_right, y_right)\n",
    "    \n",
    "    def find_split(self, X, y, col):\n",
    "        x_values = X[:, col]\n",
    "        sort_idx = np.argsort(x_values)\n",
    "        x_values = x_values[sort_idx]\n",
    "        y_values = y[sort_idx]\n",
    "        boundaries = np.nonzero(y_values[:-1] != y_values[1:])\n",
    "        print(\"BS: {}\".format(boundaries.shape))\n",
    "        best_split = None\n",
    "        max_ig = 0\n",
    "        for boundary in boundaries:\n",
    "            # average the current and next x value to get the split\n",
    "            # the rule will be:\n",
    "            # 1. on the left: data < split\n",
    "            # 2. on the right: data >= split\n",
    "            split = (X[boundary] + X[boundary + 1]) / 2\n",
    "            ig = self.information_gain(X, y, split)\n",
    "            if ig > max_ig:\n",
    "                best_split = boundary\n",
    "                max_ig = ig\n",
    "        return max_ig, best_split\n",
    "    \n",
    "    def binary_entropy(y):\n",
    "        p1 = (y==1).sum() / len(y)\n",
    "        p0 = 1 - p1\n",
    "        if p1 == 1 or p1 == 0:\n",
    "            return 0\n",
    "        else:\n",
    "            return -p1 * np.log2(p1) - p0 * np.log2(p0)\n",
    "    \n",
    "    def information_gain(self, X, y, split):\n",
    "        # y for inputs less than split, left node of the tree\n",
    "        y0 = y[x < split]\n",
    "        # same for right node\n",
    "        y1 = y[x >= split]\n",
    "        N = len(y)\n",
    "        y0len = len(y0)\n",
    "        # base case where the split is in the beginning\n",
    "        # or the end\n",
    "        if y0len == 0 or y0len == N:\n",
    "            return 0\n",
    "        p0 = len(y0) / N\n",
    "        p1 = 1 - p0\n",
    "        return self.binary_entropy(y) - p0 * binary_entropy(y0) - p1 * binary_entropy(y1)"
   ]
  },
  {
   "cell_type": "code",
   "execution_count": null,
   "metadata": {},
   "outputs": [],
   "source": [
    "y = np.array([0, 0, 0, 1, 1, 1, 0, 1, 0, 1])"
   ]
  },
  {
   "cell_type": "code",
   "execution_count": null,
   "metadata": {},
   "outputs": [
    {
     "data": {
      "text/plain": [
       "(array([2, 5, 6, 7, 8], dtype=int64),)"
      ]
     },
     "metadata": {},
     "output_type": "display_data"
    }
   ],
   "source": [
    "np.nonzero(y[:-1] != y[1:])"
   ]
  },
  {
   "cell_type": "code",
   "execution_count": null,
   "metadata": {},
   "outputs": [],
   "source": [
    "s = np.argsort(x)"
   ]
  },
  {
   "cell_type": "code",
   "execution_count": null,
   "metadata": {},
   "outputs": [
    {
     "data": {
      "text/plain": [
       "array([5, 7, 9, 9])"
      ]
     },
     "metadata": {},
     "output_type": "display_data"
    }
   ],
   "source": [
    "x[s]"
   ]
  },
  {
   "cell_type": "code",
   "execution_count": null,
   "metadata": {},
   "outputs": [
    {
     "data": {
      "text/plain": [
       "array([1, 3, 0, 2], dtype=int64)"
      ]
     },
     "metadata": {},
     "output_type": "display_data"
    }
   ],
   "source": [
    "s"
   ]
  },
  {
   "cell_type": "code",
   "execution_count": null,
   "metadata": {},
   "outputs": [
    {
     "data": {
      "text/plain": [
       "array([5, 7, 9, 9])"
      ]
     },
     "metadata": {},
     "output_type": "display_data"
    }
   ],
   "source": [
    "x[[1, 3, 0, 2]]"
   ]
  },
  {
   "cell_type": "markdown",
   "metadata": {},
   "source": [
    "## Random Forest Intuition:\n",
    "1. Take K random points from dataset.\n",
    "2. Build Decision Tree based on these K points. \n",
    "3. Choose the number of trees you want to build and repeat steps 1 and 2. \n",
    "4. For a new point, make each tree predict the output and assign the majority vote. "
   ]
  },
  {
   "cell_type": "code",
   "execution_count": null,
   "metadata": {},
   "outputs": [
    {
     "data": {
      "text/html": [
       "<div>\n",
       "<style>\n",
       "    .dataframe thead tr:only-child th {\n",
       "        text-align: right;\n",
       "    }\n",
       "\n",
       "    .dataframe thead th {\n",
       "        text-align: left;\n",
       "    }\n",
       "\n",
       "    .dataframe tbody tr th {\n",
       "        vertical-align: top;\n",
       "    }\n",
       "</style>\n",
       "<table border=\"1\" class=\"dataframe\">\n",
       "  <thead>\n",
       "    <tr style=\"text-align: right;\">\n",
       "      <th></th>\n",
       "      <th>User ID</th>\n",
       "      <th>Gender</th>\n",
       "      <th>Age</th>\n",
       "      <th>EstimatedSalary</th>\n",
       "      <th>Purchased</th>\n",
       "    </tr>\n",
       "  </thead>\n",
       "  <tbody>\n",
       "    <tr>\n",
       "      <th>0</th>\n",
       "      <td>15624510</td>\n",
       "      <td>Male</td>\n",
       "      <td>19</td>\n",
       "      <td>19000</td>\n",
       "      <td>0</td>\n",
       "    </tr>\n",
       "    <tr>\n",
       "      <th>1</th>\n",
       "      <td>15810944</td>\n",
       "      <td>Male</td>\n",
       "      <td>35</td>\n",
       "      <td>20000</td>\n",
       "      <td>0</td>\n",
       "    </tr>\n",
       "    <tr>\n",
       "      <th>2</th>\n",
       "      <td>15668575</td>\n",
       "      <td>Female</td>\n",
       "      <td>26</td>\n",
       "      <td>43000</td>\n",
       "      <td>0</td>\n",
       "    </tr>\n",
       "    <tr>\n",
       "      <th>3</th>\n",
       "      <td>15603246</td>\n",
       "      <td>Female</td>\n",
       "      <td>27</td>\n",
       "      <td>57000</td>\n",
       "      <td>0</td>\n",
       "    </tr>\n",
       "    <tr>\n",
       "      <th>4</th>\n",
       "      <td>15804002</td>\n",
       "      <td>Male</td>\n",
       "      <td>19</td>\n",
       "      <td>76000</td>\n",
       "      <td>0</td>\n",
       "    </tr>\n",
       "  </tbody>\n",
       "</table>\n",
       "</div>"
      ],
      "text/plain": [
       "    User ID  Gender  Age  EstimatedSalary  Purchased\n",
       "0  15624510    Male   19            19000          0\n",
       "1  15810944    Male   35            20000          0\n",
       "2  15668575  Female   26            43000          0\n",
       "3  15603246  Female   27            57000          0\n",
       "4  15804002    Male   19            76000          0"
      ]
     },
     "metadata": {},
     "output_type": "display_data"
    }
   ],
   "source": [
    "import pandas as pd\n",
    "import matplotlib.pyplot as plt\n",
    "import numpy as np\n",
    "\n",
    "df = pd.read_csv('Social_Network_Ads.csv')\n",
    "X = df.iloc[:, 2:4]   # Using 1:2 as indices will give us np array of dim (10, 1)\n",
    "y = df.iloc[:, 4]\n",
    "\n",
    "df.head()"
   ]
  },
  {
   "cell_type": "code",
   "execution_count": null,
   "metadata": {},
   "outputs": [],
   "source": [
    "from sklearn.model_selection import train_test_split\n",
    "from sklearn.preprocessing import StandardScaler\n",
    "\n",
    "# we're scaling here in order to visualize it easily\n",
    "X_train, X_test, y_train, y_test = train_test_split(X, y, test_size=0.25, random_state=0)\n",
    "sc = StandardScaler()\n",
    "X_train = sc.fit_transform(X_train)\n",
    "X_test = sc.transform(X_test)\n",
    "\n"
   ]
  },
  {
   "cell_type": "code",
   "execution_count": null,
   "metadata": {},
   "outputs": [
    {
     "data": {
      "text/plain": [
       "RandomForestClassifier(bootstrap=True, class_weight=None, criterion='entropy',\n",
       "            max_depth=None, max_features='auto', max_leaf_nodes=None,\n",
       "            min_impurity_decrease=0.0, min_impurity_split=None,\n",
       "            min_samples_leaf=1, min_samples_split=2,\n",
       "            min_weight_fraction_leaf=0.0, n_estimators=10, n_jobs=1,\n",
       "            oob_score=False, random_state=0, verbose=0, warm_start=False)"
      ]
     },
     "metadata": {},
     "output_type": "display_data"
    }
   ],
   "source": [
    "from sklearn.ensemble import RandomForestClassifier\n",
    "clf = RandomForestClassifier(criterion='entropy', random_state=0)\n",
    "clf.fit(X_train, y_train)"
   ]
  },
  {
   "cell_type": "code",
   "execution_count": null,
   "metadata": {},
   "outputs": [
    {
     "data": {
      "image/png": "[encoded data removed]",
      "text/plain": [
       "<matplotlib.figure.Figure at 0x7fb0a412e9d0>"
      ]
     },
     "metadata": {},
     "output_type": "display_data"
    }
   ],
   "source": [
    "from matplotlib.colors import ListedColormap\n",
    "X_set, y_set = X_train, y_train\n",
    "# generates every pixel in the table. MeshGrid creates one entry for every point from X1 to X2\n",
    "X1, X2 = np.meshgrid(np.arange(start=X_set[:, 0].min() - 1, stop=X_set[:, 0].max() + 1, step=0.01),\n",
    "                     np.arange(start=X_set[:, 0].min() - 1, stop=X_set[:, 0].max() + 1, step=0.01))\n",
    "# classifies every pixel as 0 or 1\n",
    "plt.contourf(X1, X2, clf.predict(np.array([X1.ravel(), X2.ravel()]).T).reshape(X1.shape),\n",
    "             alpha=0.75, cmap=ListedColormap(('red', 'green')))\n",
    "for i, j in enumerate(np.unique(y_set)):\n",
    "    plt.scatter(X_set[y_set == j, 0], X_set[y_set == j, 1],\n",
    "                c=ListedColormap(('red', 'green'))(i), label=j)\n",
    "plt.xlim(X1.min(), X1.max())\n",
    "plt.ylim(X2.min(), X2.max())\n",
    "plt.title('Random Forest Classifier')\n",
    "plt.xlabel('Age')\n",
    "plt.ylabel('Estimated Salary')\n",
    "plt.show()"
   ]
  },
  {
   "cell_type": "code",
   "execution_count": null,
   "metadata": {},
   "outputs": [
    {
     "data": {
      "text/plain": [
       "array([[63,  5],\n",
       "       [ 3, 29]])"
      ]
     },
     "metadata": {},
     "output_type": "display_data"
    }
   ],
   "source": [
    "from sklearn.metrics import confusion_matrix\n",
    "y_pred = clf.predict(X_test)\n",
    "confusion_matrix(y_test, y_pred)"
   ]
  },
  {
   "cell_type": "markdown",
   "metadata": {},
   "source": [
    "### Implementation of Logistic Regression"
   ]
  },
  {
   "cell_type": "code",
   "execution_count": null,
   "metadata": {},
   "outputs": [
    {
     "data": {
      "text/html": [
       "<div>\n",
       "<style scoped>\n",
       "    .dataframe tbody tr th:only-of-type {\n",
       "        vertical-align: middle;\n",
       "    }\n",
       "\n",
       "    .dataframe tbody tr th {\n",
       "        vertical-align: top;\n",
       "    }\n",
       "\n",
       "    .dataframe thead th {\n",
       "        text-align: right;\n",
       "    }\n",
       "</style>\n",
       "<table border=\"1\" class=\"dataframe\">\n",
       "  <thead>\n",
       "    <tr style=\"text-align: right;\">\n",
       "      <th></th>\n",
       "      <th>is_mobile</th>\n",
       "      <th>n_products_viewed</th>\n",
       "      <th>visit_duration</th>\n",
       "      <th>is_returning_visitor</th>\n",
       "      <th>time_of_day</th>\n",
       "      <th>user_action</th>\n",
       "    </tr>\n",
       "  </thead>\n",
       "  <tbody>\n",
       "    <tr>\n",
       "      <th>0</th>\n",
       "      <td>1</td>\n",
       "      <td>0</td>\n",
       "      <td>0.657510</td>\n",
       "      <td>0</td>\n",
       "      <td>3</td>\n",
       "      <td>0</td>\n",
       "    </tr>\n",
       "    <tr>\n",
       "      <th>1</th>\n",
       "      <td>1</td>\n",
       "      <td>1</td>\n",
       "      <td>0.568571</td>\n",
       "      <td>0</td>\n",
       "      <td>2</td>\n",
       "      <td>1</td>\n",
       "    </tr>\n",
       "    <tr>\n",
       "      <th>2</th>\n",
       "      <td>1</td>\n",
       "      <td>0</td>\n",
       "      <td>0.042246</td>\n",
       "      <td>1</td>\n",
       "      <td>1</td>\n",
       "      <td>0</td>\n",
       "    </tr>\n",
       "    <tr>\n",
       "      <th>3</th>\n",
       "      <td>1</td>\n",
       "      <td>1</td>\n",
       "      <td>1.659793</td>\n",
       "      <td>1</td>\n",
       "      <td>1</td>\n",
       "      <td>2</td>\n",
       "    </tr>\n",
       "    <tr>\n",
       "      <th>4</th>\n",
       "      <td>0</td>\n",
       "      <td>1</td>\n",
       "      <td>2.014745</td>\n",
       "      <td>1</td>\n",
       "      <td>1</td>\n",
       "      <td>2</td>\n",
       "    </tr>\n",
       "  </tbody>\n",
       "</table>\n",
       "</div>"
      ],
      "text/plain": [
       "   is_mobile  n_products_viewed  visit_duration  is_returning_visitor  \\\n",
       "0          1                  0        0.657510                     0   \n",
       "1          1                  1        0.568571                     0   \n",
       "2          1                  0        0.042246                     1   \n",
       "3          1                  1        1.659793                     1   \n",
       "4          0                  1        2.014745                     1   \n",
       "\n",
       "   time_of_day  user_action  \n",
       "0            3            0  \n",
       "1            2            1  \n",
       "2            1            0  \n",
       "3            1            2  \n",
       "4            1            2  "
      ]
     },
     "metadata": {},
     "output_type": "display_data"
    }
   ],
   "source": [
    "import numpy as np\n",
    "import pandas as pd\n",
    "\n",
    "df = pd.read_csv(\"machine_learning_lazy/ecommerce_data.csv\")\n",
    "df.head()"
   ]
  },
  {
   "cell_type": "code",
   "execution_count": null,
   "metadata": {},
   "outputs": [
    {
     "data": {
      "text/html": [
       "<div>\n",
       "<style scoped>\n",
       "    .dataframe tbody tr th:only-of-type {\n",
       "        vertical-align: middle;\n",
       "    }\n",
       "\n",
       "    .dataframe tbody tr th {\n",
       "        vertical-align: top;\n",
       "    }\n",
       "\n",
       "    .dataframe thead th {\n",
       "        text-align: right;\n",
       "    }\n",
       "</style>\n",
       "<table border=\"1\" class=\"dataframe\">\n",
       "  <thead>\n",
       "    <tr style=\"text-align: right;\">\n",
       "      <th></th>\n",
       "      <th>is_mobile</th>\n",
       "      <th>n_products_viewed</th>\n",
       "      <th>visit_duration</th>\n",
       "      <th>is_returning_visitor</th>\n",
       "      <th>user_action</th>\n",
       "      <th>time_of_day_0</th>\n",
       "      <th>time_of_day_1</th>\n",
       "      <th>time_of_day_2</th>\n",
       "      <th>time_of_day_3</th>\n",
       "    </tr>\n",
       "  </thead>\n",
       "  <tbody>\n",
       "    <tr>\n",
       "      <th>0</th>\n",
       "      <td>1</td>\n",
       "      <td>0</td>\n",
       "      <td>0.657510</td>\n",
       "      <td>0</td>\n",
       "      <td>0</td>\n",
       "      <td>0</td>\n",
       "      <td>0</td>\n",
       "      <td>0</td>\n",
       "      <td>1</td>\n",
       "    </tr>\n",
       "    <tr>\n",
       "      <th>1</th>\n",
       "      <td>1</td>\n",
       "      <td>1</td>\n",
       "      <td>0.568571</td>\n",
       "      <td>0</td>\n",
       "      <td>1</td>\n",
       "      <td>0</td>\n",
       "      <td>0</td>\n",
       "      <td>1</td>\n",
       "      <td>0</td>\n",
       "    </tr>\n",
       "    <tr>\n",
       "      <th>2</th>\n",
       "      <td>1</td>\n",
       "      <td>0</td>\n",
       "      <td>0.042246</td>\n",
       "      <td>1</td>\n",
       "      <td>0</td>\n",
       "      <td>0</td>\n",
       "      <td>1</td>\n",
       "      <td>0</td>\n",
       "      <td>0</td>\n",
       "    </tr>\n",
       "    <tr>\n",
       "      <th>3</th>\n",
       "      <td>1</td>\n",
       "      <td>1</td>\n",
       "      <td>1.659793</td>\n",
       "      <td>1</td>\n",
       "      <td>2</td>\n",
       "      <td>0</td>\n",
       "      <td>1</td>\n",
       "      <td>0</td>\n",
       "      <td>0</td>\n",
       "    </tr>\n",
       "    <tr>\n",
       "      <th>4</th>\n",
       "      <td>0</td>\n",
       "      <td>1</td>\n",
       "      <td>2.014745</td>\n",
       "      <td>1</td>\n",
       "      <td>2</td>\n",
       "      <td>0</td>\n",
       "      <td>1</td>\n",
       "      <td>0</td>\n",
       "      <td>0</td>\n",
       "    </tr>\n",
       "  </tbody>\n",
       "</table>\n",
       "</div>"
      ],
      "text/plain": [
       "   is_mobile  n_products_viewed  visit_duration  is_returning_visitor  \\\n",
       "0          1                  0        0.657510                     0   \n",
       "1          1                  1        0.568571                     0   \n",
       "2          1                  0        0.042246                     1   \n",
       "3          1                  1        1.659793                     1   \n",
       "4          0                  1        2.014745                     1   \n",
       "\n",
       "   user_action  time_of_day_0  time_of_day_1  time_of_day_2  time_of_day_3  \n",
       "0            0              0              0              0              1  \n",
       "1            1              0              0              1              0  \n",
       "2            0              0              1              0              0  \n",
       "3            2              0              1              0              0  \n",
       "4            2              0              1              0              0  "
      ]
     },
     "metadata": {},
     "output_type": "display_data"
    }
   ],
   "source": [
    "# one hot encode\n",
    "df = pd.get_dummies(df, columns=[\"time_of_day\"])\n",
    "df.head()"
   ]
  },
  {
   "cell_type": "code",
   "execution_count": null,
   "metadata": {},
   "outputs": [],
   "source": [
    "def get_data():\n",
    "    val = df.values\n",
    "    X = np.concatenate((val[:, :4], val[:, 5:]), axis=1)\n",
    "    y = val[:, 4]\n",
    "    \n",
    "    # normalize numerical columns\n",
    "    X[:, 1] = (X[:, 1] - X[:, 1].mean()) / X[:, 1].std()\n",
    "    X[:, 2] = (X[:, 2] - X[:, 2].mean()) / X[:, 2].std()\n",
    "    \n",
    "    # get only binary data\n",
    "    X = X[y <= 1]\n",
    "    y = y[y <= 1]\n",
    "    return X, y\n",
    "\n",
    "X, y = get_data()"
   ]
  },
  {
   "cell_type": "code",
   "execution_count": null,
   "metadata": {},
   "outputs": [],
   "source": [
    "dim = X.shape\n",
    "# randomly initialize weights\n",
    "W = np.random.randn(dim[1]).reshape(-1, 1)\n",
    "# bias\n",
    "b = 0"
   ]
  },
  {
   "cell_type": "code",
   "execution_count": null,
   "metadata": {},
   "outputs": [],
   "source": [
    "def sigmoid(z):\n",
    "    return 1 / (1 + np.exp(-z))\n",
    "\n",
    "def forward():\n",
    "    return sigmoid(X.dot(W) + b)\n",
    "\n",
    "def classify():\n",
    "    y_hat = forward()\n",
    "    y_hat = np.round(y_hat)\n",
    "    print(\"Accuracy: {0:.2f} %\".format((np.sum(y_hat.flatten() == y) / len(y_hat)) * 100))"
   ]
  },
  {
   "cell_type": "code",
   "execution_count": null,
   "metadata": {},
   "outputs": [
    {
     "name": "stdout",
     "output_type": "stream",
     "text": [
      "Accuracy: 53.52 %\n"
     ]
    }
   ],
   "source": [
    "classify()"
   ]
  },
  {
   "cell_type": "code",
   "execution_count": null,
   "metadata": {},
   "outputs": [
    {
     "data": {
      "text/plain": [
       "398"
      ]
     },
     "metadata": {},
     "output_type": "display_data"
    }
   ],
   "source": [
    "len(y_hat)"
   ]
  },
  {
   "cell_type": "code",
   "execution_count": null,
   "metadata": {},
   "outputs": [
    {
     "data": {
      "text/plain": [
       "array([[ True, False,  True, ...,  True,  True,  True],\n",
       "       [ True, False,  True, ...,  True,  True,  True],\n",
       "       [False,  True, False, ..., False, False, False],\n",
       "       ...,\n",
       "       [False,  True, False, ..., False, False, False],\n",
       "       [ True, False,  True, ...,  True,  True,  True],\n",
       "       [False,  True, False, ..., False, False, False]])"
      ]
     },
     "metadata": {},
     "output_type": "display_data"
    }
   ],
   "source": [
    "y_hat == y"
   ]
  },
  {
   "cell_type": "code",
   "execution_count": null,
   "metadata": {},
   "outputs": [
    {
     "data": {
      "text/plain": [
       "0.535175879396985"
      ]
     },
     "metadata": {},
     "output_type": "display_data"
    }
   ],
   "source": [
    "np.sum(y_hat.flatten() == y) / len(y_hat)"
   ]
  },
  {
   "cell_type": "code",
   "execution_count": null,
   "metadata": {},
   "outputs": [
    {
     "data": {
      "text/plain": [
       "array([0., 1., 0., 0., 0., 1., 0., 0., 0., 1., 0., 1., 1., 1., 0., 0., 0.,\n",
       "       0., 1., 0., 0., 0., 1., 1., 0., 0., 1., 1., 0., 1., 0., 1., 0., 1.,\n",
       "       0., 0., 1., 1., 1., 1., 0., 0., 1., 1., 0., 0., 1., 0., 0., 1., 1.,\n",
       "       1., 1., 1., 0., 0., 0., 0., 0., 0., 1., 0., 0., 0., 0., 0., 0., 0.,\n",
       "       0., 0., 0., 1., 1., 1., 0., 0., 0., 0., 1., 0., 1., 0., 0., 1., 0.,\n",
       "       1., 0., 0., 1., 0., 0., 1., 0., 0., 1., 0., 1., 1., 0., 0., 0., 0.,\n",
       "       0., 1., 0., 1., 0., 0., 0., 0., 0., 0., 0., 1., 1., 0., 0., 0., 0.,\n",
       "       0., 1., 1., 1., 0., 0., 1., 1., 0., 0., 0., 0., 0., 0., 0., 1., 0.,\n",
       "       1., 0., 0., 0., 0., 1., 0., 1., 1., 0., 1., 0., 0., 0., 0., 0., 1.,\n",
       "       0., 0., 0., 0., 1., 0., 0., 0., 0., 1., 0., 1., 0., 0., 0., 0., 1.,\n",
       "       1., 1., 0., 1., 1., 1., 0., 1., 0., 1., 1., 1., 0., 0., 0., 0., 0.,\n",
       "       1., 0., 1., 1., 0., 0., 1., 0., 0., 0., 1., 1., 0., 0., 0., 0., 1.,\n",
       "       0., 0., 0., 0., 0., 0., 1., 0., 0., 1., 0., 1., 0., 0., 0., 1., 0.,\n",
       "       0., 0., 1., 0., 0., 1., 0., 1., 0., 1., 0., 0., 1., 0., 1., 1., 0.,\n",
       "       1., 1., 0., 0., 1., 0., 0., 0., 0., 1., 1., 1., 1., 1., 1., 1., 1.,\n",
       "       0., 0., 0., 0., 1., 1., 0., 1., 1., 0., 0., 0., 0., 1., 0., 0., 1.,\n",
       "       0., 0., 0., 0., 1., 0., 1., 0., 0., 1., 1., 1., 0., 0., 0., 0., 1.,\n",
       "       1., 1., 0., 0., 0., 1., 0., 1., 1., 0., 0., 0., 0., 0., 0., 0., 0.,\n",
       "       1., 1., 1., 1., 0., 1., 0., 0., 0., 0., 1., 0., 1., 1., 0., 1., 0.,\n",
       "       1., 0., 0., 1., 0., 1., 0., 0., 1., 0., 0., 0., 0., 1., 0., 0., 0.,\n",
       "       1., 0., 1., 0., 0., 0., 0., 0., 1., 0., 0., 0., 0., 0., 0., 0., 0.,\n",
       "       1., 0., 1., 1., 0., 1., 0., 0., 0., 1., 0., 0., 0., 0., 1., 1., 1.,\n",
       "       0., 1., 0., 0., 0., 0., 0., 0., 0., 0., 0., 1., 1., 1., 0., 1., 1.,\n",
       "       0., 0., 0., 0., 0., 0., 0.])"
      ]
     },
     "metadata": {},
     "output_type": "display_data"
    }
   ],
   "source": [
    "y"
   ]
  },
  {
   "cell_type": "markdown",
   "metadata": {},
   "source": [
    "## Optimizing $\\alpha$ value for Ridge\n",
    "\n",
    "Ridge is nothing but Regularized version of Least Squares. Often we don't know which value of $\\alpha$ would give us the best results. What we can do is try out with different values and then select the one with the best cross-validation accuracy. "
   ]
  },
  {
   "cell_type": "code",
   "execution_count": null,
   "metadata": {},
   "outputs": [],
   "source": [
    "# Create made up data\n",
    "import numpy as np\n",
    "\n",
    "from sklearn.datasets import make_regression\n",
    "\n",
    "X, y = make_regression(n_features=3, effective_rank=2, noise=10)\n",
    "# effective rank is the number of variables that \n",
    "# are enough to describe the input variables. Hence most \n",
    "# of the input data will be linear combination of these\n",
    "# singluar vectors. Rest of the variables will be fairly\n",
    "# irrelevant to the output. \n",
    "\n",
    "# noise is the standard deviation of the gaussian applied to\n",
    "# output"
   ]
  },
  {
   "cell_type": "code",
   "execution_count": null,
   "metadata": {},
   "outputs": [
    {
     "data": {
      "text/plain": [
       "array([ 0.1,  0.2,  0.3,  0.4,  0.5,  0.6,  0.7,  0.8,  0.9,  1. ])"
      ]
     },
     "metadata": {},
     "output_type": "display_data"
    }
   ],
   "source": [
    "alpha_grid = np.linspace(0.1, 1, 10)\n",
    "alpha_grid"
   ]
  },
  {
   "cell_type": "code",
   "execution_count": null,
   "metadata": {},
   "outputs": [
    {
     "name": "stdout",
     "output_type": "stream",
     "text": [
      "Best alpha: 0.1\n",
      "Costs: [[ 122.02900475  117.88653491  114.68338853  112.11919036  110.01323844\n",
      "   108.24900681  106.74737894  105.45245426  104.32345958  103.32987127]\n",
      " [  40.10985911   29.2329253    21.84018491   16.62836218   12.84723406\n",
      "    10.0401097     7.91642622    6.28452633    5.01412181    4.0143423 ]]\n"
     ]
    }
   ],
   "source": [
    "from sklearn.linear_model import RidgeCV\n",
    "\n",
    "clf = RidgeCV(alphas=alpha_grid, store_cv_values=True)\n",
    "clf.fit(X, y)\n",
    "print(\"Best alpha: {}\".format(clf.alpha_))\n",
    "print(\"Costs: {}\".format(clf.cv_values_[:2]))"
   ]
  },
  {
   "cell_type": "markdown",
   "metadata": {},
   "source": [
    "It will internally run multiple iterations of cross validation and select the alpha with least average cost. "
   ]
  },
  {
   "cell_type": "markdown",
   "metadata": {},
   "source": [
    "## Scoring with Mean Absolute Error"
   ]
  },
  {
   "cell_type": "code",
   "execution_count": null,
   "metadata": {},
   "outputs": [],
   "source": [
    "from sklearn.metrics import mean_absolute_error, make_scorer\n",
    "l1_error = make_scorer(mean_absolute_error, greater_is_better=False)"
   ]
  },
  {
   "cell_type": "code",
   "execution_count": null,
   "metadata": {},
   "outputs": [
    {
     "name": "stdout",
     "output_type": "stream",
     "text": [
      "Best alpha: 0.1\n",
      "Costs: [[ 1.78981083  1.60069349  1.45216994  1.33177187  1.23185649  1.1474152\n",
      "   1.07499923  1.01214145  0.95702254  0.90826707]\n",
      " [ 8.01265854  7.08617217  6.35277241  5.75721293  5.26372789  4.84803726\n",
      "   4.49303849  4.1863198   3.91864753  3.68300641]]\n"
     ]
    }
   ],
   "source": [
    "clf = RidgeCV(alphas=alpha_grid, store_cv_values=True, scoring=l1_error)\n",
    "clf.fit(X, y)\n",
    "print(\"Best alpha: {}\".format(clf.alpha_))\n",
    "print(\"Costs: {}\".format(clf.cv_values_[:2]))"
   ]
  },
  {
   "cell_type": "markdown",
   "metadata": {},
   "source": [
    "While the best alpha is same, the error are relatively smaller. This is because of the fact that by defualt RMSE is used (in the previous example) and in the last example we've used MAE"
   ]
  },
  {
   "cell_type": "markdown",
   "metadata": {},
   "source": [
    "Same technique is also applicable to __Lasso__ and __LassoCV__"
   ]
  },
  {
   "cell_type": "code",
   "execution_count": null,
   "metadata": {},
   "outputs": [],
   "source": []
  },
  {
   "cell_type": "code",
   "execution_count": null,
   "metadata": {},
   "outputs": [],
   "source": []
  }
 ],
 "metadata": {
  "language_info": {
   "name": "python"
  }
 },
 "nbformat": 4,
 "nbformat_minor": 2
}
