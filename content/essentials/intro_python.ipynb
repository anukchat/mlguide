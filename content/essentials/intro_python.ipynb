{
 "cells": [
  {
   "cell_type": "markdown",
   "metadata": {},
   "source": [
    "# Getting Started with Python\n",
    "\n",
    "With Python you can do pretty much anything, you can automate every task. Its simpler to learn and use than any other language.\n",
    "\n",
    "Python also offers much more error checking than C, and, being a very-high-level language, it has high-level data types built in, such as flexible arrays and dictionaries. Because of its more general data types Python is applicable to a much larger problem domain than Awk or even Perl, yet many things are at least as easy in Python as in those languages.\n",
    "\n",
    "Python allows you to split your program into modules that can be reused in other Python programs. It comes with a large collection of standard modules that you can use as the basis of your programs — or as examples to start learning to program in Python. Some of these modules provide things like file I/O, system calls, sockets, and even interfaces to graphical user interface toolkits like Tk.\n",
    "Python is an interpreted language, which can save you considerable time during program development because no compilation and linking is necessary. \n",
    "\n",
    "The interpreter can be used interactively, which makes it easy to experiment with features of the language, to write throw-away programs, or to test functions during bottom-up program development. It is also a handy desk calculator.\n",
    "\n",
    "## Python Applications Area\n",
    "\n",
    "Python is known for its **general purpose** nature that makes it applicable in almost each domain of software development. Python as a whole can be used in any sphere of development. \n",
    "\n",
    "\n",
    "Here, we are **specifing applications** areas where python can be applied.\n",
    "\n",
    "1. **Web Applications**\n",
    "    - We can use Python to develop web applications. It provides libraries to handle internet protocols such as HTML and XML, JSON, Email processing, request, beautifulSoup, Feedparser etc. It also provides Frameworks such as Django, Pyramid, Flask etc to design and delelop web based applications. Some important developments are: PythonWikiEngines, Pocoo, PythonBlogSoftware etc.\n",
    "\n",
    "2. **AI & Machine Learning** \n",
    "    - Python has Prebuilt Libraries like Numpy for scientific computation, Scipy for advanced computing and Pybrain for machine learning (Python Machine Learning) making it one of the best languages For AI.\n",
    "\n",
    "3. **Desktop GUI Applications**\n",
    "    - Python provides Tk GUI library to develop user interface in python based application. Some other useful toolkits wxWidgets, Kivy, pyqt that are useable on several platforms. The Kivy is popular for writing multitouch applications.\n",
    "\n",
    "4. **Software Development** \n",
    "    - Python is helpful for software development process. It works as a support language and can be used for build control and management, testing etc.\n",
    "\n",
    "5. **Scientific and Numeric** \n",
    "    - Python is popular and widely used in scientific and numeric computing. Some useful library and package are SciPy, Pandas, IPython etc. SciPy is group of packages of engineering, science and mathematics.\n",
    "\n",
    "6. **Business Applications** \n",
    "    - Python is used to build Bussiness applications like ERP and e-commerce systems. Tryton is a high level application platform.\n",
    "\n",
    "7. **Console Based Application** \n",
    "    - We can use Python to develop console based applications. For example: IPython.\n",
    "\n",
    "8. **Audio or Video based Applications** \n",
    "    - Python is awesome to perform multiple tasks and can be used to develop multimedia applications. Some of real applications are: TimPlayer, cplay etc.\n",
    "\n",
    "9. **3D CAD Applications** \n",
    "    - To create CAD application Fandango is a real application which provides full features of CAD.\n",
    "\n",
    "10. **Enterprise Applications** \n",
    "    - Python can be used to create applications which can be used within an Enterprise or an Organization. Some real time applications are: OpenErp, Tryton, Picalo etc.\n",
    "\n",
    "11. **Applications for Images** \n",
    "    - Using Python several application can be developed for image. Applications developed are: VPython, Gogh, imgSeek etc.\n",
    "\n",
    "12. **Games and 3D Graphics** \n",
    "    - PyGame, PyKyra are two frameworks for game-development with Python. Apart from these, we also get a variety of 3D-rendering libraries. If you’re one of those game-developers, you can check out PyWeek, a semi-annual game programming contest."
   ]
  },
  {
   "cell_type": "markdown",
   "metadata": {},
   "source": [
    "## Python Installation\n",
    "\n",
    "To install python, go to the website: https://www.python.org/downloads/ and install latest version, depending on your OS.\n",
    "\n",
    "** Make sure during installation, to check the checkbox to add the Python reference in Environment variable Path\n",
    "\n",
    "\n",
    "Once installation is done, you can check the Python version by running command to check installation is successfull\n",
    "\n",
    "> ```bash \n",
    "> python --version\n",
    ">```\n",
    "\n",
    "To use python interactively, you can directly type python in command line and insrantly start , experiment by typing python\n",
    "\n",
    ">```bash\n",
    ">python\n",
    ">```"
   ]
  },
  {
   "cell_type": "markdown",
   "metadata": {},
   "source": [
    "### Using a code editor of your choice\n",
    "\n",
    "To write Python code or any code, you could use PyCharm or VSCode, in this tutorial I will use VSCode which has simple and intiuitive UI , you can download from https://code.visualstudio.com/ \n",
    "\n",
    "VSCode offers many features, you can also install many extensions including extensions required to run Jupyter notebooks"
   ]
  },
  {
   "cell_type": "markdown",
   "metadata": {},
   "source": [
    "### Using python in a jupyter notebook\n",
    "\n",
    "Jupyter notebook is an interactive way to write your code for experimentation purposes, This tutorial is also written in Jupyter Notebook. (Learn more about it https://jupyter.org/)\n",
    "\n",
    "- Jupyter notebook has file extension .ipynb (interactive python notebook)\n",
    "- You can write markdown content as well as write and execute Python code"
   ]
  },
  {
   "cell_type": "markdown",
   "metadata": {},
   "source": [
    "### Package manager and virtual environment\n",
    "\n",
    "- To install third party python modules/packages, you can use **pip** as package manager, there are other ways to install python packages like poetry, conda etc..\n",
    "\n",
    "Example:\n",
    "> ```bash \n",
    "> pip install virtualenv \n",
    ">```\n",
    "\n",
    "- It's always recommended to isolate various development environments/projects from your machine by installing and working on a virtual environment. To isolate, you can create a virtual environment in python and install all the packages inside it , instead of directly installing them in your machine.\n",
    "\n",
    "> ```bash \n",
    "> # 1. Install virtualenv package\n",
    "> pip install virtualenv \n",
    "> # 2. Create virtual env\n",
    "> virtualenv venv\n",
    "> # 3. Activate\n",
    "> venv\\Scripts\\activate\n",
    ">```"
   ]
  },
  {
   "cell_type": "markdown",
   "metadata": {},
   "source": [
    "### Informal introduction to python: using python as calculator\n",
    "\n",
    "Open your command line and type Python\n",
    "\n",
    ">```python\n",
    ">>python\n",
    ">\n",
    ">Python 3.12.1 (tags/v3.12.1:2305ca5, Dec  7 2023, 22:03:25) [MSC v.1937 64 bit (AMD64)] on win32\n",
    ">Type \"help\", \"copyright\", \"credits\" or \"license\" for more information.\n",
    ">>>> 100 + 56\n",
    ">156\n",
    ">>>>\n",
    ">```\n",
    "\n",
    "As you saw above, it can act as a calculator, you can run python in any command line directly (interactive mode), there is no need to compile the code. That is how simple python is.\n",
    "\n",
    "You can also operate on strings and lists\n",
    "\n",
    ">```python\n",
    ">>>> 'Hello' + ' World!'\n",
    ">'Hello World!'\n",
    ">>>>\n",
    ">>>> x=[1,2,3,4,5] \n",
    ">>> x.append(8)\n",
    ">>> x\n",
    ">[1, 2, 3, 4, 5, 8]\n",
    ">>>\n",
    ">```"
   ]
  },
  {
   "cell_type": "markdown",
   "metadata": {},
   "source": [
    "### Using Python inside Jupyter notebook\n",
    "\n",
    "There are two ways to use jupyter notebooks\n",
    "1. Inside VSCode\n",
    "2. Running notebook from command line\n",
    "\n",
    "If you are in VSCode, launch VSCode, add a folder and add a file with extension .ipynb, open that file , you will be asked to chose interpreter, select python installed on your virtual environment. You can change the interpreter by running Ctrl + Shift + P and select interpreter. You may also recieve a notification to install jupyter kernel, install that if asked.\n",
    "\n",
    "To run jupyter notebook from command line, \n",
    "1. Install jupyter notebook package\n",
    ">```bash\n",
    ">pip install jupyter\n",
    ">```\n",
    "2. Create a folder structure where you will store all your progress and within that folder, run:\n",
    ">```bash\n",
    ">jupyter notebook\n",
    ">```\n",
    "A new window would be launched in your browser, click on New to create a notebook and rename it for your reference\n",
    "\n",
    "> Notebooks in these course are designed to run interactively on google colab (also using binder), click on the rocket icon and select colab, to open the notebook for interactive execution in colab, you can do additional experimentation by adding new cells, and save the copy of notebooks locally.\n"
   ]
  },
  {
   "cell_type": "markdown",
   "metadata": {},
   "source": [
    "#### Python Strings\n",
    "\n",
    "\n"
   ]
  },
  {
   "cell_type": "code",
   "execution_count": 1,
   "metadata": {},
   "outputs": [
    {
     "data": {
      "text/plain": [
       "'I'"
      ]
     },
     "execution_count": 1,
     "metadata": {},
     "output_type": "execute_result"
    }
   ],
   "source": [
    "x=\"I love python\"\n",
    "\n",
    "# accessing character by character\n",
    "x[0]"
   ]
  },
  {
   "cell_type": "code",
   "execution_count": 4,
   "metadata": {},
   "outputs": [
    {
     "data": {
      "text/plain": [
       "'I love'"
      ]
     },
     "execution_count": 4,
     "metadata": {},
     "output_type": "execute_result"
    }
   ],
   "source": [
    "# accessing range of characters x[start_index: end_index]\n",
    "x[:6]"
   ]
  },
  {
   "cell_type": "code",
   "execution_count": 9,
   "metadata": {},
   "outputs": [
    {
     "data": {
      "text/plain": [
       "'hon'"
      ]
     },
     "execution_count": 9,
     "metadata": {},
     "output_type": "execute_result"
    }
   ],
   "source": [
    "# accessing last 3 characters\n",
    "x[-3:]\n"
   ]
  },
  {
   "cell_type": "code",
   "execution_count": 10,
   "metadata": {},
   "outputs": [
    {
     "data": {
      "text/plain": [
       "'I love p'"
      ]
     },
     "execution_count": 10,
     "metadata": {},
     "output_type": "execute_result"
    }
   ],
   "source": [
    "# accessing all characters except last 5\n",
    "x[:-5]"
   ]
  },
  {
   "cell_type": "markdown",
   "metadata": {},
   "source": [
    "#### Python lists"
   ]
  },
  {
   "cell_type": "code",
   "execution_count": 14,
   "metadata": {},
   "outputs": [
    {
     "name": "stdout",
     "output_type": "stream",
     "text": [
      "[1, 2, 3, 4, 'a', 5.0]\n"
     ]
    }
   ],
   "source": [
    "# Compound list\n",
    "p_list=[1,2,3,4,'a',5.0]\n",
    "print(p_list)"
   ]
  },
  {
   "cell_type": "code",
   "execution_count": 15,
   "metadata": {},
   "outputs": [
    {
     "name": "stdout",
     "output_type": "stream",
     "text": [
      "[1, 2, 3, 4, 'a', 5.0, 'Python']\n"
     ]
    }
   ],
   "source": [
    "# Appending list\n",
    "p_list.append(\"Python\")\n",
    "print(p_list)"
   ]
  },
  {
   "cell_type": "markdown",
   "metadata": {},
   "source": [
    "#### Check python datatypes\n"
   ]
  },
  {
   "cell_type": "code",
   "execution_count": 16,
   "metadata": {},
   "outputs": [
    {
     "name": "stdout",
     "output_type": "stream",
     "text": [
      "<class 'int'>\n",
      "<class 'float'>\n",
      "<class 'complex'>\n",
      "<class 'str'>\n",
      "<class 'list'>\n",
      "<class 'dict'>\n",
      "<class 'set'>\n",
      "<class 'tuple'>\n"
     ]
    }
   ],
   "source": [
    "print(type(10))                  # Int\n",
    "print(type(3.14))                # Float\n",
    "print(type(1 + 3j))              # Complex\n",
    "print(type('Asabeneh'))          # String\n",
    "print(type([1, 2, 3]))           # List\n",
    "print(type({'name':'Asabeneh'})) # Dictionary\n",
    "print(type({9.8, 3.14, 2.7}))    # Set\n",
    "print(type((9.8, 3.14, 2.7)))    # Tuple"
   ]
  },
  {
   "cell_type": "code",
   "execution_count": 21,
   "metadata": {},
   "outputs": [
    {
     "data": {
      "text/plain": [
       "10.7"
      ]
     },
     "execution_count": 21,
     "metadata": {},
     "output_type": "execute_result"
    }
   ],
   "source": [
    "# Gives absolute values\n",
    "abs(-10.7)"
   ]
  },
  {
   "cell_type": "code",
   "execution_count": 25,
   "metadata": {},
   "outputs": [
    {
     "data": {
      "text/plain": [
       "8"
      ]
     },
     "execution_count": 25,
     "metadata": {},
     "output_type": "execute_result"
    }
   ],
   "source": [
    "# Gives max value\n",
    "max(1,2,8)"
   ]
  },
  {
   "cell_type": "markdown",
   "metadata": {},
   "source": [
    "To get all the definition , you can call help method"
   ]
  },
  {
   "cell_type": "code",
   "execution_count": 30,
   "metadata": {},
   "outputs": [
    {
     "name": "stdout",
     "output_type": "stream",
     "text": [
      "Help on built-in function repr in module builtins:\n",
      "\n",
      "repr(obj, /)\n",
      "    Return the canonical string representation of the object.\n",
      "    \n",
      "    For many object types, including most builtins, eval(repr(obj)) == obj.\n",
      "\n"
     ]
    }
   ],
   "source": [
    "help(repr)"
   ]
  },
  {
   "cell_type": "markdown",
   "metadata": {},
   "source": [
    "##### In the upcoming tutorials, we will deep dive into specific concepts of Python, hold on your breath and start your journey"
   ]
  }
 ],
 "metadata": {
  "kernelspec": {
   "display_name": "Python 3",
   "language": "python",
   "name": "python3"
  },
  "language_info": {
   "codemirror_mode": {
    "name": "ipython",
    "version": 3
   },
   "file_extension": ".py",
   "mimetype": "text/x-python",
   "name": "python",
   "nbconvert_exporter": "python",
   "pygments_lexer": "ipython3",
   "version": "3.9.10"
  }
 },
 "nbformat": 4,
 "nbformat_minor": 2
}
