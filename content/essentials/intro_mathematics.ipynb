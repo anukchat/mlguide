{
 "cells": [
  {
   "cell_type": "markdown",
   "metadata": {},
   "source": [
    "# Mathematics for Machine Learning\n",
    "\n",
    "To understand mechanics behind machine learning algorithms and their functioning, it is essential for you to know the basics of some mathematical concepts.\n",
    "\n",
    "These concepts may not be new for you, these are basic concepts which you might have already studied in your early and high school days.\n",
    "\n",
    "For example:\n",
    "\n",
    "1. Linear Algebra\n",
    "2. Calculas\n",
    "3. Probability\n",
    "4. many more....\n",
    "\n",
    "This course would be a refresher for you, additionally:\n",
    "1. You will be able to relate the practical usage of these concepts in understanding ML and their usage \n",
    "2. You will be able to understand the intuition behind mathematics concepts in real world (e.g. significance of dot product in real life..)\n",
    "3. You will be able to run the code in a colab environment and practice the concepts interactively\n",
    "\n"
   ]
  },
  {
   "cell_type": "markdown",
   "metadata": {},
   "source": []
  }
 ],
 "metadata": {
  "kernelspec": {
   "display_name": "Python 3",
   "language": "python",
   "name": "python3"
  },
  "language_info": {
   "codemirror_mode": {
    "name": "ipython",
    "version": 3
   },
   "file_extension": ".py",
   "mimetype": "text/x-python",
   "name": "python",
   "nbconvert_exporter": "python",
   "pygments_lexer": "ipython3",
   "version": "3.8.0"
  },
  "widgets": {
   "application/vnd.jupyter.widget-state+json": {
    "state": {},
    "version_major": 2,
    "version_minor": 0
   }
  }
 },
 "nbformat": 4,
 "nbformat_minor": 4
}
