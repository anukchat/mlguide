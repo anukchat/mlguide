{
 "cells": [
  {
   "cell_type": "markdown",
   "metadata": {},
   "source": [
    "## Interpreter vs Compiler\n",
    "----\n",
    "\n",
    "### High level language\n",
    "A high-level language is one that is understandable by us, humans. This is called **source code**.\n",
    "\n",
    "### Machine code\n",
    "Computers do not understand high-level language. It only understands the program written in **0**'s and **1**'s in binary, called the **machine code**.\n",
    "\n",
    "To convert source code into machine code, we use either a **compiler** or an **interpreter**."
   ]
  },
  {
   "cell_type": "markdown",
   "metadata": {},
   "source": [
    "### Interpreter\n",
    "\n",
    "A computer program, which converts each high-level program statement into the machine code. This includes source code, pre-compiled code, and scripts. \n",
    "\n",
    "Interpreters convert code into machine code when the **program is run**.\n",
    "\n",
    "\n",
    "### Compiler\n",
    "\n",
    "A compiler is a computer program that transforms code written in a high-level programming language into the machine code. \n",
    "\n",
    "A compiler will convert the code into machine code (create an exe) **before program run**. \n",
    "\n",
    "\n",
    "### Programming Steps Comparision:\n",
    "\n",
    "| # | Interpreter | Compiler |\n",
    "|:----:|:----|:-------|\n",
    "|**1.**|Create the Program.|Create the program.|\n",
    "|**2.**|No linking of files or machine code generation.|Compile will parse or analyses all of the language statements for its correctness. If incorrect, throws an error.|\n",
    "|**3.**|Source statements executed line by line DURING Execution.|If no error, the compiler will convert source code to machine code.|\n",
    "|**4.**|-|It links different code files into a runnable program(know as exe).|\n",
    "|**5.**|-|Run the Program|"
   ]
  },
  {
   "cell_type": "markdown",
   "metadata": {},
   "source": [
    "<img src=\"images/IvsC.png\" width=\"600\"/>"
   ]
  },
  {
   "cell_type": "markdown",
   "metadata": {},
   "source": [
    "\n",
    "| Parameters | Interpreter | Compiler |\n",
    "|:-----|:----|:-------|\n",
    "|**Advantage**|Interpreters are easier to use, especially for beginners.|The program code is already translated into machine code. Thus, it code execution time is less.|\n",
    "|**Disadvantage**|Interpreted programs can run on computers that have the corresponding interpreter.|You can't change the program without going back to the source code.|\n",
    "|**Machine code**|Not saving machine code at all.|Store machine language as machine code on the disk.|\n",
    "|**Running time**|Interpreters usually take less amount of time to analyze the source code. However, the overall execution time is comparatively slower than compilers.|Compilers usually take a large amount of time to analyze the source code. However, the overall execution time is comparatively faster than interpreters.|\n",
    "|**Model**|It is based on interpretation method.|It is based on language translation linking-loading model.|\n",
    "|**Program generation**|Do not generate output program. So they evaluate the source program at every time during execution.|Generates output program (in the form of .exe) which can be run independently from the original program.|\n",
    "|**Execution**|It does not convert source code into machine code instead it scans it line by line.|It converts the source code into machine code.|\n",
    "|**Memory requirement**|No Object Code is generated, hence are memory efficient.|Generates Object Code which further requires linking, hence requires more memory.|\n",
    "|**Best suited for**|For web environments, where load times are important. Due to all the exhaustive analysis is done, compiles take relatively larger time to compile even small code that may not be run multiple times. In such cases, interpreters are better.|Bounded to the specific target machine and cannot be ported. C and C++ are a most popular a programming language which uses compilation model.|\n",
    "|**Code Optimization**|Interpreters see code line by line, and thus optimizations are not as robust as compilers.|The compiler sees the entire code upfront. Hence, they perform lots of optimizations that make code run faster.|\n",
    "|**Dynamic Typing**|Interpreted languages support Dynamic Typing|Difficult to implement as compilers cannot predict what happens at turn time.|\n",
    "|**Usage**|It is best suited for the program and development environment.|It is best suited for the production environment.|\n",
    "|**Error execution**|The interpreter reads a single statement and shows the error if any. You must correct the error to interpret next line.|Compiler displays all errors and warning at the compilation time. Therefore, you can't run the program without fixing errors.|\n",
    "|**Input**|It takes a single line of code.|It takes an entire program.|\n",
    "|**Output**|Interpreter never generate any intermediate machine code.|Compliers generates intermediate machine code.|\n",
    "|**Errors**|Considering it scans code one line at a time, errors are shown line by line.|As it scans the code in one go, the errors (if any) are shown at the end together.|\n",
    "|**Programming languages**| JavaScript, MATLAB, Python, Ruby, PHP, Pearl use interpreters. | C, C++, C#, Java use compilers.|"
   ]
  }
 ],
 "metadata": {
  "language_info": {
   "name": "python"
  }
 },
 "nbformat": 4,
 "nbformat_minor": 2
}
