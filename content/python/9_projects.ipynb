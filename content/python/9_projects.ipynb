{
 "cells": [
  {
   "cell_type": "code",
   "execution_count": 1,
   "metadata": {},
   "outputs": [
    {
     "name": "stdout",
     "output_type": "stream",
     "text": [
      "Jupyter notebook created: python_excercises_1.ipynb\n"
     ]
    }
   ],
   "source": [
    "import os\n",
    "import sys\n",
    "import nbformat as nbf\n",
    "\n",
    "def markdown_to_notebook(markdown_files, output_file):\n",
    "    # Create a new notebook\n",
    "    nb = nbf.v4.new_notebook()\n",
    "    \n",
    "    # Iterate through the markdown files\n",
    "    for file in markdown_files:\n",
    "        with open(file, 'r', encoding='utf-8') as f:\n",
    "            content = f.read()\n",
    "        \n",
    "        # Create a new Markdown cell with the content\n",
    "        cell = nbf.v4.new_markdown_cell(content)\n",
    "        \n",
    "        # Append the cell to the notebook\n",
    "        nb['cells'].append(cell)\n",
    "    \n",
    "    # Write the notebook to a file\n",
    "    with open(output_file, 'w', encoding='utf-8') as f:\n",
    "        nbf.write(nb, f)\n",
    "\n",
    "def main(markdown_files, output_file):\n",
    "    \n",
    "    markdown_to_notebook(markdown_files, output_file)\n",
    "    print(f\"Jupyter notebook created: {output_file}\")\n",
    "\n",
    "if __name__ == \"__main__\":\n",
    "    markdown_files=['python-exercises-notebook.md', 'python-exercises-notebook (1).md', 'python-exercises-notebook (2).md', 'python-exercises-notebook (3).md']\n",
    "    output_file='python_excercises_1.ipynb'\n",
    "    main(markdown_files,output_file)"
   ]
  }
 ],
 "metadata": {
  "kernelspec": {
   "display_name": "ml-notes",
   "language": "python",
   "name": "python3"
  },
  "language_info": {
   "codemirror_mode": {
    "name": "ipython",
    "version": 3
   },
   "file_extension": ".py",
   "mimetype": "text/x-python",
   "name": "python",
   "nbconvert_exporter": "python",
   "pygments_lexer": "ipython3",
   "version": "3.12.3"
  }
 },
 "nbformat": 4,
 "nbformat_minor": 2
}
