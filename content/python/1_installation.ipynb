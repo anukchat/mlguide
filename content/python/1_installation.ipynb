{
 "cells": [
  {
   "cell_type": "markdown",
   "metadata": {},
   "source": [
    "# Installation\n",
    "\n",
    "1. Go to [**Python**](https://www.python.org/downloads/) website, download and install latest version\n",
    "2. Make sure during installation, to check the checkbox to add the Python reference in Environment variable Path\n",
    "3. Once installation is done, you can check the Python version by running command to check installation is successfull\n",
    "\n",
    "> ```bash \n",
    "> python --version\n",
    ">```\n",
    "\n",
    "\n",
    "## Package manager and virtual environment\n",
    "---\n",
    "- To install third party python modules/packages, you can use **pip** as package manager, there are other ways to install python packages like poetry, conda etc..\n",
    "\n",
    "Example:\n",
    "> ```bash \n",
    "> pip install virtualenv \n",
    ">```\n",
    "\n",
    "- It's always recommended to isolate various development environments/projects from your machine by installing and working on a virtual environment. \n",
    "  \n",
    "- To isolate, you can create a virtual environment in python and install all the packages inside it , instead of directly installing them in your machine.\n",
    "\n",
    "> ```bash \n",
    "> # 1. Install virtualenv package\n",
    "> pip install virtualenv \n",
    "> # 2. Create virtual env\n",
    "> virtualenv venv\n",
    "> # 3. Activate\n",
    "> venv\\Scripts\\activate\n",
    ">```\n",
    "\n",
    "- You can also use conda as a package manager, here is an example on how you can create a conda virtual environment.\n",
    "\n",
    "> ```bash\n",
    "> # 1. Create conda environment\n",
    "> conda create --name venv\n",
    "> # 2. Activate\n",
    "> conda activate venv\n",
    "> ```\n"
   ]
  },
  {
   "cell_type": "markdown",
   "metadata": {},
   "source": [
    "## Command line\n",
    "---\n",
    "Open your command line and type Python\n",
    "\n",
    ">```python\n",
    ">>python\n",
    ">\n",
    ">Python 3.12.1 (tags/v3.12.1:2305ca5, Dec  7 2023, 22:03:25) [MSC v.1937 64 bit (AMD64)] on win32\n",
    ">Type \"help\", \"copyright\", \"credits\" or \"license\" for more information.\n",
    ">>>> 100 + 56\n",
    ">156\n",
    ">>>>\n",
    ">```"
   ]
  },
  {
   "cell_type": "markdown",
   "metadata": {},
   "source": [
    "## Jupyter notebook\n",
    "---\n",
    "To run jupyter notebook from command line, \n",
    "1. Install jupyter notebook package\n",
    "   \n",
    ">```bash\n",
    ">pip install jupyter\n",
    ">```\n",
    "2. Create a folder structure where you will store all your progress and within that folder, run:\n",
    ">```bash\n",
    ">jupyter notebook\n",
    ">```\n",
    "A new window would be launched in your browser, click on New to create a notebook and rename it for your reference"
   ]
  },
  {
   "cell_type": "markdown",
   "metadata": {},
   "source": [
    "## Google Colab\n",
    "---\n",
    "To run jupyter notebook from google colab, you can use google colab cloud, which is free and open source.\n",
    "\n",
    "1. Go to https://colab.research.google.com/ from your google account\n",
    "2. Create new notebook and execute\n",
    "\n",
    "\n",
    "<div class=\"alert alert-block alert-info\" role=\"alert\">\n",
    "<b>📝 Note:</b> <br/> Notebooks in this website are designed to run interactively on <b>google colab</b> , (You can also run them without leaving the website, by using Live Code option), click on the rocket icon and select Colab\n",
    "</div>"
   ]
  },
  {
   "cell_type": "markdown",
   "metadata": {},
   "source": [
    "## Code editors\n",
    "---\n",
    "To write Python code or any code, you could use PyCharm or VSCode, if you are using VSCode which has simple and intiuitive UI , you can download from https://code.visualstudio.com/ \n",
    "\n",
    "VSCode offers many features, you can also install many extensions including extensions required to run Jupyter notebooks\n"
   ]
  }
 ],
 "metadata": {
  "language_info": {
   "name": "python"
  }
 },
 "nbformat": 4,
 "nbformat_minor": 2
}
