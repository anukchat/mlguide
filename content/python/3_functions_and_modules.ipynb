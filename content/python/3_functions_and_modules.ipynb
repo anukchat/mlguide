{
 "cells": [
  {
   "cell_type": "markdown",
   "metadata": {},
   "source": [
    "# Functions & Modules\n",
    "\n",
    "## Introduction\n",
    "____\n",
    "\n",
    "In Python, a **function is a block of organized, reusable (DRY- Don’t Repeat Yourself) code with a name** that is used to perform a single, specific task. It can take arguments and returns the value.\n",
    "\n",
    "Functions help break our program into smaller and modular chunks. \n",
    "\n",
    "1. **Built-in functions**\n",
    "\n",
    "    The functions which are come along with Python itself.\n",
    "    \n",
    "    Examples: **`range()`**, **`print()`**, **`input()`**, **`type()`**, **`id()`**, **`eval()`** etc.\n",
    "\n",
    "\n",
    "2. **User-defined function**\n",
    "\n",
    "    Functions which are created by programmer explicitly according to the requirement\n",
    "\n",
    "\n",
    "**Syntax:**\n",
    "\n",
    "```python\n",
    "def function_name(parameter1, parameter2):\n",
    "    \"\"\"docstring\"\"\"\n",
    "    # function body    \n",
    "    # write some action\n",
    "return value\n",
    "```\n",
    "\n",
    "<div>\n",
    "<img src=\"./img/f1.png\" width=\"550\"/>\n",
    "</div>"
   ]
  },
  {
   "cell_type": "markdown",
   "metadata": {},
   "source": [
    "### Functions without parameters and return value"
   ]
  },
  {
   "cell_type": "code",
   "execution_count": 1,
   "metadata": {},
   "outputs": [
    {
     "name": "stdout",
     "output_type": "stream",
     "text": [
      "Welcome to Python for Data Science\n"
     ]
    }
   ],
   "source": [
    "# Example 1: \n",
    "    \n",
    "def greet():\n",
    "    print(\"Welcome to Python for Data Science\")\n",
    "\n",
    "# call function using its name\n",
    "greet()"
   ]
  },
  {
   "cell_type": "markdown",
   "metadata": {},
   "source": [
    "### Functions with return value"
   ]
  },
  {
   "cell_type": "code",
   "execution_count": null,
   "metadata": {},
   "outputs": [],
   "source": [
    "# Example 2: \n",
    "\n",
    "def generate_full_name ():\n",
    "    first_name = 'Anukool'\n",
    "    last_name = 'Chaturvedi'\n",
    "    space = ' '\n",
    "    full_name = first_name + space + last_name\n",
    "    return full_name\n",
    "print(generate_full_name())"
   ]
  },
  {
   "cell_type": "markdown",
   "metadata": {},
   "source": [
    "### Functions with parameters"
   ]
  },
  {
   "cell_type": "code",
   "execution_count": 2,
   "metadata": {},
   "outputs": [
    {
     "name": "stdout",
     "output_type": "stream",
     "text": [
      "55\n",
      "None\n",
      "5050\n",
      "None\n"
     ]
    }
   ],
   "source": [
    "# Example 1:  with 1 parameter and no return value\n",
    "\n",
    "def sum_of_numbers(n):\n",
    "    total = 0\n",
    "    for i in range(n+1):\n",
    "        total+=i\n",
    "    print(total)\n",
    "print(sum_of_numbers(10))  # 55\n",
    "print(sum_of_numbers(100)) # 5050"
   ]
  },
  {
   "cell_type": "code",
   "execution_count": 4,
   "metadata": {},
   "outputs": [
    {
     "name": "stdout",
     "output_type": "stream",
     "text": [
      "Sum of two numbers:  10\n"
     ]
    }
   ],
   "source": [
    "# Example 2:  With multiple parameters & return values\n",
    "\n",
    "def sum_two_numbers (num_one, num_two):  # two parameter\n",
    "    sum = num_one + num_two\n",
    "    return sum\n",
    "print('Sum of two numbers: ', sum_two_numbers(1, 9))"
   ]
  },
  {
   "cell_type": "markdown",
   "metadata": {},
   "source": [
    "If we do not **`return`** a value with a function, then our function is returning **`None`** by default."
   ]
  },
  {
   "cell_type": "markdown",
   "metadata": {},
   "source": [
    "### Returning multiple values\n",
    "\n",
    "In Python you can also return multiple values from a function. Use the return statement by separating each expression by a comma."
   ]
  },
  {
   "cell_type": "code",
   "execution_count": 5,
   "metadata": {},
   "outputs": [
    {
     "name": "stdout",
     "output_type": "stream",
     "text": [
      "Addition:  12\n",
      "Subtraction:  8\n",
      "Multiplication:  20\n",
      "Division:  5.0\n"
     ]
    }
   ],
   "source": [
    "# Example 1:\n",
    "\n",
    "def arithmetic(num1, num2):\n",
    "    add = num1 + num2\n",
    "    sub = num1 - num2\n",
    "    multiply = num1 * num2\n",
    "    division = num1 / num2\n",
    "    # return four values\n",
    "    return add, sub, multiply, division\n",
    "\n",
    "a, b, c, d = arithmetic(10, 2)  # read four return values in four variables\n",
    "\n",
    "print(\"Addition: \", a)\n",
    "print(\"Subtraction: \", b)\n",
    "print(\"Multiplication: \", c)\n",
    "print(\"Division: \", d)"
   ]
  },
  {
   "cell_type": "markdown",
   "metadata": {},
   "source": [
    "### Passing default values\n",
    "\n",
    "You can also pass default values to a function. If the value is not provided, the default value will be used"
   ]
  },
  {
   "cell_type": "code",
   "execution_count": 6,
   "metadata": {},
   "outputs": [
    {
     "name": "stdout",
     "output_type": "stream",
     "text": [
      "Age:  200\n"
     ]
    }
   ],
   "source": [
    "# Example: \n",
    "\n",
    "def calculate_age (birth_year,current_year = 2021):\n",
    "    age = current_year - birth_year\n",
    "    return age;\n",
    "print('Age: ', calculate_age(1821))"
   ]
  },
  {
   "cell_type": "markdown",
   "metadata": {},
   "source": [
    "### Docstrings\n",
    "\n",
    "**docstring** is short for documentation string. It is a descriptive text (like a comment) written by a programmer to let others know what block of code does.\n",
    "\n",
    "Although **optional**, documentation is a good programming practice. \n",
    "\n",
    "It is being declared using triple single quotes **`''' '''`** or triple-double quote **`\"\"\" \"\"\"`** so that docstring can extend up to multiple lines.\n",
    "\n",
    "We can access docstring using doc attribute **`__doc__`** for any object like list, tuple, dict, and user-defined function, etc.\n"
   ]
  },
  {
   "cell_type": "code",
   "execution_count": 11,
   "metadata": {},
   "outputs": [
    {
     "name": "stdout",
     "output_type": "stream",
     "text": [
      "value of x is: 9\n",
      "value of y is: 6\n"
     ]
    }
   ],
   "source": [
    "# Example\n",
    "\n",
    "def swap(x, y):\n",
    "    # Docstring\n",
    "    \"\"\"\n",
    "    This function swaps the value of two variables\n",
    "    \"\"\"\n",
    "    temp = x;  # value of x will go inside temp\n",
    "    x = y;     # value of y will go inside x\n",
    "    y = temp;  # value of temp will go inside y\n",
    "    print(\"value of x is:\", x)\n",
    "    print(\"value of y is:\", y)\n",
    "    return     # \"return\" is optional\n",
    "\n",
    "x = 6\n",
    "y = 9\n",
    "swap(x, y)     #call function"
   ]
  },
  {
   "cell_type": "code",
   "execution_count": 13,
   "metadata": {},
   "outputs": [
    {
     "name": "stdout",
     "output_type": "stream",
     "text": [
      "\n",
      "    This function swaps the value of two variables\n",
      "    \n"
     ]
    }
   ],
   "source": [
    "print(swap.__doc__)"
   ]
  },
  {
   "cell_type": "markdown",
   "metadata": {},
   "source": [
    "## Variable scope\n",
    "____\n",
    "\n",
    "When we define a function with variables, then those variables scope is limited to that function. \n",
    "\n",
    "In Python, the scope of a variable is the portion of a program where the variable is declared. \n",
    "\n",
    "Parameters and variables defined inside a function are not visible from outside the function. Hence, it is called the variable’s local scope."
   ]
  },
  {
   "cell_type": "markdown",
   "metadata": {},
   "source": [
    "### Global\n",
    "\n",
    "In Python, a variable declared outside of the function or in global scope is known as a global variable. This means that a global variable can be accessed inside or outside of the function."
   ]
  },
  {
   "cell_type": "code",
   "execution_count": 14,
   "metadata": {},
   "outputs": [
    {
     "name": "stdout",
     "output_type": "stream",
     "text": [
      "x inside: global\n",
      "x outside: global\n"
     ]
    }
   ],
   "source": [
    "# Example\n",
    "\n",
    "x = \"global\"\n",
    "\n",
    "def fun():\n",
    "    print(\"x inside:\", x)\n",
    "\n",
    "fun()\n",
    "print(\"x outside:\", x)"
   ]
  },
  {
   "cell_type": "markdown",
   "metadata": {},
   "source": [
    "We can't change the value of a global variable inside a function. "
   ]
  },
  {
   "cell_type": "code",
   "execution_count": 15,
   "metadata": {},
   "outputs": [
    {
     "ename": "UnboundLocalError",
     "evalue": "cannot access local variable 'x' where it is not associated with a value",
     "output_type": "error",
     "traceback": [
      "\u001b[0;31m---------------------------------------------------------------------------\u001b[0m",
      "\u001b[0;31mUnboundLocalError\u001b[0m                         Traceback (most recent call last)",
      "Cell \u001b[0;32mIn[15], line 9\u001b[0m\n\u001b[1;32m      6\u001b[0m     x \u001b[38;5;241m=\u001b[39m x \u001b[38;5;241m*\u001b[39m \u001b[38;5;241m2\u001b[39m\n\u001b[1;32m      7\u001b[0m     \u001b[38;5;28mprint\u001b[39m(x)\n\u001b[0;32m----> 9\u001b[0m \u001b[43mfun\u001b[49m\u001b[43m(\u001b[49m\u001b[43m)\u001b[49m\n",
      "Cell \u001b[0;32mIn[15], line 6\u001b[0m, in \u001b[0;36mfun\u001b[0;34m()\u001b[0m\n\u001b[1;32m      5\u001b[0m \u001b[38;5;28;01mdef\u001b[39;00m \u001b[38;5;21mfun\u001b[39m():\n\u001b[0;32m----> 6\u001b[0m     x \u001b[38;5;241m=\u001b[39m \u001b[43mx\u001b[49m \u001b[38;5;241m*\u001b[39m \u001b[38;5;241m2\u001b[39m\n\u001b[1;32m      7\u001b[0m     \u001b[38;5;28mprint\u001b[39m(x)\n",
      "\u001b[0;31mUnboundLocalError\u001b[0m: cannot access local variable 'x' where it is not associated with a value"
     ]
    }
   ],
   "source": [
    "# Example\n",
    "\n",
    "x = \"global\"\n",
    "\n",
    "def fun():\n",
    "    x = x * 2\n",
    "    print(x)\n",
    "\n",
    "fun()"
   ]
  },
  {
   "cell_type": "markdown",
   "metadata": {},
   "source": [
    "To make this work, we can use **global** keyword. **`global`** keyword allows you to modify the variable outside of the current scope. It is used to create a global variable and make changes to the variable in a local context."
   ]
  },
  {
   "cell_type": "code",
   "execution_count": 18,
   "metadata": {},
   "outputs": [
    {
     "name": "stdout",
     "output_type": "stream",
     "text": [
      "globalglobal\n"
     ]
    }
   ],
   "source": [
    "# Modify a global variable inside a function\n",
    "\n",
    "x = \"global\"\n",
    "\n",
    "def fun():\n",
    "    global x\n",
    "    x = x * 2\n",
    "    print(x)\n",
    "\n",
    "fun()"
   ]
  },
  {
   "cell_type": "markdown",
   "metadata": {},
   "source": [
    "### Local\n",
    "\n",
    "A variable declared inside the function's body or in the local scope is known as a local variable."
   ]
  },
  {
   "cell_type": "code",
   "execution_count": 19,
   "metadata": {},
   "outputs": [
    {
     "name": "stdout",
     "output_type": "stream",
     "text": [
      "Value is : 999\n"
     ]
    },
    {
     "ename": "NameError",
     "evalue": "name 'loc_var' is not defined",
     "output_type": "error",
     "traceback": [
      "\u001b[0;31m---------------------------------------------------------------------------\u001b[0m",
      "\u001b[0;31mNameError\u001b[0m                                 Traceback (most recent call last)",
      "Cell \u001b[0;32mIn[19], line 11\u001b[0m\n\u001b[1;32m      8\u001b[0m     \u001b[38;5;28mprint\u001b[39m(\u001b[38;5;124m\"\u001b[39m\u001b[38;5;124mValue is :\u001b[39m\u001b[38;5;124m\"\u001b[39m, loc_var)\n\u001b[1;32m     10\u001b[0m fun1()\n\u001b[0;32m---> 11\u001b[0m \u001b[43mfun2\u001b[49m\u001b[43m(\u001b[49m\u001b[43m)\u001b[49m\n",
      "Cell \u001b[0;32mIn[19], line 8\u001b[0m, in \u001b[0;36mfun2\u001b[0;34m()\u001b[0m\n\u001b[1;32m      7\u001b[0m \u001b[38;5;28;01mdef\u001b[39;00m \u001b[38;5;21mfun2\u001b[39m():\n\u001b[0;32m----> 8\u001b[0m     \u001b[38;5;28mprint\u001b[39m(\u001b[38;5;124m\"\u001b[39m\u001b[38;5;124mValue is :\u001b[39m\u001b[38;5;124m\"\u001b[39m, \u001b[43mloc_var\u001b[49m)\n",
      "\u001b[0;31mNameError\u001b[0m: name 'loc_var' is not defined"
     ]
    }
   ],
   "source": [
    "# Example: fun2 can't access loc_var defined in fun1, as it is local to fun1 \n",
    "\n",
    "def fun1():\n",
    "    loc_var = 999   # local variable\n",
    "    print(\"Value is :\", loc_var)\n",
    "\n",
    "def fun2():\n",
    "    print(\"Value is :\", loc_var)\n",
    "\n",
    "fun1()\n",
    "fun2()"
   ]
  },
  {
   "cell_type": "markdown",
   "metadata": {},
   "source": [
    "## Aruguments\n",
    "___\n",
    "\n",
    "In Python, there are other ways to define a function that can take variable number of arguments.\n",
    "\n",
    "Three different forms of this type are described below:\n",
    "<b>\n",
    "1. Default Arguments\n",
    "2. Keyword Arguments\n",
    "3. Arbitrary/Variable-length Arguments\n",
    "</b>"
   ]
  },
  {
   "cell_type": "markdown",
   "metadata": {},
   "source": [
    "### Default Arguments\n",
    "\n",
    "The default argument is a parameter that has a default value. If the value is not provided, the default value will be used."
   ]
  },
  {
   "cell_type": "code",
   "execution_count": 20,
   "metadata": {},
   "outputs": [
    {
     "name": "stdout",
     "output_type": "stream",
     "text": [
      "Hello Alan, Good morning!\n",
      "Hello Bruce, How do you do?\n",
      "Hello Carson, Good night!\n"
     ]
    }
   ],
   "source": [
    "# Example:\n",
    "\n",
    "def greet(name, msg=\"Good morning!\"):  # two arguments: `name` is fixed arg and 'msg' is variable arg\n",
    "\n",
    "    print(\"Hello\", name + ', ' + msg)\n",
    "\n",
    "\n",
    "greet(\"Alan\")\n",
    "greet(\"Bruce\", \"How do you do?\")\n",
    "greet(\"Carson\",\"Good night!\")"
   ]
  },
  {
   "cell_type": "markdown",
   "metadata": {},
   "source": [
    "### Keyword Arguments\n",
    "\n",
    "A keyword argument is an argument value, passed to function preceded by the variable name and an equals sign.\n",
    "\n",
    "This allows you to skip arguments or place them out of order because the Python interpreter is able to use the keywords provided to match the values with parameters."
   ]
  },
  {
   "cell_type": "code",
   "execution_count": 21,
   "metadata": {},
   "outputs": [
    {
     "name": "stdout",
     "output_type": "stream",
     "text": [
      "Hello Eric, How do you do?\n",
      "Hello Eric, How do you do?\n",
      "Hello Eric, How do you do?\n",
      "Hello Eric, How do you do?\n"
     ]
    }
   ],
   "source": [
    "# Example 1:\n",
    "\n",
    "greet(\"Eric\", \"How do you do?\")\n",
    "\n",
    "# 2 keyword arguments\n",
    "greet(name = \"Eric\",msg = \"How do you do?\")\n",
    "\n",
    "# 2 keyword arguments (out of order)\n",
    "greet(msg = \"How do you do?\",name = \"Eric\") \n",
    "\n",
    "# 1 positional, 1 keyword argument\n",
    "greet(\"Eric\", msg = \"How do you do?\")           "
   ]
  },
  {
   "cell_type": "markdown",
   "metadata": {},
   "source": [
    "As we can see, we can mix positional arguments with keyword arguments during a function call. But we must keep in mind that keyword arguments must follow positional arguments.\n",
    "\n",
    "1. Having a positional argument after keyword arguments will result in errors.\n",
    "\n",
    "2. In keyword arguments, order of argument doesn't not matter, but the number of arguments must match. Otherwise, we will get an error."
   ]
  },
  {
   "cell_type": "code",
   "execution_count": 22,
   "metadata": {},
   "outputs": [
    {
     "ename": "SyntaxError",
     "evalue": "positional argument follows keyword argument (3347368139.py, line 1)",
     "output_type": "error",
     "traceback": [
      "\u001b[0;36m  Cell \u001b[0;32mIn[22], line 1\u001b[0;36m\u001b[0m\n\u001b[0;31m    greet(name=\"Eric\",\"How do you do?\")  # Will result in an error\u001b[0m\n\u001b[0m                                      ^\u001b[0m\n\u001b[0;31mSyntaxError\u001b[0m\u001b[0;31m:\u001b[0m positional argument follows keyword argument\n"
     ]
    }
   ],
   "source": [
    "greet(name=\"Eric\",\"How do you do?\")  # Will result in an error"
   ]
  },
  {
   "cell_type": "markdown",
   "metadata": {},
   "source": [
    "### Arbitrary/Variable-length Arguments\n",
    "\n",
    "Sometimes, we do not know in advance the number of arguments that will be passed into a function. Python allows us to handle this kind of situation through function calls with an arbitrary number of arguments.\n",
    "\n",
    "We can pass any number of arguments to this function. Internally all these values are represented in the form of a **tuple**.\n",
    "\n",
    "In the function definition, we use an asterisk **`*`** before the parameter name to denote this kind of argument. For example:"
   ]
  },
  {
   "cell_type": "code",
   "execution_count": 23,
   "metadata": {},
   "outputs": [
    {
     "name": "stdout",
     "output_type": "stream",
     "text": [
      "Hello Gary\n",
      "Hello Hank\n",
      "Hello Ivan\n",
      "Hello John\n"
     ]
    }
   ],
   "source": [
    "# Example 1: \n",
    "\n",
    "def greet(*names):\n",
    "    \"\"\"This function greets all the person in the names tuple.\"\"\"\n",
    "    # names is a tuple with arguments\n",
    "    for name in names:\n",
    "        print(\"Hello\", name)\n",
    "\n",
    "greet(\"Gary\", \"Hank\", \"Ivan\", \"John\")"
   ]
  },
  {
   "cell_type": "markdown",
   "metadata": {},
   "source": [
    "### Function as a Parameter\n",
    "\n",
    "In Python, we can pass a function as a parameter to another function."
   ]
  },
  {
   "cell_type": "code",
   "execution_count": 24,
   "metadata": {},
   "outputs": [
    {
     "name": "stdout",
     "output_type": "stream",
     "text": [
      "9\n"
     ]
    }
   ],
   "source": [
    "# Example 1: You can pass functions around as parameters\n",
    "\n",
    "def square_number (n):\n",
    "    return n * n\n",
    "def do_something(f, x):\n",
    "    return f(x)\n",
    "print(do_something(square_number, 3)) # 27"
   ]
  },
  {
   "cell_type": "markdown",
   "metadata": {},
   "source": [
    "## Recursion\n",
    "___\n",
    "\n",
    "Recursion is the process of defining something in terms of itself.\n",
    "\n",
    "A physical world example would be to **place two parallel mirrors facing each other**. Any object in between them would be reflected recursively.\n",
    "\n",
    "In Python, we know that a **function** can call other functions. It is even possible for the function to call itself. These types of construct are termed as recursive functions.\n",
    "\n",
    "The following image shows the working of a recursive function called **`recurse`**.\n",
    "\n",
    "<div>\n",
    "<img src=\"./img/re1.png\" width=\"250\"/>\n",
    "</div>"
   ]
  },
  {
   "cell_type": "code",
   "execution_count": null,
   "metadata": {},
   "outputs": [],
   "source": [
    "# Example 1:\n",
    "\n",
    "def factorial(n):\n",
    "    \"\"\"This is a recursive function to find the factorial of an integer\"\"\"\n",
    "\n",
    "    if n == 1:\n",
    "        return 1\n",
    "    else:\n",
    "        return (n * factorial(n-1))  # 3 * 2 * 1 = 6\n",
    "\n",
    "\n",
    "num = 3\n",
    "print(\"The factorial of\", num, \"is\", factorial(num))"
   ]
  },
  {
   "cell_type": "markdown",
   "metadata": {},
   "source": [
    "When we call this function with a positive integer, it will recursively call itself by decreasing the number.\n",
    "\n",
    "Each function multiplies the number with the factorial of the number below it until it is equal to one. This recursive call can be explained in the following steps.\n",
    "\n",
    "```python\n",
    "factorial(3)          # 1st call with 3\n",
    "3 * factorial(2)      # 2nd call with 2\n",
    "3 * 2 * factorial(1)  # 3rd call with 1\n",
    "3 * 2 * 1             # return from 3rd call as number=1\n",
    "3 * 2                 # return from 2nd call\n",
    "6                     # return from 1st call\n",
    "```\n",
    "\n",
    "Let's look at an image that shows a step-by-step process of what is going on:\n",
    "\n",
    "<div>\n",
    "<img src=\"./img/re2.png\" width=\"350\"/>\n",
    "</div>"
   ]
  },
  {
   "cell_type": "markdown",
   "metadata": {},
   "source": [
    "Our recursion ends when the number reduces to 1. This is called the base condition.\n",
    "\n",
    "Every recursive function must have a base condition that stops the recursion or else the function calls itself infinitely.\n"
   ]
  },
  {
   "cell_type": "markdown",
   "metadata": {},
   "source": [
    "## Anonymous / Lambda Functions\n",
    "___\n",
    "\n",
    "In Python, an anonymous function is a **function** that is defined without a name.\n",
    "\n",
    "While normal functions are defined using the **`def`** keyword in Python, anonymous functions are defined using the **`lambda`** keyword.\n",
    "\n",
    "For example: **`lambda n:n+n`**\n",
    "\n",
    "Anonymous functions make the code very concise and easy to read\n",
    "\n",
    "Hence, anonymous functions are also called **`lambda`** functions.\n",
    "\n",
    "* Lambda forms can take any number of arguments but return just one value in the form of an expression. They cannot contain commands or multiple expressions.\n",
    "\n",
    "* An anonymous function cannot be a direct call to print because **lambda** requires an expression. \n",
    "\n",
    "* **`lambda`** functions have their own local namespace and cannot access variables other than those in their parameter list and those in the global namespace. \n",
    "\n",
    "* Although it appears that lambdas are a one-line version of a function, they are not equivalent to inline statements in C or C++, whose purpose is to stack allocation by passing function, during invocation for performance reasons.\n",
    "\n",
    ">**Syntax:** \n",
    ">```python\n",
    ">lambda argument_list: expression\n",
    ">```"
   ]
  },
  {
   "cell_type": "code",
   "execution_count": 25,
   "metadata": {},
   "outputs": [
    {
     "name": "stdout",
     "output_type": "stream",
     "text": [
      "Even numbers are: [10, 16, 78, 2]\n"
     ]
    }
   ],
   "source": [
    "# Example 1: Program for even numbers without lambda function\n",
    "\n",
    "def even_numbers(nums):\n",
    "    even_list = []\n",
    "    for n in nums:\n",
    "        if n % 2 == 0:\n",
    "            even_list.append(n)\n",
    "    return even_list\n",
    "\n",
    "num_list = [10, 9, 16, 78, 2, 3, 7, 1]\n",
    "ans = even_numbers(num_list)\n",
    "print(\"Even numbers are:\", ans)"
   ]
  },
  {
   "cell_type": "code",
   "execution_count": 26,
   "metadata": {},
   "outputs": [
    {
     "name": "stdout",
     "output_type": "stream",
     "text": [
      "Even numbers are:  [10, 16, 78, 2]\n"
     ]
    }
   ],
   "source": [
    "# Example 1: Program for even number with a lambda function\n",
    "\n",
    "l = [10, 9, 16, 78, 2, 3, 7, 1]\n",
    "even_nos = list(filter(lambda x: x % 2 == 0, l))\n",
    "print(\"Even numbers are: \", even_nos)"
   ]
  },
  {
   "cell_type": "markdown",
   "metadata": {},
   "source": [
    "x is the argument of the function, x % 2 is the expression"
   ]
  },
  {
   "cell_type": "markdown",
   "metadata": {},
   "source": [
    "## Modules\n",
    "___\n",
    "\n",
    "Module containing a set of codes or a set of functions which can be included to an application. \n",
    "\n",
    "Modules refer to the Python file, which contains Python code like Python statements, classes, functions, variables, etc. A file with Python code is defined with extension **`.py`**\n",
    "\n",
    "For example: In **`main.py`**, where the **`main`** is the module name.\n",
    "\n",
    "In Python, large code is divided into small modules. The benefit of modules is, it provides a way to share reusable functions.\n",
    "\n",
    "**Advantage**\n",
    "\n",
    "* **Reusability**: Module can be used in some other python code. Hence it provides the facility of code reusability.\n",
    "* **Categorization**: Similar type of attributes can be placed in one module."
   ]
  },
  {
   "cell_type": "markdown",
   "metadata": {},
   "source": [
    "### Creating a module\n",
    "\n",
    "A file containing Python code, for example: **`example.py`**, is called a module, and its module name would be **`example`**.\n",
    "\n",
    "Let us create a module. Type the following and save it as **`example.py`**.\n",
    "\n",
    "```python\n",
    "# Python Module example\n",
    "\n",
    ">>> def add(a, b):\n",
    ">>>     \"\"\"This program adds two numbers and return the result\"\"\"\n",
    ">>>     result = a + b\n",
    ">>>     return result\n",
    "```"
   ]
  },
  {
   "cell_type": "markdown",
   "metadata": {},
   "source": [
    "### Importing a module\n",
    "\n",
    "We can import the definitions inside a module to another module or the interactive interpreter in Python.\n",
    "\n",
    "👉 We use the **`import`** keyword to do this.\n",
    "\n",
    "```python\n",
    "# Importing a module\n",
    ">>> import example\n",
    ">>> example.add(2, 3)\n",
    "```"
   ]
  },
  {
   "cell_type": "markdown",
   "metadata": {},
   "source": [
    "👉  You can also import specific objects from a module. For example:\n",
    "\n",
    "```python\n",
    ">>> from example import add\n",
    ">>> add(2, 3)\n",
    "```"
   ]
  },
  {
   "cell_type": "markdown",
   "metadata": {},
   "source": [
    "👉 You can access submodules and import specific objects using the dot operator. For example:\n",
    "\n",
    "```python\n",
    ">>> from example.submodule import add\n",
    ">>> add(2, 3)\n",
    "```"
   ]
  },
  {
   "cell_type": "markdown",
   "metadata": {},
   "source": [
    "👉 You can also import all objects from a module. For example:\n",
    "\n",
    "```python\n",
    ">>> from example import *\n",
    ">>> add(2, 3)\n",
    "```"
   ]
  },
  {
   "cell_type": "markdown",
   "metadata": {},
   "source": [
    "👉 You can import multiple objects from a module. For example:\n",
    "\n",
    "```python\n",
    ">>> from example import add, sub\n",
    ">>> add(2, 3)\n",
    "```"
   ]
  },
  {
   "cell_type": "markdown",
   "metadata": {},
   "source": [
    "👉 You can give a new name or alias to the imported objects.\n",
    "\n",
    "```python\n",
    ">>> import example as e\n",
    ">>> e.add(2, 3)\n"
   ]
  },
  {
   "cell_type": "markdown",
   "metadata": {},
   "source": [
    "### Module path\n",
    "\n",
    "While importing a module, Python looks at several places. Interpreter first looks for a built-in module. Then(if built-in module not found), Python looks into a list of directories defined in **`sys.path`**. The search is in this order.\n",
    "\n",
    "1. The current directory.\n",
    "2. **`PYTHONPATH`** (an environment variable with a list of directories).\n",
    "3. The installation-dependent default directory.\n",
    "\n",
    "```python\n",
    ">>>import sys\n",
    ">>>sys.path\n",
    "```"
   ]
  },
  {
   "cell_type": "markdown",
   "metadata": {},
   "source": [
    "### Built-in modules\n",
    "\n",
    "Built-in modules are pre-installed with Python. You can see all built-in modules with the **`help('modules')`** method\n"
   ]
  },
  {
   "cell_type": "code",
   "execution_count": 29,
   "metadata": {},
   "outputs": [
    {
     "name": "stdout",
     "output_type": "stream",
     "text": [
      "\n",
      "Please wait a moment while I gather a list of all available modules...\n",
      "\n"
     ]
    },
    {
     "name": "stderr",
     "output_type": "stream",
     "text": [
      "/opt/homebrew/Caskroom/miniconda/base/envs/ml-notes/lib/python3.12/pkgutil.py:78: UserWarning: The numpy.array_api submodule is still experimental. See NEP 47.\n",
      "  __import__(info.name)\n"
     ]
    },
    {
     "name": "stdout",
     "output_type": "stream",
     "text": [
      "IPython             aifc                ipykernel_launcher  sched\n",
      "PIL                 alabaster           itertools           secrets\n",
      "__future__          antigravity         jedi                select\n",
      "__hello__           appnope             jinja2              selectors\n",
      "__phello__          argparse            json                setuptools\n",
      "_abc                array               jsonschema          shelve\n",
      "_aix_support        ast                 jsonschema_specifications shlex\n",
      "_ast                asttokens           jupyter             shutil\n",
      "_asyncio            asyncio             jupyter_book        signal\n",
      "_bisect             atexit              jupyter_cache       site\n",
      "_blake2             attr                jupyter_client      six\n",
      "_bz2                attrs               jupyter_core        smtplib\n",
      "_codecs             audioop             keyword             sndhdr\n",
      "_codecs_cn          babel               kiwisolver          snowballstemmer\n",
      "_codecs_hk          base64              latexcodec          socket\n",
      "_codecs_iso2022     bdb                 lib2to3             socketserver\n",
      "_codecs_jp          binascii            linecache           soupsieve\n",
      "_codecs_kr          bisect              linkify_it          sphinx\n",
      "_codecs_tw          bs4                 locale              sphinx_book_theme\n",
      "_collections        builtins            logging             sphinx_comments\n",
      "_collections_abc    bz2                 lzma                sphinx_copybutton\n",
      "_compat_pickle      cProfile            mailbox             sphinx_design\n",
      "_compression        calendar            mailcap             sphinx_external_toc\n",
      "_contextvars        certifi             markdown_it         sphinx_jupyterbook_latex\n",
      "_crypt              cgi                 markupsafe          sphinx_multitoc_numbering\n",
      "_csv                cgitb               marshal             sphinx_thebe\n",
      "_ctypes             charset_normalizer  math                sphinx_togglebutton\n",
      "_ctypes_test        chunk               matplotlib          sqlalchemy\n",
      "_curses             click               matplotlib_inline   sqlite3\n",
      "_curses_panel       cmath               mdit_py_plugins     sre_compile\n",
      "_datetime           cmd                 mdurl               sre_constants\n",
      "_dbm                code                mimetypes           sre_parse\n",
      "_decimal            codecs              mmap                ssl\n",
      "_distutils_hack     codeop              modulefinder        stack_data\n",
      "_elementtree        collections         multiprocessing     stat\n",
      "_functools          colorsys            myst_nb             statistics\n",
      "_hashlib            comm                myst_parser         string\n",
      "_heapq              compileall          nbclient            stringprep\n",
      "_imp                concurrent          nbformat            struct\n",
      "_io                 configparser        nest_asyncio        subprocess\n",
      "_json               contextlib          netrc               sunau\n",
      "_locale             contextvars         nis                 symtable\n",
      "_lsprof             contourpy           nntplib             sys\n",
      "_lzma               copy                ntpath              sysconfig\n",
      "_markupbase         copyreg             nturl2path          syslog\n",
      "_md5                crypt               numbers             tabnanny\n",
      "_multibytecodec     csv                 numpy               tabulate\n",
      "_multiprocessing    ctypes              opcode              tarfile\n",
      "_opcode             curses              operator            telnetlib\n",
      "_operator           cycler              optparse            tempfile\n",
      "_osx_support        dataclasses         os                  termios\n",
      "_pickle             datetime            packaging           test\n",
      "_posixshmem         dateutil            pandas              tests\n",
      "_posixsubprocess    dbm                 parso               textwrap\n",
      "_py_abc             debugpy             pathlib             this\n",
      "_pydatetime         decimal             pdb                 threading\n",
      "_pydecimal          decorator           pexpect             time\n",
      "_pyio               difflib             pickle              timeit\n",
      "_pylong             dis                 pickleshare         tkinter\n",
      "_queue              doctest             pickletools         token\n",
      "_random             docutils            pip                 tokenize\n",
      "_scproxy            email               pipes               tomllib\n",
      "_sha1               encodings           pkg_resources       tornado\n",
      "_sha2               ensurepip           pkgutil             trace\n",
      "_sha3               enum                platform            traceback\n",
      "_signal             errno               platformdirs        tracemalloc\n",
      "_sitebuiltins       exceptiongroup      plistlib            traitlets\n",
      "_socket             executing           poplib              tty\n",
      "_sqlite3            fastjsonschema      posix               turtle\n",
      "_sre                faulthandler        posixpath           turtledemo\n",
      "_ssl                fcntl               pprint              types\n",
      "_stat               filecmp             profile             typing\n",
      "_statistics         fileinput           prompt_toolkit      typing_extensions\n",
      "_string             fnmatch             pstats              tzdata\n",
      "_strptime           fontTools           psutil              uc_micro\n",
      "_struct             fractions           pty                 unicodedata\n",
      "_symtable           ftplib              ptyprocess          unittest\n",
      "_sysconfigdata__darwin_darwin functools           pure_eval           urllib\n",
      "_sysconfigdata_arm64_apple_darwin20_0_0 gc                  pwd                 urllib3\n",
      "_testbuffer         genericpath         py_compile          uu\n",
      "_testcapi           getopt              pybtex              uuid\n",
      "_testclinic         getpass             pybtex_docutils     venv\n",
      "_testimportmultiple gettext             pyclbr              warnings\n",
      "_testinternalcapi   glob                pydata_sphinx_theme wave\n",
      "_testmultiphase     graphlib            pydoc               wcwidth\n",
      "_testsinglephase    grp                 pydoc_data          weakref\n",
      "_thread             gzip                pyexpat             webbrowser\n",
      "_threading_local    hashlib             pygments            wheel\n",
      "_tkinter            heapq               pylab               wsgiref\n",
      "_tokenize           hmac                pyparsing           xdrlib\n",
      "_tracemalloc        html                pytz                xml\n",
      "_typing             http                queue               xmlrpc\n",
      "_uuid               idlelib             quopri              xxlimited\n",
      "_warnings           idna                random              xxlimited_35\n",
      "_weakref            imagesize           re                  xxsubtype\n",
      "_weakrefset         imaplib             readline            yaml\n",
      "_xxinterpchannels   imghdr              referencing         zipapp\n",
      "_xxsubinterpreters  importlib           reprlib             zipfile\n",
      "_xxtestfuzz         importlib_metadata  requests            zipimport\n",
      "_yaml               inspect             resource            zipp\n",
      "_zoneinfo           io                  rlcompleter         zlib\n",
      "a11y_pygments       ipaddress           rpds                zmq\n",
      "abc                 ipykernel           runpy               zoneinfo\n",
      "\n",
      "Enter any module name to get more help.  Or, type \"modules spam\" to search\n",
      "for modules whose name or summary contain the string \"spam\".\n",
      "\n"
     ]
    }
   ],
   "source": [
    "help('modules')"
   ]
  },
  {
   "cell_type": "markdown",
   "metadata": {},
   "source": [
    "#### `dir()`\n",
    "\n",
    "We can use the **`dir()`** function to find out names that are defined inside a module"
   ]
  },
  {
   "cell_type": "code",
   "execution_count": 30,
   "metadata": {},
   "outputs": [
    {
     "data": {
      "text/plain": [
       "['__breakpointhook__',\n",
       " '__displayhook__',\n",
       " '__doc__',\n",
       " '__excepthook__',\n",
       " '__interactivehook__',\n",
       " '__loader__',\n",
       " '__name__',\n",
       " '__package__',\n",
       " '__spec__',\n",
       " '__stderr__',\n",
       " '__stdin__',\n",
       " '__stdout__',\n",
       " '__unraisablehook__',\n",
       " '_base_executable',\n",
       " '_clear_type_cache',\n",
       " '_current_exceptions',\n",
       " '_current_frames',\n",
       " '_debugmallocstats',\n",
       " '_framework',\n",
       " '_getframe',\n",
       " '_getframemodulename',\n",
       " '_git',\n",
       " '_home',\n",
       " '_setprofileallthreads',\n",
       " '_settraceallthreads',\n",
       " '_stdlib_dir',\n",
       " '_xoptions',\n",
       " 'abiflags',\n",
       " 'activate_stack_trampoline',\n",
       " 'addaudithook',\n",
       " 'api_version',\n",
       " 'argv',\n",
       " 'audit',\n",
       " 'base_exec_prefix',\n",
       " 'base_prefix',\n",
       " 'breakpointhook',\n",
       " 'builtin_module_names',\n",
       " 'byteorder',\n",
       " 'call_tracing',\n",
       " 'copyright',\n",
       " 'deactivate_stack_trampoline',\n",
       " 'displayhook',\n",
       " 'dont_write_bytecode',\n",
       " 'exc_info',\n",
       " 'excepthook',\n",
       " 'exception',\n",
       " 'exec_prefix',\n",
       " 'executable',\n",
       " 'exit',\n",
       " 'flags',\n",
       " 'float_info',\n",
       " 'float_repr_style',\n",
       " 'get_asyncgen_hooks',\n",
       " 'get_coroutine_origin_tracking_depth',\n",
       " 'get_int_max_str_digits',\n",
       " 'getallocatedblocks',\n",
       " 'getdefaultencoding',\n",
       " 'getdlopenflags',\n",
       " 'getfilesystemencodeerrors',\n",
       " 'getfilesystemencoding',\n",
       " 'getprofile',\n",
       " 'getrecursionlimit',\n",
       " 'getrefcount',\n",
       " 'getsizeof',\n",
       " 'getswitchinterval',\n",
       " 'gettrace',\n",
       " 'getunicodeinternedsize',\n",
       " 'hash_info',\n",
       " 'hexversion',\n",
       " 'implementation',\n",
       " 'int_info',\n",
       " 'intern',\n",
       " 'is_finalizing',\n",
       " 'is_stack_trampoline_active',\n",
       " 'last_traceback',\n",
       " 'last_type',\n",
       " 'last_value',\n",
       " 'maxsize',\n",
       " 'maxunicode',\n",
       " 'meta_path',\n",
       " 'modules',\n",
       " 'monitoring',\n",
       " 'orig_argv',\n",
       " 'path',\n",
       " 'path_hooks',\n",
       " 'path_importer_cache',\n",
       " 'platform',\n",
       " 'platlibdir',\n",
       " 'prefix',\n",
       " 'ps1',\n",
       " 'ps2',\n",
       " 'ps3',\n",
       " 'pycache_prefix',\n",
       " 'set_asyncgen_hooks',\n",
       " 'set_coroutine_origin_tracking_depth',\n",
       " 'set_int_max_str_digits',\n",
       " 'setdlopenflags',\n",
       " 'setprofile',\n",
       " 'setrecursionlimit',\n",
       " 'setswitchinterval',\n",
       " 'settrace',\n",
       " 'stderr',\n",
       " 'stdin',\n",
       " 'stdlib_module_names',\n",
       " 'stdout',\n",
       " 'thread_info',\n",
       " 'unraisablehook',\n",
       " 'version',\n",
       " 'version_info',\n",
       " 'warnoptions']"
      ]
     },
     "execution_count": 30,
     "metadata": {},
     "output_type": "execute_result"
    }
   ],
   "source": [
    "import sys\n",
    "dir(sys)"
   ]
  },
  {
   "cell_type": "markdown",
   "metadata": {},
   "source": [
    "#### `os()`\n",
    "\n",
    "Used to automatically perform many operating system tasks. It provides functions for creating, changing current working directory, and removing a directory (folder), fetching its contents, changing and identifying the current directory.\n"
   ]
  },
  {
   "cell_type": "code",
   "execution_count": null,
   "metadata": {},
   "outputs": [],
   "source": [
    "# Example 1:\n",
    "\n",
    "# import the module\n",
    "import os\n",
    "# Getting current working directory\n",
    "os.getcwd()"
   ]
  },
  {
   "cell_type": "markdown",
   "metadata": {},
   "source": [
    "#### `sys()`\n",
    "\n",
    "Used to access system specific parameters and functions. It provides access to some variables used or maintained by the interpreter and to functions that interact strongly with the interpreter."
   ]
  },
  {
   "cell_type": "code",
   "execution_count": null,
   "metadata": {},
   "outputs": [],
   "source": [
    "import sys\n",
    "sys.path"
   ]
  },
  {
   "cell_type": "markdown",
   "metadata": {},
   "source": [
    "#### `string()`\n",
    "\n",
    "A **string** module is a useful module for working with text. It contains a set of functions that are used to perform certain operations on characters. This module has pre-defined functions like capwords, ascii_letters, etc."
   ]
  },
  {
   "cell_type": "code",
   "execution_count": 33,
   "metadata": {},
   "outputs": [
    {
     "name": "stdout",
     "output_type": "stream",
     "text": [
      "Hello World\n",
      "abcdefghijklmnopqrstuvwxyzABCDEFGHIJKLMNOPQRSTUVWXYZ\n"
     ]
    }
   ],
   "source": [
    "# Example 1:\n",
    "\n",
    "from string import *\n",
    "print(capwords(\"hello world\")) #capitalizes the first letter of each words\n",
    "print(ascii_letters) #prints all lowercase and uppercase letters"
   ]
  },
  {
   "cell_type": "markdown",
   "metadata": {},
   "source": [
    "### `random()`\n",
    "\n",
    "The **random** module is used to generate the random numbers. It provides the following two built in functions:\n",
    "\n",
    "| Function | Description |\n",
    "|:----| :--- |\n",
    "| **`random()`** |   It returns a random number between 0.0 and 1.0 where 1.0 is exclusive.  | \n",
    "| **`randint(x,y)`** |   It returns a random number between x and y where both the numbers are inclusive.  | "
   ]
  },
  {
   "cell_type": "code",
   "execution_count": 34,
   "metadata": {},
   "outputs": [
    {
     "name": "stdout",
     "output_type": "stream",
     "text": [
      "10\n",
      "30\n",
      "14.78589902230161\n"
     ]
    }
   ],
   "source": [
    "# Example 1:\n",
    "\n",
    "from random import *\n",
    "print(randint(10, 20)) #prints a random number between the given range\n",
    "\n",
    "list1 = [30, 23, 45, 16, 89, 56]\n",
    "print(choice(list1)) #prints a random element from the given iterator\n",
    "\n",
    "print(uniform(10, 20)) #prints a random float number between two given values"
   ]
  },
  {
   "cell_type": "markdown",
   "metadata": {},
   "source": [
    "#### `math()`\n",
    "\n",
    "The **math** module is used to perform mathematical operations. It provides some pre-defined mathematical functions like sqrt, factorial, etc.\n",
    "\n",
    "| Function | Description |\n",
    "|:----| :--- |\n",
    "| **`ceil(n)`** |   It returns the next integer number of the given number.  | \n",
    "| **`sqrt(n)`** |   It returns the Square root of the given number.  | \n",
    "| **`exp(n)`** |   It returns the natural logarithm e raised to the given number.  | \n",
    "| **`floor(n)`** |   It returns the previous integer number of the given number.  | \n",
    "| **`log(n,baseto)`** |   It returns the previous integer number of the given number.  | \n",
    "| **`pow(baseto, exp)`** |   It returns baseto raised to the exp power.  | \n",
    "| **`sin(n)`** |   It returns sine of the given radian.  | \n",
    "| **`cos(n)`** |   It returns cosine of the given radian.  | \n",
    "| **`tan(n)`** |   It returns tangent of the given radian.  | "
   ]
  },
  {
   "cell_type": "code",
   "execution_count": 35,
   "metadata": {},
   "outputs": [
    {
     "name": "stdout",
     "output_type": "stream",
     "text": [
      "4.0\n",
      "120\n"
     ]
    }
   ],
   "source": [
    "from math import *\n",
    "print(sqrt(16)) # prints the square root of the value 16 in the form of a floating-point value\n",
    "print(factorial(5)) # prints the factorial of the value 5"
   ]
  },
  {
   "cell_type": "markdown",
   "metadata": {},
   "source": [
    "There are alot more builtin and user defined modules, you can read more about them [here](https://docs.python.org/3/library/index.html#modules-index)"
   ]
  },
  {
   "cell_type": "markdown",
   "metadata": {},
   "source": [
    "### Packages\n",
    "\n",
    "We want to divide our code base into clean, efficient modules using Python packages. \n",
    "\n",
    "We don't usually store all of our files on our computer in the same location. We use a well-organized hierarchy of directories for easier access.\n",
    "\n",
    "Similar files are kept in the same directory, for example, we may keep all the songs in the \"**music**\" directory. Analogous to this, Python has packages for directories and **modules** for files.\n",
    "\n",
    "As our application program grows larger in size with a lot of modules, we place similar modules in one package and different modules in different packages. This makes a project (program) easy to manage and conceptually clear.\n",
    "\n",
    "Similarly, as a directory can contain subdirectories and files, a Python package can have sub-packages and modules.\n",
    "\n",
    "A directory must contain a file named **`__init__.py`** in order for Python to consider it as a package. This file can be left empty but we generally place the initialization code for that package in this file.\n",
    "\n",
    "Here is an example. Suppose we are developing a game. One possible organization of packages and modules could be as shown in the figure below.\n",
    "\n",
    "| <img src=\"./img/pack1.png\" width=\"400\" /> | \n",
    "|:--:| \n",
    "| **Package Module Structure in Python Programming** |\n",
    "\n",
    "We can import modules from packages using the dot **`.`** operator.\n",
    "\n",
    "For example, if we want to import the **`start`** module in the above example, it can be done as follows:\n",
    "\n",
    "```python\n",
    ">>>import Game.Level.start\n",
    "```\n",
    "\n",
    "Now, if this module contains a **function** named **`select_difficulty()`**, we must use the full name to reference it.\n",
    "\n",
    "```python\n",
    ">>>Game.Level.start.select_difficulty(2)\n",
    "```\n",
    "\n",
    "If this construct seems lengthy, we can import the module without the package prefix as follows:\n",
    "\n",
    "```python\n",
    ">>>from Game.Level import start\n",
    "```\n",
    "\n",
    "We can now call the function simply as follows:\n",
    "\n",
    "```python\n",
    ">>>start.select_difficulty(2)\n",
    "```\n",
    "\n",
    "Another way of importing just the required function (or class or variable) from a module within a package would be as follows:\n",
    "\n",
    "```python\n",
    ">>>from Game.Level.start import select_difficulty\n",
    "```\n",
    "\n",
    "Now we can directly call this function.\n",
    "\n",
    "```python\n",
    ">>>select_difficulty(2)\n",
    "```\n",
    "\n",
    "Although easier, this method is not recommended. Using the full **namespace** avoids confusion and prevents two same identifier names from colliding.\n",
    "\n",
    "While importing packages, Python looks in the list of directories defined in **`sys.path`**, similar as for **module search path**."
   ]
  }
 ],
 "metadata": {
  "kernelspec": {
   "display_name": "ml-notes",
   "language": "python",
   "name": "python3"
  },
  "language_info": {
   "codemirror_mode": {
    "name": "ipython",
    "version": 3
   },
   "file_extension": ".py",
   "mimetype": "text/x-python",
   "name": "python",
   "nbconvert_exporter": "python",
   "pygments_lexer": "ipython3",
   "version": "3.12.3"
  }
 },
 "nbformat": 4,
 "nbformat_minor": 2
}
