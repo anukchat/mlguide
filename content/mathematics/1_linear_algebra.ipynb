{
 "cells": [
  {
   "cell_type": "markdown",
   "metadata": {},
   "source": [
    "# Linear Algebra\n",
    "\n",
    "Linear algebra lies at the heart of most machine learning approaches and is especially predominant in deep learning. It deals with study of vectors, matrices, planes, mapping, and lines required for linear transformation.\n",
    "\n",
    "In this notebook, we will understand below concepts\n",
    "- Scalar vs Vectors\n",
    "- Matrices\n",
    "- Scalar - Vector multipication\n",
    "- Scalar - Matrix multipication\n",
    "- Vector - Matrix multipication\n",
    "- Matrix - Matrix subtraction/addition\n",
    "- Matrix - Matrix multipication (dot product)\n",
    "- Transpose\n",
    "- Inverse\n",
    "- Tensor\n",
    "- Eigenvectors and Eigenvalues\n",
    "- Vector spaces\n",
    "- Orthogonolity\n",
    "- Matrix factorization\n",
    "  - Single value decomposition (SVD)\n",
    "  - Dimensionality reduction\n",
    "\n",
    "\n"
   ]
  }
 ],
 "metadata": {
  "kernelspec": {
   "display_name": "Python 3",
   "language": "python",
   "name": "python3"
  },
  "language_info": {
   "codemirror_mode": {
    "name": "ipython",
    "version": 3
   },
   "file_extension": ".py",
   "mimetype": "text/x-python",
   "name": "python",
   "nbconvert_exporter": "python",
   "pygments_lexer": "ipython3",
   "version": "3.8.0"
  },
  "widgets": {
   "application/vnd.jupyter.widget-state+json": {
    "state": {},
    "version_major": 2,
    "version_minor": 0
   }
  }
 },
 "nbformat": 4,
 "nbformat_minor": 4
}
