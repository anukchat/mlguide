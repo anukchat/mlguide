{
 "cells": [
  {
   "cell_type": "markdown",
   "metadata": {},
   "source": [
    "# Pandas how to guide"
   ]
  },
  {
   "cell_type": "markdown",
   "metadata": {},
   "source": [
    "## Head & Tail\n",
    "___"
   ]
  },
  {
   "cell_type": "markdown",
   "metadata": {},
   "source": [
    "### How to use `DataFrame.head()` function\n",
    "\n",
    "To see the first n rows in the DataFrame.\n",
    "\n",
    "**Syntax:**\n",
    "```python\n",
    "DataFrame.head(n=5)\n",
    "```"
   ]
  },
  {
   "cell_type": "code",
   "execution_count": null,
   "metadata": {},
   "outputs": [],
   "source": [
    "import pandas as pd\n",
    "\n",
    "student_dict = {'Name': ['Joe', 'Nat', 'Harry','Jack','Jose','Jill','Rose'],\n",
    "                'Age': [20, 21, 19,17,18,19,17],\n",
    "                'Marks': [85.10, 77.80, 91.54,72,87.9,90,72]}\n",
    "\n",
    "# create DataFrame from dict\n",
    "student_df = pd.DataFrame(student_dict)\n",
    "\n",
    "# display first 5 rows\n",
    "topRows = student_df.head()\n",
    "print(topRows)"
   ]
  },
  {
   "cell_type": "markdown",
   "metadata": {},
   "source": [
    "### Select top n rows in pandas DataFrame\n",
    "\n",
    "To display the first n rows of the DataFrame, we can pass the number of rows as a parameter to the **`DataFrame.head()`** function.\n"
   ]
  },
  {
   "cell_type": "code",
   "execution_count": null,
   "metadata": {},
   "outputs": [
    {
     "name": "stdout",
     "output_type": "stream",
     "text": [
      "    Name  Age  Marks\n",
      "0    Joe   20  85.10\n",
      "1    Nat   21  77.80\n",
      "2  Harry   19  91.54\n"
     ]
    }
   ],
   "source": [
    "# display first 3 rows\n",
    "topRows = student_df.head(3)\n",
    "print(topRows)"
   ]
  },
  {
   "cell_type": "markdown",
   "metadata": {},
   "source": [
    "### Select top rows except for last n rows\n",
    "\n",
    "To display all the rows except for the last n rows, we can pass the negative value as a parameter to the **`DataFrame.head()`** function.\n"
   ]
  },
  {
   "cell_type": "code",
   "execution_count": null,
   "metadata": {},
   "outputs": [
    {
     "name": "stdout",
     "output_type": "stream",
     "text": [
      "    Name  Age  Marks\n",
      "0    Joe   20  85.10\n",
      "1    Nat   21  77.80\n",
      "2  Harry   19  91.54\n",
      "3   Jack   17  72.00\n",
      "4   Jose   18  87.90\n"
     ]
    }
   ],
   "source": [
    "import pandas as pd\n",
    "\n",
    "student_dict = {'Name': ['Joe', 'Nat', 'Harry','Jack','Jose',\"Jill\",\"Rose\"],\n",
    "                'Age': [20, 21, 19,17,18,19,17],\n",
    "                'Marks': [85.10, 77.80, 91.54,72,87.9,90,72]}\n",
    "\n",
    "# create DataFrame from dict\n",
    "student_df = pd.DataFrame(student_dict)\n",
    "\n",
    "# display rows except bottom 2 rows\n",
    "topRows = student_df.head(-2)\n",
    "print(topRows)"
   ]
  },
  {
   "cell_type": "markdown",
   "metadata": {},
   "source": [
    "### Select top rows from multi-index DataFrames\n",
    "\n",
    "The **`DataFrame.head()`** function can be used on multi-index (hierarchical) DataFrames to display top rows, where multiple row indexes or column headers are present.\n",
    "\n",
    "<div>\n",
    "<img src=\"img/midfhead.png\" width=\"350\"/>\n",
    "</div>"
   ]
  },
  {
   "cell_type": "code",
   "execution_count": null,
   "metadata": {},
   "outputs": [
    {
     "name": "stdout",
     "output_type": "stream",
     "text": [
      "                      Name      Marks\n",
      "                   Surname Percentage\n",
      "Standard   Class                     \n",
      "Standard 1 Class A     Joe      91.56\n",
      "           Class B     Nat      87.90\n",
      "Standard 2 Class A   Harry      70.10\n",
      "           Class B     Sam      65.48\n",
      "Standard 3 Class A    Jill      72.00\n"
     ]
    }
   ],
   "source": [
    "import pandas as pd\n",
    "\n",
    "index = pd.MultiIndex.from_tuples([('Standard 1', 'Class A'), ('Standard 1', 'Class B'),\n",
    "                                   ('Standard 2', 'Class A'), ('Standard 2', 'Class B'),\n",
    "                                   ('Standard 3', 'Class A'), ('Standard 3', 'Class B')],\n",
    "                                  names=['Standard', 'Class'])\n",
    "\n",
    "columns = pd.MultiIndex.from_tuples([('Name', 'Surname'),\n",
    "('Marks', 'Percentage')])\n",
    "\n",
    "# create multi-index dataframe\n",
    "student_df = pd.DataFrame([('Joe', 91.56), ('Nat', 87.90),('Harry', 70.10), \n",
    "                           ('Sam', 65.48), (\"Jill\", 72), (\"Jane\", 80)],\n",
    "                          index=index, columns=columns)\n",
    "\n",
    "topRows = student_df.head()\n",
    "print(topRows)"
   ]
  },
  {
   "cell_type": "markdown",
   "metadata": {},
   "source": [
    "### How to use `DataFrame.tail()` function\n",
    "\n",
    "To see the last n rows in the DataFrame.\n",
    "\n",
    "**Syntax:**\n",
    "```python\n",
    "DataFrame.tail(n=5)\n",
    "```\n"
   ]
  },
  {
   "cell_type": "code",
   "execution_count": null,
   "metadata": {},
   "outputs": [
    {
     "name": "stdout",
     "output_type": "stream",
     "text": [
      "    Name  Age  Marks\n",
      "2  Harry   19  91.54\n",
      "3   Jack   17  72.00\n",
      "4   Jose   18  87.90\n",
      "5   Jill   19  90.00\n",
      "6   Rose   17  72.00\n"
     ]
    }
   ],
   "source": [
    "import pandas as pd\n",
    "\n",
    "student_dict = {'Name': ['Joe', 'Nat', 'Harry','Jack','Jose',\"Jill\",\"Rose\"],\n",
    "                'Age': [20, 21, 19,17,18,19,17],\n",
    "                'Marks': [85.10, 77.80, 91.54,72,87.9,90,72]}\n",
    "\n",
    "# create DataFrame from dict\n",
    "student_df = pd.DataFrame(student_dict)\n",
    "\n",
    "# display the bottom 5 rows\n",
    "bottomRows = student_df.tail()\n",
    "print(bottomRows)"
   ]
  },
  {
   "cell_type": "markdown",
   "metadata": {},
   "source": [
    "### Select bottom n rows in pandas DataFrame\n",
    "\n",
    "To display the last n rows of the DataFrame, we can pass the number of rows as a parameter to the **`DataFrame.tail()`** function.\n"
   ]
  },
  {
   "cell_type": "code",
   "execution_count": null,
   "metadata": {},
   "outputs": [
    {
     "name": "stdout",
     "output_type": "stream",
     "text": [
      "   Name  Age  Marks\n",
      "4  Jose   18   87.9\n",
      "5  Jill   19   90.0\n",
      "6  Rose   17   72.0\n"
     ]
    }
   ],
   "source": [
    "bottomRows = student_df.tail(3)\n",
    "print(bottomRows)"
   ]
  },
  {
   "cell_type": "markdown",
   "metadata": {},
   "source": [
    "### Select bottom rows except for first n rows\n",
    "\n",
    "To display all the rows except for the first n rows, we can pass the negative value as a parameter to the **`DataFrame.tail()`** function.\n"
   ]
  },
  {
   "cell_type": "code",
   "execution_count": null,
   "metadata": {},
   "outputs": [
    {
     "name": "stdout",
     "output_type": "stream",
     "text": [
      "    Name  Age  Marks\n",
      "2  Harry   19  91.54\n",
      "3   Jack   17  72.00\n",
      "4   Jose   18  87.90\n",
      "5   Jill   19  90.00\n",
      "6   Rose   17  72.00\n"
     ]
    }
   ],
   "source": [
    "import pandas as pd\n",
    "\n",
    "student_dict = {'Name': ['Joe', 'Nat', 'Harry','Jack','Jose',\"Jill\",\"Rose\"],\n",
    "                'Age': [20, 21, 19,17,18,19,17],\n",
    "                'Marks': [85.10, 77.80, 91.54,72,87.9,90,72]}\n",
    "\n",
    "# create DataFrame from dict\n",
    "student_df = pd.DataFrame(student_dict)\n",
    "\n",
    "# display top rows except the last 2 rows\n",
    "bottomRows = student_df.tail(-2)\n",
    "print(bottomRows)"
   ]
  },
  {
   "cell_type": "markdown",
   "metadata": {},
   "source": [
    "### Select bottom rows from the multi index DataFrame\n",
    "\n",
    "We can apply the **`DataFrame.tail()`** function on multi-index DataFrames as well. It works in the same way as normal DataFrames."
   ]
  },
  {
   "cell_type": "code",
   "execution_count": null,
   "metadata": {},
   "outputs": [
    {
     "name": "stdout",
     "output_type": "stream",
     "text": [
      "                      Name      Marks\n",
      "                   Surname Percentage\n",
      "Standard   Class                     \n",
      "Standard 1 Class B     Nat      87.90\n",
      "Standard 2 Class A   Harry      70.10\n",
      "           Class B     Sam      65.48\n",
      "Standard 3 Class A    Jill      72.00\n",
      "           Class B    Jane      80.00\n"
     ]
    }
   ],
   "source": [
    "import pandas as pd\n",
    "\n",
    "index = pd.MultiIndex.from_tuples([('Standard 1', 'Class A'), ('Standard 1', 'Class B'),\n",
    "                                   ('Standard 2', 'Class A'), ('Standard 2', 'Class B'),\n",
    "                                   ('Standard 3', 'Class A'), ('Standard 3', 'Class B')],\n",
    "                                  names=['Standard', 'Class'])\n",
    "\n",
    "columns = pd.MultiIndex.from_tuples([('Name', 'Surname'),\n",
    "('Marks', 'Percentage')])\n",
    "\n",
    "# create multi-index dataframe\n",
    "student_df = pd.DataFrame([('Joe', 91.56), ('Nat', 87.90), ('Harry', 70.10), \n",
    "                           ('Sam', 65.48), (\"Jill\", 72), (\"Jane\", 80)],\n",
    "                          index=index, columns=columns)\n",
    "\n",
    "bottomRows = student_df.tail()\n",
    "print(bottomRows)"
   ]
  },
  {
   "cell_type": "markdown",
   "metadata": {},
   "source": [
    "### Select value using row and column labels using `DataFrame.at`\n",
    "\n",
    "The **`DataFrame.at`** property allows accessing a specific element of a DataFrame using its column label and row index. It can be used with Multi-index DataFrames as well.\n",
    "\n",
    ">**Note:** It throws **`KeyError`** if the label does not exist in DataFrame.\n",
    "\n",
    "**Example:**\n",
    "<div>\n",
    "<img src=\"img/dfat.png\" width=\"250\"/>\n",
    "</div>"
   ]
  },
  {
   "cell_type": "code",
   "execution_count": null,
   "metadata": {},
   "outputs": [
    {
     "name": "stdout",
     "output_type": "stream",
     "text": [
      "19\n"
     ]
    }
   ],
   "source": [
    "import pandas as pd\n",
    "\n",
    "student_dict = {'Name': ['Joe', 'Nat', 'Harry',], 'Age': [20, 21, 19], \n",
    "                'Marks': [85.10, 77.80, 91.54]}\n",
    "\n",
    "# create DataFrame from dict\n",
    "student_df = pd.DataFrame(student_dict)\n",
    "\n",
    "value = student_df.at[2,\"Age\"]\n",
    "print(value)  # --> Output: 19"
   ]
  },
  {
   "cell_type": "markdown",
   "metadata": {},
   "source": [
    "### Set specific value in pandas DataFrame\n",
    "\n",
    "When we want to update the value of the particular element from DataFrame based on its column label and row index, we can use DataFrame.at property.\n"
   ]
  },
  {
   "cell_type": "code",
   "execution_count": null,
   "metadata": {},
   "outputs": [
    {
     "name": "stdout",
     "output_type": "stream",
     "text": [
      "19\n",
      "50\n"
     ]
    }
   ],
   "source": [
    "import pandas as pd\n",
    "\n",
    "student_dict = {'Name': ['Joe', 'Nat', 'Harry',], 'Age': [20, 21, 19],\n",
    "                'Marks': [85.10, 77.80, 91.54]}\n",
    "\n",
    "# create DataFrame from dict\n",
    "student_df = pd.DataFrame(student_dict)\n",
    "print(student_df.at[2,\"Age\"])\n",
    "\n",
    "# change the value\n",
    "student_df.at[2,\"Age\"] = 50\n",
    "print(student_df.at[2,\"Age\"])"
   ]
  },
  {
   "cell_type": "markdown",
   "metadata": {},
   "source": [
    "### Select value using row and column position using DataFrame.iat \n",
    "Allows you to select a single value from a DataFrame using integer-based row and column positions.\n",
    "\n",
    "**Example:**\n",
    "<div>\n",
    "<img src=\"img/dfiat.png\" width=\"250\"/>\n",
    "</div>"
   ]
  },
  {
   "cell_type": "code",
   "execution_count": null,
   "metadata": {},
   "outputs": [
    {
     "name": "stdout",
     "output_type": "stream",
     "text": [
      "77.8\n"
     ]
    }
   ],
   "source": [
    "import pandas as pd\n",
    "\n",
    "student_dict = {'Name': ['Joe', 'Nat', 'Harry',], 'Age': [20, 21, 19],\n",
    "                'Marks': [85.10, 77.80, 91.54]}\n",
    "\n",
    "# create DataFrame from dict\n",
    "student_df = pd.DataFrame(student_dict)\n",
    "\n",
    "value = student_df.iat[1,2]\n",
    "print(value) # --> Output: 77.80"
   ]
  },
  {
   "cell_type": "markdown",
   "metadata": {},
   "source": [
    "### Set specific value in pandas DataFrame\n",
    "\n",
    "When we want to update the value of the particular element from DataFrame based on its column and row position, we can use **`DataFrame.iat`** property.\n"
   ]
  },
  {
   "cell_type": "code",
   "execution_count": null,
   "metadata": {},
   "outputs": [
    {
     "name": "stdout",
     "output_type": "stream",
     "text": [
      "77.8\n",
      "90.0\n"
     ]
    }
   ],
   "source": [
    "import pandas as pd\n",
    "\n",
    "student_dict = {'Name': ['Joe', 'Nat', 'Harry'], 'Age': [20, 21, 19], \n",
    "                'Marks': [85.10, 77.80, 91.54]}\n",
    "\n",
    "# create DataFrame from dict\n",
    "student_df = pd.DataFrame(student_dict)\n",
    "print(student_df.iat[1,2])\n",
    "\n",
    "# change value\n",
    "student_df.iat[1,2]=90\n",
    "print(student_df.iat[1,2])"
   ]
  },
  {
   "cell_type": "markdown",
   "metadata": {},
   "source": [
    "## Drop columns\n",
    "___"
   ]
  },
  {
   "cell_type": "markdown",
   "metadata": {},
   "source": [
    "### Drop single column\n",
    "\n",
    "We may need to delete a single or specific column from a DataFrame.\n",
    "\n",
    "\n",
    "<div>\n",
    "<img src=\"img/dropscol.png\" width=\"200\"/>\n",
    "</div>"
   ]
  },
  {
   "cell_type": "code",
   "execution_count": null,
   "metadata": {},
   "outputs": [
    {
     "name": "stdout",
     "output_type": "stream",
     "text": [
      "  name  age  marks\n",
      "0  Joe   20   85.1\n",
      "1  Nat   21   77.8\n",
      "  name  marks\n",
      "0  Joe   85.1\n",
      "1  Nat   77.8\n"
     ]
    }
   ],
   "source": [
    "import pandas as pd\n",
    "\n",
    "student_dict = {\"name\": [\"Joe\", \"Nat\"], \"age\": [20, 21], \"marks\": [85.10, 77.80]}\n",
    "\n",
    "# Create DataFrame from dict\n",
    "student_df = pd.DataFrame(student_dict)\n",
    "print(student_df)\n",
    "\n",
    "# drop column\n",
    "student_df = student_df.drop(columns='age')\n",
    "\n",
    "print(student_df)"
   ]
  },
  {
   "cell_type": "markdown",
   "metadata": {},
   "source": [
    "### Drop multiple columns\n",
    "\n",
    "Use any of the following two parameters of **`DataFrame.drop()`** to delete multiple columns of DataFrame at once.\n",
    "\n",
    "* Use the **`column`** parameter and pass the list of column names you want to remove.\n",
    "* Set the **`axis=1`** and pass the list of column names.\n"
   ]
  },
  {
   "cell_type": "code",
   "execution_count": null,
   "metadata": {},
   "outputs": [
    {
     "name": "stdout",
     "output_type": "stream",
     "text": [
      "['name' 'age' 'marks']\n",
      "['name']\n"
     ]
    }
   ],
   "source": [
    "import pandas as pd\n",
    "\n",
    "student_dict = {\"name\": [\"Joe\", \"Nat\"], \"age\": [20, 21], \"marks\": [85.10, 77.80]}\n",
    "\n",
    "student_df = pd.DataFrame(student_dict)\n",
    "print(student_df.columns.values)\n",
    "\n",
    "# drop 2 columns at a time\n",
    "student_df = student_df.drop(columns=['age', 'marks'])\n",
    "\n",
    "print(student_df.columns.values)"
   ]
  },
  {
   "cell_type": "markdown",
   "metadata": {},
   "source": [
    "### Drop with `axis='columns'` or `axis=1`\n",
    "\n",
    "Let’s see how to drop using the axis-style convention. This is a new approach. (This approach makes this method match the rest of the pandas API) .\n",
    "\n",
    "Use the axis parameter of a **`DataFrame.drop()`** to delete columns. The axis can be a row or column. The column axis represented as 1 or ‘columns’.\n",
    "\n",
    "Set **`axis=1`** or **`axis='columns'`** and pass the list of column names you want to remove..\n"
   ]
  },
  {
   "cell_type": "code",
   "execution_count": null,
   "metadata": {},
   "outputs": [
    {
     "name": "stdout",
     "output_type": "stream",
     "text": [
      "Original dataframe:\n",
      "   name  age  marks\n",
      "0  Joe   20   85.1\n",
      "1  Nat   21   77.8\n",
      "After droping columns in dataframe:\n",
      "   name\n",
      "0  Joe\n",
      "1  Nat\n"
     ]
    }
   ],
   "source": [
    "import pandas as pd\n",
    "\n",
    "student_dict = {\"name\": [\"Joe\", \"Nat\"], \"age\": [20, 21], \"marks\": [85.10, 77.80]}\n",
    "\n",
    "# Create DataFrame from dict\n",
    "student_df = pd.DataFrame(student_dict)\n",
    "print(\"Original dataframe:\\n\",student_df)\n",
    "\n",
    "student_df = student_df.drop(['age', 'marks'], axis='columns')\n",
    "print(\"After droping columns in dataframe:\\n\", student_df)\n",
    "\n",
    "# alternative both produces same result\n",
    "#student_df = student_df.drop(['age', 'marks'], axis=1)\n",
    "#print(\"After droping columns in dataframe:\\n\", student_df)"
   ]
  },
  {
   "cell_type": "markdown",
   "metadata": {},
   "source": [
    "### Drop column in place\n",
    "\n",
    "In the above examples, whenever we executed drop operations, pandas created a new copy of DataFrame because the modification is not in place.\n",
    "\n",
    "Parameter **`inplace`** is used to indicate if drop column from the existing DataFrame or create a copy of it.\n",
    "\n",
    "* If the **`inplace=True`** then it updates the existing DataFrame and does not return anything.\n",
    "* If the **`inplace=False`** then it creates a new DataFrame with updated changes and returns it.\n",
    "\n",
    ">**Note:** Set **`inplace=True`** when we are doing function chaining to avoid assigning the result back to a variable as we are performing modifications in place."
   ]
  },
  {
   "cell_type": "code",
   "execution_count": null,
   "metadata": {},
   "outputs": [
    {
     "name": "stdout",
     "output_type": "stream",
     "text": [
      "['name' 'age' 'marks']\n",
      "['name']\n"
     ]
    }
   ],
   "source": [
    "import pandas as pd\n",
    "\n",
    "student_dict = {\"name\": [\"Joe\", \"Nat\"], \"age\": [20, 21], \"marks\": [85.10, 77.80]}\n",
    "\n",
    "student_df = pd.DataFrame(student_dict)\n",
    "print(student_df.columns.values)\n",
    "\n",
    "# drop columns in place\n",
    "student_df.drop(columns=['age', 'marks'], inplace=True)\n",
    "\n",
    "print(student_df.columns.values)"
   ]
  },
  {
   "cell_type": "markdown",
   "metadata": {},
   "source": [
    "### Drop column by suppressing errors\n",
    "\n",
    "By default, The **`DataFrame.drop()`**  throws **`KeyError`** if the column you are trying to delete does not exist in the dataset.\n",
    "\n",
    "If we want to drop the column only if exists then we can suppress the error by using the parameter **`errors`**.\n",
    "\n",
    "* Set **`errors='ignore'`** to not throw any errors.\n",
    "* Set **`errors='raised'`** to throw **`KeyError`** for the unknown columns"
   ]
  },
  {
   "cell_type": "code",
   "execution_count": null,
   "metadata": {},
   "outputs": [
    {
     "name": "stdout",
     "output_type": "stream",
     "text": [
      "  name  age  marks\n",
      "0  Joe   20   85.1\n",
      "1  Nat   21   77.8\n"
     ]
    },
    {
     "ename": "KeyError",
     "evalue": "\"['salary'] not found in axis\"",
     "output_type": "error",
     "traceback": [
      "\u001b[1;31m---------------------------------------------------------------------------\u001b[0m\n",
      "\u001b[1;31mKeyError\u001b[0m                                  Traceback (most recent call last)\n",
      "\u001b[1;32m<ipython-input-5-245426098662>\u001b[0m in \u001b[0;36m<module>\u001b[1;34m\u001b[0m\n",
      "\u001b[0;32m     11\u001b[0m \u001b[1;33m\u001b[0m\u001b[0m\n",
      "\u001b[0;32m     12\u001b[0m \u001b[1;31m# raise error\u001b[0m\u001b[1;33m\u001b[0m\u001b[1;33m\u001b[0m\u001b[1;33m\u001b[0m\u001b[0m\n",
      "\u001b[1;32m---> 13\u001b[1;33m \u001b[0mstudent_df\u001b[0m \u001b[1;33m=\u001b[0m \u001b[0mstudent_df\u001b[0m\u001b[1;33m.\u001b[0m\u001b[0mdrop\u001b[0m\u001b[1;33m(\u001b[0m\u001b[0mcolumns\u001b[0m\u001b[1;33m=\u001b[0m\u001b[1;34m'salary'\u001b[0m\u001b[1;33m)\u001b[0m  \u001b[1;31m# KeyError: \"['salary'] not found in axis\"\u001b[0m\u001b[1;33m\u001b[0m\u001b[1;33m\u001b[0m\u001b[0m\n",
      "\u001b[0m\n",
      "\u001b[1;32mC:\\ProgramData\\Anaconda3\\lib\\site-packages\\pandas\\core\\frame.py\u001b[0m in \u001b[0;36mdrop\u001b[1;34m(self, labels, axis, index, columns, level, inplace, errors)\u001b[0m\n",
      "\u001b[0;32m   4306\u001b[0m                 \u001b[0mweight\u001b[0m  \u001b[1;36m1.0\u001b[0m     \u001b[1;36m0.8\u001b[0m\u001b[1;33m\u001b[0m\u001b[1;33m\u001b[0m\u001b[0m\n",
      "\u001b[0;32m   4307\u001b[0m         \"\"\"\n",
      "\u001b[1;32m-> 4308\u001b[1;33m         return super().drop(\n",
      "\u001b[0m\u001b[0;32m   4309\u001b[0m             \u001b[0mlabels\u001b[0m\u001b[1;33m=\u001b[0m\u001b[0mlabels\u001b[0m\u001b[1;33m,\u001b[0m\u001b[1;33m\u001b[0m\u001b[1;33m\u001b[0m\u001b[0m\n",
      "\u001b[0;32m   4310\u001b[0m             \u001b[0maxis\u001b[0m\u001b[1;33m=\u001b[0m\u001b[0maxis\u001b[0m\u001b[1;33m,\u001b[0m\u001b[1;33m\u001b[0m\u001b[1;33m\u001b[0m\u001b[0m\n",
      "\n",
      "\u001b[1;32mC:\\ProgramData\\Anaconda3\\lib\\site-packages\\pandas\\core\\generic.py\u001b[0m in \u001b[0;36mdrop\u001b[1;34m(self, labels, axis, index, columns, level, inplace, errors)\u001b[0m\n",
      "\u001b[0;32m   4151\u001b[0m         \u001b[1;32mfor\u001b[0m \u001b[0maxis\u001b[0m\u001b[1;33m,\u001b[0m \u001b[0mlabels\u001b[0m \u001b[1;32min\u001b[0m \u001b[0maxes\u001b[0m\u001b[1;33m.\u001b[0m\u001b[0mitems\u001b[0m\u001b[1;33m(\u001b[0m\u001b[1;33m)\u001b[0m\u001b[1;33m:\u001b[0m\u001b[1;33m\u001b[0m\u001b[1;33m\u001b[0m\u001b[0m\n",
      "\u001b[0;32m   4152\u001b[0m             \u001b[1;32mif\u001b[0m \u001b[0mlabels\u001b[0m \u001b[1;32mis\u001b[0m \u001b[1;32mnot\u001b[0m \u001b[1;32mNone\u001b[0m\u001b[1;33m:\u001b[0m\u001b[1;33m\u001b[0m\u001b[1;33m\u001b[0m\u001b[0m\n",
      "\u001b[1;32m-> 4153\u001b[1;33m                 \u001b[0mobj\u001b[0m \u001b[1;33m=\u001b[0m \u001b[0mobj\u001b[0m\u001b[1;33m.\u001b[0m\u001b[0m_drop_axis\u001b[0m\u001b[1;33m(\u001b[0m\u001b[0mlabels\u001b[0m\u001b[1;33m,\u001b[0m \u001b[0maxis\u001b[0m\u001b[1;33m,\u001b[0m \u001b[0mlevel\u001b[0m\u001b[1;33m=\u001b[0m\u001b[0mlevel\u001b[0m\u001b[1;33m,\u001b[0m \u001b[0merrors\u001b[0m\u001b[1;33m=\u001b[0m\u001b[0merrors\u001b[0m\u001b[1;33m)\u001b[0m\u001b[1;33m\u001b[0m\u001b[1;33m\u001b[0m\u001b[0m\n",
      "\u001b[0m\u001b[0;32m   4154\u001b[0m \u001b[1;33m\u001b[0m\u001b[0m\n",
      "\u001b[0;32m   4155\u001b[0m         \u001b[1;32mif\u001b[0m \u001b[0minplace\u001b[0m\u001b[1;33m:\u001b[0m\u001b[1;33m\u001b[0m\u001b[1;33m\u001b[0m\u001b[0m\n",
      "\n",
      "\u001b[1;32mC:\\ProgramData\\Anaconda3\\lib\\site-packages\\pandas\\core\\generic.py\u001b[0m in \u001b[0;36m_drop_axis\u001b[1;34m(self, labels, axis, level, errors)\u001b[0m\n",
      "\u001b[0;32m   4186\u001b[0m                 \u001b[0mnew_axis\u001b[0m \u001b[1;33m=\u001b[0m \u001b[0maxis\u001b[0m\u001b[1;33m.\u001b[0m\u001b[0mdrop\u001b[0m\u001b[1;33m(\u001b[0m\u001b[0mlabels\u001b[0m\u001b[1;33m,\u001b[0m \u001b[0mlevel\u001b[0m\u001b[1;33m=\u001b[0m\u001b[0mlevel\u001b[0m\u001b[1;33m,\u001b[0m \u001b[0merrors\u001b[0m\u001b[1;33m=\u001b[0m\u001b[0merrors\u001b[0m\u001b[1;33m)\u001b[0m\u001b[1;33m\u001b[0m\u001b[1;33m\u001b[0m\u001b[0m\n",
      "\u001b[0;32m   4187\u001b[0m             \u001b[1;32melse\u001b[0m\u001b[1;33m:\u001b[0m\u001b[1;33m\u001b[0m\u001b[1;33m\u001b[0m\u001b[0m\n",
      "\u001b[1;32m-> 4188\u001b[1;33m                 \u001b[0mnew_axis\u001b[0m \u001b[1;33m=\u001b[0m \u001b[0maxis\u001b[0m\u001b[1;33m.\u001b[0m\u001b[0mdrop\u001b[0m\u001b[1;33m(\u001b[0m\u001b[0mlabels\u001b[0m\u001b[1;33m,\u001b[0m \u001b[0merrors\u001b[0m\u001b[1;33m=\u001b[0m\u001b[0merrors\u001b[0m\u001b[1;33m)\u001b[0m\u001b[1;33m\u001b[0m\u001b[1;33m\u001b[0m\u001b[0m\n",
      "\u001b[0m\u001b[0;32m   4189\u001b[0m             \u001b[0mresult\u001b[0m \u001b[1;33m=\u001b[0m \u001b[0mself\u001b[0m\u001b[1;33m.\u001b[0m\u001b[0mreindex\u001b[0m\u001b[1;33m(\u001b[0m\u001b[1;33m**\u001b[0m\u001b[1;33m{\u001b[0m\u001b[0maxis_name\u001b[0m\u001b[1;33m:\u001b[0m \u001b[0mnew_axis\u001b[0m\u001b[1;33m}\u001b[0m\u001b[1;33m)\u001b[0m\u001b[1;33m\u001b[0m\u001b[1;33m\u001b[0m\u001b[0m\n",
      "\u001b[0;32m   4190\u001b[0m \u001b[1;33m\u001b[0m\u001b[0m\n",
      "\n",
      "\u001b[1;32mC:\\ProgramData\\Anaconda3\\lib\\site-packages\\pandas\\core\\indexes\\base.py\u001b[0m in \u001b[0;36mdrop\u001b[1;34m(self, labels, errors)\u001b[0m\n",
      "\u001b[0;32m   5589\u001b[0m         \u001b[1;32mif\u001b[0m \u001b[0mmask\u001b[0m\u001b[1;33m.\u001b[0m\u001b[0many\u001b[0m\u001b[1;33m(\u001b[0m\u001b[1;33m)\u001b[0m\u001b[1;33m:\u001b[0m\u001b[1;33m\u001b[0m\u001b[1;33m\u001b[0m\u001b[0m\n",
      "\u001b[0;32m   5590\u001b[0m             \u001b[1;32mif\u001b[0m \u001b[0merrors\u001b[0m \u001b[1;33m!=\u001b[0m \u001b[1;34m\"ignore\"\u001b[0m\u001b[1;33m:\u001b[0m\u001b[1;33m\u001b[0m\u001b[1;33m\u001b[0m\u001b[0m\n",
      "\u001b[1;32m-> 5591\u001b[1;33m                 \u001b[1;32mraise\u001b[0m \u001b[0mKeyError\u001b[0m\u001b[1;33m(\u001b[0m\u001b[1;34mf\"{labels[mask]} not found in axis\"\u001b[0m\u001b[1;33m)\u001b[0m\u001b[1;33m\u001b[0m\u001b[1;33m\u001b[0m\u001b[0m\n",
      "\u001b[0m\u001b[0;32m   5592\u001b[0m             \u001b[0mindexer\u001b[0m \u001b[1;33m=\u001b[0m \u001b[0mindexer\u001b[0m\u001b[1;33m[\u001b[0m\u001b[1;33m~\u001b[0m\u001b[0mmask\u001b[0m\u001b[1;33m]\u001b[0m\u001b[1;33m\u001b[0m\u001b[1;33m\u001b[0m\u001b[0m\n",
      "\u001b[0;32m   5593\u001b[0m         \u001b[1;32mreturn\u001b[0m \u001b[0mself\u001b[0m\u001b[1;33m.\u001b[0m\u001b[0mdelete\u001b[0m\u001b[1;33m(\u001b[0m\u001b[0mindexer\u001b[0m\u001b[1;33m)\u001b[0m\u001b[1;33m\u001b[0m\u001b[1;33m\u001b[0m\u001b[0m\n",
      "\n",
      "\u001b[1;31mKeyError\u001b[0m: \"['salary'] not found in axis\""
     ]
    }
   ],
   "source": [
    "import pandas as pd\n",
    "\n",
    "student_dict = {\"name\": [\"Joe\", \"Nat\"], \"age\": [20, 21], \"marks\": [85.10, 77.80]}\n",
    "\n",
    "# Create DataFrame from dict\n",
    "student_df = pd.DataFrame(student_dict)\n",
    "print(student_df)\n",
    "\n",
    "# supress error\n",
    "student_df = student_df.drop(columns='salary', errors='ignore')  # No change in the student_df\n",
    "\n",
    "# raise error\n",
    "student_df = student_df.drop(columns='salary')  # KeyError: \"['salary'] not found in axis\""
   ]
  },
  {
   "cell_type": "markdown",
   "metadata": {},
   "source": [
    "### Drop column by index position\n",
    "\n",
    "If there is a case where we want to drop columns in the DataFrame, but we do not know the name of the columns still we can delete the column using its index position.\n",
    "\n",
    ">**Note:** Column index starts from 0 (zero) and it goes till the last column whose index value will be **`len(df.columns)-1`**."
   ]
  },
  {
   "cell_type": "markdown",
   "metadata": {},
   "source": [
    "### Drop the last column\n",
    "\n",
    "Assume you want to drop the first column or the last column of the DataFrame without using the column name.\n",
    "\n",
    "In such cases, use the DataFrame.columns attribute to delete a column of the DataFrame based on its index position. Simply pass **`df.columns[index]`** to the columns parameter of the **`DataFrame.drop()`**."
   ]
  },
  {
   "cell_type": "code",
   "execution_count": null,
   "metadata": {},
   "outputs": [
    {
     "name": "stdout",
     "output_type": "stream",
     "text": [
      "['name' 'age' 'marks']\n",
      "['name' 'age']\n"
     ]
    }
   ],
   "source": [
    "import pandas as pd\n",
    "\n",
    "student_dict = {\"name\": [\"Joe\", \"Nat\"], \"age\": [20, 21], \"marks\": [85.10, 77.80]}\n",
    "\n",
    "# Create DataFrame from dict\n",
    "student_df = pd.DataFrame(student_dict)\n",
    "print(student_df.columns.values)\n",
    "\n",
    "# find position of the last column and drop\n",
    "pos = len(student_df.columns) - 1\n",
    "student_df = student_df.drop(columns=student_df.columns[pos])\n",
    "print(student_df.columns.values)\n",
    "\n",
    "# delete column present at index 1\n",
    "# student_df.drop(columns = student_df.columns[1])"
   ]
  },
  {
   "cell_type": "markdown",
   "metadata": {},
   "source": [
    "### Drop range of columns using `iloc`\n",
    "\n",
    "There could be a case when we need to delete the fourth column from the dataset or need to delete a range of columns. We can use **`DataFrame.iloc`** to select single or multiple columns from the DataFrame.\n",
    "\n",
    "We can use **`DataFrame.iloc`** in the **`columns`** parameter to specify the index position of the columns which need to drop."
   ]
  },
  {
   "cell_type": "code",
   "execution_count": null,
   "metadata": {},
   "outputs": [
    {
     "name": "stdout",
     "output_type": "stream",
     "text": [
      "['name' 'age' 'marks']\n",
      "['name']\n"
     ]
    }
   ],
   "source": [
    "import pandas as pd\n",
    "\n",
    "student_dict = {\"name\": [\"Joe\", \"Nat\"], \"age\": [20, 21], \"marks\": [85.10, 77.80]}\n",
    "\n",
    "# Create DataFrame from dict\n",
    "student_df = pd.DataFrame(student_dict)\n",
    "print(student_df.columns.values)\n",
    "\n",
    "# drop column from 1 to 3\n",
    "student_df = student_df.drop(columns=student_df.iloc[:, 1:3])\n",
    "\n",
    "print(student_df.columns.values)"
   ]
  },
  {
   "cell_type": "markdown",
   "metadata": {},
   "source": [
    "### Drop first n columns\n",
    "\n",
    "If we need to delete the first ‘n’ columns from a DataFrame, we can use **`DataFrame.iloc`** and the **[Python range()](https://github.com/milaan9/04_Python_Functions/blob/main/002_Python_Functions_Built_in/053_Python_range().ipynb)** function to specify the columns’ range to be deleted.\n",
    "\n",
    "We need to use the built-in function **`range()`** with **`columns`** parameter of **`DataFrame.drop()`**.\n"
   ]
  },
  {
   "cell_type": "code",
   "execution_count": null,
   "metadata": {},
   "outputs": [
    {
     "name": "stdout",
     "output_type": "stream",
     "text": [
      "Before dropping: \n",
      " ['name' 'age' 'marks' 'class' 'city']\n",
      "\n",
      "After dropping: \n",
      " ['marks' 'class' 'city']\n"
     ]
    }
   ],
   "source": [
    "import pandas as pd\n",
    "\n",
    "student_dict = {\"name\": [\"Joe\", \"Nat\"], \"age\": [20, 21], \"marks\": [85.10, 77.80], \"class\": [\"A\", \"B\"],\n",
    "                \"city\": [\"London\", \"Zurich\"]}\n",
    "\n",
    "# Create DataFrame from dict\n",
    "student_df = pd.DataFrame(student_dict)\n",
    "print(\"Before dropping: \\n\", student_df.columns.values)\n",
    "\n",
    "# drop column 1 and 2\n",
    "student_df = student_df.drop(columns=student_df.iloc[:, range(2)])\n",
    "\n",
    "# print only columns\n",
    "print(\"\\nAfter dropping: \\n\", student_df.columns.values)"
   ]
  },
  {
   "cell_type": "markdown",
   "metadata": {},
   "source": [
    "### Drop column from multi-index DataFrame\n",
    "\n",
    "DataFrame can have multiple column headers, such DataFrame is called a **multi-index** DataFrame. Such headers are divided into the levels where the first header is at level 0, the second header is at level 1, and so on.\n",
    "\n",
    "We can drop a column from any level of multi-index DataFrame. By default, it drops columns from all the levels, but we can use a parameter **`level`** to drop from a particular level only.\n",
    "\n",
    "We need to pass a level name or level index as **`level=level_index`**.\n",
    "\n",
    "<div>\n",
    "<img src=\"img/dcolfmi.png\" width=\"500\"/>\n",
    "</div>\n",
    "\n",
    ">**Note:** If we do not provide a **`level`** parameter then it will drop the column from all the levels if exist."
   ]
  },
  {
   "cell_type": "code",
   "execution_count": null,
   "metadata": {},
   "outputs": [
    {
     "name": "stdout",
     "output_type": "stream",
     "text": [
      "Before dropping column: \n",
      "   Class A        Class B       \n",
      "     Name  Marks    Name  Marks\n",
      "0     Joe  85.10     Nat  77.80\n",
      "1   Harry  91.54     Sam  68.55\n",
      "\n",
      "After dropping column: \n",
      "   Class A Class B\n",
      "     Name    Name\n",
      "0     Joe     Nat\n",
      "1   Harry     Sam\n"
     ]
    }
   ],
   "source": [
    "import pandas as pd\n",
    "\n",
    "# create column header\n",
    "col = pd.MultiIndex.from_arrays([['Class A', 'Class A', 'Class B', 'Class B'],\n",
    "                                 ['Name', 'Marks', 'Name', 'Marks']])\n",
    "# create dataframe from 2darray\n",
    "student_df = pd.DataFrame([['Joe', '85.10', 'Nat', '77.80'], ['Harry', '91.54', 'Sam', '68.55']], columns=col)\n",
    "print(\"Before dropping column: \\n\", student_df)\n",
    "\n",
    "# drop column\n",
    "student_df = student_df.drop(columns=['Marks'], level=1)\n",
    "print(\"\\nAfter dropping column: \\n\", student_df)"
   ]
  },
  {
   "cell_type": "markdown",
   "metadata": {},
   "source": [
    "### Drop column using a function\n",
    "\n",
    "We can also use the function to delete columns by applying some logic or based on some condition. We can use built-in as well as user-defined functions to drop columns."
   ]
  },
  {
   "cell_type": "markdown",
   "metadata": {},
   "source": [
    "### Drop all the columns using `loc`\n",
    "\n",
    "If we want to drop all the columns from DataFrame we can easily do that using **`DataFrame.loc`** in the **`columns`** parameter of **`DataFrame.drop()`**.\n",
    "\n",
    "**`DataFrame.loc`** is used to specify the column labels which need to delete. If we do not specify any column labels like **`df.loc[:]`** then it will drop all the columns in the DataFrame.\n"
   ]
  },
  {
   "cell_type": "code",
   "execution_count": null,
   "metadata": {},
   "outputs": [
    {
     "name": "stdout",
     "output_type": "stream",
     "text": [
      "Before dropping column: \n",
      " ['name' 'age' 'marks']\n",
      "\n",
      "After dropping column: \n",
      " []\n"
     ]
    }
   ],
   "source": [
    "import pandas as pd\n",
    "\n",
    "student_dict = {\"name\": [\"Joe\", \"Nat\"], \"age\": [20, 21], \"marks\": [85.10, 77.80]}\n",
    "\n",
    "# Create DataFrame from dict\n",
    "student_df = pd.DataFrame(student_dict)\n",
    "print(\"Before dropping column: \\n\", student_df.columns.values)\n",
    "\n",
    "# drop column 1 and 2\n",
    "student_df = student_df.drop(columns=student_df.loc[:])\n",
    "\n",
    "# print only columns\n",
    "print(\"\\nAfter dropping column: \\n\", student_df.columns.values)"
   ]
  },
  {
   "cell_type": "markdown",
   "metadata": {},
   "source": [
    "### Drop column using pandas `DataFrame.pop()` function\n",
    "\n",
    "If we want to delete a single column then we can also do that using **`DataFrame.pop(col_label)`** function. We need to pass a column label that needs to delete.\n",
    "\n",
    "It removes the column in-place by updating the existing DataFrame. It raises **`KeyError`** if the column is not found.\n",
    "\n",
    ">**Note:** It can be used to drop a column only. It cannot drop multiple columns or row(s).\n"
   ]
  },
  {
   "cell_type": "code",
   "execution_count": null,
   "metadata": {},
   "outputs": [
    {
     "name": "stdout",
     "output_type": "stream",
     "text": [
      "Before dropping column: \n",
      "   name  age  marks\n",
      "0  Joe   20   85.1\n",
      "1  Nat   21   77.8\n",
      "\n",
      "After dropping column: \n",
      "   name  marks\n",
      "0  Joe   85.1\n",
      "1  Nat   77.8\n"
     ]
    }
   ],
   "source": [
    "import pandas as pd\n",
    "\n",
    "student_dict = {\"name\": [\"Joe\", \"Nat\"], \"age\": [20, 21], \"marks\": [85.10, 77.80]}\n",
    "\n",
    "# Create DataFrame from dict\n",
    "student_df = pd.DataFrame(student_dict)\n",
    "print(\"Before dropping column: \\n\", student_df)\n",
    "\n",
    "# drop column\n",
    "student_df.pop('age')\n",
    "\n",
    "print(\"\\nAfter dropping column: \\n\", student_df)"
   ]
  },
  {
   "cell_type": "markdown",
   "metadata": {},
   "source": [
    "### Drop column using pandas DataFrame delete\n",
    "\n",
    "We can also use the pandas inbuilt function **`del`** to drop a single column from a DataFrame. It is a very simplified way of dropping the column from a DataFrame.\n",
    "\n",
    "We need to select the column of DataFrame which needs to be deleted and pass it as **`del df[col_label]`**.\n",
    "\n",
    ">**Note:** It can be used to drop a column only. It cannot drop multiple columns or row(s)."
   ]
  },
  {
   "cell_type": "code",
   "execution_count": null,
   "metadata": {},
   "outputs": [
    {
     "name": "stdout",
     "output_type": "stream",
     "text": [
      "Before dropping column: \n",
      "   name  age  marks\n",
      "0  Joe   20   85.1\n",
      "1  Nat   21   77.8\n",
      "\n",
      "After dropping column: \n",
      "   name  marks\n",
      "0  Joe   85.1\n",
      "1  Nat   77.8\n"
     ]
    }
   ],
   "source": [
    "import pandas as pd\n",
    "\n",
    "student_dict = {\"name\": [\"Joe\", \"Nat\"], \"age\": [20, 21], \"marks\": [85.10, 77.80]}\n",
    "\n",
    "# Create DataFrame from dict\n",
    "student_df = pd.DataFrame(student_dict)\n",
    "print(\"Before dropping column: \\n\", student_df)\n",
    "\n",
    "# drop column\n",
    "del student_df['age']\n",
    "\n",
    "print(\"\\nAfter dropping column: \\n\", student_df)"
   ]
  },
  {
   "cell_type": "markdown",
   "metadata": {},
   "source": [
    "### Drop duplicates but keep first\n",
    "\n",
    "When we have the DataFrame with many duplicate rows that we want to remove we use **`DataFrame.drop_duplicates()`**.\n",
    "\n",
    "The rows that contain the same values in all the columns then are identified as duplicates. If the row is duplicated then by default **`DataFrame.drop_duplicates()`** keeps the first occurrence of that row and drops all other duplicates of it.\n",
    "\n",
    "<div>\n",
    "<img src=\"img/ddkf.png\" width=\"200\"/>\n",
    "</div>"
   ]
  },
  {
   "cell_type": "code",
   "execution_count": null,
   "metadata": {},
   "outputs": [
    {
     "name": "stdout",
     "output_type": "stream",
     "text": [
      "Before dropping duplicates: \n",
      "     name  age  marks\n",
      "0    Joe   20  85.10\n",
      "1    Nat   21  77.80\n",
      "2  Harry   19  91.54\n",
      "3    Joe   20  85.10\n",
      "4    Nat   21  77.80\n",
      "\n",
      "After dropping column: \n",
      "     name  age  marks\n",
      "0    Joe   20  85.10\n",
      "1    Nat   21  77.80\n",
      "2  Harry   19  91.54\n"
     ]
    }
   ],
   "source": [
    "import pandas as pd\n",
    "\n",
    "student_dict = {\"name\": [\"Joe\", \"Nat\", \"Harry\", \"Joe\", \"Nat\"], \"age\": [20, 21, 19, 20, 21],\n",
    "                \"marks\": [85.10, 77.80, 91.54, 85.10, 77.80]}\n",
    "\n",
    "# Create DataFrame from dict\n",
    "student_df = pd.DataFrame(student_dict)\n",
    "print(\"Before dropping duplicates: \\n\", student_df)\n",
    "\n",
    "# drop duplicate rows\n",
    "student_df = student_df.drop_duplicates()\n",
    "\n",
    "print(\"\\nAfter dropping column: \\n\", student_df)"
   ]
  },
  {
   "cell_type": "markdown",
   "metadata": {},
   "source": [
    "### Drop duplicates from defined columns\n",
    "\n",
    "By default, **`DataFrame.drop_duplicate()`** removes rows with the same values in all the columns. But, we can modify this behavior using a subset parameter.\n",
    "\n",
    "For example, **`subset=[col1, col2]`** will remove the duplicate rows with the same values in specified columns only, i.e., **`col1`** and **`col2`**.\n"
   ]
  },
  {
   "cell_type": "code",
   "execution_count": null,
   "metadata": {},
   "outputs": [
    {
     "name": "stdout",
     "output_type": "stream",
     "text": [
      "Before dropping duplicates: \n",
      "     name  age  marks\n",
      "0    Joe   20  85.10\n",
      "1    Nat   21  77.80\n",
      "2  Harry   19  91.54\n",
      "3    Sam   21  77.80\n",
      "\n",
      "After dropping column: \n",
      "     name  age  marks\n",
      "0    Joe   20  85.10\n",
      "1    Nat   21  77.80\n",
      "2  Harry   19  91.54\n"
     ]
    }
   ],
   "source": [
    "import pandas as pd\n",
    "\n",
    "student_dict = {\"name\":[\"Joe\",\"Nat\",\"Harry\",\"Sam\" ], \"age\":[20,21,19,21], \"marks\":[85.10, 77.80, 91.54, 77.80]}\n",
    "\n",
    "# Create DataFrame from dict\n",
    "student_df = pd.DataFrame(student_dict)\n",
    "print(\"Before dropping duplicates: \\n\", student_df)\n",
    "\n",
    "# drop duplicate rows\n",
    "student_df = student_df.drop_duplicates(subset=['age','marks'])\n",
    "\n",
    "print(\"\\nAfter dropping column: \\n\", student_df)"
   ]
  },
  {
   "cell_type": "markdown",
   "metadata": {},
   "source": [
    "### Drop duplicates but keep last\n",
    "\n",
    "To keep only one occurrence of the duplicate row, we can use the **`keep`** parameter of a **`DataFrame.drop_duplicate()`**, which takes the following inputs:\n",
    "\n",
    "* **first** – Drop duplicates except for the first occurrence of the duplicate row. This is the default behavior.\n",
    "* **last** – Drop duplicates except for the last occurrence of the duplicate row.\n",
    "* **False** – Drop all the rows which are duplicate.\n"
   ]
  },
  {
   "cell_type": "code",
   "execution_count": null,
   "metadata": {},
   "outputs": [
    {
     "name": "stdout",
     "output_type": "stream",
     "text": [
      "Before dropping duplicates: \n",
      "     name  age  marks\n",
      "0    Joe   20  85.10\n",
      "1    Nat   21  77.80\n",
      "2  Harry   19  91.54\n",
      "3    Nat   21  77.80\n",
      "\n",
      "After dropping column: \n",
      "     name  age  marks\n",
      "0    Joe   20  85.10\n",
      "2  Harry   19  91.54\n",
      "3    Nat   21  77.80\n"
     ]
    }
   ],
   "source": [
    "import pandas as pd\n",
    "\n",
    "student_dict = {\"name\": [\"Joe\", \"Nat\", \"Harry\", \"Nat\"], \"age\": [20, 21, 19, 21], \"marks\": [85.10, 77.80, 91.54, 77.80]}\n",
    "\n",
    "# Create DataFrame from dict\n",
    "student_df = pd.DataFrame(student_dict)\n",
    "print(\"Before dropping duplicates: \\n\", student_df)\n",
    "\n",
    "# drop duplicate rows\n",
    "student_df = student_df.drop_duplicates(keep='last')\n",
    "\n",
    "print(\"\\nAfter dropping column: \\n\", student_df)"
   ]
  },
  {
   "cell_type": "markdown",
   "metadata": {},
   "source": [
    "### Drop all duplicates\n",
    "\n",
    "As explained in the above section, by default, **`DataFrame.drop_duplicates()`** keeps the duplicate row’s first occurrence and removes all others.\n",
    "\n",
    "If we need to drop all the duplicate rows, then it can be done by using keep=False, as shown below.\n",
    "\n",
    "<div>\n",
    "<img src=\"img/dad.png\" width=\"200\"/>\n",
    "</div>"
   ]
  },
  {
   "cell_type": "code",
   "execution_count": null,
   "metadata": {},
   "outputs": [
    {
     "name": "stdout",
     "output_type": "stream",
     "text": [
      "Before dropping duplicates: \n",
      "     name  age  marks\n",
      "0    Joe   20  85.10\n",
      "1    Nat   21  77.80\n",
      "2  Harry   19  91.54\n",
      "3    Nat   21  77.80\n",
      "\n",
      "After dropping column: \n",
      "     name  age  marks\n",
      "0    Joe   20  85.10\n",
      "2  Harry   19  91.54\n"
     ]
    }
   ],
   "source": [
    "import pandas as pd\n",
    "\n",
    "student_dict = {\"name\": [\"Joe\", \"Nat\", \"Harry\", \"Nat\"], \"age\": [20, 21, 19, 21], \"marks\": [85.10, 77.80, 91.54, 77.80]}\n",
    "\n",
    "# Create DataFrame from dict\n",
    "student_df = pd.DataFrame(student_dict)\n",
    "print(\"Before dropping duplicates: \\n\", student_df)\n",
    "\n",
    "# drop all duplicate rows\n",
    "student_df = student_df.drop_duplicates(keep=False)\n",
    "\n",
    "print(\"\\nAfter dropping column: \\n\", student_df)"
   ]
  },
  {
   "cell_type": "markdown",
   "metadata": {},
   "source": [
    "### Drop duplicates in place\n",
    "\n",
    "By default, **`DataFrame.drop_duplicates()`** removes the duplicates and returns the copy of the DataFrame.\n",
    "\n",
    "But, if we want to make changes in the existing DataFrame, then set the flag **`inplace=True`**. It can be used when the drop operation is part of the function chaining."
   ]
  },
  {
   "cell_type": "code",
   "execution_count": null,
   "metadata": {},
   "outputs": [
    {
     "name": "stdout",
     "output_type": "stream",
     "text": [
      "Before dropping duplicates: \n",
      "     name  age  marks\n",
      "0    Joe   20  85.10\n",
      "1    Nat   21  77.80\n",
      "2  Harry   19  91.54\n",
      "3    Joe   20  85.10\n",
      "4    Nat   21  77.80\n",
      "\n",
      "After dropping column: \n",
      "     name  age  marks\n",
      "0    Joe   20  85.10\n",
      "1    Nat   21  77.80\n",
      "2  Harry   19  91.54\n"
     ]
    }
   ],
   "source": [
    "import pandas as pd\n",
    "\n",
    "student_dict = {\"name\": [\"Joe\", \"Nat\", \"Harry\", \"Joe\", \"Nat\"], \"age\": [20, 21, 19, 20, 21],\n",
    "                \"marks\": [85.10, 77.80, 91.54, 85.10, 77.80]}\n",
    "\n",
    "# Create DataFrame from dict\n",
    "student_df = pd.DataFrame(student_dict)\n",
    "print(\"Before dropping duplicates: \\n\", student_df)\n",
    "\n",
    "# drop duplicate rows\n",
    "student_df.drop_duplicates(inplace=True)\n",
    "\n",
    "print(\"\\nAfter dropping column: \\n\", student_df)"
   ]
  },
  {
   "cell_type": "markdown",
   "metadata": {},
   "source": [
    "### Drop duplicates and reset the index\n",
    "\n",
    "When we drop the rows from DataFrame, by default, it keeps the original row index as is. But, if we need to reset the index of the resultant DataFrame, we can do that using the **`ignore_index`** parameter of **`DataFrame.drop_duplicate()`**.\n",
    "\n",
    "* If **`ignore_index=True`**, it reset the row labels of resultant DataFrame to 0, 1, …, n – 1.\n",
    "* If **`ignore_index=False`** it does not change the original row index. By default, it is **False**."
   ]
  },
  {
   "cell_type": "code",
   "execution_count": null,
   "metadata": {},
   "outputs": [
    {
     "name": "stdout",
     "output_type": "stream",
     "text": [
      "Before dropping duplicates: \n",
      "     name  age  marks\n",
      "a    Joe   20  85.10\n",
      "b    Nat   21  77.80\n",
      "c  Harry   19  91.54\n",
      "d    Nat   21  77.80\n",
      "\n",
      "After dropping column: \n",
      "     name  age  marks\n",
      "0    Joe   20  85.10\n",
      "1  Harry   19  91.54\n"
     ]
    }
   ],
   "source": [
    "import pandas as pd\n",
    "\n",
    "student_dict = {\"name\": [\"Joe\", \"Nat\", \"Harry\", \"Nat\"], \"age\": [20, 21, 19, 21], \"marks\": [85.10, 77.80, 91.54, 77.80]}\n",
    "\n",
    "# Create DataFrame from dict\n",
    "student_df = pd.DataFrame(student_dict, index=['a', 'b', 'c', 'd'])\n",
    "print(\"Before dropping duplicates: \\n\", student_df)\n",
    "\n",
    "# drop duplicate rows\n",
    "student_df = student_df.drop_duplicates(keep=False, ignore_index=True)\n",
    "\n",
    "print(\"\\nAfter dropping column: \\n\", student_df)"
   ]
  },
  {
   "cell_type": "markdown",
   "metadata": {},
   "source": [
    "### Drop column where at least one value is missing\n",
    "\n",
    "If we need to drop such columns that contain NA, we can use the **`axis=columns`** parameter of **`DataFrame.dropna()`** to specify deleting the columns.\n",
    "\n",
    "By default, it removes the column where one or more values are missing.\n",
    "\n",
    "<div>\n",
    "<img src=\"img/dcwaONA.png\" width=\"200\"/>\n",
    "</div>"
   ]
  },
  {
   "cell_type": "code",
   "execution_count": null,
   "metadata": {},
   "outputs": [
    {
     "name": "stdout",
     "output_type": "stream",
     "text": [
      "Before dropping column NA: \n",
      "     name  age  marks\n",
      "0    Joe   20  85.10\n",
      "1    Sam   21    NaN\n",
      "2  Harry   19  91.54\n",
      "\n",
      "After dropping column NA: \n",
      "     name  age\n",
      "0    Joe   20\n",
      "1    Sam   21\n",
      "2  Harry   19\n"
     ]
    }
   ],
   "source": [
    "import pandas as pd\n",
    "import numpy as np\n",
    "\n",
    "student_dict = {\"name\": [\"Joe\", \"Sam\", \"Harry\"], \"age\": [20, 21, 19], \"marks\": [85.10, np.nan, 91.54]}\n",
    "\n",
    "# Create DataFrame from dict\n",
    "student_df = pd.DataFrame(student_dict)\n",
    "print(\"Before dropping column NA: \\n\", student_df)\n",
    "\n",
    "# drop column with NaN\n",
    "student_df = student_df.dropna(axis='columns')\n",
    "\n",
    "print(\"\\nAfter dropping column NA: \\n\", student_df)"
   ]
  },
  {
   "cell_type": "markdown",
   "metadata": {},
   "source": [
    "### Drop column where all values are missing\n",
    "\n",
    "We can drop an empty column from DataFrame using **`DataFrame.dropna()`**.\n",
    "\n",
    "We need to use how parameter as follows:\n",
    "\n",
    "* If **`how='all'`**, it drops the column where all the values are NA.\n",
    "* By default, **`how='any'`**, it removes the columns where one or more values are NA.\n"
   ]
  },
  {
   "cell_type": "code",
   "execution_count": null,
   "metadata": {},
   "outputs": [
    {
     "name": "stdout",
     "output_type": "stream",
     "text": [
      "Before dropping column NA: \n",
      "     name  age  marks\n",
      "0    Joe  NaN  85.10\n",
      "1    Sam  NaN    NaN\n",
      "2    NaN  NaN    NaN\n",
      "3  Harry  NaN  91.54\n",
      "\n",
      "After dropping column NA: \n",
      "     name  marks\n",
      "0    Joe  85.10\n",
      "1    Sam    NaN\n",
      "2    NaN    NaN\n",
      "3  Harry  91.54\n"
     ]
    }
   ],
   "source": [
    "import pandas as pd\n",
    "import numpy as np\n",
    "\n",
    "student_dict = {\"name\": [\"Joe\", \"Sam\", np.nan, \"Harry\"], \"age\": [np.nan, np.nan, np.nan, np.nan],\n",
    "                \"marks\": [85.10, np.nan, np.nan, 91.54]}\n",
    "\n",
    "# Create DataFrame from dict\n",
    "student_df = pd.DataFrame(student_dict)\n",
    "print(\"Before dropping column NA: \\n\", student_df)\n",
    "\n",
    "# drop column with NaN\n",
    "student_df = student_df.dropna(axis='columns', how='all')\n",
    "\n",
    "print(\"\\nAfter dropping column NA: \\n\", student_df)"
   ]
  },
  {
   "cell_type": "markdown",
   "metadata": {},
   "source": [
    "### Drop column with the number of NA\n",
    "\n",
    "While cleaning the dataset, we can keep the columns with at least some data available in it else drop otherwise.\n",
    "\n",
    "We need to use the parameter **`thresh=no_of_nonNA_values`** of **`DataFrame.drop()`** to specify the number of values that must be available in the column. Else, drop the column."
   ]
  },
  {
   "cell_type": "code",
   "execution_count": null,
   "metadata": {},
   "outputs": [
    {
     "name": "stdout",
     "output_type": "stream",
     "text": [
      "Before dropping column NA: \n",
      "     name  age  marks\n",
      "0    Joe  NaN  85.10\n",
      "1    Sam  NaN    NaN\n",
      "2    NaN  NaN    NaN\n",
      "3  Harry  NaN  91.54\n",
      "\n",
      "After dropping column NA: \n",
      "     name\n",
      "0    Joe\n",
      "1    Sam\n",
      "2    NaN\n",
      "3  Harry\n"
     ]
    }
   ],
   "source": [
    "import pandas as pd\n",
    "import numpy as np\n",
    "\n",
    "student_dict = {\"name\": [\"Joe\", \"Sam\", np.nan, \"Harry\"], \"age\": [np.nan, np.nan, np.nan, np.nan],\n",
    "                \"marks\": [85.10, np.nan, np.nan, 91.54]}\n",
    "\n",
    "# Create DataFrame from dict\n",
    "student_df = pd.DataFrame(student_dict)\n",
    "print(\"Before dropping column NA: \\n\", student_df)\n",
    "\n",
    "# keep column with 3 or more non-NA values\n",
    "student_df = student_df.dropna(axis='columns', thresh=3)\n",
    "\n",
    "print(\"\\nAfter dropping column NA: \\n\", student_df)"
   ]
  },
  {
   "cell_type": "markdown",
   "metadata": {},
   "source": [
    "### Drop NA from defined rows\n",
    "\n",
    "When we need to drop a column if it does not have data in its initial rows.\n",
    "\n",
    "In such a case, we can use **`subset=[row1, row2]`** of **`DataFrame.dropna()`** to specify the list of row indexes so that it drops the columns containing missing values in these rows only, i.e., row1 and row2 in this case.\n",
    "\n",
    "<div>\n",
    "<img src=\"img/dcfsr.png\" width=\"200\"/>\n",
    "</div>"
   ]
  },
  {
   "cell_type": "code",
   "execution_count": null,
   "metadata": {},
   "outputs": [
    {
     "name": "stdout",
     "output_type": "stream",
     "text": [
      "Before dropping column NA: \n",
      "     name  age  marks\n",
      "0    Joe  NaN  85.10\n",
      "1    Sam  NaN    NaN\n",
      "2  Harry  NaN  91.54\n",
      "\n",
      "After dropping column NA: \n",
      "     name  marks\n",
      "0    Joe  85.10\n",
      "1    Sam    NaN\n",
      "2  Harry  91.54\n"
     ]
    }
   ],
   "source": [
    "import pandas as pd\n",
    "import numpy as np\n",
    "\n",
    "student_dict = {\"name\": [\"Joe\", \"Sam\", \"Harry\"], \"age\": [np.nan, np.nan, np.nan], \"marks\": [85.10, np.nan, 91.54]}\n",
    "\n",
    "# Create DataFrame from dict\n",
    "student_df = pd.DataFrame(student_dict)\n",
    "print(\"Before dropping column NA: \\n\", student_df)\n",
    "\n",
    "# drop marks column with NaN\n",
    "student_df = student_df.dropna(axis='columns', subset=[0, 2])\n",
    "\n",
    "print(\"\\nAfter dropping column NA: \\n\", student_df)"
   ]
  },
  {
   "cell_type": "markdown",
   "metadata": {},
   "source": [
    "### Drop column with missing values in place\n",
    "\n",
    "We can drop columns from the existing DataFrame or by creating a copy of it. For that, we can use a flag **`inplace`** of **`DataFrame.dropna()`**.\n",
    "\n",
    "* If the **`inplace=True`**, then it updates the DataFrame and returns None.\n",
    "* If **`inplace=False`**, it returns the updated copy of the DataFrame.\n"
   ]
  },
  {
   "cell_type": "code",
   "execution_count": null,
   "metadata": {},
   "outputs": [
    {
     "name": "stdout",
     "output_type": "stream",
     "text": [
      "Before dropping row NA: \n",
      "     name  age  marks\n",
      "0    Joe   20  85.10\n",
      "1    Sam   21    NaN\n",
      "2  Harry   19  91.54\n",
      "\n",
      "After dropping row NA: \n",
      "     name  age  marks\n",
      "0    Joe   20  85.10\n",
      "2  Harry   19  91.54\n"
     ]
    }
   ],
   "source": [
    "import pandas as pd\n",
    "import numpy as np\n",
    "\n",
    "student_dict = {\"name\": [\"Joe\", \"Sam\", \"Harry\"], \"age\": [20, 21, 19], \"marks\": [85.10, np.nan, 91.54]}\n",
    "\n",
    "# Create DataFrame from dict\n",
    "student_df = pd.DataFrame(student_dict)\n",
    "print(\"Before dropping row NA: \\n\", student_df)\n",
    "\n",
    "# drop marks row with NaN\n",
    "student_df.dropna(inplace=True)\n",
    "\n",
    "print(\"\\nAfter dropping row NA: \\n\", student_df)"
   ]
  },
  {
   "cell_type": "markdown",
   "metadata": {},
   "source": [
    "## Rename columns\n",
    "___"
   ]
  },
  {
   "cell_type": "markdown",
   "metadata": {},
   "source": [
    "Functions available in the pandas to rename columns of a simple DataFrame as well as multi-index DataFrame.\n",
    "\n",
    "| Function | Description |\n",
    "|:---- |:---- |\n",
    "| **`df.rename(columns={'old': 'new'})`**    | **Rename column with label ‘old’ to ‘new’** |\n",
    "| **`df.rename(index={0: 'I'})`**            | **Rename row index 0 (zero) to ‘I’** |\n",
    "| **`df.add_prefix('$_')`**                  | **Rename all column labels by adding a prefix** |\n",
    "| **`df.add_suffix('_$')`**                  | **Rename all column labels by adding a suffix** |\n",
    "| **`df.set_axis(['a', 'b', 'c'], axis=1)`** | **Reassign column names to new names** |\n",
    "| **`df.rename_axis(\"Sr.No.\")`**             | **Assign a name to column header or row index header** |"
   ]
  },
  {
   "cell_type": "markdown",
   "metadata": {},
   "source": [
    "### Using rename with `axis='columns'` or `axis=1`\n",
    "\n",
    "This is a **new approach**.( This approach makes this method match the rest of the pandas API) .\n",
    "\n",
    "Use the **`axis`** parameter of a **`df.rename()`** to rename columns and row index. The **`axis`** can be a row or column. The column axis represented as 1 or ‘columns’.\n",
    "\n",
    "Set **`axis=1`** and pass column names you want to rename as a dictionary (Key-Value pairs)."
   ]
  },
  {
   "cell_type": "code",
   "execution_count": null,
   "metadata": {},
   "outputs": [],
   "source": [
    "student_df = student_df.rename({'name': \"a\", 'age': \"b\", 'marks': \"c\"}, axis='columns')\n",
    "# alternative both produces same result\n",
    "student_df = student_df.rename({'name': \"a\", 'age': \"b\", 'marks': \"c\"}, axis=1)"
   ]
  },
  {
   "cell_type": "markdown",
   "metadata": {},
   "source": [
    "### Rename columns in place\n",
    "\n",
    "Specify **`inplace=True`** to rename the existing DataFrame rather than creating a copy of it.\n",
    "\n",
    "* If the **`inplace=True`** then it updates the existing DataFrame and does not return anything.\n",
    "* If the **`inplace=False`** then it creates a new DataFrame with updated changes and returns it.\n",
    "\n",
    ">**Note:** You don’t need to assign the result back to a variable as we are performing modifications in place."
   ]
  },
  {
   "cell_type": "code",
   "execution_count": null,
   "metadata": {},
   "outputs": [
    {
     "name": "stdout",
     "output_type": "stream",
     "text": [
      "['name' 'age' 'marks']\n",
      "['a' 'age' 'marks']\n"
     ]
    }
   ],
   "source": [
    "import pandas as pd\n",
    "\n",
    "student_dict = {\"name\": [\"Joe\", \"Nat\", \"Harry\"], \"age\": [20, 21, 19], \"marks\": [85.10, 77.80, 91.54]}\n",
    "\n",
    "student_df = pd.DataFrame(student_dict)\n",
    "# column names before rename\n",
    "print(student_df.columns.values)\n",
    "\n",
    "# rename columns inplace\n",
    "student_df.rename(columns={'name': \"a\"}, inplace=True)\n",
    "print(student_df.columns.values)"
   ]
  },
  {
   "cell_type": "markdown",
   "metadata": {},
   "source": [
    "### Rename column using a function\n",
    "\n",
    "We can use built-in as well as user-defined functions to rename columns.\n"
   ]
  },
  {
   "cell_type": "code",
   "execution_count": null,
   "metadata": {},
   "outputs": [
    {
     "name": "stdout",
     "output_type": "stream",
     "text": [
      "['name' 'age' 'marks']\n",
      "['NAME' 'AGE' 'MARKS']\n"
     ]
    }
   ],
   "source": [
    "import pandas as pd\n",
    "\n",
    "student_dict = {\"name\": [\"Joe\", \"Nat\", \"Harry\"], \"age\": [20, 21, 19], \"marks\": [85.10, 77.80, 91.54]}\n",
    "\n",
    "# Create DataFrame from dict\n",
    "student_df = pd.DataFrame(student_dict)\n",
    "# before rename\n",
    "print(student_df.columns.values)\n",
    "\n",
    "# rename column names using function\n",
    "student_df.rename(columns=str.upper, inplace=True)\n",
    "# after rename\n",
    "print(student_df.columns.values)"
   ]
  },
  {
   "cell_type": "markdown",
   "metadata": {},
   "source": [
    "### Use lambda expressions to rename\n",
    "\n",
    "Also, you can use lambda expressions to rename column label or row index."
   ]
  },
  {
   "cell_type": "code",
   "execution_count": null,
   "metadata": {},
   "outputs": [
    {
     "name": "stdout",
     "output_type": "stream",
     "text": [
      "['#name' '#age' '#marks']\n",
      "['name' 'age' 'marks']\n"
     ]
    }
   ],
   "source": [
    "import pandas as pd\n",
    "\n",
    "student_dict = {\"#name\": [\"Joe\", \"Nat\", \"Harry\"], \"#age\": [20, 21, 19], \"#marks\": [85.10, 77.80, 91.54]}\n",
    "\n",
    "# Create DataFrame from dict\n",
    "student_df = pd.DataFrame(student_dict)\n",
    "# before rename\n",
    "print(student_df.columns.values)\n",
    "\n",
    "# remove first character of column names\n",
    "student_df.rename(columns=lambda x: x[1:], inplace=True)\n",
    "# after rename\n",
    "print(student_df.columns.values)"
   ]
  },
  {
   "cell_type": "markdown",
   "metadata": {},
   "source": [
    "### Rename columns by removing leading and trailing spaces\n",
    "\n",
    "Use lambda expression to rename columns by removing leading and trailing spaces from the column names\n"
   ]
  },
  {
   "cell_type": "code",
   "execution_count": null,
   "metadata": {},
   "outputs": [
    {
     "name": "stdout",
     "output_type": "stream",
     "text": [
      "[' name ' ' age   ' 'marks  ']\n",
      "['name' 'age' 'marks']\n"
     ]
    }
   ],
   "source": [
    "import pandas as pd\n",
    "\n",
    "student_dict = {\" name \": [\"Joe\", \"Nat\", \"Harry\"], \" age   \": [20, 21, 19], \"marks  \": [85.10, 77.80, 91.54]}\n",
    "\n",
    "student_df = pd.DataFrame(student_dict)\n",
    "print(student_df.columns.values)\n",
    "# output [' name ' ' age   ' 'marks  ']\n",
    "\n",
    "# remove leading and trailing space from column names\n",
    "student_df.rename(lambda x: x.strip(), axis='columns', inplace=True)\n",
    "print(student_df.columns.values)\n",
    "# Output ['name' 'age' 'marks']"
   ]
  },
  {
   "cell_type": "markdown",
   "metadata": {},
   "source": [
    "### Rename all columns with a list\n",
    "\n",
    "Suppose we have a list of column names that we need to use to rename the existing DataFrame. In that case, we can pass the list of column labels to a **`DataFrame.columns`**  attributes as shown in the below example.\n",
    "\n",
    "It will replace the existing names with the new names in the order you provide."
   ]
  },
  {
   "cell_type": "code",
   "execution_count": null,
   "metadata": {},
   "outputs": [
    {
     "name": "stdout",
     "output_type": "stream",
     "text": [
      "['name' 'age' 'marks']\n",
      "['stud_name' 'stud_age' 'stud_marks']\n"
     ]
    }
   ],
   "source": [
    "import pandas as pd\n",
    "\n",
    "student_dict = {\"name\": [\"Joe\", \"Nat\", \"Harry\"], \"age\": [20, 21, 19], \"marks\": [85.10, 77.80, 91.54]}\n",
    "\n",
    "student_df = pd.DataFrame(student_dict)\n",
    "# before rename\n",
    "print(student_df.columns.values)\n",
    "\n",
    "# rename column with list\n",
    "student_df.columns = ['stud_name', 'stud_age', 'stud_marks']\n",
    "# after rename\n",
    "print(student_df.columns.values)"
   ]
  },
  {
   "cell_type": "markdown",
   "metadata": {},
   "source": [
    "### Rename column by index position\n",
    "\n",
    "If there is a case where we want to rename the first column or the last column in the DataFrame, but we do not know the column name still we can rename the column using a **`DataFrame.columns`** attribute.\n",
    "\n",
    ">**Note:** Column index starts from 0 (zero) and it goes till the last column whose index value will be **`len(df.columns)-1`**.\n"
   ]
  },
  {
   "cell_type": "code",
   "execution_count": null,
   "metadata": {},
   "outputs": [
    {
     "name": "stdout",
     "output_type": "stream",
     "text": [
      "df.columns[2]: marks\n",
      "df.columns[2]: percentage\n"
     ]
    }
   ],
   "source": [
    "import pandas as pd\n",
    "\n",
    "student_dict = {\"name\": [\"Joe\", \"Nat\", \"Harry\"], \"age\": [20, 21, 19], \"marks\": [85.10, 77.80, 91.54]}\n",
    "\n",
    "student_df = pd.DataFrame(student_dict)\n",
    "print(\"df.columns[2]:\", student_df.columns[2])\n",
    "\n",
    "# rename column present at index 2\n",
    "student_df.rename(columns={student_df.columns[2]: 'percentage'}, inplace=True)\n",
    "print(\"df.columns[2]:\", student_df.columns[2])"
   ]
  },
  {
   "cell_type": "markdown",
   "metadata": {},
   "source": [
    "## `DataFrame.to_dict()`\n",
    "\n",
    "Pandas have a **`DataFrame.to_dict()`** function to create a Python dict object from DataFrame.\n",
    "\n",
    "**Syntax:**\n",
    "```python\n",
    "DataFrame.to_dict(orient='dict', into=<class 'dict'>)\n",
    "```\n",
    "\n",
    "| Parameter | Dict format | Key | Value |\n",
    "|:---- |:---- |:---- | :---- |\n",
    "| **`'dict'` (Default)** | **`{column_label : {row_index : data}}`** | **column label** | **dict of row index and data** |\n",
    "| **`'list'`** | **`{column_label : [data]}`** | **column label** | **list of data** |\n",
    "| **`'series‘`** | **`{column_label : Series(data)}`** | **column label** | **series of data** |\n",
    "| **`'split'`** | **`{'row_index' : [index], ‘column_label’ : [columns], 'data' : [data]}`** | **row index, column labels, data** | **list of row index, list of columns labels, list of data** |\n",
    "| **`'records'`** | **`[{column_label : data}, … , {column_label : data}]`** | **column label** | **data** |\n",
    "| **`'index'`** | **`{row_index : {column_label : data}}`** | **row index** | **dict of column label and data** |"
   ]
  },
  {
   "cell_type": "markdown",
   "metadata": {},
   "source": [
    "<div>\n",
    "<img src=\"img/df2dict.png\" width=\"500\"/>\n",
    "</div>"
   ]
  },
  {
   "cell_type": "markdown",
   "metadata": {},
   "source": [
    "### Convert pandas DataFrame to dict\n",
    "\n",
    "In the below example, we read the input from the **[student_data.csv](/content/tools/pandas/001_Python_Pandas_Methods/student_data.csv)** file and create a DataFrame object. It is then converted into the Python dictionary object.\n",
    "\n",
    "Input CSV file contains a simple dataset of student data with two columns, **`Name`** and **`Marks`**.\n",
    "\n",
    "<div>\n",
    "<img src=\"img/dfcsv.png\" width=\"200\"/>\n",
    "</div>\n",
    "\n",
    "DataFrame is converted into **`dict`** using the default **`'dict'`** parameter."
   ]
  },
  {
   "cell_type": "code",
   "execution_count": null,
   "metadata": {},
   "outputs": [
    {
     "name": "stdout",
     "output_type": "stream",
     "text": [
      "    Name  Marks\n",
      "0    Nat  70.88\n",
      "1  Harry  85.90\n",
      "2    Joe  91.45\n",
      "\n",
      "Result dict: \n",
      " {'Name': {0: 'Nat', 1: 'Harry', 2: 'Joe'}, 'Marks': {0: 70.88, 1: 85.9, 2: 91.45}}\n"
     ]
    }
   ],
   "source": [
    "import pandas as pd\n",
    "\n",
    "# create dataframe from csv\n",
    "studentDf = pd.read_csv(\"student_data.csv\")\n",
    "print(studentDf)\n",
    "\n",
    "# create dict from dataframe\n",
    "studentDict = studentDf.to_dict()\n",
    "print(\"\\nResult dict: \\n\", studentDict)"
   ]
  },
  {
   "cell_type": "markdown",
   "metadata": {},
   "source": [
    "### DataFrame to dict with a list of values\n",
    "\n",
    "It is a case when we have DataFrame, which needs to be converted into the dictionary object such that column label should be the keys in the dictionary, and all the columns’ data should be added into the resultant dict as a list of values against each key.\n",
    "\n",
    "In that case, we can use **`'list'`** parameter of the **`DataFrame.to_dict()`** function.\n",
    "\n",
    "**Syntax:**\n",
    "```python\n",
    "{column_label : [data]}\n",
    "```"
   ]
  },
  {
   "cell_type": "code",
   "execution_count": null,
   "metadata": {},
   "outputs": [
    {
     "name": "stdout",
     "output_type": "stream",
     "text": [
      "    Name  Marks\n",
      "0    Nat  70.88\n",
      "1  Harry  85.90\n",
      "2    Joe  91.45\n",
      "\n",
      "Result dict: \n",
      " {'Name': ['Nat', 'Harry', 'Joe'], 'Marks': [70.88, 85.9, 91.45]}\n"
     ]
    }
   ],
   "source": [
    "import pandas as pd\n",
    "\n",
    "# create dataframe from csv\n",
    "studentDf = pd.read_csv(\"student_data.csv\")\n",
    "print(studentDf)\n",
    "\n",
    "# create dict from dataframe\n",
    "studentDict = studentDf.to_dict('list')\n",
    "print(\"\\nResult dict: \\n\", studentDict)"
   ]
  },
  {
   "cell_type": "markdown",
   "metadata": {},
   "source": [
    "### DataFrame to dict with pandas series of values\n",
    "\n",
    "When we need to convert the DataFrame into **`dict`** whereas column name as a key of the **`dict`**. And row index and data as a value in the **`dict`** for the respective keys.\n",
    "\n",
    "**Syntax:**\n",
    "```python\n",
    "{column_label : Series(row_index data)}\n",
    "```\n",
    "\n",
    "In that case, we can use the **`'series'`** parameter of **`DataFrame.to_dict()`** function.\n"
   ]
  },
  {
   "cell_type": "code",
   "execution_count": null,
   "metadata": {},
   "outputs": [
    {
     "name": "stdout",
     "output_type": "stream",
     "text": [
      "    Name  Marks\n",
      "0    Nat  70.88\n",
      "1  Harry  85.90\n",
      "2    Joe  91.45\n",
      "\n",
      "Result dict: \n",
      " {'Name': 0      Nat\n",
      "1    Harry\n",
      "2      Joe\n",
      "Name: Name, dtype: object, 'Marks': 0    70.88\n",
      "1    85.90\n",
      "2    91.45\n",
      "Name: Marks, dtype: float64}\n"
     ]
    }
   ],
   "source": [
    "import pandas as pd\n",
    "\n",
    "# create dataframe from csv\n",
    "studentDf = pd.read_csv(\"student_data.csv\")\n",
    "print(studentDf)\n",
    "\n",
    "# create dict from dataframe\n",
    "studentDict = studentDf.to_dict('series')\n",
    "print(\"\\nResult dict: \\n\", studentDict)"
   ]
  },
  {
   "cell_type": "markdown",
   "metadata": {},
   "source": [
    "### DataFrame to dict without header and index\n",
    "\n",
    "When we want to collect the data from DataFrame without the column headers or we need to separate the row index and header from the data, we can use the **`'split'`** parameter of **`DataFrame.to_dict()`** function. It splits the input DataFrame into three parts, i.e., row index, column labels, and actual data.\n",
    "\n",
    "**Syntax:**\n",
    "```python\n",
    "{'row_index' : [index], 'column_label' : [columns], 'data' : [data]}\n",
    "```"
   ]
  },
  {
   "cell_type": "code",
   "execution_count": null,
   "metadata": {},
   "outputs": [
    {
     "name": "stdout",
     "output_type": "stream",
     "text": [
      "    Name  Marks\n",
      "0    Nat  70.88\n",
      "1  Harry  85.90\n",
      "2    Joe  91.45\n",
      "\n",
      " {'index': [0, 1, 2], 'columns': ['Name', 'Marks'], 'data': [['Nat', 70.88], ['Harry', 85.9], ['Joe', 91.45]]}\n",
      "\n",
      "List of values from DF without index and header: \n",
      " [['Nat', 70.88], ['Harry', 85.9], ['Joe', 91.45]]\n"
     ]
    }
   ],
   "source": [
    "import pandas as pd\n",
    "\n",
    "# create dataframe from csv\n",
    "studentDf = pd.read_csv(\"student_data.csv\")\n",
    "print(studentDf)\n",
    "\n",
    "studentDict = studentDf.to_dict('split')\n",
    "print(\"\\n\", studentDict)\n",
    "\n",
    "# print only data\n",
    "print(\"\\nList of values from DF without index and header: \\n\", studentDict['data'])"
   ]
  },
  {
   "cell_type": "markdown",
   "metadata": {},
   "source": [
    "### DataFrame to dict by row\n",
    "\n",
    "When we have a DataFrame where **each row** contains data that needs to be store in a **separate dictionary** object, i.e., we need a data row-wise, we can use the **`'records'`** parameter of the **`DataFrame.to_dict()`** function.\n",
    "\n",
    "It returns a list of dictionary objects. A **`dict`** for each row, where the key is a column label, and the value is column data.\n",
    "\n",
    "**Syntax:**\n",
    "```python\n",
    "{'row_index' : [index], 'column_label' : [columns], 'data' : [data]}\n",
    "```"
   ]
  },
  {
   "cell_type": "code",
   "execution_count": null,
   "metadata": {},
   "outputs": [
    {
     "name": "stdout",
     "output_type": "stream",
     "text": [
      "    Name  Marks\n",
      "0    Nat  70.88\n",
      "1  Harry  85.90\n",
      "2    Joe  91.45\n",
      "[{'Name': 'Nat', 'Marks': 70.88}, {'Name': 'Harry', 'Marks': 85.9}, {'Name': 'Joe', 'Marks': 91.45}]\n"
     ]
    },
    {
     "name": "stderr",
     "output_type": "stream",
     "text": [
      "C:\\ProgramData\\Anaconda3\\lib\\site-packages\\pandas\\core\\frame.py:1549: FutureWarning: Using short name for 'orient' is deprecated. Only the options: ('dict', list, 'series', 'split', 'records', 'index') will be used in a future version. Use one of the above to silence this warning.\n",
      "  warnings.warn(\n"
     ]
    }
   ],
   "source": [
    "# import pandas library\n",
    "import pandas as pd\n",
    "\n",
    "# create dataframe from csv\n",
    "studentDf = pd.read_csv(\"student_data.csv\")\n",
    "print(studentDf)\n",
    "\n",
    "# create dict from dataframe\n",
    "studentDict = studentDf.to_dict('record')\n",
    "print(studentDict)"
   ]
  },
  {
   "cell_type": "markdown",
   "metadata": {},
   "source": [
    "### DataFrame to dict by row index\n",
    "\n",
    "When we have a DataFrame with row indexes and if we need to convert the data of each row from DataFrame to **`dict`**, we can use the **`index`** parameter of the **`DataFrame.to_dict()`** function.\n",
    "\n",
    "It returns a list of dictionary objects. A **`dict`** is created for each row. Where the key is a row index, and the value is **`dict`** of column label and data.\n",
    "\n",
    "**Syntax:**\n",
    "```python\n",
    "{row_index : {column_label : data}}\n",
    "```"
   ]
  },
  {
   "cell_type": "code",
   "execution_count": null,
   "metadata": {},
   "outputs": [
    {
     "name": "stdout",
     "output_type": "stream",
     "text": [
      "    Name  Marks\n",
      "0    Nat  70.88\n",
      "1  Harry  85.90\n",
      "2    Joe  91.45\n",
      "{0: {'Name': 'Nat', 'Marks': 70.88}, 1: {'Name': 'Harry', 'Marks': 85.9}, 2: {'Name': 'Joe', 'Marks': 91.45}}\n"
     ]
    }
   ],
   "source": [
    "import pandas as pd\n",
    "\n",
    "# create dataframe from csv\n",
    "studentDf = pd.read_csv(\"student_data.csv\")\n",
    "print(studentDf)\n",
    "\n",
    "# create dict from dataframe\n",
    "studentDict = studentDf.to_dict('index')\n",
    "print(studentDict)"
   ]
  },
  {
   "cell_type": "markdown",
   "metadata": {},
   "source": [
    "### DataFrame to dict with one column as the key\n",
    "\n",
    "When we need to create a **`dict`** from DataFrame where one column as a key of **`dict`** and other columns as the value of the **`dict`**.\n",
    "\n",
    "Suppose we have student DataFrame with two columns, student’s **Name**, and student’s **Marks**. And we need to store each student’s data in the **`dict`** where the student name is the Key and their marks as a Value of the **`dict`**.\n",
    "\n",
    "We can do it in various ways, as shown below:\n",
    "\n",
    "* Using **`df.set_index('Col1').to_dict()['Col2']`**\n",
    "* Using **`zip(df.Col1, df.Col2)`**\n",
    "* Using **`df.set_index('Col1').T.to_dict('list')`**\n"
   ]
  },
  {
   "cell_type": "code",
   "execution_count": null,
   "metadata": {},
   "outputs": [
    {
     "name": "stdout",
     "output_type": "stream",
     "text": [
      "    Name  Marks\n",
      "0    Nat  70.88\n",
      "1  Harry  85.90\n",
      "2    Joe  91.45\n",
      "{'Nat': 70.88, 'Harry': 85.9, 'Joe': 91.45}\n"
     ]
    }
   ],
   "source": [
    "import pandas as pd\n",
    "\n",
    "# create dataframe from csv\n",
    "studentDf = pd.read_csv(\"student_data.csv\")\n",
    "print(studentDf)\n",
    "\n",
    "# create dict with Name as key and marks as value\n",
    "studentDict = studentDf.set_index('Name').to_dict()['Marks']\n",
    "\n",
    "print(studentDict)"
   ]
  },
  {
   "cell_type": "markdown",
   "metadata": {},
   "source": [
    "We can also achieve the same result using **`zip()`** the function."
   ]
  },
  {
   "cell_type": "code",
   "execution_count": null,
   "metadata": {},
   "outputs": [],
   "source": [
    "# create dict with Name as key and marks as value\n",
    "studentDict = dict(zip(studentDf.Name, studentDf.Marks))"
   ]
  },
  {
   "cell_type": "markdown",
   "metadata": {},
   "source": [
    "If we want to collect the **column data into the list**, it can be done by applying **transpose** operation on the DataFrame and then converting it into dict."
   ]
  },
  {
   "cell_type": "code",
   "execution_count": null,
   "metadata": {},
   "outputs": [
    {
     "name": "stdout",
     "output_type": "stream",
     "text": [
      "    Name  Marks\n",
      "0    Nat  70.88\n",
      "1  Harry  85.90\n",
      "2    Joe  91.45\n",
      "{'Nat': [70.88], 'Harry': [85.9], 'Joe': [91.45]}\n"
     ]
    }
   ],
   "source": [
    "import pandas as pd\n",
    "\n",
    "# create dataframe from csv\n",
    "studentDf = pd.read_csv(\"student_data.csv\")\n",
    "print(studentDf)\n",
    "\n",
    "# create dict with Name as key and marks as value\n",
    "studentDict = studentDf.set_index('Name').T.to_dict('list')\n",
    "print(studentDict)"
   ]
  },
  {
   "cell_type": "markdown",
   "metadata": {},
   "source": [
    "### DataFrame to dict using `into` parameter\n",
    "\n",
    "While converting a DataFrame to **`dict`** if we need output **`dict`** to be of a particular type, we can use the parameter into of **`DataFrame.to_dict()`** function. We can specify the class name or the instance of the class for the resultant **`dict`**.\n"
   ]
  },
  {
   "cell_type": "code",
   "execution_count": null,
   "metadata": {},
   "outputs": [
    {
     "name": "stdout",
     "output_type": "stream",
     "text": [
      "    Name  Marks\n",
      "0    Nat  70.88\n",
      "1  Harry  85.90\n",
      "2    Joe  91.45\n",
      "OrderedDict([('Name', OrderedDict([(0, 'Nat'), (1, 'Harry'), (2, 'Joe')])), ('Marks', OrderedDict([(0, 70.88), (1, 85.9), (2, 91.45)]))])\n"
     ]
    }
   ],
   "source": [
    "# import pandas library\n",
    "from collections import OrderedDict\n",
    "import pandas as pd\n",
    "\n",
    "# create dataframe from csv\n",
    "studentDf = pd.read_csv(\"student_data.csv\")\n",
    "print(studentDf)\n",
    "\n",
    "# convert dataframe to ordered dict\n",
    "studentDict = studentDf.to_dict(into=OrderedDict)\n",
    "print(studentDict)"
   ]
  },
  {
   "cell_type": "markdown",
   "metadata": {},
   "source": [
    "## `DataFrame.set_index()`\n",
    "\n",
    "This function is used to re-assign a row label using the existing column of the DataFrame. It can assign one or multiple columns as a row index. Let’s see how to use **`DataFrame.set_index()`** function to set row index or replace existing.\n",
    "\n",
    "**Syntax:**\n",
    "```python\n",
    "DataFrame.set_index(keys, drop=True, append=False, inplace=False, verify_integrity=False)\n",
    "```\n",
    "**Return:**\n",
    "\n",
    "DataFrame with the changed row labels or None if **`inplace=True`**."
   ]
  },
  {
   "cell_type": "markdown",
   "metadata": {},
   "source": [
    "### Set index using a column\n",
    "\n",
    "How to set index in pandas DataFrame?\n",
    "\n",
    "1. **Create pandas DataFrame**\n",
    "    * We can create a DataFrame from a CSV file or **`dict`**.\n",
    "\n",
    "\n",
    "2. **Identify the columns to set as index**\n",
    "    * We can set a specific column or multiple columns as an index in pandas DataFrame. Create a list of column labels to be used to set an index.\n",
    "**`['col_label1', 'col_label2'...]`**\n",
    "\n",
    "\n",
    "3. **Use **`DataFrame.set_index()`** function**\n",
    "    * We need to pass the column or list of column labels as input to the DataFrame.set_index() function to set it as an index of DataFrame. **By default, these new index columns are deleted from the DataFrame**.\n",
    "**`df = df.set_index(['col_label1', 'col_label2'…])`**\n",
    "\n",
    "\n",
    "4. **Set the index in place**\n",
    "    * We can use the parameter **`inplace`** to set the index in the existing DataFrame rather than create a new copy.\n",
    "**`df.set_index(inplace=True)`**"
   ]
  },
  {
   "cell_type": "code",
   "execution_count": null,
   "metadata": {},
   "outputs": [
    {
     "name": "stdout",
     "output_type": "stream",
     "text": [
      "Before set index: \n",
      "     Name  Age  Marks\n",
      "0    Joe   20  85.10\n",
      "1    Nat   21  77.80\n",
      "2  Harry   19  91.54\n",
      "\n",
      "After set index: \n",
      "        Age  Marks\n",
      "Name             \n",
      "Joe     20  85.10\n",
      "Nat     21  77.80\n",
      "Harry   19  91.54\n"
     ]
    }
   ],
   "source": [
    "import pandas as pd\n",
    "\n",
    "student_dict = {'Name': ['Joe', 'Nat', 'Harry'], 'Age': [20, 21, 19], 'Marks': [85.10, 77.80, 91.54]}\n",
    "\n",
    "# create DataFrame from dict\n",
    "student_df = pd.DataFrame(student_dict)\n",
    "print(\"Before set index: \\n\", student_df)\n",
    "\n",
    "# set index using column\n",
    "student_df = student_df.set_index('Name')\n",
    "print(\"\\nAfter set index: \\n\", student_df)"
   ]
  },
  {
   "cell_type": "markdown",
   "metadata": {},
   "source": [
    "### Set index using a list\n",
    "\n",
    "We can also give a list of labels which can be strings or numbers to **`DataFrame.set_index()`** function to set a new index in the DataFrame.\n",
    "\n",
    "First, we create a Python **`Index`** object from a list of labels and then pass it as input to the **`DataFrame.set_index()`** function."
   ]
  },
  {
   "cell_type": "code",
   "execution_count": null,
   "metadata": {},
   "outputs": [
    {
     "name": "stdout",
     "output_type": "stream",
     "text": [
      "Before set index: \n",
      "     Name  Age  Marks\n",
      "0    Joe   20  85.10\n",
      "1    Nat   21  77.80\n",
      "2  Harry   19  91.54\n",
      "\n",
      "After set index: \n",
      "      Name  Age  Marks\n",
      "s1    Joe   20  85.10\n",
      "s2    Nat   21  77.80\n",
      "s3  Harry   19  91.54\n"
     ]
    }
   ],
   "source": [
    "import pandas as pd\n",
    "\n",
    "student_dict = {'Name': ['Joe', 'Nat', 'Harry'], 'Age': [20, 21, 19], 'Marks': [85.10, 77.80, 91.54]}\n",
    "\n",
    "# create DataFrame from dict\n",
    "student_df = pd.DataFrame(student_dict)\n",
    "print(\"Before set index: \\n\", student_df)\n",
    "\n",
    "index = pd.Index(['s1', 's2', 's3'])\n",
    "student_df = student_df.set_index(index)\n",
    "print(\"\\nAfter set index: \\n\", student_df)"
   ]
  },
  {
   "cell_type": "markdown",
   "metadata": {},
   "source": [
    "### Set index using multiple columns\n",
    "\n",
    "Python pandas have DataFrame with multiple columns or rows as an index, and they are also called **multi-index** DataFrame. If we want to set multiple columns as row labels, we can use **`DataFrame.set_index()`** function.\n"
   ]
  },
  {
   "cell_type": "code",
   "execution_count": null,
   "metadata": {},
   "outputs": [
    {
     "name": "stdout",
     "output_type": "stream",
     "text": [
      "Before set index: \n",
      "     Name  Age  Marks\n",
      "0    Joe   20  85.10\n",
      "1    Nat   21  77.80\n",
      "2  Harry   19  91.54\n",
      "\n",
      "After set index: \n",
      "              Age\n",
      "Name  Marks     \n",
      "Joe   85.10   20\n",
      "Nat   77.80   21\n",
      "Harry 91.54   19\n"
     ]
    }
   ],
   "source": [
    "import pandas as pd\n",
    "\n",
    "student_dict = {'Name': ['Joe', 'Nat', 'Harry'], 'Age': [20, 21, 19], 'Marks': [85.10, 77.80, 91.54]}\n",
    "\n",
    "# create DataFrame from dict\n",
    "student_df = pd.DataFrame(student_dict)\n",
    "print(\"Before set index: \\n\", student_df)\n",
    "\n",
    "# set multi-index\n",
    "student_df = student_df.set_index(['Name', 'Marks'])\n",
    "print(\"\\nAfter set index: \\n\", student_df)"
   ]
  },
  {
   "cell_type": "markdown",
   "metadata": {},
   "source": [
    "### Set multi-index using a list and column\n",
    "\n",
    "If there is a case where we want to create a two-level row index of the DataFrame, where one level is the new list of labels and another level is created from the existing column.\n",
    "\n",
    "We can use **`DataFrame.set_index()`** to set the multi-level index of pandas DataFrame using a combination of a new list and the existing column.\n",
    "\n",
    "We need to create a Python **`Index`** object from a list of new labels and pass that **`Index`** object and an existing column label as input to the **`DataFrame.set_index()`** function to create a two-level index.\n"
   ]
  },
  {
   "cell_type": "code",
   "execution_count": null,
   "metadata": {},
   "outputs": [
    {
     "name": "stdout",
     "output_type": "stream",
     "text": [
      "Before set index: \n",
      "     Name  Age  Marks\n",
      "0    Joe   20  85.10\n",
      "1    Nat   21  77.80\n",
      "2  Harry   19  91.54\n",
      "\n",
      "After set index: \n",
      "           Age  Marks\n",
      "   Name             \n",
      "s1 Joe     20  85.10\n",
      "s2 Nat     21  77.80\n",
      "s3 Harry   19  91.54\n"
     ]
    }
   ],
   "source": [
    "import pandas as pd\n",
    "\n",
    "student_dict = {'Name': ['Joe', 'Nat', 'Harry'], 'Age': [20, 21, 19], 'Marks': [85.10, 77.80, 91.54]}\n",
    "\n",
    "# create DataFrame from dict\n",
    "student_df = pd.DataFrame(student_dict)\n",
    "print(\"Before set index: \\n\", student_df)\n",
    "\n",
    "index = pd.Index(['s1', 's2', 's3'])\n",
    "student_df = student_df.set_index([index, 'Name'])\n",
    "print(\"\\nAfter set index: \\n\", student_df)"
   ]
  },
  {
   "cell_type": "markdown",
   "metadata": {},
   "source": [
    "### Set multi-index using two Python series\n",
    "\n",
    "When we want to replace the existing index with the multiple new series rather than the existing columns, we can create such a multi-index DataFrame by assigning new series using **`DataFrame.set_index()`** function.\n"
   ]
  },
  {
   "cell_type": "code",
   "execution_count": null,
   "metadata": {},
   "outputs": [
    {
     "name": "stdout",
     "output_type": "stream",
     "text": [
      "Before set index: \n",
      "     Name  Age  Marks\n",
      "0    Joe   20  85.10\n",
      "1    Nat   21  77.80\n",
      "2  Harry   19  91.54\n",
      "\n",
      "After set index: \n",
      "       Name  Age  Marks\n",
      "1 1    Joe   20  85.10\n",
      "2 4    Nat   21  77.80\n",
      "3 9  Harry   19  91.54\n"
     ]
    }
   ],
   "source": [
    "import pandas as pd\n",
    "\n",
    "student_dict = {'Name': ['Joe', 'Nat', 'Harry'], 'Age': [20, 21, 19], 'Marks': [85.10, 77.80, 91.54]}\n",
    "\n",
    "# create DataFrame from dict\n",
    "student_df = pd.DataFrame(student_dict)\n",
    "print(\"Before set index: \\n\", student_df)\n",
    "\n",
    "# set multi-index\n",
    "s = pd.Series([1, 2, 3])\n",
    "student_df = student_df.set_index([s, s ** 2])\n",
    "print(\"\\nAfter set index: \\n\", student_df)"
   ]
  },
  {
   "cell_type": "markdown",
   "metadata": {},
   "source": [
    "### Set index using a Python range\n",
    "\n",
    "Suppose we need to set a sequence of numbers as an index of the DataFrame such that it should start at any number. For example, we want to assign a roll number to the student DataFrame beginning from 1.\n",
    "\n",
    "It is not feasible to pass all the numbers as a list to the **`DataFrame.set_index()`** function. In such a case, we can use the **Python range()** function.\n",
    "\n",
    "We can create pandas Index using range() function and pass it to the **`DataFrame.set_index()`** function.\n"
   ]
  },
  {
   "cell_type": "code",
   "execution_count": null,
   "metadata": {},
   "outputs": [
    {
     "name": "stdout",
     "output_type": "stream",
     "text": [
      "Before set index: \n",
      "      Name  Age  Marks\n",
      "s1    Joe   20  85.10\n",
      "s2    Nat   21  77.80\n",
      "s3  Harry   19  91.54\n",
      "\n",
      "After set index: \n",
      "     Name  Age  Marks\n",
      "1    Joe   20  85.10\n",
      "2    Nat   21  77.80\n",
      "3  Harry   19  91.54\n"
     ]
    }
   ],
   "source": [
    "import pandas as pd\n",
    "\n",
    "student_dict = {'Name': ['Joe', 'Nat', 'Harry'], 'Age': [20, 21, 19], 'Marks': [85.10, 77.80, 91.54]}\n",
    "\n",
    "# create DataFrame from dict\n",
    "student_df = pd.DataFrame(student_dict, index=['s1', 's2', 's3'])\n",
    "print(\"Before set index: \\n\", student_df)\n",
    "\n",
    "# set index\n",
    "index = pd.Index(range(1, 4, 1))\n",
    "student_df = student_df.set_index(index)\n",
    "print(\"\\nAfter set index: \\n\", student_df)"
   ]
  },
  {
   "cell_type": "markdown",
   "metadata": {},
   "source": [
    "### Set index but keep column\n",
    "\n",
    "By default, **`DataFrame.set_index()`** function takes column name as input which should be used as an index of the DataFrame. After setting the new index, it deletes the column which is used.\n",
    "\n",
    "If we do not want to delete such a column from DataFrame, then we need to use the drop parameter of **`DataFrame.set_index()`**. It is a boolean flag such that,\n",
    "\n",
    "* If **`drop=True`** (default case), it deletes the column and uses it as an index.\n",
    "* If **`drop=False`**, it does not delete the column and uses it as an index.\n"
   ]
  },
  {
   "cell_type": "code",
   "execution_count": null,
   "metadata": {},
   "outputs": [
    {
     "name": "stdout",
     "output_type": "stream",
     "text": [
      "Before set index: \n",
      "     Name  Age  Marks\n",
      "0    Joe   20  85.10\n",
      "1    Nat   21  77.80\n",
      "2  Harry   19  91.54\n",
      "\n",
      "After set index: \n",
      "         Name  Age  Marks\n",
      "Name                    \n",
      "Joe      Joe   20  85.10\n",
      "Nat      Nat   21  77.80\n",
      "Harry  Harry   19  91.54\n"
     ]
    }
   ],
   "source": [
    "import pandas as pd\n",
    "\n",
    "student_dict = {'Name': ['Joe', 'Nat', 'Harry'], 'Age': [20, 21, 19], 'Marks': [85.10, 77.80, 91.54]}\n",
    "\n",
    "# create DataFrame from dict\n",
    "student_df = pd.DataFrame(student_dict)\n",
    "print(\"Before set index: \\n\", student_df)\n",
    "\n",
    "# set index, keep column\n",
    "student_df = student_df.set_index('Name', drop=False)\n",
    "print(\"\\nAfter set index: \\n\", student_df)"
   ]
  },
  {
   "cell_type": "markdown",
   "metadata": {},
   "source": [
    "### Set index by keeping old index\n",
    "\n",
    "**`DataFrame.set_index()`** is used to set a new index to the DataFrame. It is also used to extend the existing DataFrame, i.e., we can update the index by append to the existing index.\n",
    "\n",
    "We need to use the **`append`** parameter of the **`DataFrame.set_index()`** function to append the new index to the existing one. By default, the value of **`append`** is **`False`**."
   ]
  },
  {
   "cell_type": "code",
   "execution_count": null,
   "metadata": {},
   "outputs": [
    {
     "name": "stdout",
     "output_type": "stream",
     "text": [
      "Before set index: \n",
      "      Name  Age  Marks\n",
      "s1    Joe   20  85.10\n",
      "s2    Nat   21  77.80\n",
      "s3  Harry   19  91.54\n",
      "\n",
      "After set index: \n",
      "           Age  Marks\n",
      "   Name             \n",
      "s1 Joe     20  85.10\n",
      "s2 Nat     21  77.80\n",
      "s3 Harry   19  91.54\n"
     ]
    }
   ],
   "source": [
    "import pandas as pd\n",
    "\n",
    "student_dict = {'Name':['Joe','Nat','Harry'], 'Age':[20,21,19], 'Marks':[85.10, 77.80, 91.54]}\n",
    "\n",
    "# create DataFrame from dict\n",
    "student_df = pd.DataFrame(student_dict, index = ['s1','s2','s3'])\n",
    "print(\"Before set index: \\n\", student_df)\n",
    "\n",
    "# set index by append\n",
    "student_df = student_df.set_index('Name', append=True)\n",
    "print(\"\\nAfter set index: \\n\", student_df)"
   ]
  },
  {
   "cell_type": "markdown",
   "metadata": {},
   "source": [
    "### Set index in place\n",
    "\n",
    "In the above examples, whenever we executed **`DataFrame.set_index()`** operation, pandas created a new copy of DataFrame because the modification is not-in place.\n",
    "\n",
    "Specify **`inplace=True`** to set index in the existing DataFrame rather than creating a copy of it.\n",
    "\n",
    "If **`inplace=True`** then it updates the existing DataFrame and does not return anything.\n",
    "If **`inplace=False`** then it creates a new DataFrame with updated changes and returns it.\n",
    "\n",
    ">**Note:** You don’t need to assign the result back to a variable as we are performing modifications in place.\n",
    "\n",
    "**Example:**"
   ]
  },
  {
   "cell_type": "code",
   "execution_count": null,
   "metadata": {},
   "outputs": [
    {
     "name": "stdout",
     "output_type": "stream",
     "text": [
      "Before set index: \n",
      "     Name  Age  Marks\n",
      "0    Joe   20  85.10\n",
      "1    Nat   21  77.80\n",
      "2  Harry   19  91.54\n",
      "\n",
      "After set index: \n",
      "        Age  Marks\n",
      "Name             \n",
      "Joe     20  85.10\n",
      "Nat     21  77.80\n",
      "Harry   19  91.54\n"
     ]
    }
   ],
   "source": [
    "import pandas as pd\n",
    "\n",
    "student_dict = {'Name': ['Joe', 'Nat', 'Harry'], 'Age': [20, 21, 19], 'Marks': [85.10, 77.80, 91.54]}\n",
    "\n",
    "# create DataFrame from dict\n",
    "student_df = pd.DataFrame(student_dict)\n",
    "print(\"Before set index: \\n\", student_df)\n",
    "\n",
    "# set index in place\n",
    "student_df.set_index('Name', inplace=True)\n",
    "print(\"\\nAfter set index: \\n\", student_df)"
   ]
  },
  {
   "cell_type": "markdown",
   "metadata": {},
   "source": [
    "### Set index using a column with duplicates\n",
    "\n",
    "By default, **`DataFrame.set_index()`** allows duplicate index. If we want to change this behavior, then we can use the **`verify_integrity`** parameter of **`DataFrame.set_index()`**.\n",
    "\n",
    "* If **`verify_integrity=True`**, then it checks the new index for duplicates and throws **`ValueError`**.\n",
    "* If **`verify_integrity=False`**, then it defers the check until necessary.\n",
    "\n",
    ">**Note:** Setting to **`False`** will improve the performance of this method."
   ]
  },
  {
   "cell_type": "code",
   "execution_count": null,
   "metadata": {},
   "outputs": [
    {
     "name": "stdout",
     "output_type": "stream",
     "text": [
      "Before set index: \n",
      "   Name  Age  Marks\n",
      "0  Joe   20  85.10\n",
      "1  Nat   21  77.80\n",
      "2  Joe   19  91.54\n"
     ]
    },
    {
     "ename": "ValueError",
     "evalue": "Index has duplicate keys: Index(['Joe'], dtype='object', name='Name')",
     "output_type": "error",
     "traceback": [
      "\u001b[1;31m---------------------------------------------------------------------------\u001b[0m\n",
      "\u001b[1;31mValueError\u001b[0m                                Traceback (most recent call last)\n",
      "\u001b[1;32m<ipython-input-10-f6b2789c4214>\u001b[0m in \u001b[0;36m<module>\u001b[1;34m\u001b[0m\n",
      "\u001b[0;32m      8\u001b[0m \u001b[1;33m\u001b[0m\u001b[0m\n",
      "\u001b[0;32m      9\u001b[0m \u001b[1;31m# set index error case\u001b[0m\u001b[1;33m\u001b[0m\u001b[1;33m\u001b[0m\u001b[1;33m\u001b[0m\u001b[0m\n",
      "\u001b[1;32m---> 10\u001b[1;33m \u001b[0mstudent_df\u001b[0m \u001b[1;33m=\u001b[0m \u001b[0mstudent_df\u001b[0m\u001b[1;33m.\u001b[0m\u001b[0mset_index\u001b[0m\u001b[1;33m(\u001b[0m\u001b[1;34m'Name'\u001b[0m\u001b[1;33m,\u001b[0m \u001b[0mverify_integrity\u001b[0m\u001b[1;33m=\u001b[0m\u001b[1;32mTrue\u001b[0m\u001b[1;33m)\u001b[0m\u001b[1;33m\u001b[0m\u001b[1;33m\u001b[0m\u001b[0m\n",
      "\u001b[0m\u001b[0;32m     11\u001b[0m \u001b[0mprint\u001b[0m\u001b[1;33m(\u001b[0m\u001b[1;34m\"\\nAfter set index: \\n\"\u001b[0m\u001b[1;33m,\u001b[0m \u001b[0mstudent_df\u001b[0m\u001b[1;33m)\u001b[0m\u001b[1;33m\u001b[0m\u001b[1;33m\u001b[0m\u001b[0m\n",
      "\n",
      "\u001b[1;32mC:\\ProgramData\\Anaconda3\\lib\\site-packages\\pandas\\core\\frame.py\u001b[0m in \u001b[0;36mset_index\u001b[1;34m(self, keys, drop, append, inplace, verify_integrity)\u001b[0m\n",
      "\u001b[0;32m   4777\u001b[0m         \u001b[1;32mif\u001b[0m \u001b[0mverify_integrity\u001b[0m \u001b[1;32mand\u001b[0m \u001b[1;32mnot\u001b[0m \u001b[0mindex\u001b[0m\u001b[1;33m.\u001b[0m\u001b[0mis_unique\u001b[0m\u001b[1;33m:\u001b[0m\u001b[1;33m\u001b[0m\u001b[1;33m\u001b[0m\u001b[0m\n",
      "\u001b[0;32m   4778\u001b[0m             \u001b[0mduplicates\u001b[0m \u001b[1;33m=\u001b[0m \u001b[0mindex\u001b[0m\u001b[1;33m[\u001b[0m\u001b[0mindex\u001b[0m\u001b[1;33m.\u001b[0m\u001b[0mduplicated\u001b[0m\u001b[1;33m(\u001b[0m\u001b[1;33m)\u001b[0m\u001b[1;33m]\u001b[0m\u001b[1;33m.\u001b[0m\u001b[0munique\u001b[0m\u001b[1;33m(\u001b[0m\u001b[1;33m)\u001b[0m\u001b[1;33m\u001b[0m\u001b[1;33m\u001b[0m\u001b[0m\n",
      "\u001b[1;32m-> 4779\u001b[1;33m             \u001b[1;32mraise\u001b[0m \u001b[0mValueError\u001b[0m\u001b[1;33m(\u001b[0m\u001b[1;34mf\"Index has duplicate keys: {duplicates}\"\u001b[0m\u001b[1;33m)\u001b[0m\u001b[1;33m\u001b[0m\u001b[1;33m\u001b[0m\u001b[0m\n",
      "\u001b[0m\u001b[0;32m   4780\u001b[0m \u001b[1;33m\u001b[0m\u001b[0m\n",
      "\u001b[0;32m   4781\u001b[0m         \u001b[1;31m# use set to handle duplicate column names gracefully in case of drop\u001b[0m\u001b[1;33m\u001b[0m\u001b[1;33m\u001b[0m\u001b[1;33m\u001b[0m\u001b[0m\n",
      "\n",
      "\u001b[1;31mValueError\u001b[0m: Index has duplicate keys: Index(['Joe'], dtype='object', name='Name')"
     ]
    }
   ],
   "source": [
    "import pandas as pd\n",
    "\n",
    "student_dict = {'Name':['Joe','Nat','Joe'], 'Age':[20,21,19], 'Marks':[85.10, 77.80, 91.54]}\n",
    "\n",
    "# create DataFrame from dict\n",
    "student_df = pd.DataFrame(student_dict)\n",
    "print(\"Before set index: \\n\", student_df)\n",
    "\n",
    "# set index error case\n",
    "student_df = student_df.set_index('Name', verify_integrity=True)\n",
    "print(\"\\nAfter set index: \\n\", student_df)"
   ]
  },
  {
   "cell_type": "markdown",
   "metadata": {},
   "source": [
    "### Set index by column number\n",
    "\n",
    "If we need to set single or multiple columns as an index of the DataFrame, but we do not know the column labels to pass to **`DataFrame.set_index()`** function. In such a case, we can use the columns parameter of the DataFrame to retrieve the column index position.\n",
    "\n",
    "We need to create a list of columns using column position **`df.columns[[0,1]]`** and pass it to the **`DataFrame.set_index()`** function.\n"
   ]
  },
  {
   "cell_type": "code",
   "execution_count": null,
   "metadata": {},
   "outputs": [
    {
     "name": "stdout",
     "output_type": "stream",
     "text": [
      "Before set index: \n",
      "     Name  Age  Marks\n",
      "0    Joe   20  85.10\n",
      "1    Nat   21  77.80\n",
      "2  Harry   19  91.54\n",
      "\n",
      "After set index: \n",
      "              Age\n",
      "Name  Marks     \n",
      "Joe   85.10   20\n",
      "Nat   77.80   21\n",
      "Harry 91.54   19\n"
     ]
    }
   ],
   "source": [
    "import pandas as pd\n",
    "\n",
    "student_dict = {'Name':['Joe','Nat','Harry'], 'Age':[20,21,19], 'Marks':[85.10, 77.80, 91.54]}\n",
    "\n",
    "# create DataFrame from dict\n",
    "student_df = pd.DataFrame(student_dict)\n",
    "print(\"Before set index: \\n\", student_df)\n",
    "\n",
    "# set index\n",
    "cols = list(student_df.columns[[0,2]])\n",
    "student_df = student_df.set_index(cols)\n",
    "print(\"\\nAfter set index: \\n\", student_df)"
   ]
  },
  {
   "cell_type": "markdown",
   "metadata": {},
   "source": [
    "## `DataFrame.reset_index()`\n",
    "___\n",
    "\n",
    "After dropping and filtering the rows, this function is used to reset the index of the resultant Python DataFrame. Let’s discuss how to use **`DataFrame.reset_index()`** function in detail.\n",
    "\n",
    "**Syntax:**\n",
    "```python\n",
    "DataFrame.reset_index(level=None, drop=False, inplace=False, col_level=0, col_fill='')\n",
    "```"
   ]
  },
  {
   "cell_type": "markdown",
   "metadata": {},
   "source": [
    "### Reset index to starts at 0\n",
    "\n",
    "How to reset index in pandas DataFrame?\n",
    "\n",
    "1. **Create pandas DataFrame**\n",
    "    * We can create a DataFrame from a CSV file or **`dict`**.\n",
    "\n",
    "\n",
    "2. **Manipulate the DataFrame**\n",
    "    * When we manipulate the DataFrame like **[drop duplicates](/content/tools/pandas/001_Python_Pandas_Methods/005_Python_Pandas_DataFrame_drop_duplicates.ipynb)** or sort values, we get the new DataFrame, but it carries the original row index.\n",
    "**`df = df.drop_duplicates()`**\n",
    "\n",
    "\n",
    "3. **Use `DataFrame.reset_index()` function**\n",
    "    * We can use **`DataFrame.reset_index()`** to reset the index of the updated DataFrame. By default, it adds the current row index as a new column called **index** in DataFrame, and it will create a new row index as a range of numbers starting at 0.\n",
    "**`df = df.reset_index()`**\n",
    "\n",
    "\n",
    "4. **Reset index without adding new column**\n",
    "    * By default, **`DataFrame.reset_index()`** adds the current row index as a new column in DataFrame. If we do not want to add the new column, we can use the **`drop`** parameter.\n",
    "**`df = df.reset_index(drop=True)`**\n",
    "\n",
    "\n",
    "5. **Reset index in place**\n",
    "    * We can use the parameter **`inplace`** to reset the index in the existing DataFrame rather than create a new copy.\n",
    "**`df.reset_index(inplace=True)`**\n",
    "\n",
    "<div>\n",
    "<img src=\"img/dfri.png\" width=\"600\"/>\n",
    "</div>"
   ]
  },
  {
   "cell_type": "code",
   "execution_count": null,
   "metadata": {},
   "outputs": [
    {
     "name": "stdout",
     "output_type": "stream",
     "text": [
      "Original DataFrame: \n",
      "      Name   Age  Marks\n",
      "s1    Joe  20.0  85.10\n",
      "s2    Nat  21.0  77.80\n",
      "s3    NaN   NaN    NaN\n",
      "s4  Harry  19.0  91.54\n",
      "\n",
      "DataFrame after dropping N/A: \n",
      "      Name   Age  Marks\n",
      "s1    Joe  20.0  85.10\n",
      "s2    Nat  21.0  77.80\n",
      "s4  Harry  19.0  91.54\n",
      "\n",
      "DataFrame after resetting index: \n",
      "   index   Name   Age  Marks\n",
      "0    s1    Joe  20.0  85.10\n",
      "1    s2    Nat  21.0  77.80\n",
      "2    s4  Harry  19.0  91.54\n"
     ]
    }
   ],
   "source": [
    "import numpy as np\n",
    "\n",
    "student_dict = {'Name': ['Joe', 'Nat', np.NaN, 'Harry'], 'Age': [20, 21, np.NaN, 19],\n",
    "                'Marks': [85.10, 77.80, np.NaN, 91.54]}\n",
    "\n",
    "# create DataFrame from dict\n",
    "student_df = pd.DataFrame(student_dict, index=['s1', 's2', 's3', 's4'])\n",
    "print(\"Original DataFrame: \\n\", student_df)\n",
    "\n",
    "# drop NA\n",
    "student_df = student_df.dropna()\n",
    "print(\"\\nDataFrame after dropping N/A: \\n\", student_df)\n",
    "\n",
    "# reset index\n",
    "student_df = student_df.reset_index()\n",
    "print(\"\\nDataFrame after resetting index: \\n\", student_df)"
   ]
  },
  {
   "cell_type": "markdown",
   "metadata": {},
   "source": [
    "### Reset index without new column\n",
    "\n",
    "By default, **`DataFrame.reset_index()`** adds the current row index as a new **index** column in DataFrame. If we do not want to add the new column, we can use the drop parameter.\n",
    "\n",
    "* If **`drop=True`** then it does not add the new column of the current row index in the DataFrame.\n",
    "* If **`drop=False`**, is the default behavior where it adds the new column of the current row index in the DataFrame.\n"
   ]
  },
  {
   "cell_type": "code",
   "execution_count": null,
   "metadata": {},
   "outputs": [
    {
     "name": "stdout",
     "output_type": "stream",
     "text": [
      "Before reset index: \n",
      "      Name  Age  Marks\n",
      "s1    Joe   20  85.10\n",
      "s2    Nat   21  77.80\n",
      "s3  Harry   19  91.54\n",
      "\n",
      "After reset index: \n",
      "     Name  Age  Marks\n",
      "0    Joe   20  85.10\n",
      "1    Nat   21  77.80\n",
      "2  Harry   19  91.54\n"
     ]
    }
   ],
   "source": [
    "import pandas as pd\n",
    "\n",
    "student_dict = {'Name': ['Joe', 'Nat', 'Harry'], 'Age': [20, 21, 19], 'Marks': [85.10, 77.80, 91.54]}\n",
    "\n",
    "# create DataFrame from dict\n",
    "student_df = pd.DataFrame(student_dict, index=['s1', 's2', 's3'])\n",
    "print(\"Before reset index: \\n\", student_df)\n",
    "\n",
    "# reset index without new column\n",
    "student_df = student_df.reset_index(drop=True)\n",
    "print(\"\\nAfter reset index: \\n\", student_df)"
   ]
  },
  {
   "cell_type": "markdown",
   "metadata": {},
   "source": [
    "## Reset index in place\n",
    "\n",
    "In the above examples, whenever we executed reset index operation, pandas created a new copy of DataFrame because the modification is not-in place.\n",
    "\n",
    "Specify **`inplace=True`** to reset index in the existing DataFrame rather than creating a copy of it.\n",
    "\n",
    "* If the **`inplace=True`** then it updates the existing DataFrame and does not return anything.\n",
    "* If the **`inplace=False`** then it creates a new DataFrame with an updated index and returns it.\n",
    "\n",
    ">**Note:** You don’t need to assign the result back to a variable as we are performing modifications in place."
   ]
  },
  {
   "cell_type": "code",
   "execution_count": null,
   "metadata": {},
   "outputs": [
    {
     "name": "stdout",
     "output_type": "stream",
     "text": [
      "Before reset index: \n",
      "      Name  Age  Marks\n",
      "s1    Joe   20  85.10\n",
      "s2    Nat   21  77.80\n",
      "s3  Harry   19  91.54\n",
      "\n",
      "After reset index: \n",
      "   index   Name  Age  Marks\n",
      "0    s1    Joe   20  85.10\n",
      "1    s2    Nat   21  77.80\n",
      "2    s3  Harry   19  91.54\n"
     ]
    }
   ],
   "source": [
    "import pandas as pd\n",
    "\n",
    "student_dict = {'Name': ['Joe', 'Nat', 'Harry'], 'Age': [20, 21, 19], 'Marks': [85.10, 77.80, 91.54]}\n",
    "\n",
    "# create DataFrame from dict\n",
    "student_df = pd.DataFrame(student_dict, index=['s1', 's2', 's3'])\n",
    "print(\"Before reset index: \\n\", student_df)\n",
    "\n",
    "# reset index in place\n",
    "student_df.reset_index(inplace=True)\n",
    "print(\"\\nAfter reset index: \\n\", student_df)"
   ]
  },
  {
   "cell_type": "markdown",
   "metadata": {},
   "source": [
    "### Reset index starts from 1\n",
    "\n",
    "Suppose we have a huge dataset which we need to filter. After filtering the DataFrame, it still carries the original index. When we want to reset the index of the DataFrame such that the new index should start with 1, we can do that in two steps,\n",
    "\n",
    "* Use **`DataFrame.reset_index()`** to reset the row index to start at o.\n",
    "* Use the **`index`** parameter of the DataFrame to re-assign the index by adding 1 to each row index of the resultant DataFrame."
   ]
  },
  {
   "cell_type": "code",
   "execution_count": null,
   "metadata": {},
   "outputs": [
    {
     "name": "stdout",
     "output_type": "stream",
     "text": [
      "Before reset index: \n",
      "      Name  Age  Marks\n",
      "s1    Joe   20  85.10\n",
      "s2    Nat   21  77.80\n",
      "s3  Harry   19  91.54\n",
      "\n",
      "After reset index: \n",
      "   index   Name  Age  Marks\n",
      "1    s1    Joe   20  85.10\n",
      "2    s2    Nat   21  77.80\n",
      "3    s3  Harry   19  91.54\n"
     ]
    }
   ],
   "source": [
    "import pandas as pd\n",
    "\n",
    "student_dict = {'Name': ['Joe', 'Nat', 'Harry'], 'Age': [20, 21, 19], 'Marks': [85.10, 77.80, 91.54]}\n",
    "\n",
    "# create DataFrame from dict\n",
    "student_df = pd.DataFrame(student_dict, index=['s1', 's2', 's3'])\n",
    "print(\"Before reset index: \\n\", student_df)\n",
    "\n",
    "# reset index\n",
    "student_df = student_df.reset_index()\n",
    "\n",
    "# add 1 to each index\n",
    "student_df.index = student_df.index + 1\n",
    "\n",
    "print(\"\\nAfter reset index: \\n\", student_df)"
   ]
  },
  {
   "cell_type": "markdown",
   "metadata": {},
   "source": [
    "### Reset index to the range of numbers\n",
    "\n",
    "In our student DataFrame, suppose we want to assign the Identity number to each student starting from 101. We can use the index parameter of DataFrame to change the **`index`** as a range of numbers that begins at a specific number.\n",
    "\n",
    "First, we need to generate the range of numbers and then assign it to the **`DataFrame.index`** to reset the original index.\n"
   ]
  },
  {
   "cell_type": "code",
   "execution_count": null,
   "metadata": {},
   "outputs": [
    {
     "name": "stdout",
     "output_type": "stream",
     "text": [
      "Before reset index: \n",
      "      Name  Age  Marks\n",
      "s1    Joe   20  85.10\n",
      "s2    Nat   21  77.80\n",
      "s3  Harry   19  91.54\n",
      "\n",
      "After reset index: \n",
      "       Name  Age  Marks\n",
      "101    Joe   20  85.10\n",
      "102    Nat   21  77.80\n",
      "103  Harry   19  91.54\n"
     ]
    }
   ],
   "source": [
    "import pandas as pd\n",
    "\n",
    "student_dict = {'Name':['Joe','Nat','Harry'], 'Age':[20,21,19], 'Marks':[85.10, 77.80, 91.54]}\n",
    "\n",
    "# create DataFrame from dict\n",
    "student_df = pd.DataFrame(student_dict, index=['s1','s2','s3'])\n",
    "print(\"Before reset index: \\n\", student_df)\n",
    "\n",
    "# assign new index from 1 to n\n",
    "student_df.index = pd.RangeIndex(start=101, stop=101+len(student_df), step=1)\n",
    "\n",
    "print(\"\\nAfter reset index: \\n\", student_df)"
   ]
  },
  {
   "cell_type": "markdown",
   "metadata": {},
   "source": [
    "### Reset index and change column name\n",
    "\n",
    "As we have already discussed, **`DataFrame.reset_index()`** adds the current index as a new column with the name **index** in the DataFrame. If we want to give a name to such a newly added column, then we need to use **`DataFrame.rename()`** function with **`DataFrame.reset_index()`**.\n"
   ]
  },
  {
   "cell_type": "code",
   "execution_count": null,
   "metadata": {},
   "outputs": [
    {
     "name": "stdout",
     "output_type": "stream",
     "text": [
      "Before reset index: \n",
      "      Name  Age  Marks\n",
      "s1    Joe   20  85.10\n",
      "s2    Nat   21  77.80\n",
      "s3  Harry   19  91.54\n",
      "\n",
      "After reset index: \n",
      "    ID   Name  Age  Marks\n",
      "0  s1    Joe   20  85.10\n",
      "1  s2    Nat   21  77.80\n",
      "2  s3  Harry   19  91.54\n"
     ]
    }
   ],
   "source": [
    "import pandas as pd\n",
    "\n",
    "student_dict = {'Name': ['Joe', 'Nat', 'Harry'], 'Age': [20, 21, 19], 'Marks': [85.10, 77.80, 91.54]}\n",
    "\n",
    "# create DataFrame from dict\n",
    "student_df = pd.DataFrame(student_dict, index=['s1', 's2', 's3'])\n",
    "print(\"Before reset index: \\n\", student_df)\n",
    "\n",
    "# reset index and rename\n",
    "student_df = student_df.reset_index().rename(columns={'index': 'ID'})\n",
    "print(\"\\nAfter reset index: \\n\", student_df)"
   ]
  },
  {
   "cell_type": "markdown",
   "metadata": {},
   "source": [
    "### Reset multi-level index\n",
    "\n",
    "When Python pandas DataFrame has multiple row index or column headers, then are called **multi-level** or **hierarchical** DataFrame. We can apply **`DataFrame.reset index()`** on such multi-index DataFrame.\n",
    "\n",
    "The below diagram shows hierarchical DataFrame of Student data with two-column headers where column labels **`Name`** and **`Marks`** are at level 0 and **`Surname`** and **`Percentage`** at level 1. Similarly, two-row indexes where index **`Standard`** at level 0 and **`Class`** at level 1 of the DataFrame.\n",
    "\n",
    "<div>\n",
    "<img src=\"img/midf.png\" width=\"600\"/>\n",
    "</div>\n"
   ]
  },
  {
   "cell_type": "code",
   "execution_count": null,
   "metadata": {},
   "outputs": [
    {
     "name": "stdout",
     "output_type": "stream",
     "text": [
      "\n",
      "After reset index: \n",
      "                       Name      Marks\n",
      "                   Surname Percentage\n",
      "Standard   Class                     \n",
      "Standard 1 Class A     Joe      91.56\n",
      "           Class B     Nat      87.90\n",
      "Standard 2 Class A   Harry      70.10\n",
      "           Class B     Sam      65.48\n"
     ]
    }
   ],
   "source": [
    "import pandas as pd\n",
    "\n",
    "index = pd.MultiIndex.from_tuples([('Standard 1', 'Class A'),\n",
    "                                   ('Standard 1', 'Class B'),\n",
    "                                   ('Standard 2', 'Class A'),\n",
    "                                   ('Standard 2', 'Class B')],\n",
    "                                  names=['Standard', 'Class'])\n",
    "columns = pd.MultiIndex.from_tuples([('Name', 'Surname'),\n",
    "                                     ('Marks', 'Percentage')])\n",
    "\n",
    "# create multi-index dataframe\n",
    "student_df = pd.DataFrame([('Joe', 91.56),\n",
    "                           ('Nat', 87.90),\n",
    "                           ('Harry', 70.10),\n",
    "                           ('Sam', 65.48)],\n",
    "                          index=index, columns=columns)\n",
    "print(\"\\nAfter reset index: \\n\", student_df)"
   ]
  },
  {
   "cell_type": "markdown",
   "metadata": {},
   "source": [
    "Now we see how to reset the index of the multi-level DataFrame using **`DataFrame.reset index()`**. By default, it reset the index of all the levels and add the new range of indexes in the DataFrame."
   ]
  },
  {
   "cell_type": "code",
   "execution_count": null,
   "metadata": {},
   "outputs": [
    {
     "name": "stdout",
     "output_type": "stream",
     "text": [
      "     Standard    Class    Name      Marks\n",
      "                       Surname Percentage\n",
      "0  Standard 1  Class A     Joe      91.56\n",
      "1  Standard 1  Class B     Nat      87.90\n",
      "2  Standard 2  Class A   Harry      70.10\n",
      "3  Standard 2  Class B     Sam      65.48\n"
     ]
    }
   ],
   "source": [
    "# reset multi-level index\n",
    "student_df = student_df.reset_index()\n",
    "print(student_df)"
   ]
  },
  {
   "cell_type": "markdown",
   "metadata": {},
   "source": [
    "###  Reset index by level\n",
    "\n",
    "As we have seen, in the case of a multi-level index, by default **`DataFrame.reset_index()`** applies to the index of all the levels. If we want to reset the index of the specific level only then, we can use the **`level`** parameter of the **`DataFrame.reset_index()`** function.\n",
    "\n",
    "It takes a **level position** or **level name** as input to reset that particular index only.\n"
   ]
  },
  {
   "cell_type": "code",
   "execution_count": null,
   "metadata": {},
   "outputs": [
    {
     "name": "stdout",
     "output_type": "stream",
     "text": [
      "           Standard    Name      Marks\n",
      "                    Surname Percentage\n",
      "Class                                 \n",
      "Class A  Standard 1     Joe      91.56\n",
      "Class B  Standard 1     Nat      87.90\n",
      "Class A  Standard 2   Harry      70.10\n",
      "Class B  Standard 2     Sam      65.48\n"
     ]
    }
   ],
   "source": [
    "student_df = pd.DataFrame([('Joe', 91.56),\n",
    "                           ('Nat', 87.90),\n",
    "                           ('Harry', 70.10),\n",
    "                           ('Sam', 65.48)],\n",
    "                          index=index, columns=columns)\n",
    "\n",
    "# reset multi-level index by level\n",
    "student_df = student_df.reset_index(level='Standard')\n",
    "print(student_df)"
   ]
  },
  {
   "cell_type": "markdown",
   "metadata": {},
   "source": [
    "### Reset index and creates new column in level\n",
    "\n",
    "As we have observed in the above section, by default, **`DataFrame.reset_index()`** all the new column at the first level, i.e., level 0. If we want to add the new index column to other levels, we can use the **`col_level`** parameter.\n",
    "\n",
    "It takes the level name or level position as an input if the columns have multiple levels, so it determines which level the labels are inserted into.\n"
   ]
  },
  {
   "cell_type": "code",
   "execution_count": null,
   "metadata": {},
   "outputs": [
    {
     "name": "stdout",
     "output_type": "stream",
     "text": [
      "                       Name      Marks\n",
      "           Standard Surname Percentage\n",
      "Class                                 \n",
      "Class A  Standard 1     Joe      91.56\n",
      "Class B  Standard 1     Nat      87.90\n",
      "Class A  Standard 2   Harry      70.10\n",
      "Class B  Standard 2     Sam      65.48\n"
     ]
    }
   ],
   "source": [
    "student_df = pd.DataFrame([('Joe', 91.56),\n",
    "                           ('Nat', 87.90),\n",
    "                           ('Harry', 70.10),\n",
    "                           ('Sam', 65.48)],\n",
    "                          index=index, columns=columns)\n",
    "\n",
    "# reset multi-level index and add at level 1\n",
    "student_df = student_df.reset_index(level='Standard', col_level=1)\n",
    "print(student_df)"
   ]
  },
  {
   "cell_type": "markdown",
   "metadata": {},
   "source": [
    "### Reset index and name other level\n",
    "\n",
    "As we see in the above section, in multi-level DataFrame, we have added the **`Standard`** index at level 1. If there is a case when we need to rename the other level, we need to use the **`col_fill`** parameter of DataFrame.\n",
    "\n",
    "We can specify any existing column label under which the new column will be assigned. If we specify the new label, then it will create one."
   ]
  },
  {
   "cell_type": "code",
   "execution_count": null,
   "metadata": {},
   "outputs": [
    {
     "name": "stdout",
     "output_type": "stream",
     "text": [
      "         New_Header    Name      Marks\n",
      "           Standard Surname Percentage\n",
      "Class                                 \n",
      "Class A  Standard 1     Joe      91.56\n",
      "Class B  Standard 1     Nat      87.90\n",
      "Class A  Standard 2   Harry      70.10\n",
      "Class B  Standard 2     Sam      65.48\n"
     ]
    }
   ],
   "source": [
    "student_df = pd.DataFrame([('Joe', 91.56),\n",
    "                           ('Nat', 87.90),\n",
    "                           ('Harry', 70.10),\n",
    "                           ('Sam', 65.48)],\n",
    "                          index=index, columns=columns)\n",
    "\n",
    "# reset multi-level index\n",
    "student_df = student_df.reset_index(level='Standard', col_level=1, col_fill='New_Header')\n",
    "print(student_df)"
   ]
  }
 ],
 "metadata": {
  "language_info": {
   "name": "python"
  }
 },
 "nbformat": 4,
 "nbformat_minor": 2
}
