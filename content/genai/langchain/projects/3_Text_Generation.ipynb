{
 "cells": [
  {
   "cell_type": "markdown",
   "id": "9b7de473",
   "metadata": {},
   "source": [
    "# Text Generation\n",
    "\n",
    "Text generation is an LLM use case where the model creates coherent and contextually relevant content based on a prompt or input. This includes tasks like writing blog posts, articles, stories, emails, or even code. \n",
    "\n",
    "It helps automate creative and professional writing, enhances productivity, and supports brainstorming by generating ideas or drafts, making it highly valuable in content creation, marketing, and communication."
   ]
  },
  {
   "cell_type": "markdown",
   "id": "8d695730",
   "metadata": {},
   "source": [
    "## Instructing LLMs To Match Tone\n",
    "\n",
    "LLMs that generate text are awesome, but what if you want to edit the tone/style it responds with?\n",
    "\n",
    "We've all seen the [pirate](https://python.langchain.com/en/latest/modules/agents/agents/custom_llm_agent.html#:~:text=template%20%3D%20%22%22%22Answer%20the%20following%20questions%20as%20best%20you%20can%2C%20but%20speaking%20as%20a%20pirate%20might%20speak.%20You%20have%20access%20to%20the%20following%20tools%3A) examples, but it would be awesome if we could tune the prompt to match the tone of specific people?\n",
    "\n",
    "Below is a series of techniques aimed to generate text in the tone and style you want. No single technique will likely be *exactly* what you need.\n",
    "\n",
    "### 4 Levels Of Tone Matching Techniques:\n",
    "1. **Simple:** As a human, try and describe the tone you would like\n",
    "2. **Intermediate:** Include your description + examples\n",
    "3. **AI-Assisted:** Ask the LLM to extract tone, use their output in your next prompt\n",
    "4. **Technique Fusion:** Combine multiple techniques to mimic tone\n",
    "\n",
    "**Goal**: Generate tweets mimicking the style of online personalities. You could customize this code to generate emails, chat messages, writing, etc.\n",
    "\n",
    "First let's import our packages"
   ]
  },
  {
   "cell_type": "code",
   "execution_count": null,
   "id": "9caa65c3",
   "metadata": {},
   "outputs": [],
   "source": [
    "# Unzip data folder\n",
    "\n",
    "import zipfile\n",
    "with zipfile.ZipFile('../../data.zip', 'r') as zip_ref:\n",
    "    zip_ref.extractall('..')"
   ]
  },
  {
   "cell_type": "code",
   "execution_count": null,
   "id": "b2c40cef",
   "metadata": {},
   "outputs": [
    {
     "data": {
      "text/plain": [
       "True"
      ]
     },
     "metadata": {},
     "output_type": "display_data"
    }
   ],
   "source": [
    "# LangChain\n",
    "from langchain.chat_models import ChatOpenAI\n",
    "from langchain import PromptTemplate\n",
    "\n",
    "# Environment Variables\n",
    "import os\n",
    "from dotenv import load_dotenv\n",
    "\n",
    "# Twitter\n",
    "import tweepy\n",
    "\n",
    "load_dotenv()"
   ]
  },
  {
   "cell_type": "markdown",
   "id": "1c1c1f09",
   "metadata": {},
   "source": [
    "Set your OpenAI key. You can either put it as an environment variable or in the string below"
   ]
  },
  {
   "cell_type": "code",
   "execution_count": null,
   "id": "3ef8da29",
   "metadata": {},
   "outputs": [],
   "source": [
    "openai_api_key = os.getenv('OPENAI_API_KEY', 'YourAPIKeyIfNotSet')"
   ]
  },
  {
   "cell_type": "markdown",
   "id": "d718d597",
   "metadata": {},
   "source": [
    "We'll be using `gpt-4` today, but you can swap out for `gpt-3.5-turbo` if you'd like"
   ]
  },
  {
   "cell_type": "code",
   "execution_count": null,
   "id": "63d9847f",
   "metadata": {},
   "outputs": [],
   "source": [
    "llm = ChatOpenAI(temperature=0, openai_api_key=openai_api_key, model_name='gpt-4')"
   ]
  },
  {
   "cell_type": "markdown",
   "id": "813aa05e",
   "metadata": {},
   "source": [
    "### Method #1: Simple - Describe the tone you would like\n",
    "\n",
    "Our first method is going to be simply describing the tone we would like.\n",
    "\n",
    "Let's try a few exmaples"
   ]
  },
  {
   "cell_type": "code",
   "execution_count": null,
   "id": "9daa9742",
   "metadata": {},
   "outputs": [
    {
     "name": "stdout",
     "output_type": "stream",
     "text": [
      "\"Sunshine, fresh air, and a scrumptious sandwich in hand 🥪🌳 Just had the perfect afternoon at the park, soaking up nature's beauty while munching on my favorite meal! #ParkPicnic #SandwichLover\"\n"
     ]
    }
   ],
   "source": [
    "prompt = \"\"\"\n",
    "Please create me a tweet about going to the park and eating a sandwich.\n",
    "\"\"\"\n",
    "\n",
    "output = llm.predict(prompt)\n",
    "print (output)"
   ]
  },
  {
   "cell_type": "markdown",
   "id": "f6be4c26",
   "metadata": {},
   "source": [
    "Not bad, but I don't love the emojis and I want it to use more conversational modern language.\n",
    "\n",
    "Let's try again"
   ]
  },
  {
   "cell_type": "code",
   "execution_count": null,
   "id": "561c7b13",
   "metadata": {},
   "outputs": [
    {
     "name": "stdout",
     "output_type": "stream",
     "text": [
      "Had a fun day at the park today! I played on the swings and ate a yummy sandwich for lunch. I love spending time outside!\n"
     ]
    }
   ],
   "source": [
    "prompt = \"\"\"\n",
    "Please create me a tweet about going to the park and eating a sandwich.\n",
    "\n",
    "% TONE\n",
    " - Don't use any emojis or hashtags.\n",
    " - Use simple language a 5 year old would understand\n",
    "\"\"\"\n",
    "\n",
    "output = llm.predict(prompt)\n",
    "print (output)"
   ]
  },
  {
   "cell_type": "markdown",
   "id": "78cabe90",
   "metadata": {},
   "source": [
    "Ok cool! The tone has changed. Not bad but now I want it to sound like a specific person. Let's try Bill Gates:"
   ]
  },
  {
   "cell_type": "code",
   "execution_count": null,
   "id": "a25d3d6e",
   "metadata": {},
   "outputs": [
    {
     "name": "stdout",
     "output_type": "stream",
     "text": [
      "There's something truly delightful about spending an afternoon at the park, enjoying a well-crafted sandwich, and contemplating the beauty of nature. It's a simple pleasure that reminds us of the importance of taking a break from our busy lives to appreciate the world around us.\n"
     ]
    }
   ],
   "source": [
    "prompt = \"\"\"\n",
    "Please create me a tweet about going to the park and eating a sandwich.\n",
    "\n",
    "% TONE\n",
    " - Don't use any emojis or hashtags.\n",
    " - Respond in the tone of Bill Gates\n",
    "\"\"\"\n",
    "\n",
    "output = llm.predict(prompt)\n",
    "print (output)"
   ]
  },
  {
   "cell_type": "markdown",
   "id": "66f8b490",
   "metadata": {},
   "source": [
    "It's ok, I'd give the response a `C+` right now.\n",
    "\n",
    "Let's give some example tweets so the model can better match tone/style.\n",
    "\n",
    "`⭐ Important Tip: When you're giving examples, make sure to have the examples the same as the desired output format. Ex: Tweets > Tweets, Email > Email`. Don't do `Tweets > Email`"
   ]
  },
  {
   "cell_type": "markdown",
   "id": "02a069e5",
   "metadata": {},
   "source": [
    "### Method #2: Intermediate - Specify your tone description + examples\n",
    "\n",
    "Examples speak a thousand words. Let's pass a few along with our instructions to see how it goes\n",
    "\n",
    "#### Get a users Tweets\n",
    "\n",
    "Next let's grab a users tweets. We'll do this in a function so it's easy to pull them later"
   ]
  },
  {
   "cell_type": "markdown",
   "id": "73d62c29",
   "metadata": {},
   "source": [
    "Since we are live Tweets, you'll need to grather some Twitter api keys. You can get these on the [Twitter Developer Portal](https://developer.twitter.com/en/portal/dashboard). The free tier is fine, but watch out for rate limits."
   ]
  },
  {
   "cell_type": "code",
   "execution_count": null,
   "id": "3f7566f6",
   "metadata": {},
   "outputs": [],
   "source": [
    "# Replace these values with your own Twitter API credentials\n",
    "TWITTER_API_KEY = os.getenv('TWITTER_API_KEY', 'YourAPIKeyIfNotSet')\n",
    "TWITTER_API_KEY_SECRET = os.getenv('TWITTER_API_KEY_SECRET', 'YourAPIKeyIfNotSet')\n",
    "TWITTER_ACCESS_TOKEN = os.getenv('TWITTER_ACCESS_TOKEN', 'YourAPIKeyIfNotSet')\n",
    "TWITTER_ACCESS_TOKEN_SECRET = os.getenv('TWITTER_ACCESS_TOKEN_SECRET', 'YourAPIKeyIfNotSet')"
   ]
  },
  {
   "cell_type": "code",
   "execution_count": null,
   "id": "05214b60",
   "metadata": {},
   "outputs": [],
   "source": [
    "# We'll query 70 tweets because we end up filtering out a bunch, but we'll only return the top 12.\n",
    "# We will also only use a subset of the top tweets later\n",
    "def get_original_tweets(screen_name, tweets_to_pull=70, tweets_to_return=12):\n",
    "    \n",
    "    # Tweepy set up\n",
    "    auth = tweepy.OAuthHandler(TWITTER_API_KEY, TWITTER_API_KEY_SECRET)\n",
    "    auth.set_access_token(TWITTER_ACCESS_TOKEN, TWITTER_ACCESS_TOKEN_SECRET)\n",
    "    api = tweepy.API(auth)\n",
    "\n",
    "    tweets = []\n",
    "    \n",
    "    tweepy_results = tweepy.Cursor(api.user_timeline,\n",
    "                                   screen_name=screen_name,\n",
    "                                   tweet_mode='extended',\n",
    "                                   exclude_replies=True).items(tweets_to_pull)\n",
    "    \n",
    "    # Run through tweets and remove retweets and quote tweets so we can only look at a user's raw emotions\n",
    "    for status in tweepy_results:\n",
    "        if not hasattr(status, 'retweeted_status') and not hasattr(status, 'quoted_status'):\n",
    "            tweets.append({'full_text': status.full_text, 'likes': status.favorite_count})\n",
    "\n",
    "    \n",
    "    # Sort the tweets by number of likes. This will help us short_list the top ones later\n",
    "    sorted_tweets = sorted(tweets, key=lambda x: x['likes'], reverse=True)\n",
    "\n",
    "    # Get the text and drop the like count from the dictionary\n",
    "    full_text = [x['full_text'] for x in sorted_tweets][:tweets_to_return]\n",
    "    \n",
    "    # Conver the list of tweets into a string of tweets we can use in the prompt later\n",
    "    example_tweets = \"\\n\\n\".join(full_text)\n",
    "            \n",
    "    return example_tweets"
   ]
  },
  {
   "cell_type": "markdown",
   "id": "e9ca84e0",
   "metadata": {},
   "source": [
    "Let's grab Bill Gates tweets and use those as examples"
   ]
  },
  {
   "cell_type": "code",
   "execution_count": null,
   "id": "863dd0e6",
   "metadata": {},
   "outputs": [],
   "source": [
    "user_screen_name = 'billgates'  # Replace this with the desired user's screen name\n",
    "users_tweets = get_original_tweets(user_screen_name)"
   ]
  },
  {
   "cell_type": "markdown",
   "id": "9445974d",
   "metadata": {},
   "source": [
    "Let's look at a sample of Bill's tweets"
   ]
  },
  {
   "cell_type": "code",
   "execution_count": null,
   "id": "6025b7fb",
   "metadata": {},
   "outputs": [
    {
     "name": "stdout",
     "output_type": "stream",
     "text": [
      "These numbers prove why India plays such a crucial role in the world’s fight to improve health, reduce poverty, prevent climate change, and more. https://t.co/xMpmcoYQhi\n",
      "\n",
      "Mann ki Baat has catalyzed community led action on sanitation, health, women’s economic empowerment and other issues linked to the Sustainable Development Goals. Congratulations @narendramodi on the 100th episode. https://t.co/yg1Di2srjE\n",
      "\n",
      "The development of AI is as fundamental as the creation of the microprocessor, the personal computer, the Internet, and the mobile phone. It will change the way people work, learn, travel, get health care, and communicate with each other. https://t.co/uuaOQyxBTl\n",
      "\n",
      "I just returned from my visit to India, and I can’t wait to go back again. I love visiting India because every trip is an incredible opportunity to learn. Here are some photos from my trip and some of the stories behind them: https://t.co/We6PtJWDnp https://t.co/QxZW7gfUmI\n",
      "\n",
      "Superintelligent AIs are in our future. Compared to a computer, our brains operate at a snail’s pace. An electrical signal in the brain moves at ___________ the speed of the signal in a silicon chip. Check your answer here: https://t.co/wqZG1BdoTc\n",
      "\n",
      "Thinking of President Carter and his family. This is a lovely tribute to one of his biggest accomplishments. https://t.co/g53c4ty0qI\n",
      "\n",
      "Uganda’s maternal mortality rate is at least double the global average. That's why Eva Nangalo has dedicated her life to making childbirth in the country safer for everyone involved. https://t.co/29AjdJehNY\n",
      "\n",
      "I am so impressed with Eva Nangalo—it’s hard not to be. She’s spent decades making childbirth safer in Uganda for everyone involved, and she’s become a mentor to countless other midwives in the process. https://t.co/79RHbrCt01\n",
      "\n",
      "I recently had the chance to test drive—or test ride, I guess—one of @wayve_ai’s autonomous vehicles. It was a pretty wild ride: https://t.co/PrwrxU49dd https://t.co/NtnkVx7sBx\n",
      "\n",
      "When I transitioned from @Microsoft to working full-time at the @GatesFoundation, I finally had the time to learn more about physics, chemistry, biology, and other sciences. So, I looked around for the best books and read as many of them as I could find. https://t.co/z2D5xGSeMj\n",
      "\n",
      "As big as the problems facing the world are right now, my visit to India reminded me that our capacity to solve them is even bigger: https://t.co/zp7XfRIpV9 https://t.co/aFHUu987u3\n",
      "\n",
      "I’m grateful for the Lauder family’s dedication to solving Alzheimer’s. https://t.co/vX0qtjBFxt\n"
     ]
    }
   ],
   "source": [
    "print(users_tweets)"
   ]
  },
  {
   "cell_type": "markdown",
   "id": "3595ec38",
   "metadata": {},
   "source": [
    "#### Pass the tweets as examples"
   ]
  },
  {
   "cell_type": "code",
   "execution_count": null,
   "id": "3638497c",
   "metadata": {},
   "outputs": [
    {
     "name": "stdout",
     "output_type": "stream",
     "text": [
      "\n",
      "Please create me a tweet about going to the park and eating a sandwich.\n",
      "\n",
      "% TONE\n",
      " - Don't use any emojis or hashtags.\n",
      " - Respond in the tone of Bill Gates\n",
      "\n",
      "% START OF EXAMPLE TWEETS TO MIMIC\n",
      "These numbers prove why India plays such a crucial role in the world’s fight to improve health, reduce poverty, prevent climate change, and more. https://t.co/xMpmcoYQhi\n",
      "\n",
      "Mann ki Baat has catalyzed community led action on sanitation, health, women’s economic empowerment and other issues linked to the Sustainable Development Goals. Congratulations @narendramodi on the 100th episode. https://t.co/yg1Di2srjE\n",
      "\n",
      "The development of AI is as fundamental as the creation of the microprocessor, the personal computer, the Internet, and the mobile phone. It will change the way people work, learn, travel, get health care, and communicate with each other. https://t.co/uuaOQyxBTl\n",
      "\n",
      "I just returned from my visit to India, and I can’t wait to go back again. I love visiting India because every trip is an incredible opportunity to learn. Here are some photos from my trip and some of the stories behind them: https://t.co/We6PtJWDnp https://t.co/QxZW7gfUmI\n",
      "\n",
      "Superintelligent AIs are in our future. Compared to a computer, our brains operate at a snail’s pace. An electrical signal in the brain moves at ___________ the speed of the signal in a silicon chip. Check your answer here: https://t.co/wqZG1BdoTc\n",
      "\n",
      "Thinking of President Carter and his family. This is a lovely tribute to one of his biggest accomplishments. https://t.co/g53c4ty0qI\n",
      "\n",
      "Uganda’s maternal mortality rate is at least double the global average. That's why Eva Nangalo has dedicated her life to making childbirth in the country safer for everyone involved. https://t.co/29AjdJehNY\n",
      "\n",
      "I am so impressed with Eva Nangalo—it’s hard not to be. She’s spent decades making childbirth safer in Uganda for everyone involved, and she’s become a mentor to countless other midwives in the process. https://t.co/79RHbrCt01\n",
      "\n",
      "I recently had the chance to test drive—or test ride, I guess—one of @wayve_ai’s autonomous vehicles. It was a pretty wild ride: https://t.co/PrwrxU49dd https://t.co/NtnkVx7sBx\n",
      "\n",
      "When I transitioned from @Microsoft to working full-time at the @GatesFoundation, I finally had the time to learn more about physics, chemistry, biology, and other sciences. So, I looked around for the best books and read as many of them as I could find. https://t.co/z2D5xGSeMj\n",
      "\n",
      "As big as the problems facing the world are right now, my visit to India reminded me that our capacity to solve them is even bigger: https://t.co/zp7XfRIpV9 https://t.co/aFHUu987u3\n",
      "\n",
      "I’m grateful for the Lauder family’s dedication to solving Alzheimer’s. https://t.co/vX0qtjBFxt\n",
      "% END OF EXAMPLE TWEETS TO MIMIC\n",
      "\n",
      "YOUR TWEET:\n",
      "\n"
     ]
    }
   ],
   "source": [
    "template = \"\"\"\n",
    "Please create me a tweet about going to the park and eating a sandwich.\n",
    "\n",
    "% TONE\n",
    " - Don't use any emojis or hashtags.\n",
    " - Respond in the tone of Bill Gates\n",
    "\n",
    "% START OF EXAMPLE TWEETS TO MIMIC\n",
    "{example_tweets}\n",
    "% END OF EXAMPLE TWEETS TO MIMIC\n",
    "\n",
    "YOUR TWEET:\n",
    "\"\"\"\n",
    "\n",
    "prompt = PromptTemplate(\n",
    "    input_variables=[\"example_tweets\"],\n",
    "    template=template,\n",
    ")\n",
    "\n",
    "final_prompt = prompt.format(example_tweets=users_tweets)\n",
    "\n",
    "print (final_prompt)"
   ]
  },
  {
   "cell_type": "code",
   "execution_count": null,
   "id": "4d953e48",
   "metadata": {},
   "outputs": [
    {
     "name": "stdout",
     "output_type": "stream",
     "text": [
      "A simple pleasure like visiting the park and enjoying a sandwich can remind us of the importance of preserving our environment and supporting local food systems. Let's continue to innovate for a sustainable future.\n"
     ]
    }
   ],
   "source": [
    "output = llm.predict(final_prompt)\n",
    "print (output)"
   ]
  },
  {
   "cell_type": "markdown",
   "id": "045642eb",
   "metadata": {},
   "source": [
    "Wow! Ok now that is starting to get somewhere. Not bad at all! Sounds like Bill is in the room with us now.\n",
    "\n",
    "Let's see if we can refine it even more."
   ]
  },
  {
   "cell_type": "markdown",
   "id": "c0b7a834",
   "metadata": {},
   "source": [
    "### Method #3: AI-Assisted: Ask the LLM help with tone descriptions\n",
    "\n",
    "Turns out I'm not great at describing tone. Examples are a good way to help, but can we do more? Let's find out.\n",
    "\n",
    "I want to have the model tell me what tone *it* sees, then use that output as an *input* to the final prompt where I ask it to generate a tweet.\n",
    "\n",
    "Almost like reverse engineering tone.\n",
    "\n",
    "Why don't I do this all in one step? You likely could, but it would be nice to save this \"tone\" description for future use. Plus, I don't want the model to take too many logic jumps in a single response.\n",
    "\n",
    "I first thought, 'well... what are the qualities of tone I should have it describe?'\n",
    "\n",
    "Then I thought, Greg, c'mon man, you know better than that, see if the LLM has a good sense of what tone qualities there are. Duh.\n",
    "\n",
    "Let's see what are the qualities of tone we should extract"
   ]
  },
  {
   "cell_type": "code",
   "execution_count": null,
   "id": "05f4f528",
   "metadata": {},
   "outputs": [
    {
     "name": "stdout",
     "output_type": "stream",
     "text": [
      "1. Pace: The speed at which the story unfolds and events occur.\n",
      "2. Mood: The overall emotional atmosphere or feeling of the piece.\n",
      "3. Tone: The author's attitude towards the subject matter or characters.\n",
      "4. Voice: The unique style and personality of the author as it comes through in the writing.\n",
      "5. Diction: The choice of words and phrases used by the author.\n",
      "6. Syntax: The arrangement of words and phrases to create well-formed sentences.\n",
      "7. Imagery: The use of vivid and descriptive language to create mental images for the reader.\n",
      "8. Theme: The central idea or message of the piece.\n",
      "9. Point of View: The perspective from which the story is told (first person, third person, etc.).\n",
      "10. Structure: The organization and arrangement of the piece, including its chapters, sections, or stanzas.\n",
      "11. Dialogue: The conversations between characters in the piece.\n",
      "12. Characterization: The way the author presents and develops characters in the story.\n",
      "13. Setting: The time and place in which the story takes place.\n",
      "14. Foreshadowing: The use of hints or clues to suggest future events in the story.\n",
      "15. Irony: The use of words or situations to convey a meaning that is opposite of its literal meaning.\n",
      "16. Symbolism: The use of objects, characters, or events to represent abstract ideas or concepts.\n",
      "17. Allusion: A reference to another work of literature, person, or event within the piece.\n",
      "18. Conflict: The struggle between opposing forces or characters in the story.\n",
      "19. Suspense: The tension or excitement created by uncertainty about what will happen next in the story.\n",
      "20. Climax: The turning point or most intense moment in the story.\n",
      "21. Resolution: The conclusion of the story, where conflicts are resolved and loose ends are tied up.\n"
     ]
    }
   ],
   "source": [
    "prompt = \"\"\"\n",
    "Can you please generate a list of tone attributes and a description to describe a piece of writing by?\n",
    "\n",
    "Things like pace, mood, etc.\n",
    "\n",
    "Respond with nothing else besides the list\n",
    "\"\"\"\n",
    "\n",
    "how_to_describe_tone = llm.predict(prompt)\n",
    "print (how_to_describe_tone)"
   ]
  },
  {
   "cell_type": "markdown",
   "id": "404c985c",
   "metadata": {},
   "source": [
    "Ok great! Now that we have a solid list of ideas on how to instruct our language model for tone. Let's do some tone extraction!\n",
    "\n",
    "I found that when I asked the model for a description of the tone it would be passive and noncommittal so I included a line in the prompt about taking an active voice "
   ]
  },
  {
   "cell_type": "code",
   "execution_count": null,
   "id": "b64fe8a6",
   "metadata": {},
   "outputs": [],
   "source": [
    "def get_authors_tone_description(how_to_describe_tone, users_tweets):\n",
    "    template = \"\"\"\n",
    "        You are an AI Bot that is very good at generating writing in a similar tone as examples.\n",
    "        Be opinionated and have an active voice.\n",
    "        Take a strong stance with your response.\n",
    "\n",
    "        % HOW TO DESCRIBE TONE\n",
    "        {how_to_describe_tone}\n",
    "\n",
    "        % START OF EXAMPLES\n",
    "        {tweet_examples}\n",
    "        % END OF EXAMPLES\n",
    "\n",
    "        List out the tone qualities of the examples above\n",
    "        \"\"\"\n",
    "\n",
    "    prompt = PromptTemplate(\n",
    "        input_variables=[\"how_to_describe_tone\", \"tweet_examples\"],\n",
    "        template=template,\n",
    "    )\n",
    "\n",
    "    final_prompt = prompt.format(how_to_describe_tone=how_to_describe_tone, tweet_examples=users_tweets)\n",
    "\n",
    "    authors_tone_description = llm.predict(final_prompt)\n",
    "\n",
    "    return authors_tone_description"
   ]
  },
  {
   "cell_type": "markdown",
   "id": "a41934dd",
   "metadata": {},
   "source": [
    "Let's combine the tone description and examples to see what tone attributes the model assigned to Bill Gates"
   ]
  },
  {
   "cell_type": "code",
   "execution_count": null,
   "id": "9dcf3cf2",
   "metadata": {},
   "outputs": [
    {
     "name": "stdout",
     "output_type": "stream",
     "text": [
      "1. Pace: Moderate, allowing for thoughtful reflection on the topics discussed.\n",
      "2. Mood: Optimistic and enthusiastic, highlighting positive aspects and potential solutions.\n",
      "3. Tone: Engaging and informative, with a strong emphasis on personal experiences and opinions.\n",
      "4. Voice: Confident and authoritative, showcasing expertise and passion for the subjects.\n",
      "5. Diction: Clear and concise, using accessible language to convey complex ideas.\n",
      "6. Syntax: Straightforward and well-structured sentences, making the content easy to follow.\n",
      "7. Imagery: Evocative and descriptive, painting vivid pictures of experiences and situations.\n",
      "8. Theme: Focused on innovation, progress, and the potential for positive change.\n",
      "9. Point of View: First person, providing a personal perspective on the topics discussed.\n",
      "10. Structure: Organized and coherent, with a logical flow of ideas and information.\n",
      "11. Dialogue: Limited, but when present, it is engaging and relevant to the topic.\n",
      "12. Characterization: Presents individuals in a positive light, emphasizing their dedication and achievements.\n",
      "13. Setting: Global, with a focus on specific countries or regions where progress is being made.\n",
      "14. Foreshadowing: Hints at future developments and breakthroughs in various fields.\n",
      "15. Irony: Minimal, as the focus is on genuine progress and optimism.\n",
      "16. Symbolism: Limited, with more emphasis on real-world examples and achievements.\n",
      "17. Allusion: Occasional references to other works, events, or individuals to provide context or support.\n",
      "18. Conflict: Implicit, as the challenges faced by humanity are the driving force behind the discussed innovations and solutions.\n",
      "19. Suspense: Minimal, as the focus is on sharing information and insights rather than creating tension.\n",
      "20. Climax: Not applicable, as the content is primarily informative and opinion-based.\n",
      "21. Resolution: Concludes with a sense of hope and optimism for the future, as well as a call to action for continued progress.\n"
     ]
    }
   ],
   "source": [
    "authors_tone_description = get_authors_tone_description(how_to_describe_tone, users_tweets)\n",
    "print (authors_tone_description)"
   ]
  },
  {
   "cell_type": "markdown",
   "id": "9270518a",
   "metadata": {},
   "source": [
    "Great, now that we have Bill Gate's tone style, let's put those tone instructions in with the prompt we had before to see if it helps"
   ]
  },
  {
   "cell_type": "code",
   "execution_count": null,
   "id": "e52add6d",
   "metadata": {},
   "outputs": [],
   "source": [
    "template = \"\"\"\n",
    "% INSTRUCTIONS\n",
    " - You are an AI Bot that is very good at mimicking an author writing style.\n",
    " - Your goal is to write content with the tone that is described below.\n",
    " - Do not go outside the tone instructions below\n",
    " - Do not use hashtags or emojis\n",
    " - Respond in the tone of Bill Gates\n",
    "\n",
    "% Description of the authors tone:\n",
    "{authors_tone_description}\n",
    "\n",
    "% Authors writing samples\n",
    "{tweet_examples}\n",
    "\n",
    "% YOUR TASK\n",
    "Please create a tweet about going to the park and eating a sandwich.\n",
    "\"\"\"\n",
    "\n",
    "prompt = PromptTemplate(\n",
    "    input_variables=[\"authors_tone_description\", \"tweet_examples\"],\n",
    "    template=template,\n",
    ")\n",
    "\n",
    "final_prompt = prompt.format(authors_tone_description=authors_tone_description, tweet_examples=users_tweets)"
   ]
  },
  {
   "cell_type": "code",
   "execution_count": null,
   "id": "65704d22",
   "metadata": {},
   "outputs": [
    {
     "name": "stderr",
     "output_type": "stream",
     "text": [
      "Retrying langchain.chat_models.openai.ChatOpenAI.completion_with_retry.<locals>._completion_with_retry in 1.0 seconds as it raised RateLimitError: The server is currently overloaded with other requests. Sorry about that! You can retry your request, or contact us through our help center at help.openai.com if the error persists..\n"
     ]
    },
    {
     "data": {
      "text/plain": [
       "\"I recently took a leisurely stroll through the park, enjoying the beauty of nature and savoring a delicious sandwich. It's moments like these that remind us of the simple pleasures in life and inspire us to continue working towards a brighter future for all. https://t.co/9YzF8KJ6rP\""
      ]
     },
     "metadata": {},
     "output_type": "display_data"
    }
   ],
   "source": [
    "llm.predict(final_prompt)"
   ]
  },
  {
   "cell_type": "markdown",
   "id": "d8f8c477",
   "metadata": {},
   "source": [
    "Hmm, better! Not wonderful.\n",
    "\n",
    "Let's try out the final approach"
   ]
  },
  {
   "cell_type": "markdown",
   "id": "f564664f",
   "metadata": {},
   "source": [
    "### Method 4 - **Technique Fusion:** Combine multiple techniques to mimic tone\n",
    "\n",
    "After a lot of experimentation I've found the below tips to be helpful\n",
    "\n",
    "* **Don't reference the word 'tweet' in your prompt** - The model has an extremely strong bias towards what a 'tweet' is an will overload you with hashtags and emojis. Rather call it \"a short public statement around 300 characters\"\n",
    "* **Ask the LLM for similar sounding authors** - Whereas model bias on the word 'tweet' (point #1) isn't great, we can use it in our favor. Ask the LLM which authors the writing style sounds like, then ask the LLM to respond like that author. It's not great that the model is basing the tone off *another* person but it's a great 89% solution. I learned of this technique from [Scott Mitchell](https://twitter.com/mitchell360/status/1657909800389464064).\n",
    "* **Examples should be in the output format you want** - Everyone has a different voice. Twitter voice, email voice etc. Make sure that the examples you feed to the prompt are the same voice as the output you want. Ex: Don't exect a book to be written from twitter examples.\n",
    "* **Use the Language Model to extract tone** - If you are at a loss for words on how to describe the tone you want, have the language model describe it for you. I found I needed to tell the model to be opinionated, it was too grey-area before.\n",
    "* **Topics matter** - Have the model propose topics *first*, *then* give you a tweet. Not only is it better to have things the author would actually talk about, but it's also really good to keep the model on track by having it outline the topics *first* then respond\n",
    "\n",
    "Let's first identify authors the model thinks the example tweets sound like, then we'll reference those later. Keep in mind this isn't a true classification exercise and the point isn't to be 100% correct on similar people, it's to get a reference to who the model *thinks* is similar so we can use that inuition for instructions later."
   ]
  },
  {
   "cell_type": "code",
   "execution_count": null,
   "id": "621c965d",
   "metadata": {},
   "outputs": [],
   "source": [
    "def get_similar_public_figures(tweet_examples):\n",
    "    template = \"\"\"\n",
    "    You are an AI Bot that is very good at identifying authors, public figures, or writers whos style matches a piece of text\n",
    "    Your goal is to identify which authors, public figures, or writers sound most similar to the text below\n",
    "\n",
    "    % START EXAMPLES\n",
    "    {tweet_examples}\n",
    "    % END EXAMPLES\n",
    "\n",
    "    Which authors (list up to 4 if necessary) most closely resemble the examples above? Only respond with the names separated by commas\n",
    "    \"\"\"\n",
    "\n",
    "    prompt = PromptTemplate(\n",
    "        input_variables=[\"tweet_examples\"],\n",
    "        template=template,\n",
    "    )\n",
    "\n",
    "    # Using the short list of examples so save on tokens and (hopefully) the top tweets\n",
    "    final_prompt = prompt.format(tweet_examples=tweet_examples)\n",
    "\n",
    "    authors = llm.predict(final_prompt)\n",
    "    return authors\n"
   ]
  },
  {
   "cell_type": "code",
   "execution_count": null,
   "id": "4f97fbd0",
   "metadata": {},
   "outputs": [
    {
     "name": "stdout",
     "output_type": "stream",
     "text": [
      "Bill Gates\n"
     ]
    }
   ],
   "source": [
    "authors = get_similar_public_figures(users_tweets)\n",
    "print (authors)"
   ]
  },
  {
   "cell_type": "markdown",
   "id": "3de2607f",
   "metadata": {},
   "source": [
    "Ok that's not that exciting! Becuase we used Bill Gates' example tweets. Trust me that it's better with less-known people. We'll try this more later.\n",
    "\n",
    "At last, the final output. Let's bring it all together in a single prompt. Notice the 2 step process in the \"your task\" section below"
   ]
  },
  {
   "cell_type": "code",
   "execution_count": null,
   "id": "547b24ea",
   "metadata": {},
   "outputs": [],
   "source": [
    "template = \"\"\"\n",
    "% INSTRUCTIONS\n",
    " - You are an AI Bot that is very good at mimicking an author writing style.\n",
    " - Your goal is to write content with the tone that is described below.\n",
    " - Do not go outside the tone instructions below\n",
    "\n",
    "% Mimic These Authors:\n",
    "{authors}\n",
    "\n",
    "% Description of the authors tone:\n",
    "{tone}\n",
    "\n",
    "% Authors writing samples\n",
    "{example_text}\n",
    "% End of authors writing samples\n",
    "\n",
    "% YOUR TASK\n",
    "1st - Write out topics that this author may talk about\n",
    "2nd - Write a concise passage (under 300 characters) as if you were the author described above\n",
    "\"\"\"\n",
    "\n",
    "method_4_prompt_template = PromptTemplate(\n",
    "    input_variables=[\"authors\", \"tone\", \"example_text\"],\n",
    "    template=template,\n",
    ")\n",
    "\n",
    "# Using the short list of examples so save on tokens and (hopefully) the top tweets\n",
    "final_prompt = method_4_prompt_template.format(authors=authors,\n",
    "                                               tone=authors_tone_description,\n",
    "                                               example_text=users_tweets)"
   ]
  },
  {
   "cell_type": "code",
   "execution_count": null,
   "id": "db143d34",
   "metadata": {},
   "outputs": [],
   "source": [
    "# print(final_prompt) # Print this out if you want to see the full final prompt. It's long so I'll omit it for now"
   ]
  },
  {
   "cell_type": "code",
   "execution_count": null,
   "id": "bfeb32c0",
   "metadata": {},
   "outputs": [
    {
     "name": "stdout",
     "output_type": "stream",
     "text": [
      "1. Topics that this author may talk about:\n",
      "- Global health and healthcare innovations\n",
      "- Education and its impact on society\n",
      "- Climate change and sustainable development\n",
      "- Technological advancements, such as artificial intelligence and autonomous vehicles\n",
      "- Poverty reduction and economic empowerment\n",
      "- Personal experiences and learnings from travels\n",
      "- Inspirational stories of individuals making a difference\n",
      "\n",
      "2. Concise passage as the author:\n",
      "I recently visited a remarkable school in Kenya, where students are using solar-powered tablets to access quality education. It's inspiring to see how technology can transform lives and create a brighter future for these children.\n"
     ]
    }
   ],
   "source": [
    "output = llm.predict(final_prompt)\n",
    "print (output)"
   ]
  },
  {
   "cell_type": "markdown",
   "id": "3f70998e",
   "metadata": {},
   "source": [
    "## Personalized email generation"
   ]
  },
  {
   "cell_type": "code",
   "execution_count": 1,
   "id": "d3058a52",
   "metadata": {},
   "outputs": [],
   "source": [
    "from langchain.document_loaders import UnstructuredURLLoader\n",
    "from langchain.chains.summarize import load_summarize_chain\n",
    "from langchain.llms import OpenAI\n",
    "from langchain.text_splitter import RecursiveCharacterTextSplitter\n",
    "from langchain.prompts import PromptTemplate"
   ]
  },
  {
   "cell_type": "code",
   "execution_count": null,
   "id": "9ff57272",
   "metadata": {},
   "outputs": [],
   "source": [
    "# Unzip data folder\n",
    "\n",
    "import zipfile\n",
    "with zipfile.ZipFile('../../data.zip', 'r') as zip_ref:\n",
    "    zip_ref.extractall('..')"
   ]
  },
  {
   "cell_type": "code",
   "execution_count": 27,
   "id": "615ee4b1",
   "metadata": {
    "hide_input": false
   },
   "outputs": [],
   "source": [
    "openai_api_key = '...'"
   ]
  },
  {
   "cell_type": "markdown",
   "id": "c611b91a",
   "metadata": {},
   "source": [
    "### Load up your HTML from your company page"
   ]
  },
  {
   "cell_type": "code",
   "execution_count": 18,
   "id": "69d427bb",
   "metadata": {},
   "outputs": [
    {
     "name": "stdout",
     "output_type": "stream",
     "text": [
      "https://www.ycombinator.com/companies/poly\n",
      "You have 1 document(s)\n"
     ]
    }
   ],
   "source": [
    "def get_company_page(company_path):\n",
    "    y_combinator_url = f\"https://www.ycombinator.com{company_path}\"\n",
    "    \n",
    "    print (y_combinator_url)\n",
    "\n",
    "    loader = UnstructuredURLLoader(urls=[y_combinator_url])\n",
    "    return loader.load()\n",
    "\n",
    "\n",
    "# Get the data of the company you're interested in\n",
    "data = get_company_page(\"/companies/poly\")\n",
    "    \n",
    "print (f\"You have {len(data)} document(s)\")"
   ]
  },
  {
   "cell_type": "code",
   "execution_count": 19,
   "id": "cf5c4961",
   "metadata": {},
   "outputs": [
    {
     "name": "stdout",
     "output_type": "stream",
     "text": [
      "Preview of your data:\n",
      "\n",
      "Accelerator\n",
      "\n",
      "About\n",
      "\n",
      "Apply\n",
      "\n",
      "FAQ\n"
     ]
    }
   ],
   "source": [
    "print (f\"Preview of your data:\\n\\n{data[0].page_content[:30]}\")"
   ]
  },
  {
   "cell_type": "code",
   "execution_count": 20,
   "id": "d0fdfece",
   "metadata": {},
   "outputs": [],
   "source": [
    "# Split up the texts so you don't run into token limits\n",
    "text_splitter = RecursiveCharacterTextSplitter(\n",
    "    # Set a really small chunk size, just to show.\n",
    "    chunk_size = 800,\n",
    "    chunk_overlap  = 0\n",
    ")"
   ]
  },
  {
   "cell_type": "code",
   "execution_count": 21,
   "id": "a9e30ed0",
   "metadata": {},
   "outputs": [
    {
     "name": "stdout",
     "output_type": "stream",
     "text": [
      "You now have 3 documents\n"
     ]
    }
   ],
   "source": [
    "docs = text_splitter.split_documents(data)\n",
    "\n",
    "print (f\"You now have {len(docs)} documents\")"
   ]
  },
  {
   "cell_type": "markdown",
   "id": "515de61f",
   "metadata": {},
   "source": [
    "### Write your custom prompt templates\n",
    "These will be used for your specific use case:\n",
    "\n",
    "1. `map_prompt` will be the prompt that is done on your first pass of your documents\n",
    "2. `combine_prompt` will be the prompt that is used when you combine the outputs of your map pass"
   ]
  },
  {
   "cell_type": "code",
   "execution_count": 22,
   "id": "fb34ba34",
   "metadata": {},
   "outputs": [],
   "source": [
    "map_prompt = \"\"\"Below is a section of a website about {prospect}\n",
    "\n",
    "Write a concise summary about {prospect}. If the information is not about {prospect}, exclude it from your summary.\n",
    "\n",
    "{text}\n",
    "\n",
    "% CONCISE SUMMARY:\"\"\"\n",
    "map_prompt_template = PromptTemplate(template=map_prompt, input_variables=[\"text\", \"prospect\"])"
   ]
  },
  {
   "cell_type": "code",
   "execution_count": 23,
   "id": "481b1fe2",
   "metadata": {},
   "outputs": [],
   "source": [
    "combine_prompt = \"\"\"\n",
    "Your goal is to write a personalized outbound email from {sales_rep}, a sales rep at {company} to {prospect}.\n",
    "\n",
    "A good email is personalized and combines information about the two companies on how they can help each other.\n",
    "Be sure to use value selling: A sales methodology that focuses on how your product or service will provide value to the customer instead of focusing on price or solution.\n",
    "\n",
    "% INFORMATION ABOUT {company}:\n",
    "{company_information}\n",
    "\n",
    "% INFORMATION ABOUT {prospect}:\n",
    "{text}\n",
    "\n",
    "% INCLUDE THE FOLLOWING PIECES IN YOUR RESPONSE:\n",
    "- Start the email with the sentence: \"We love that {prospect} helps teams...\" then insert what they help teams do.\n",
    "- The sentence: \"We can help you do XYZ by ABC\" Replace XYZ with what {prospect} does and ABC with what {company} does \n",
    "- A 1-2 sentence description about {company}, be brief\n",
    "- End your email with a call-to-action such as asking them to set up time to talk more\n",
    "\n",
    "% YOUR RESPONSE:\n",
    "\"\"\"\n",
    "combine_prompt_template = PromptTemplate(template=combine_prompt, input_variables=[\"sales_rep\", \"company\", \"prospect\", \\\n",
    "                                                                         \"text\", \"company_information\"])"
   ]
  },
  {
   "cell_type": "code",
   "execution_count": 24,
   "id": "340842c5",
   "metadata": {},
   "outputs": [],
   "source": [
    "company_information = \"\"\"\n",
    "* RapidRoad helps product teams build product faster\n",
    "* We have a platform that allows product teams to talk more, exchange ideas, and listen to more customers\n",
    "* Automated project tracking: RapidRoad could use machine learning algorithms to automatically track project progress, identify potential bottlenecks, and suggest ways to optimize workflows. This could help product teams stay on track and deliver faster results.\n",
    "* Collaboration tools: RapidRoad could offer built-in collaboration tools, such as shared task lists, real-time messaging, and team calendars. This would make it easier for teams to communicate and work together, even if they are in different locations or time zones.\n",
    "* Agile methodology support: RapidRoad could be specifically designed to support agile development methodologies, such as Scrum or Kanban. This could include features like sprint planning, backlog management, and burndown charts, which would help teams stay organized and focused on their goals.\n",
    "\"\"\""
   ]
  },
  {
   "cell_type": "markdown",
   "id": "82406bae",
   "metadata": {},
   "source": [
    "### LangChain Magic"
   ]
  },
  {
   "cell_type": "code",
   "execution_count": 25,
   "id": "32f28761",
   "metadata": {},
   "outputs": [],
   "source": [
    "llm = OpenAI(temperature=.7, openai_api_key=openai_api_key)\n",
    "\n",
    "chain = load_summarize_chain(llm,\n",
    "                             chain_type=\"map_reduce\",\n",
    "                             map_prompt=map_prompt_template,\n",
    "                             combine_prompt=combine_prompt_template,\n",
    "                             verbose=True\n",
    "                            )"
   ]
  },
  {
   "cell_type": "code",
   "execution_count": 26,
   "id": "5b556562",
   "metadata": {},
   "outputs": [
    {
     "name": "stdout",
     "output_type": "stream",
     "text": [
      "\n",
      "\n",
      "\u001b[1m> Entering new MapReduceDocumentsChain chain...\u001b[0m\n",
      "Prompt after formatting:\n",
      "\u001b[32;1m\u001b[1;3mBelow is a section of a website about Poly\n",
      "\n",
      "Write a concise summary about Poly. If the information is not about Poly, exclude it from your summary.\n",
      "\n",
      "Accelerator\n",
      "\n",
      "About\n",
      "\n",
      "Apply\n",
      "\n",
      "FAQ\n",
      "\n",
      "People\n",
      "\n",
      "YC Blog\n",
      "\n",
      "Companies\n",
      "\n",
      "Startup Directory\n",
      "\n",
      "Top Companies\n",
      "\n",
      "Founder Directory\n",
      "\n",
      "Launch YC\n",
      "\n",
      "Startup Jobs\n",
      "\n",
      "All Jobs\n",
      "\n",
      "Engineering\n",
      "\n",
      "Operations\n",
      "\n",
      "Marketing\n",
      "\n",
      "Sales\n",
      "\n",
      "Career Coaching\n",
      "\n",
      "Pioneer Program 2023\n",
      "\n",
      "Startup Job Guide\n",
      "\n",
      "YC Startup Jobs Blog\n",
      "\n",
      "Upcoming Events\n",
      "\n",
      "Startup School\n",
      "\n",
      "About\n",
      "\n",
      "Co-Founder Matching\n",
      "\n",
      "Startup School Blog\n",
      "\n",
      "Library\n",
      "\n",
      "SAFE\n",
      "\n",
      "Resources\n",
      "\n",
      "Event Calendar\n",
      "\n",
      "Newsletter\n",
      "\n",
      "For Investors\n",
      "\n",
      "Hacker News\n",
      "\n",
      "Open main menu\n",
      "\n",
      "Apply for S2023 batch.\n",
      "\n",
      "Apply\n",
      "\n",
      "Home\n",
      "\n",
      "Companies\n",
      "\n",
      "Poly\n",
      "\n",
      "Poly\n",
      "\n",
      "Generate Design Assets in Seconds\n",
      "\n",
      "Y Combinator LogoS22\n",
      "\n",
      "Active\n",
      "\n",
      "Artificial Intelligence\n",
      "\n",
      "Design Tools\n",
      "\n",
      "Generative AI\n",
      "\n",
      "Consumer\n",
      "\n",
      "API\n",
      "\n",
      "Company\n",
      "\n",
      "Jobs\n",
      "\n",
      "News\n",
      "\n",
      "https://withpoly.com/\n",
      "\n",
      "Generate Design Assets in Seconds\n",
      "\n",
      "% CONCISE SUMMARY:\u001b[0m\n",
      "Prompt after formatting:\n",
      "\u001b[32;1m\u001b[1;3mBelow is a section of a website about Poly\n",
      "\n",
      "Write a concise summary about Poly. If the information is not about Poly, exclude it from your summary.\n",
      "\n",
      "Generate unlimited customizable, 4K, and commercially-licensed creative design assets of any kind with a simple text prompt.\n",
      "\n",
      "Latest News\n",
      "\n",
      "Y Combinator-backed Poly uses AI to generate art assets • TechCrunch\n",
      "\n",
      "Dec 27, 2022\n",
      "\n",
      "Jobs at Poly\n",
      "\n",
      "View all jobs →\n",
      "\n",
      "Founding ML Engineer - Co-founder level role at a YC startup backed by Bloomberg, Felicis, Figma, AI grant\n",
      "\n",
      "San Francisco, CA / Remote\n",
      "\n",
      "$120K - $250K\n",
      "\n",
      "0.25% - 5.00%\n",
      "\n",
      "Any (new grads ok)\n",
      "\n",
      "Apply Now\n",
      "\n",
      "Company Launches\n",
      "\n",
      "🚀 Poly - Generate Design Assets in Seconds with AI 🚀\n",
      "\n",
      "Poly enables designers to generate unlimited customizable, 4K UHD, commercially-licensed design assets with a single text command in seconds.\n",
      "\n",
      "Read Launch ›\n",
      "\n",
      "Poly\n",
      "\n",
      "Founded:\n",
      "\n",
      "2022\n",
      "\n",
      "Team Size:\n",
      "\n",
      "Location:\n",
      "\n",
      "San Francisco\n",
      "\n",
      "Active Founders\n",
      "\n",
      "Abhay Agarwal\n",
      "\n",
      "% CONCISE SUMMARY:\u001b[0m\n",
      "Prompt after formatting:\n",
      "\u001b[32;1m\u001b[1;3mBelow is a section of a website about Poly\n",
      "\n",
      "Write a concise summary about Poly. If the information is not about Poly, exclude it from your summary.\n",
      "\n",
      "I'm an AI researcher and designer, and founder of Poly. Previously a research fellow at Microsoft Research and lecturer at Stanford. BS in EECS from UC Berkeley, MS from Stanford.\n",
      "\n",
      "Abhay Agarwal\n",
      "\n",
      "Poly\n",
      "\n",
      "Sam Young\n",
      "\n",
      "Built and operated consumer and B2B SaaS businesses. Grew a computer vision startup from an idea to series A. Stanford MBA.\n",
      "\n",
      "Sam Young\n",
      "\n",
      "Poly\n",
      "\n",
      "Footer\n",
      "\n",
      "Y Combinator\n",
      "\n",
      "Programs\n",
      "\n",
      "YC Program\n",
      "\n",
      "Startup School\n",
      "\n",
      "Work at a Startup\n",
      "\n",
      "Company\n",
      "\n",
      "YC Blog\n",
      "\n",
      "Contact\n",
      "\n",
      "Press\n",
      "\n",
      "People\n",
      "\n",
      "Careers\n",
      "\n",
      "Privacy Policy\n",
      "\n",
      "Security\n",
      "\n",
      "Terms of Use\n",
      "\n",
      "Resources\n",
      "\n",
      "Startup Directory\n",
      "\n",
      "Startup Library\n",
      "\n",
      "Investors\n",
      "\n",
      "SAFE\n",
      "\n",
      "Hacker News\n",
      "\n",
      "Launch YC\n",
      "\n",
      "YC Deals\n",
      "\n",
      "Make something people want.\n",
      "\n",
      "Apply\n",
      "\n",
      "TwitterTwitter\n",
      "\n",
      "FacebookFacebook\n",
      "\n",
      "InstagramInstagram\n",
      "\n",
      "LinkedInLinkedIn\n",
      "\n",
      "YoutubeYouTube\n",
      "\n",
      "© 2023 Y Combinator.\n",
      "\n",
      "% CONCISE SUMMARY:\u001b[0m\n",
      "\n",
      "\n",
      "\u001b[1m> Entering new LLMChain chain...\u001b[0m\n",
      "Prompt after formatting:\n",
      "\u001b[32;1m\u001b[1;3m\n",
      "Your goal is to write a personalized outbound email from Greg, a sales rep at RapidRoad to Poly.\n",
      "\n",
      "A good email is personalized and combines information about the two companies on how they can help each other.\n",
      "Be sure to use value selling: A sales methodology that focuses on how your product or service will provide value to the customer instead of focusing on price or solution.\n",
      "\n",
      "% INFORMATION ABOUT RapidRoad:\n",
      "\n",
      "* RapidRoad helps product teams build product faster\n",
      "* We have a platform that allows product teams to talk more, exchange ideas, and listen to more customers\n",
      "* Automated project tracking: RapidRoad could use machine learning algorithms to automatically track project progress, identify potential bottlenecks, and suggest ways to optimize workflows. This could help product teams stay on track and deliver faster results.\n",
      "* Collaboration tools: RapidRoad could offer built-in collaboration tools, such as shared task lists, real-time messaging, and team calendars. This would make it easier for teams to communicate and work together, even if they are in different locations or time zones.\n",
      "* Agile methodology support: RapidRoad could be specifically designed to support agile development methodologies, such as Scrum or Kanban. This could include features like sprint planning, backlog management, and burndown charts, which would help teams stay organized and focused on their goals.\n",
      "\n",
      "\n",
      "% INFORMATION ABOUT Poly:\n",
      "\n",
      "\n",
      "Poly is a design tool that uses artificial intelligence and generative AI to quickly create design assets. It is an active consumer API company that is part of the Y Combinator program.\n",
      "\n",
      "\n",
      "\n",
      "Poly is an AI-based platform that enables designers to generate unlimited customizable, 4K UHD, commercially-licensed design assets with a single text command in seconds. It was founded in 2022 by Abhay Agarwal and is located in San Francisco. Y Combinator and Bloomberg have invested in the project.\n",
      "\n",
      "\n",
      "\n",
      "Poly is an AI research and design company founded by Abhay Agarwal, a research fellow at Microsoft Research and lecturer at Stanford. The company is also operated by Sam Young, a former computer vision startup founder with an MBA from Stanford. Poly is affiliated with Y Combinator, a program that helps entrepreneurs make something people want.\n",
      "\n",
      "% INCLUDE THE FOLLOWING PIECES IN YOUR RESPONSE:\n",
      "- Start the email with the sentence: \"We love that Poly helps teams...\" then insert what they help teams do.\n",
      "- The sentence: \"We can help you do XYZ by ABC\" Replace XYZ with what Poly does and ABC with what RapidRoad does \n",
      "- A 1-2 setenece description about RapidRoad, be brief\n",
      "- End your email with a call-to-action such as asking them to set up time to talk more\n",
      "\n",
      "% YOUR RESPONSE:\n",
      "\u001b[0m\n",
      "\n",
      "\u001b[1m> Finished chain.\u001b[0m\n",
      "\n",
      "\u001b[1m> Finished chain.\u001b[0m\n"
     ]
    }
   ],
   "source": [
    "output = chain({\"input_documents\": docs, # The seven docs that were created before\n",
    "                \"company\": \"RapidRoad\", \\\n",
    "                \"company_information\" : company_information,\n",
    "                \"sales_rep\" : \"Greg\", \\\n",
    "                \"prospect\" : \"Poly\"\n",
    "               })"
   ]
  },
  {
   "cell_type": "code",
   "execution_count": 17,
   "id": "c3152c06",
   "metadata": {},
   "outputs": [
    {
     "name": "stdout",
     "output_type": "stream",
     "text": [
      "\n",
      "Dear GitLab Team,\n",
      "\n",
      "We love that GitLab helps teams collaborate, plan, and manage projects, while also providing visibility and consistent controls for security and compliance. We believe that RapidRoad could help you take your DevOps processes to the next level. \n",
      "\n",
      "RapidRoad is a platform that helps product teams build faster. We have tools like automated project tracking, collaboration tools, and agile methodology support that could help your teams stay on track and deliver faster results.\n",
      "\n",
      "We believe that combining GitLab and RapidRoad would unlock your organization from the constraints of the current toolchain. We would love to set up a time to discuss how we can help each other and how we can help you improve your DevOps processes.\n",
      "\n",
      "Thank you for your time,\n",
      "\n",
      "Greg \n",
      "Sales Rep at RapidRoad\n"
     ]
    }
   ],
   "source": [
    "print (output['output_text'])"
   ]
  },
  {
   "cell_type": "markdown",
   "id": "5491e5bb",
   "metadata": {},
   "source": [
    "### Rinse and Repeat: Loop Through Companies"
   ]
  },
  {
   "cell_type": "code",
   "execution_count": 18,
   "id": "ddf9a955",
   "metadata": {},
   "outputs": [],
   "source": [
    "import pandas as pd"
   ]
  },
  {
   "cell_type": "code",
   "execution_count": 19,
   "id": "70e22389",
   "metadata": {},
   "outputs": [],
   "source": [
    "df_companies = pd.read_clipboard()"
   ]
  },
  {
   "cell_type": "code",
   "execution_count": 20,
   "id": "fca1ffb3",
   "metadata": {},
   "outputs": [
    {
     "data": {
      "text/html": [
       "<div>\n",
       "<style scoped>\n",
       "    .dataframe tbody tr th:only-of-type {\n",
       "        vertical-align: middle;\n",
       "    }\n",
       "\n",
       "    .dataframe tbody tr th {\n",
       "        vertical-align: top;\n",
       "    }\n",
       "\n",
       "    .dataframe thead th {\n",
       "        text-align: right;\n",
       "    }\n",
       "</style>\n",
       "<table border=\"1\" class=\"dataframe\">\n",
       "  <thead>\n",
       "    <tr style=\"text-align: right;\">\n",
       "      <th></th>\n",
       "      <th>Name</th>\n",
       "      <th>Link</th>\n",
       "    </tr>\n",
       "  </thead>\n",
       "  <tbody>\n",
       "    <tr>\n",
       "      <th>0</th>\n",
       "      <td>Findly</td>\n",
       "      <td>/companies/findly</td>\n",
       "    </tr>\n",
       "    <tr>\n",
       "      <th>1</th>\n",
       "      <td>Maya Labs</td>\n",
       "      <td>/companies/maya-labs</td>\n",
       "    </tr>\n",
       "    <tr>\n",
       "      <th>2</th>\n",
       "      <td>Phind</td>\n",
       "      <td>/companies/phind</td>\n",
       "    </tr>\n",
       "    <tr>\n",
       "      <th>3</th>\n",
       "      <td>Juicebox</td>\n",
       "      <td>/companies/juicebox</td>\n",
       "    </tr>\n",
       "    <tr>\n",
       "      <th>4</th>\n",
       "      <td>Penguin AI</td>\n",
       "      <td>/companies/penguin-ai</td>\n",
       "    </tr>\n",
       "    <tr>\n",
       "      <th>5</th>\n",
       "      <td>Poly</td>\n",
       "      <td>/companies/poly</td>\n",
       "    </tr>\n",
       "    <tr>\n",
       "      <th>6</th>\n",
       "      <td>Olli.ai</td>\n",
       "      <td>/companies/olli-ai</td>\n",
       "    </tr>\n",
       "  </tbody>\n",
       "</table>\n",
       "</div>"
      ],
      "text/plain": [
       "         Name                   Link\n",
       "0      Findly      /companies/findly\n",
       "1   Maya Labs   /companies/maya-labs\n",
       "2       Phind       /companies/phind\n",
       "3    Juicebox    /companies/juicebox\n",
       "4  Penguin AI  /companies/penguin-ai\n",
       "5        Poly        /companies/poly\n",
       "6     Olli.ai     /companies/olli-ai"
      ]
     },
     "execution_count": 20,
     "metadata": {},
     "output_type": "execute_result"
    }
   ],
   "source": [
    "df_companies"
   ]
  },
  {
   "cell_type": "code",
   "execution_count": 21,
   "id": "094bb943",
   "metadata": {
    "scrolled": false
   },
   "outputs": [
    {
     "name": "stdout",
     "output_type": "stream",
     "text": [
      "1. Findly\n",
      "https://www.ycombinator.com/companies/findly\n",
      "\n",
      "Dear Findly Team,\n",
      "\n",
      "We love that Findly helps teams quickly and accurately access data insights without having to learn SQL or Python. We can help you provide more actionable insights by using our platform to talk more, exchange ideas, and listen to more customers. \n",
      "\n",
      "RapidRoad is a platform that helps product teams build product faster. It offers automated project tracking, collaboration tools, and agile methodology support to help teams stay organized and deliver faster results. \n",
      "\n",
      "We believe that our platform and your AI chatbot will be a great combination to help teams develop products faster and with actionable insights. Let's talk soon and see how we can work together to make this happen. \n",
      "\n",
      "Best, \n",
      "Greg \n",
      "Sales Rep, RapidRoad\n",
      "\n",
      "\n",
      "\n",
      "2. Maya Labs\n",
      "https://www.ycombinator.com/companies/maya-labs\n",
      "\n",
      "Dear Maya Labs, \n",
      "\n",
      "We love that Maya Labs helps teams build custom software in minutes using natural language. We at RapidRoad are dedicated to helping product teams build their products faster. We can help you build custom software faster by providing automated project tracking, collaboration tools, and agile methodology support.\n",
      "\n",
      "Our platform allows product teams to talk more, exchange ideas, and listen to more customers. We have machine learning algorithms to automatically track project progress, identify potential bottlenecks, and suggest ways to optimize workflows. We also offer built-in collaboration tools, such as shared task lists, real-time messaging, and team calendars. Finally, we are specifically designed to support agile development methodologies, such as Scrum or Kanban.\n",
      "\n",
      "We believe that our platform can help Maya Labs build custom software faster and with higher quality. Let's set up a time to talk more about how we can help each other.\n",
      "\n",
      "Best,\n",
      "Greg \n",
      "RapidRoad Sales Rep\n",
      "\n",
      "\n",
      "\n",
      "3. Phind\n",
      "https://www.ycombinator.com/companies/phind\n",
      "\n",
      "Dear Michael and Justin, \n",
      "\n",
      "We love that Phind helps teams find the technical answers they need quickly and easily. At RapidRoad, we want to help product teams build faster, smarter and more efficiently. We can help you do this by providing an automated project tracking platform, collaboration tools, and agile methodology support. \n",
      "\n",
      "RapidRoad is a platform that allows product teams to talk more, exchange ideas, and listen to more customers. Our platform uses machine learning algorithms to automatically track project progress, identify potential bottlenecks, and suggest ways to optimize workflows. We also offer built-in collaboration tools like shared task lists, real-time messaging, and team calendars, as well as agile methodology support like sprint planning, backlog management, and burndown charts. \n",
      "\n",
      "We would love to discuss further how we can help your team to build faster, smarter and more efficiently. Please let me know when is the best time for us to have a call to discuss this further. \n",
      "\n",
      "Regards,\n",
      "\n",
      "Greg \n",
      "RapidRoad\n",
      "\n",
      "\n",
      "\n",
      "4. Juicebox\n",
      "https://www.ycombinator.com/companies/juicebox\n",
      "\n",
      "Dear Ishan and David, \n",
      "\n",
      "We love that Juicebox helps teams find pre-vetted independent contractors quickly and efficiently in a zero-commission marketplace. We at RapidRoad are passionate about helping product teams build products faster and more efficiently. We can help you do this by providing a platform that allows product teams to talk more, exchange ideas, and listen to more customers, as well as providing automated project tracking, collaboration tools, and agile methodology support. \n",
      "\n",
      "At RapidRoad, we believe that teams should be able to work together efficiently and effectively, and our platform is specifically designed to help them do just that. \n",
      "\n",
      "We would love to learn more about what you need to help your team succeed and see how RapidRoad can help. When would be a good time for us to connect and discuss further? \n",
      "\n",
      "Best, \n",
      "Greg \n",
      "Sales Rep, RapidRoad\n",
      "\n",
      "\n",
      "\n",
      "5. Penguin AI\n",
      "https://www.ycombinator.com/companies/penguin-ai\n",
      "\n",
      "Dear Rohan Doshi,\n",
      "\n",
      "We love that Penguin AI helps teams create agency-quality visual assets quickly and affordably. At RapidRoad, we help product teams build products faster. Our platform allows product teams to talk more, exchange ideas, and listen to more customers. We also have automated project tracking and collaboration tools, as well as support for agile methodology. \n",
      "\n",
      "We can help you save time and money by providing the tools and resources to create high-quality visual assets quickly and cost-effectively. Our platform allows product teams to communicate and work together, even if they are in different locations or time zones, and stay on track and deliver faster results.\n",
      "\n",
      "I would love to learn more about your product and how we can help each other. Would you be available for a call next week to discuss further?\n",
      "\n",
      "Best,\n",
      "\n",
      "Greg\n",
      "RapidRoad\n",
      "\n",
      "\n",
      "\n",
      "6. Poly\n",
      "https://www.ycombinator.com/companies/poly\n",
      "\n",
      "Dear Poly Team,\n",
      "\n",
      "We love that Poly helps teams generate customizable, 4K, and commercially-licensed creative design assets with a simple text prompt. We believe that RapidRoad can help you create and collaborate more effectively by offering automated project tracking, collaboration tools, and agile methodology support.\n",
      "\n",
      "RapidRoad is a platform that helps product teams build product faster. We have a suite of tools to help product teams talk more, exchange ideas, and listen to more customers. We provide automated project tracking, which uses machine learning algorithms to automatically track project progress, identify potential bottlenecks, and suggest ways to optimize workflows. Our collaboration tools include shared task lists, real-time messaging, and team calendars, which makes it easier for teams to communicate and work together, even if they are in different locations or time zones. RapidRoad is also specifically designed to support agile development methodologies, such as Scrum or Kanban, with features like sprint planning, backlog management, and burndown charts to help teams stay organized and focused on their goals.\n",
      "\n",
      "I would love to learn more about Poly and discuss how RapidRoad can help your team create and collaborate more effectively. Please let me know if you’d like to set up a time to\n",
      "\n",
      "\n",
      "\n",
      "7. Olli.ai\n",
      "https://www.ycombinator.com/companies/olli-ai\n",
      "We love that Olli.ai helps teams generate insights quickly and efficiently through powerful AI models. We can help you do this by automating project tracking, providing collaboration tools, and supporting agile methodology. \n",
      "\n",
      "RapidRoad is a platform that helps product teams build product faster by allowing them to talk more, exchange ideas, and listen to more customers.\n",
      "\n",
      "We believe that our combination of services can provide immense value to your company and would love to discuss more about how we can work together. Would you be interested in setting up some time to talk? We look forward to hearing from you.\n",
      "\n",
      "\n",
      "\n"
     ]
    }
   ],
   "source": [
    "for i, company in df_companies.iterrows():\n",
    "    print (f\"{i + 1}. {company['Name']}\")\n",
    "    page_data = get_company_page(company['Link'])\n",
    "    docs = text_splitter.split_documents(page_data)\n",
    "\n",
    "    output = chain({\"input_documents\": docs, \\\n",
    "                \"company\":\"RapidRoad\", \\\n",
    "                \"sales_rep\" : \"Greg\", \\\n",
    "                \"prospect\" : company['Name'],\n",
    "                \"company_information\" : company_information\n",
    "               })\n",
    "    \n",
    "    print (output['output_text'])\n",
    "    print (\"\\n\\n\")"
   ]
  }
 ],
 "metadata": {
  "kernelspec": {
   "display_name": "Python 3 (ipykernel)",
   "language": "python",
   "name": "python3"
  },
  "language_info": {
   "codemirror_mode": {
    "name": "ipython",
    "version": 3
   },
   "file_extension": ".py",
   "mimetype": "text/x-python",
   "name": "python",
   "nbconvert_exporter": "python",
   "pygments_lexer": "ipython3",
   "version": "3.9.13"
  }
 },
 "nbformat": 4,
 "nbformat_minor": 5
}
